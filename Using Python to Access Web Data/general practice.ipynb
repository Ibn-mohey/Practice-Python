{
 "cells": [
  {
   "cell_type": "markdown",
   "metadata": {},
   "source": [
    "# using urllib \n",
    "urllib.request.urlretrieve(url, name) == open\n"
   ]
  },
  {
   "cell_type": "code",
   "execution_count": 1,
   "metadata": {},
   "outputs": [
    {
     "data": {
      "text/plain": [
       "'E:\\\\career\\\\Dataa\\\\github\\\\py-practice-general-\\\\Using Python to Access Web Data'"
      ]
     },
     "execution_count": 1,
     "metadata": {},
     "output_type": "execute_result"
    }
   ],
   "source": [
    "import re\n",
    "import urllib\n",
    "url = \"http://py4e-data.dr-chuck.net/regex_sum_721157.txt\"\n",
    "name = \"regex_sum_721157.txt\"\n",
    "urllib.request.urlretrieve(url, name)\n",
    "\n",
    "\n",
    "import os \n",
    "os.getcwd()"
   ]
  },
  {
   "cell_type": "markdown",
   "metadata": {},
   "source": [
    "it skips out the header and go throw the line it self \n"
   ]
  },
  {
   "cell_type": "code",
   "execution_count": 3,
   "metadata": {},
   "outputs": [
    {
     "name": "stdout",
     "output_type": "stream",
     "text": [
      "But soft what light through yonder window breaks\n",
      "It is the east and Juliet is the sun\n",
      "Arise fair sun and kill the envious moon\n",
      "Who is already sick and pale with grief\n"
     ]
    }
   ],
   "source": [
    "fhand = urllib.request.urlopen('http://data.pr4e.org/romeo.txt')\n",
    "for line in fhand:\n",
    "    print(line.decode().strip())"
   ]
  },
  {
   "cell_type": "code",
   "execution_count": null,
   "metadata": {},
   "outputs": [],
   "source": []
  },
  {
   "cell_type": "code",
   "execution_count": 2,
   "metadata": {},
   "outputs": [
    {
     "name": "stdout",
     "output_type": "stream",
     "text": [
      "There are 92 numbers in this file that have a total sum of 394705\n"
     ]
    }
   ],
   "source": [
    "hand = open(\"regex_sum_721157.txt\", mode = 'r')\n",
    "numList = list()\n",
    "for l in hand:\n",
    "    l = l.rstrip()\n",
    "    nums = re.findall('[0-9]+', l)\n",
    "    for n in nums:\n",
    "        x = int(n)\n",
    "        numList.append(x)\n",
    "\n",
    "y = 0\n",
    "for j in numList:\n",
    "            y = y + j\n",
    "print ( 'There are ' + str(len(numList)) + ' numbers in this file that have a total sum of ' + str(y))"
   ]
  },
  {
   "cell_type": "code",
   "execution_count": 3,
   "metadata": {},
   "outputs": [],
   "source": [
    "y = 0\n",
    "for n in numList:\n",
    "    y = y + n"
   ]
  },
  {
   "cell_type": "code",
   "execution_count": 4,
   "metadata": {},
   "outputs": [
    {
     "data": {
      "text/plain": [
       "394705"
      ]
     },
     "execution_count": 4,
     "metadata": {},
     "output_type": "execute_result"
    }
   ],
   "source": [
    "y \n"
   ]
  },
  {
   "cell_type": "code",
   "execution_count": 9,
   "metadata": {},
   "outputs": [
    {
     "name": "stdout",
     "output_type": "stream",
     "text": [
      "There are 87 numbers in this file that have a total sum of 437443\n"
     ]
    }
   ],
   "source": [
    "import re\n",
    "import urllib\n",
    "url = \"http://py4e-data.dr-chuck.net/regex_sum_734259.txt\"\n",
    "name = \"regex_sum_734259.txt\"\n",
    "urllib.request.urlretrieve(url, name)\n",
    "hand = open(\"regex_sum_734259.txt\", mode = 'r')\n",
    "numList = list()\n",
    "for l in hand:\n",
    "    l = l.rstrip()\n",
    "    nums = re.findall('[0-9]+', l)\n",
    "    for n in nums:\n",
    "        x = int(n)\n",
    "        numList.append(x)\n",
    "\n",
    "y = 0\n",
    "for j in numList:\n",
    "            y = y + j\n",
    "print ( 'There are ' + str(len(numList)) + ' numbers in this file that have a total sum of ' + str(y))"
   ]
  },
  {
   "cell_type": "code",
   "execution_count": 10,
   "metadata": {},
   "outputs": [
    {
     "data": {
      "text/plain": [
       "<bound method socket.close of <socket.socket fd=1192, family=AddressFamily.AF_INET, type=SocketKind.SOCK_STREAM, proto=0, laddr=('192.168.1.50', 2296), raddr=('192.241.136.170', 80)>>"
      ]
     },
     "execution_count": 10,
     "metadata": {},
     "output_type": "execute_result"
    }
   ],
   "source": [
    "import socket \n",
    "mysock = socket.socket(socket.AF_INET, socket.SOCK_STREAM)\n",
    "mysock.connect(('data.pr4e.org' , 80)) #make the connection dail the phone \n",
    "mysock.close"
   ]
  },
  {
   "cell_type": "code",
   "execution_count": 18,
   "metadata": {},
   "outputs": [
    {
     "name": "stdout",
     "output_type": "stream",
     "text": [
      "HTTP/1.1 200 OK\r\n",
      "Date: Wed, 08 Jul 2020 01:38:56 GMT\r\n",
      "Server: Apache/2.4.18 (Ubuntu)\r\n",
      "Last-Modified: Sat, 13 May 2017 11:22:22 GMT\r\n",
      "ETag: \"1d3-54f6609240717\"\r\n",
      "Accept-Ranges: bytes\r\n",
      "Content-Length: 467\r\n",
      "Cache-Control: max-age=0, no-cache, no-store, must-revalidate\r\n",
      "Pragma: no-cache\r\n",
      "Expires: Wed, 11 Jan 1984 05:00:00 GMT\r\n",
      "Connection: close\r\n",
      "Content-Type: text/plain\r\n",
      "\r\n",
      "Why should you learn to write programs?\n",
      "\n",
      "Writing programs (or programming) is a very creative \n",
      "and rewarding activity.  You can write programs for \n",
      "many reasons, ranging from making your living to solving\n",
      "a difficult data analysis problem to having fun to helping\n",
      "someone else solve a problem.  This book assumes that \n",
      "everyone needs to know how to program, and that once \n",
      "you know how to program you will figure out what you want \n",
      "to do with your newfound skills.  \n"
     ]
    }
   ],
   "source": [
    "import socket\n",
    "link = 'http://data.pr4e.org/intro-short.txt'\n",
    "\n",
    "mysock = socket.socket(socket.AF_INET, socket.SOCK_STREAM)\n",
    "mysock.connect(('data.pr4e.org', 80))\n",
    "cmd = 'GET {} HTTP/1.0\\r\\n\\r\\n'.format(link).encode()\n",
    "mysock.send(cmd)\n",
    "\n",
    "while True:\n",
    "    data = mysock.recv(512)\n",
    "    if len(data) < 1:\n",
    "        break\n",
    "    print(data.decode(),end='')\n",
    "\n",
    "mysock.close()\n"
   ]
  },
  {
   "cell_type": "code",
   "execution_count": 21,
   "metadata": {},
   "outputs": [
    {
     "data": {
      "text/plain": [
       "104"
      ]
     },
     "execution_count": 21,
     "metadata": {},
     "output_type": "execute_result"
    }
   ],
   "source": [
    "ord('h')"
   ]
  },
  {
   "cell_type": "code",
   "execution_count": 53,
   "metadata": {},
   "outputs": [
    {
     "data": {
      "text/plain": [
       "71"
      ]
     },
     "execution_count": 53,
     "metadata": {},
     "output_type": "execute_result"
    }
   ],
   "source": [
    "ord('G')\n"
   ]
  },
  {
   "cell_type": "code",
   "execution_count": 59,
   "metadata": {},
   "outputs": [
    {
     "data": {
      "text/plain": [
       "'G'"
      ]
     },
     "execution_count": 59,
     "metadata": {},
     "output_type": "execute_result"
    }
   ],
   "source": [
    "chr(71)"
   ]
  },
  {
   "cell_type": "code",
   "execution_count": 1,
   "metadata": {},
   "outputs": [
    {
     "name": "stdout",
     "output_type": "stream",
     "text": [
      "l\n",
      "i\n",
      "n\n",
      "e\n"
     ]
    }
   ],
   "source": [
    "l = '108, 105, 110, 101'\n",
    "l = l.split(',')\n",
    "for n in l:\n",
    "    print(chr(int(n)))"
   ]
  },
  {
   "cell_type": "code",
   "execution_count": 2,
   "metadata": {},
   "outputs": [
    {
     "data": {
      "text/plain": [
       "103"
      ]
     },
     "execution_count": 2,
     "metadata": {},
     "output_type": "execute_result"
    }
   ],
   "source": [
    "ord('g')"
   ]
  },
  {
   "cell_type": "code",
   "execution_count": 3,
   "metadata": {},
   "outputs": [
    {
     "data": {
      "text/plain": [
       "104"
      ]
     },
     "execution_count": 3,
     "metadata": {},
     "output_type": "execute_result"
    }
   ],
   "source": [
    "ord('h')"
   ]
  },
  {
   "cell_type": "code",
   "execution_count": 4,
   "metadata": {},
   "outputs": [
    {
     "data": {
      "text/plain": [
       "98"
      ]
     },
     "execution_count": 4,
     "metadata": {},
     "output_type": "execute_result"
    }
   ],
   "source": [
    "ord('b')"
   ]
  },
  {
   "cell_type": "code",
   "execution_count": null,
   "metadata": {},
   "outputs": [],
   "source": []
  },
  {
   "cell_type": "code",
   "execution_count": 24,
   "metadata": {},
   "outputs": [
    {
     "data": {
      "text/plain": [
       "10"
      ]
     },
     "execution_count": 24,
     "metadata": {},
     "output_type": "execute_result"
    }
   ],
   "source": [
    "ord('\\n')"
   ]
  },
  {
   "cell_type": "code",
   "execution_count": 25,
   "metadata": {},
   "outputs": [
    {
     "data": {
      "text/plain": [
       "1587"
      ]
     },
     "execution_count": 25,
     "metadata": {},
     "output_type": "execute_result"
    }
   ],
   "source": [
    "ord('س')"
   ]
  },
  {
   "cell_type": "code",
   "execution_count": 26,
   "metadata": {},
   "outputs": [],
   "source": [
    "#.encode >> into byte array use it in sent \n",
    "#.decode >> into utf 8 recive "
   ]
  },
  {
   "cell_type": "code",
   "execution_count": 5,
   "metadata": {},
   "outputs": [
    {
     "name": "stdout",
     "output_type": "stream",
     "text": [
      "But soft what light through yonder window breaks\n",
      "It is the east and Juliet is the sun\n",
      "Arise fair sun and kill the envious moon\n",
      "Who is already sick and pale with grief\n"
     ]
    }
   ],
   "source": [
    "# urllib  do all the socket and all the encode and decode for us \n",
    "import urllib.request \n",
    "fhand = urllib.request.urlopen('http://data.pr4e.org/romeo.txt')\n",
    "for l in fhand:\n",
    "    print(l.decode().strip()) #decode byte >> str # strip remove white spaces in start and the end "
   ]
  },
  {
   "cell_type": "code",
   "execution_count": 6,
   "metadata": {},
   "outputs": [
    {
     "data": {
      "text/plain": [
       "'     banana     '"
      ]
     },
     "execution_count": 6,
     "metadata": {},
     "output_type": "execute_result"
    }
   ],
   "source": [
    "txt = \"     banana     \"\n",
    "txt"
   ]
  },
  {
   "cell_type": "code",
   "execution_count": 7,
   "metadata": {
    "scrolled": true
   },
   "outputs": [
    {
     "name": "stdout",
     "output_type": "stream",
     "text": [
      "of all fruits banana is my favorite\n"
     ]
    }
   ],
   "source": [
    "txt = \"     banana     \"\n",
    "x = txt.strip()\n",
    "print(\"of all fruits\", x, \"is my favorite\")\n"
   ]
  },
  {
   "cell_type": "code",
   "execution_count": 8,
   "metadata": {},
   "outputs": [],
   "source": [
    "import urllib.request \n",
    "fhand = urllib.request.urlopen('http://data.pr4e.org/romeo.txt')\n"
   ]
  },
  {
   "cell_type": "code",
   "execution_count": 9,
   "metadata": {},
   "outputs": [],
   "source": [
    "import urllib.request \n",
    "fhand = urllib.request.urlopen('http://data.pr4e.org/romeo.txt')\n",
    "counts = {}\n",
    "for l in fhand:\n",
    "    words = l.decode().split()\n",
    "    for w in words:\n",
    "        counts[w] = counts.get(w, 0) + 1"
   ]
  },
  {
   "cell_type": "code",
   "execution_count": 10,
   "metadata": {},
   "outputs": [
    {
     "data": {
      "text/plain": [
       "{'But': 1,\n",
       " 'soft': 1,\n",
       " 'what': 1,\n",
       " 'light': 1,\n",
       " 'through': 1,\n",
       " 'yonder': 1,\n",
       " 'window': 1,\n",
       " 'breaks': 1,\n",
       " 'It': 1,\n",
       " 'is': 3,\n",
       " 'the': 3,\n",
       " 'east': 1,\n",
       " 'and': 3,\n",
       " 'Juliet': 1,\n",
       " 'sun': 2,\n",
       " 'Arise': 1,\n",
       " 'fair': 1,\n",
       " 'kill': 1,\n",
       " 'envious': 1,\n",
       " 'moon': 1,\n",
       " 'Who': 1,\n",
       " 'already': 1,\n",
       " 'sick': 1,\n",
       " 'pale': 1,\n",
       " 'with': 1,\n",
       " 'grief': 1}"
      ]
     },
     "execution_count": 10,
     "metadata": {},
     "output_type": "execute_result"
    }
   ],
   "source": [
    "counts"
   ]
  },
  {
   "cell_type": "code",
   "execution_count": 11,
   "metadata": {},
   "outputs": [
    {
     "name": "stdout",
     "output_type": "stream",
     "text": [
      "<h1>The First Page</h1>\n",
      "<p>\n",
      "If you like, you can switch to the\n",
      "<a href=\"http://www.dr-chuck.com/page2.htm\">\n",
      "Second Page</a>.\n",
      "</p>\n"
     ]
    }
   ],
   "source": [
    "fhand = urllib.request.urlopen('http://www.dr-chuck.com/page1.htm')\n",
    "for l in fhand:\n",
    "    print(l.decode().strip()) #decode byte >> str # strip remove white spaces in start and the end "
   ]
  },
  {
   "cell_type": "code",
   "execution_count": 14,
   "metadata": {},
   "outputs": [],
   "source": [
    "l2 = '<a href=\"http://www.dr-chuck.com/page2.htm\">'"
   ]
  },
  {
   "cell_type": "code",
   "execution_count": 41,
   "metadata": {},
   "outputs": [
    {
     "data": {
      "text/plain": [
       "'http://www.dr-chuck.com/page2.htm'"
      ]
     },
     "execution_count": 41,
     "metadata": {},
     "output_type": "execute_result"
    }
   ],
   "source": [
    "w='href=\"(.+)\">'\n",
    "\n",
    "n =re.findall(w , l2)\n",
    "n[0]"
   ]
  },
  {
   "cell_type": "code",
   "execution_count": 70,
   "metadata": {},
   "outputs": [
    {
     "name": "stdout",
     "output_type": "stream",
     "text": [
      "['page1.htm']\n"
     ]
    }
   ],
   "source": [
    "fhand = urllib.request.urlopen('http://www.dr-chuck.com/page2.htm')\n",
    "n =  []\n",
    "for l in fhand:\n",
    "    w='href=\"(.+)\">'\n",
    "    l = l.decode().strip()\n",
    "    find = re.findall(w , l)\n",
    "    if len(find) > 0:\n",
    "        n.append(find[0])\n",
    "    \n",
    "print(n) #decode byte >> str # strip remove white spaces in start and the end "
   ]
  },
  {
   "cell_type": "markdown",
   "metadata": {},
   "source": [
    "# takning the head 1 from any page"
   ]
  },
  {
   "cell_type": "code",
   "execution_count": 103,
   "metadata": {},
   "outputs": [],
   "source": [
    "fhand = urllib.request.urlopen('https://www.coursera.org/learn/python-data-analysis/home/welcome.htm')\n",
    "n =  []\n",
    "for l in fhand:\n",
    "    w='<h1>(.+?)<'\n",
    "    l = l.decode().strip()\n",
    "    find = re.findall(w , l)\n",
    "    if len(find) > 0:\n",
    "        n.append(find[0])\n",
    "if len(find) > 0:\n",
    "        print(n[0]) #decode byte >> str # strip remove white spaces in start and the end "
   ]
  },
  {
   "cell_type": "code",
   "execution_count": 87,
   "metadata": {
    "scrolled": true
   },
   "outputs": [
    {
     "name": "stdout",
     "output_type": "stream",
     "text": [
      "<!DOCTYPE html><html xmlns:fb=\"http://ogp.me/ns/fb#\" itemtype=\"http://schema.org\" lang=\"en\" dir=\"ltr\"><head><meta http-equiv=\"X-UA-Compatible\" content=\"IE=Edge,chrome=IE7\"><meta charset=\"utf-8\"><meta property=\"og:site_name\" content=\"Coursera\"><meta property=\"fb:admins\" content=\"727836538,4807654\"><meta property=\"fb:app_id\" content=\"823425307723964\"><meta name=\"twitter:site\" content=\"Coursera\"><meta name=\"twitter:app:name:iphone\" content=\"Coursera\"><meta name=\"twitter:app:name:ipad\" content=\"Coursera\"><meta name=\"twitter:app:name:googleplay\" content=\"Coursera\"><meta name=\"twitter:app:id:iphone\" content=\"id736535961\"><meta name=\"twitter:app:id:ipad\" content=\"id736535961\"><meta name=\"twitter:app:id:googleplay\" content=\"org.coursera.android\"><meta name=\"viewport\" content=\"width=device-width, initial-scale=1\"><link rel=\"apple-touch-icon\" sizes=\"57x57\" href=\"https://d3njjcbhbojbot.cloudfront.net/web/images/favicons/apple-touch-icon-57x57.png\"><link rel=\"apple-touch-icon\" sizes=\"60x60\" href=\"https://d3njjcbhbojbot.cloudfront.net/web/images/favicons/apple-touch-icon-60x60.png\"><link rel=\"apple-touch-icon\" sizes=\"72x72\" href=\"https://d3njjcbhbojbot.cloudfront.net/web/images/favicons/apple-touch-icon-72x72.png\"><link rel=\"apple-touch-icon\" sizes=\"76x76\" href=\"https://d3njjcbhbojbot.cloudfront.net/web/images/favicons/apple-touch-icon-76x76.png\"><link rel=\"apple-touch-icon\" sizes=\"114x114\" href=\"https://d3njjcbhbojbot.cloudfront.net/web/images/favicons/apple-touch-icon-114x114.png\"><link rel=\"apple-touch-icon\" sizes=\"120x120\" href=\"https://d3njjcbhbojbot.cloudfront.net/web/images/favicons/apple-touch-icon-120x120.png\"><link rel=\"apple-touch-icon\" sizes=\"144x144\" href=\"https://d3njjcbhbojbot.cloudfront.net/web/images/favicons/apple-touch-icon-144x144.png\"><link rel=\"apple-touch-icon\" sizes=\"152x152\" href=\"https://d3njjcbhbojbot.cloudfront.net/web/images/favicons/apple-touch-icon-152x152.png\"><link rel=\"apple-touch-icon\" sizes=\"180x180\" href=\"https://d3njjcbhbojbot.cloudfront.net/web/images/favicons/apple-touch-icon-180x180.png\"><link rel=\"icon\" type=\"image/png\" href=\"https://d3njjcbhbojbot.cloudfront.net/web/images/favicons/icon-194x194.png\" sizes=\"194x194\"><link rel=\"icon\" type=\"image/png\" href=\"https://d3njjcbhbojbot.cloudfront.net/web/images/favicons/android-chrome-192x192.png\" sizes=\"192x192\"><link rel=\"icon\" type=\"image/png\" href=\"https://d3njjcbhbojbot.cloudfront.net/web/images/favicons/icon-blue-96x96.png\" sizes=\"96x96\"><link rel=\"icon\" type=\"image/png\" href=\"https://d3njjcbhbojbot.cloudfront.net/web/images/favicons/icon-blue-16x16.png\" sizes=\"16x16\"><link rel=\"icon\" type=\"image/png\" href=\"https://d3njjcbhbojbot.cloudfront.net/web/images/favicons/icon-blue-32x32.png\" sizes=\"32x32\"><meta name=\"msapplication-TileColor\" content=\"#2d89ef\"><meta name=\"msapplication-TileImage\" content=\"https://d3njjcbhbojbot.cloudfront.net/web/images/favicons/mstile-144x144.png\"><meta name=\"theme-color\" content=\"#4689c6\"><meta property=\"qc:admins\" content=\"366737676376375235216727\"><!-- Verification for Yandex--><meta property=\"yandex-verification\" content=\"4970cfdb825622c7\"><style>@font-face {\n",
      "font-family: 'coursera-iconfont';\n",
      "src: url(\"https://d3njjcbhbojbot.cloudfront.net/web/bundles/styleguide/icons/fonts/coursera.v26.eot\");\n",
      "src: url(\"https://d3njjcbhbojbot.cloudfront.net/web/bundles/styleguide/icons/fonts/coursera.v26.eot?#iefix\") format('embedded-opentype'),\n",
      "url(\"https://d3njjcbhbojbot.cloudfront.net/web/bundles/styleguide/icons/fonts/coursera.v26.woff\") format('woff'),\n",
      "url(\"https://d3njjcbhbojbot.cloudfront.net/web/bundles/styleguide/icons/fonts/coursera.v26.ttf\") format('truetype'),\n",
      "url(\"https://d3njjcbhbojbot.cloudfront.net/web/bundles/styleguide/icons/fonts/coursera.v26.svg\") format('svg');\n",
      "}\n",
      "\n",
      "@font-face {\n",
      "font-family: 'OpenSans-Light';\n",
      "src: url(\"https://d3njjcbhbojbot.cloudfront.net/web/type/opensans/OpenSans-Light.eot\");\n",
      "src: url(\"https://d3njjcbhbojbot.cloudfront.net/web/type/opensans/OpenSans-Light.eot?#iefix\") format('embedded-opentype'),\n",
      "url(\"https://d3njjcbhbojbot.cloudfront.net/web/type/opensans-v17-latin-latinext-cyrillic/opensans-300.woff2\") format('woff2'),\n",
      "url(\"https://d3njjcbhbojbot.cloudfront.net/web/type/opensans-v17-latin-latinext-cyrillic/opensans-300.woff\") format('woff'),\n",
      "url(\"https://d3njjcbhbojbot.cloudfront.net/web/type/opensans/OpenSans-Light.ttf\") format('truetype'),\n",
      "url(\"https://d3njjcbhbojbot.cloudfront.net/web/type/opensans/OpenSans-Light.svg#OpenSans-Light\") format('svg');\n",
      "font-weight: normal;\n",
      "font-style: normal;\n",
      "}\n",
      "@font-face {\n",
      "font-family: 'OpenSans';\n",
      "src: url(\"https://d3njjcbhbojbot.cloudfront.net/web/type/opensans/OpenSans-Regular.eot\");\n",
      "src: url(\"https://d3njjcbhbojbot.cloudfront.net/web/type/opensans/OpenSans-Regular.eot?#iefix\") format('embedded-opentype'),\n",
      "url(\"https://d3njjcbhbojbot.cloudfront.net/web/type/opensans-v17-latin-latinext-cyrillic/opensans-regular.woff2\") format('woff2'),\n",
      "url(\"https://d3njjcbhbojbot.cloudfront.net/web/type/opensans-v17-latin-latinext-cyrillic/opensans-regular.woff\") format('woff'),\n",
      "url(\"https://d3njjcbhbojbot.cloudfront.net/web/type/opensans/OpenSans-Regular.ttf\") format('truetype'),\n",
      "url(\"https://d3njjcbhbojbot.cloudfront.net/web/type/opensans/OpenSans-Regular.svg#OpenSans-Regular\") format('svg');\n",
      "font-weight: normal;\n",
      "font-style: normal;\n",
      "}\n",
      "@font-face {\n",
      "font-family: 'OpenSans-Semibold';\n",
      "src: url(\"https://d3njjcbhbojbot.cloudfront.net/web/type/opensans/OpenSans-Semibold.eot\");\n",
      "src: url(\"https://d3njjcbhbojbot.cloudfront.net/web/type/opensans/OpenSans-Semibold.eot?#iefix\") format('embedded-opentype'),\n",
      "url(\"https://d3njjcbhbojbot.cloudfront.net/web/type/opensans-v17-latin-latinext-cyrillic/opensans-600.woff2\") format('woff2'),\n",
      "url(\"https://d3njjcbhbojbot.cloudfront.net/web/type/opensans-v17-latin-latinext-cyrillic/opensans-600.woff\") format('woff'),\n",
      "url(\"https://d3njjcbhbojbot.cloudfront.net/web/type/opensans/OpenSans-Semibold.ttf\") format('truetype'),\n",
      "url(\"https://d3njjcbhbojbot.cloudfront.net/web/type/opensans/OpenSans-Semibold.svg#OpenSans-Semibold\") format('svg');\n",
      "font-weight: normal;\n",
      "font-style: normal;\n",
      "}\n",
      "@font-face {\n",
      "font-family: 'OpenSans';\n",
      "src: url(\"https://d3njjcbhbojbot.cloudfront.net/web/type/opensans/OpenSans-Bold.eot\");\n",
      "src: url(\"https://d3njjcbhbojbot.cloudfront.net/web/type/opensans/OpenSans-Bold.eot?#iefix\") format('embedded-opentype'),\n",
      "url(\"https://d3njjcbhbojbot.cloudfront.net/web/type/opensans-v17-latin-latinext-cyrillic/opensans-700.woff2\") format('woff2'),\n",
      "url(\"https://d3njjcbhbojbot.cloudfront.net/web/type/opensans-v17-latin-latinext-cyrillic/opensans-700.woff\") format('woff'),\n",
      "url(\"https://d3njjcbhbojbot.cloudfront.net/web/type/opensans/OpenSans-Bold.ttf\") format('truetype'),\n",
      "url(\"https://d3njjcbhbojbot.cloudfront.net/web/type/opensans/OpenSans-Bold.svg#OpenSans-Bold\") format('svg');\n",
      "font-weight: bold;\n",
      "font-style: normal;\n",
      "}\n",
      "@font-face {\n",
      "font-family: 'Merriweather';\n",
      "src: url(\"https://d3njjcbhbojbot.cloudfront.net/web/type/merriweather/Merriweather-Regular.eot\");\n",
      "src: url(\"https://d3njjcbhbojbot.cloudfront.net/web/type/merriweather/Merriweather-Regular.eot?#iefix\") format('embedded-opentype'),\n",
      "url(\"https://d3njjcbhbojbot.cloudfront.net/web/type/merriweather/Merriweather-Regular.woff2\") format('woff2'),\n",
      "url(\"https://d3njjcbhbojbot.cloudfront.net/web/type/merriweather/Merriweather-Regular.woff\") format('woff'),\n",
      "url(\"https://d3njjcbhbojbot.cloudfront.net/web/type/merriweather/Merriweather-Regular.ttf\") format('truetype'),\n",
      "url(\"https://d3njjcbhbojbot.cloudfront.net/web/type/merriweather/Merriweather-Regular.svg#Merriweather-Regular\") format('svg');\n",
      "font-weight: normal;\n",
      "font-style: normal;\n",
      "}\n",
      "@font-face {\n",
      "font-family: 'Merriweather-Light';\n",
      "src: url(\"https://d3njjcbhbojbot.cloudfront.net/web/type/merriweather/Merriweather-Light.eot\");\n",
      "src: url(\"https://d3njjcbhbojbot.cloudfront.net/web/type/merriweather/Merriweather-Light.eot?#iefix\") format('embedded-opentype'),\n",
      "url(\"https://d3njjcbhbojbot.cloudfront.net/web/type/merriweather/Merriweather-Light.woff2\") format('woff2'),\n",
      "url(\"https://d3njjcbhbojbot.cloudfront.net/web/type/merriweather/Merriweather-Light.woff\") format('woff'),\n",
      "url(\"https://d3njjcbhbojbot.cloudfront.net/web/type/merriweather/Merriweather-Light.ttf\") format('truetype'),\n",
      "url(\"https://d3njjcbhbojbot.cloudfront.net/web/type/merriweather/Merriweather-Regular.svg#Merriweather-Light\") format('svg');\n",
      "font-weight: normal;\n",
      "font-style: normal;\n",
      "}</style><script>// NOTE: This file gets included in Jade pre-transformed so it must be ES5-safe.\n",
      "\n",
      "(function (global, factory) {\n",
      "global.errorTracker = factory();\n",
      "})(this, function () {\n",
      "var lastError = {};\n",
      "\n",
      "function errorEquals(left, right) {\n",
      "return ['message', 'url', 'line', 'column'].every(function (field) {\n",
      "return left[field] == right[field];\n",
      "});\n",
      "}\n",
      "\n",
      "return function (tracker, options) {\n",
      "options = options || {};\n",
      "\n",
      "var logger = options.logger || (window && window.console) || { error: function () {} };\n",
      "var version = options.version || '';\n",
      "var versionTimestamp = options.versionTimestamp || '';\n",
      "\n",
      "var stringifyError = function (error) {\n",
      "var plainObject = {};\n",
      "if (error && typeof error == 'object') {\n",
      "Object.getOwnPropertyNames(error).forEach(function (key) {\n",
      "plainObject[key] = error[key];\n",
      "});\n",
      "}\n",
      "return JSON.stringify(plainObject);\n",
      "};\n",
      "\n",
      "var logClientSideError = function (message, url, line, column, error) {\n",
      "// errors without line numbers, urls or columns aren't helpful, chuck them\n",
      "if (!url || !column || !line) return;\n",
      "\n",
      "if (message.target && message.type) {\n",
      "message = message.type;\n",
      "}\n",
      "\n",
      "if (error && error.stack) {\n",
      "var findStackUrlRegExp = /\\(([^)\\s]+?):\\d+:\\d+\\)/gm;\n",
      "var findLastStackUrlRegExp = /\\s*(https?:\\/\\/[^:\\s]+?):\\d+:\\d+\\s*$/gm;\n",
      "var match;\n",
      "var local = true;\n",
      "\n",
      "// test for parens enclosed URLs in stack trace\n",
      "while ((match = findStackUrlRegExp.exec(error.stack))) {\n",
      "if (match && !options.scriptFilter.test(match[1])) {\n",
      "local = false;\n",
      "break;\n",
      "}\n",
      "}\n",
      "\n",
      "// test for last URL in stack trace\n",
      "if (local) {\n",
      "while ((match = findLastStackUrlRegExp.exec(error.stack))) {\n",
      "if (match && !options.scriptFilter.test(match[1])) {\n",
      "local = false;\n",
      "break;\n",
      "}\n",
      "}\n",
      "}\n",
      "\n",
      "// if stack trace shows us external scripts are buggy, don't log\n",
      "if (!local) return;\n",
      "}\n",
      "\n",
      "var errorStr = stringifyError(error);\n",
      "var errorDescrip = {\n",
      "message: message,\n",
      "script: url,\n",
      "line: line,\n",
      "url: window && window.document ? window.document.URL : url,\n",
      "column: column,\n",
      "error: errorStr,\n",
      "version: version,\n",
      "versionTimestamp: versionTimestamp,\n",
      "appName: window.appName || 'unknown',\n",
      "};\n",
      "\n",
      "logger.error(errorStr);\n",
      "\n",
      "var trackableUrl = url && (!options.scriptFilter || options.scriptFilter.test(url));\n",
      "\n",
      "if (trackableUrl) {\n",
      "var isNewError = !errorEquals(errorDescrip, lastError);\n",
      "\n",
      "// don't track the same error over and over again\n",
      "if (isNewError) {\n",
      "lastError = errorDescrip;\n",
      "tracker(errorDescrip);\n",
      "}\n",
      "}\n",
      "};\n",
      "\n",
      "if (typeof window !== 'undefined') {\n",
      "window.onerror = logClientSideError;\n",
      "if (window.errorTracker) {\n",
      "delete window.errorTracker;\n",
      "}\n",
      "} else {\n",
      "return logClientSideError;\n",
      "}\n",
      "};\n",
      "});\n",
      "</script><script>window._204 = [];\n",
      "window._400 = [];\n",
      "if(window.errorTracker) {\n",
      "window.errorTracker(\n",
      "function(error) {\n",
      "window._400.push({key:'page.error.javascript', value:error});\n",
      "},\n",
      "{\n",
      "scriptFilter: new RegExp('^/|^' + location.protocol + '//' + location.host),\n",
      "version: \"ea87c58b14aa6245c30441c0deeddb26c2c7ee16\",\n",
      "versionTimestamp: \"1600709997582\"\n",
      "});\n",
      "}</script><link href=\"https://d3njjcbhbojbot.cloudfront.net/webapps/r2-builds/ondemand/allStyles.df876176122d9d47267d.css\" data-href=\"https://d3njjcbhbojbot.cloudfront.net/webapps/r2-builds/ondemand/allStyles.df876176122d9d47267d.css\" rel=\"stylesheet\"><title data-react-helmet=\"true\">Coursera | Online Courses &amp; Credentials From Top Educators. Join for Free | Coursera</title>\n",
      "<meta data-react-helmet=\"true\" property=\"og:url\" content=\"https://www.coursera.org/learn/python-data-analysis/home/welcome.htm\"/><meta data-react-helmet=\"true\" property=\"og:locale\" content=\"en_US\"/><meta data-react-helmet=\"true\" property=\"og:type\" content=\"website\"/><meta data-react-helmet=\"true\" name=\"description\" content=\"Learn online and earn valuable credentials from top universities like Yale, Michigan, Stanford, and leading companies like Google and IBM. Join Coursera for free and transform your career with degrees, certificates, Specializations, &amp; MOOCs in data science, computer science, business, and dozens of other topics.\"/><meta data-react-helmet=\"true\" name=\"image\" content=\"https://s3.amazonaws.com/coursera/media/Partner_Logos.png\"/><meta data-react-helmet=\"true\" property=\"og:title\" content=\"Coursera | Online Courses &amp; Credentials From Top Educators. Join for Free | Coursera\"/><meta data-react-helmet=\"true\" property=\"og:description\" content=\"Learn online and earn valuable credentials from top universities like Yale, Michigan, Stanford, and leading companies like Google and IBM. Join Coursera for free and transform your career with degrees, certificates, Specializations, &amp; MOOCs in data science, computer science, business, and dozens of other topics.\"/><meta data-react-helmet=\"true\" property=\"og:image\" content=\"https://s3.amazonaws.com/coursera/media/Partner_Logos.png\"/><meta data-react-helmet=\"true\" property=\"twitter:title\" content=\"Coursera | Online Courses &amp; Credentials From Top Educators. Join for Free | Coursera\"/><meta data-react-helmet=\"true\" property=\"twitter:description\" content=\"Learn online and earn valuable credentials from top universities like Yale, Michigan, Stanford, and leading companies like Google and IBM. Join Coursera for free and transform your career with degrees, certificates, Specializations, &amp; MOOCs in data science, computer science, business, and dozens of other topics.\"/><meta data-react-helmet=\"true\" property=\"twitter:image:src\" content=\"https://s3.amazonaws.com/coursera/media/Partner_Logos.png\"/><meta data-react-helmet=\"true\" property=\"twitter:image\" content=\"https://s3.amazonaws.com/coursera/media/Partner_Logos.png\"/><meta data-react-helmet=\"true\" property=\"twitter:card\" content=\"summary\"/><meta data-react-helmet=\"true\" name=\"robots\" content=\"noindex, nofollow\"/>\n",
      "<link data-react-helmet=\"true\" rel=\"canonical\" href=\"https://www.coursera.org/learn/python-data-analysis/home/welcome.htm\"/><link data-react-helmet=\"true\" rel=\"alternate\" hreflang=\"en\" href=\"https://www.coursera.org/learn/python-data-analysis/home/welcome.htm\"/><link data-react-helmet=\"true\" rel=\"alternate\" hreflang=\"de\" href=\"https://de.coursera.org/learn/python-data-analysis/home/welcome.htm\"/><link data-react-helmet=\"true\" rel=\"alternate\" hreflang=\"es\" href=\"https://es.coursera.org/learn/python-data-analysis/home/welcome.htm\"/><link data-react-helmet=\"true\" rel=\"alternate\" hreflang=\"fr\" href=\"https://fr.coursera.org/learn/python-data-analysis/home/welcome.htm\"/><link data-react-helmet=\"true\" rel=\"alternate\" hreflang=\"ja\" href=\"https://ja.coursera.org/learn/python-data-analysis/home/welcome.htm\"/><link data-react-helmet=\"true\" rel=\"alternate\" hreflang=\"ko\" href=\"https://ko.coursera.org/learn/python-data-analysis/home/welcome.htm\"/><link data-react-helmet=\"true\" rel=\"alternate\" hreflang=\"pt\" href=\"https://pt.coursera.org/learn/python-data-analysis/home/welcome.htm\"/><link data-react-helmet=\"true\" rel=\"alternate\" hreflang=\"ru\" href=\"https://ru.coursera.org/learn/python-data-analysis/home/welcome.htm\"/><link data-react-helmet=\"true\" rel=\"alternate\" hreflang=\"zh\" href=\"https://zh.coursera.org/learn/python-data-analysis/home/welcome.htm\"/><link data-react-helmet=\"true\" rel=\"alternate\" hreflang=\"zh-tw\" href=\"https://zh-tw.coursera.org/learn/python-data-analysis/home/welcome.htm\"/><link data-react-helmet=\"true\" rel=\"alternate\" hreflang=\"x-default\" href=\"https://www.coursera.org/learn/python-data-analysis/home/welcome.htm\"/>\n",
      "\n",
      "<style data-aphrodite></style>\n",
      "<script>window.ssr = true</script><script>!function(e){function webpackJsonpCallback(a){for(var c=a[0],b=a[1],r=a[2],t,o,u=0,i=[];u<c.length;u++)o=c[u],Object.prototype.hasOwnProperty.call(f,o)&&f[o]&&i.push(f[o][0]),f[o]=0;for(t in b)Object.prototype.hasOwnProperty.call(b,t)&&(e[t]=b[t]);for(n&&n(a);i.length;)i.shift()();return d.push.apply(d,r||[]),checkDeferredModules()}function checkDeferredModules(){for(var e,a=0;a<d.length;a++){for(var c=d[a],b=!0,r=1;r<c.length;r++){var t=c[r];0!==f[t]&&(b=!1)}b&&(d.splice(a--,1),e=__webpack_require__(__webpack_require__.s=c[0]))}return e}var a={},c={manifest:0},f={manifest:0},d=[];function jsonpScriptSrc(e){var a=function(e){var a;return{\"4\":true,\"6\":true,\"9\":true,\"11\":true,\"19\":true,\"20\":true,\"21\":true,\"24\":true,\"26\":true,\"29\":true,\"32\":true,\"33\":true,\"34\":true,\"35\":true,\"36\":true,\"38\":true,\"40\":true,\"41\":true,\"42\":true,\"44\":true,\"45\":true,\"49\":true,\"50\":true,\"51\":true,\"52\":true,\"53\":true,\"55\":true,\"56\":true,\"58\":true,\"59\":true,\"60\":true,\"63\":true,\"65\":true,\"68\":true,\"69\":true,\"70\":true,\"75\":true,\"76\":true,\"80\":true,\"81\":true,\"84\":true,\"87\":true,\"90\":true,\"91\":true,\"93\":true,\"94\":true,\"95\":true,\"96\":true,\"109\":true,\"app\":true,\"asyncCommonJS\":true,\"manifest\":true}[e]?\"en.\"+e:e};return __webpack_require__.p+\"\"+a(e)+\".\"+{0:\"fc2d4f153195e41d2ecf\",1:\"c3562bfff57b325fa9c5\",2:\"cce3acf01d16becf3834\",3:\"14c173d449cb08c61112\",4:\"9de7187754a292c21da3\",5:\"8d304849c97eedadbdc9\",6:\"b3dc7c140fe95dfaf96c\",7:\"5576880ae211440e380a\",8:\"30da5e8fb652447dc997\",9:\"6bc6381a2badbf4f83a5\",10:\"149a4fa55f667fde14a9\",11:\"c781b0b41155f2024901\",12:\"164c5426ec42e9b1726a\",13:\"55fbbbb7ca87d82ad43f\",14:\"f58fc5b588984871102f\",15:\"0f90d8f224b1fe37eae3\",16:\"35dd78268b49d07453c1\",17:\"591e3b434cc1c2276a5d\",18:\"d35cce02cd7996c98618\",19:\"07c3d7075ffa2adc363f\",20:\"797b3d3a8707c1b7146e\",21:\"4358253d7219d840a470\",22:\"00b64ffeaf4a57491bca\",23:\"48469aea519cbdc72bdc\",24:\"9ec3de6f9260fc843579\",25:\"5d48e9cecce0e09a9c12\",26:\"5de73377273335b512fe\",27:\"36fab4aa7c9dda8f6a44\",28:\"1eeae151d82c1fdbb69a\",29:\"621ac063a5e0b50b3622\",30:\"7ab6fc3906427de4f4ef\",31:\"65bc5949c5218f4fe69f\",32:\"72eb9e15a2aff1ccc409\",33:\"953f02b3a352986c8351\",34:\"128644b93646f7a82049\",35:\"feecb7025dcc1f44642d\",36:\"6912cc77be34a4134c7c\",37:\"768f528509ce689a20aa\",38:\"155f6161dd22d4fce89a\",39:\"0e1fdaf3650a68393be3\",40:\"43e70f2752ec9301e809\",41:\"858d0d9e47634399705e\",42:\"7a7f88899818b73deb76\",43:\"ec2be07b22fb87490af4\",44:\"268507556cf7db31f865\",45:\"6dc5631b069c96b33575\",46:\"399550cfd39d98046587\",47:\"51cccd0cf23727c766ab\",48:\"d8d7705b8242996bad9e\",49:\"665154b676bf62f77567\",50:\"a7a0d0444a3ed56576f3\",51:\"3621f48673ba92a57212\",52:\"5c5ba28c9b6dbf5f0345\",53:\"6908e4b01be2d34363f1\",54:\"9f710a6ea6bea649c556\",55:\"81081a340fdeae30a49b\",56:\"386fe99f51f8e5296bf3\",57:\"5a83862008a105dab85c\",58:\"e8efff0e377eec0bf9e3\",59:\"6e78411f77fb0ed8bde8\",60:\"9428c242b5bc3dfe2fae\",61:\"0189ce6938115eed33db\",62:\"a58a15d8d683ead7021d\",63:\"7819fe1c85a231446160\",64:\"32859e1e2d24dd316fba\",65:\"8f10d23dd16602f50d17\",66:\"4d386f87955b7ba71304\",67:\"29f966f2d2e801f857fe\",68:\"2fc7d6b90bbbb356f1df\",69:\"b0031678a85bbba385f8\",70:\"576c607aadc6852bd8be\",71:\"91ca01edbe50ec175c50\",72:\"d15ef29acd6d8963485b\",73:\"bf196f6f7b0b0bde26ad\",74:\"09af26bfb05006cb8aa4\",75:\"320fcd7172e7e29399b4\",76:\"b6248974da1f255054b0\",77:\"a4799e300aed77f42bc4\",78:\"360357641a0930e603ca\",79:\"70c3f16326e0e6f2875b\",80:\"43cfa92a1f1f796acb31\",81:\"1762b742fa8e73375e25\",82:\"0ec846791cb9c4cc911b\",83:\"7b04b4850c5b681178dd\",84:\"03f240c7680df483ffdd\",85:\"e61739b7ba58d188e485\",86:\"034aedee3ae8ded168f1\",87:\"9d0dad6cc760ff1ee8ac\",88:\"33eda4767aa9c9f99fa9\",89:\"ffda238cd496a3d34f68\",90:\"25462ec8d4aaf5fedf59\",91:\"b10ac97d5dbaa29aad5f\",92:\"895415c104b4a1aa4282\",93:\"f43314693de967cee474\",94:\"4ec8b1e0cf32701e680d\",95:\"0f24083befd27f502413\",96:\"4759501977380424c689\",97:\"ea5f00c51ca0722aa9a1\",98:\"9d9d0da371632371ac46\",99:\"98a65675c2b3faf494f6\",100:\"58138dd5e8802a5e80ed\",101:\"1b6ede2a249605a25402\",102:\"106c3637450fc8519fcc\",103:\"837791f3eb70dd32a3d6\",104:\"f05dea93bee43af27665\",105:\"ee1d845c309451baf571\",106:\"570d34224b7414528974\",107:\"29d24f5ad04e004e8b26\",108:\"8707e698b419e77a2427\",109:\"db8ce4c3c0a5d0618a92\",110:\"cfc59f86827e124217dc\",111:\"64e2e9791242ce82faa7\",112:\"8fdd0cd6621d7b0a7909\",113:\"ebcadaa028fe6ee75489\",114:\"410b883f188e670897af\",115:\"b07b410278823b323fac\",116:\"0e610d8e956d479d8ac5\",117:\"6aad8ae2aa9bb4dedba7\",118:\"e9e2fba743bc6fd2c26c\",119:\"0329736ebd266d626c88\",120:\"a1c2557bbb07044a5847\",121:\"eec95dd5ec68c5179d50\",122:\"6df869cdc4262dd03eb3\",123:\"13f738d79922596e45d3\",124:\"ff0e123230d90e81d790\",125:\"ba9b0c8d522ef244397e\",126:\"3cd1a209d375f819ced4\",127:\"3c8dccac1ee6147a2ab1\",128:\"79d2c1abbc48e2e2c832\",129:\"d3f011f38342b0c54816\",130:\"9be2e607cbe637676026\",131:\"3a34c7316a637503c3e6\",132:\"e561830e2a3733ff60bf\",133:\"3c9bd1474a071107b81c\",134:\"d889c99491303028fc28\",135:\"7d7d4b5c944b9959ffb8\",136:\"be9f3a77d71c96b8d8f2\",137:\"ef5f83634125f752808c\",138:\"cf33bdeab1a5a5a85789\",139:\"b7afee12b077ee168174\",140:\"e357b8dd1b4c02c8333b\",141:\"594db024063f1274dd81\",142:\"d045b623cc276ae9ab50\",143:\"c5c52bae50747df92b01\",144:\"102523c8a52a1ee8b184\",145:\"03fe2f4f3d8ca884d91b\",146:\"e7c421a8481bf81f2105\",147:\"18e099145b4ac3b762d6\",148:\"0fdee6c61848d61eff6d\",149:\"fc271522e52669383b78\",150:\"0d1ec26bfef64a97460a\",151:\"c7b84e4ccb7d078c1240\",152:\"843ff79e7a7b993f889a\",153:\"fe128642459b9c7ca2d1\",154:\"915b96f2a29e4b33ad1f\",155:\"48eee25727fabc45eadc\",156:\"ab9acbfbbb3f973ad4eb\",157:\"1ed7840ac2d0bbf29182\",158:\"b0980c8ba9a9ad030665\",159:\"81c2548813665465702b\",160:\"a858e6ccd0b08f7b48e7\",161:\"b7e3d6d83b3ddbc35dc8\",162:\"3cde4df24651f88be066\",163:\"86d7245ef4273472a8bd\",164:\"1d17898cfe06040e2513\",165:\"39f24b31940ee9a91920\",166:\"492ce5e63675a84a3a53\",167:\"bdd9af58e1db4ca3f873\",168:\"53eb8a82dc652e29b851\",169:\"0c27c332bb23ab6c8656\",170:\"647a66b194b3cdb9c504\",171:\"97dc329705fd45eb43c0\",172:\"63650abf81cb5a6a9c58\",173:\"16bf031bf4c70407ea0b\",174:\"d4fac75fbd6114cff8f1\",175:\"1efb7917289a55ed5b31\",176:\"f34c1cd8f61f8b8094bf\",177:\"543cd5095d0be89bee15\",178:\"0676a42d7f6381960df6\",179:\"81e5d59722c3882d5216\",allStyles:\"df876176122d9d47267d\",asyncCommonJS:\"6769eef13202c331c4ba\"}[e]+\".js\"}function __webpack_require__(c){if(a[c])return a[c].exports;var module=a[c]={i:c,l:!1,exports:{}};return e[c].call(module.exports,module,module.exports,__webpack_require__),module.l=!0,module.exports}__webpack_require__.e=function requireEnsure(e){var a=[],d={allStyles:1};c[e]?a.push(c[e]):0!==c[e]&&d[e]&&a.push(c[e]=new Promise(function(a,c){for(var f=({allStyles:\"allStyles\",asyncCommonJS:\"asyncCommonJS\"}[e]||e)+\".\"+{0:\"fc2d4f153195e41d2ecf\",1:\"c3562bfff57b325fa9c5\",2:\"cce3acf01d16becf3834\",3:\"14c173d449cb08c61112\",4:\"9de7187754a292c21da3\",5:\"8d304849c97eedadbdc9\",6:\"b3dc7c140fe95dfaf96c\",7:\"5576880ae211440e380a\",8:\"30da5e8fb652447dc997\",9:\"6bc6381a2badbf4f83a5\",10:\"149a4fa55f667fde14a9\",11:\"c781b0b41155f2024901\",12:\"164c5426ec42e9b1726a\",13:\"55fbbbb7ca87d82ad43f\",14:\"f58fc5b588984871102f\",15:\"0f90d8f224b1fe37eae3\",16:\"35dd78268b49d07453c1\",17:\"591e3b434cc1c2276a5d\",18:\"d35cce02cd7996c98618\",19:\"07c3d7075ffa2adc363f\",20:\"797b3d3a8707c1b7146e\",21:\"4358253d7219d840a470\",22:\"00b64ffeaf4a57491bca\",23:\"48469aea519cbdc72bdc\",24:\"9ec3de6f9260fc843579\",25:\"5d48e9cecce0e09a9c12\",26:\"5de73377273335b512fe\",27:\"36fab4aa7c9dda8f6a44\",28:\"1eeae151d82c1fdbb69a\",29:\"621ac063a5e0b50b3622\",30:\"7ab6fc3906427de4f4ef\",31:\"65bc5949c5218f4fe69f\",32:\"72eb9e15a2aff1ccc409\",33:\"953f02b3a352986c8351\",34:\"128644b93646f7a82049\",35:\"feecb7025dcc1f44642d\",36:\"6912cc77be34a4134c7c\",37:\"768f528509ce689a20aa\",38:\"155f6161dd22d4fce89a\",39:\"0e1fdaf3650a68393be3\",40:\"43e70f2752ec9301e809\",41:\"858d0d9e47634399705e\",42:\"7a7f88899818b73deb76\",43:\"ec2be07b22fb87490af4\",44:\"268507556cf7db31f865\",45:\"6dc5631b069c96b33575\",46:\"399550cfd39d98046587\",47:\"51cccd0cf23727c766ab\",48:\"d8d7705b8242996bad9e\",49:\"665154b676bf62f77567\",50:\"a7a0d0444a3ed56576f3\",51:\"3621f48673ba92a57212\",52:\"5c5ba28c9b6dbf5f0345\",53:\"6908e4b01be2d34363f1\",54:\"9f710a6ea6bea649c556\",55:\"81081a340fdeae30a49b\",56:\"386fe99f51f8e5296bf3\",57:\"5a83862008a105dab85c\",58:\"e8efff0e377eec0bf9e3\",59:\"6e78411f77fb0ed8bde8\",60:\"9428c242b5bc3dfe2fae\",61:\"0189ce6938115eed33db\",62:\"a58a15d8d683ead7021d\",63:\"7819fe1c85a231446160\",64:\"32859e1e2d24dd316fba\",65:\"8f10d23dd16602f50d17\",66:\"4d386f87955b7ba71304\",67:\"29f966f2d2e801f857fe\",68:\"2fc7d6b90bbbb356f1df\",69:\"b0031678a85bbba385f8\",70:\"576c607aadc6852bd8be\",71:\"91ca01edbe50ec175c50\",72:\"d15ef29acd6d8963485b\",73:\"bf196f6f7b0b0bde26ad\",74:\"09af26bfb05006cb8aa4\",75:\"320fcd7172e7e29399b4\",76:\"b6248974da1f255054b0\",77:\"a4799e300aed77f42bc4\",78:\"360357641a0930e603ca\",79:\"70c3f16326e0e6f2875b\",80:\"43cfa92a1f1f796acb31\",81:\"1762b742fa8e73375e25\",82:\"0ec846791cb9c4cc911b\",83:\"7b04b4850c5b681178dd\",84:\"03f240c7680df483ffdd\",85:\"e61739b7ba58d188e485\",86:\"034aedee3ae8ded168f1\",87:\"9d0dad6cc760ff1ee8ac\",88:\"33eda4767aa9c9f99fa9\",89:\"ffda238cd496a3d34f68\",90:\"25462ec8d4aaf5fedf59\",91:\"b10ac97d5dbaa29aad5f\",92:\"895415c104b4a1aa4282\",93:\"f43314693de967cee474\",94:\"4ec8b1e0cf32701e680d\",95:\"0f24083befd27f502413\",96:\"4759501977380424c689\",97:\"ea5f00c51ca0722aa9a1\",98:\"9d9d0da371632371ac46\",99:\"98a65675c2b3faf494f6\",100:\"58138dd5e8802a5e80ed\",101:\"1b6ede2a249605a25402\",102:\"106c3637450fc8519fcc\",103:\"837791f3eb70dd32a3d6\",104:\"f05dea93bee43af27665\",105:\"ee1d845c309451baf571\",106:\"570d34224b7414528974\",107:\"29d24f5ad04e004e8b26\",108:\"8707e698b419e77a2427\",109:\"db8ce4c3c0a5d0618a92\",110:\"cfc59f86827e124217dc\",111:\"64e2e9791242ce82faa7\",112:\"8fdd0cd6621d7b0a7909\",113:\"ebcadaa028fe6ee75489\",114:\"410b883f188e670897af\",115:\"b07b410278823b323fac\",116:\"0e610d8e956d479d8ac5\",117:\"6aad8ae2aa9bb4dedba7\",118:\"e9e2fba743bc6fd2c26c\",119:\"0329736ebd266d626c88\",120:\"a1c2557bbb07044a5847\",121:\"eec95dd5ec68c5179d50\",122:\"6df869cdc4262dd03eb3\",123:\"13f738d79922596e45d3\",124:\"ff0e123230d90e81d790\",125:\"ba9b0c8d522ef244397e\",126:\"3cd1a209d375f819ced4\",127:\"3c8dccac1ee6147a2ab1\",128:\"79d2c1abbc48e2e2c832\",129:\"d3f011f38342b0c54816\",130:\"9be2e607cbe637676026\",131:\"3a34c7316a637503c3e6\",132:\"e561830e2a3733ff60bf\",133:\"3c9bd1474a071107b81c\",134:\"d889c99491303028fc28\",135:\"7d7d4b5c944b9959ffb8\",136:\"be9f3a77d71c96b8d8f2\",137:\"ef5f83634125f752808c\",138:\"cf33bdeab1a5a5a85789\",139:\"b7afee12b077ee168174\",140:\"e357b8dd1b4c02c8333b\",141:\"594db024063f1274dd81\",142:\"d045b623cc276ae9ab50\",143:\"c5c52bae50747df92b01\",144:\"102523c8a52a1ee8b184\",145:\"03fe2f4f3d8ca884d91b\",146:\"e7c421a8481bf81f2105\",147:\"18e099145b4ac3b762d6\",148:\"0fdee6c61848d61eff6d\",149:\"fc271522e52669383b78\",150:\"0d1ec26bfef64a97460a\",151:\"c7b84e4ccb7d078c1240\",152:\"843ff79e7a7b993f889a\",153:\"fe128642459b9c7ca2d1\",154:\"915b96f2a29e4b33ad1f\",155:\"48eee25727fabc45eadc\",156:\"ab9acbfbbb3f973ad4eb\",157:\"1ed7840ac2d0bbf29182\",158:\"b0980c8ba9a9ad030665\",159:\"81c2548813665465702b\",160:\"a858e6ccd0b08f7b48e7\",161:\"b7e3d6d83b3ddbc35dc8\",162:\"3cde4df24651f88be066\",163:\"86d7245ef4273472a8bd\",164:\"1d17898cfe06040e2513\",165:\"39f24b31940ee9a91920\",166:\"492ce5e63675a84a3a53\",167:\"bdd9af58e1db4ca3f873\",168:\"53eb8a82dc652e29b851\",169:\"0c27c332bb23ab6c8656\",170:\"647a66b194b3cdb9c504\",171:\"97dc329705fd45eb43c0\",172:\"63650abf81cb5a6a9c58\",173:\"16bf031bf4c70407ea0b\",174:\"d4fac75fbd6114cff8f1\",175:\"1efb7917289a55ed5b31\",176:\"f34c1cd8f61f8b8094bf\",177:\"543cd5095d0be89bee15\",178:\"0676a42d7f6381960df6\",179:\"81e5d59722c3882d5216\",allStyles:\"df876176122d9d47267d\",asyncCommonJS:\"6769eef13202c331c4ba\"}[e]+\".css\",d=__webpack_require__.p+f,b=document.getElementsByTagName(\"link\"),r=0;r<b.length;r++){var t,n=(t=b[r]).getAttribute(\"data-href\")||t.getAttribute(\"href\");if(\"stylesheet\"===t.rel&&(n===f||n===d))return a()}for(var o=document.getElementsByTagName(\"style\"),r=0;r<o.length;r++){var t,n;if((n=(t=o[r]).getAttribute(\"data-href\"))===f||n===d)return a()}var u=document.createElement(\"link\"),i;u.rel=\"stylesheet\",u.type=\"text/css\",u.onload=a,u.onerror=function(a){var f=a&&a.target&&a.target.src||d,b=new Error(\"Loading CSS chunk \"+e+\" failed.\\n(\"+f+\")\");b.request=f,c(b)},u.href=d,document.getElementsByTagName(\"head\")[0].appendChild(u)}).then(function(){c[e]=0}));var b=f[e];if(0!==b)if(b)a.push(b[2]);else{var r=new Promise(function(a,c){b=f[e]=[a,c]});a.push(b[2]=r);var t=document.createElement(\"script\"),n;t.charset=\"utf-8\",t.timeout=120,__webpack_require__.nc&&t.setAttribute(\"nonce\",__webpack_require__.nc),t.src=jsonpScriptSrc(e);var o=new Error;n=function(a){t.onerror=t.onload=null,clearTimeout(u);var c=f[e];if(0!==c){if(c){var d=a&&(\"load\"===a.type?\"missing\":a.type),b=a&&a.target&&a.target.src;o.message=\"Loading chunk \"+e+\" failed.\\n(\"+d+\": \"+b+\")\",o.name=\"ChunkLoadError\",o.type=d,o.request=b,c[1](o)}f[e]=void 0}};var u=setTimeout(function(){n({type:\"timeout\",target:t})},12e4);t.onerror=t.onload=n,document.head.appendChild(t)}return Promise.all(a)},__webpack_require__.m=e,__webpack_require__.c=a,__webpack_require__.d=function(exports,e,a){__webpack_require__.o(exports,e)||Object.defineProperty(exports,e,{enumerable:!0,get:a})},__webpack_require__.r=function(exports){\"undefined\"!=typeof Symbol&&Symbol.toStringTag&&Object.defineProperty(exports,Symbol.toStringTag,{value:\"Module\"}),Object.defineProperty(exports,\"__esModule\",{value:!0})},__webpack_require__.t=function(e,a){if(1&a&&(e=__webpack_require__(e)),8&a)return e;if(4&a&&\"object\"==typeof e&&e&&e.__esModule)return e;var c=Object.create(null);if(__webpack_require__.r(c),Object.defineProperty(c,\"default\",{enumerable:!0,value:e}),2&a&&\"string\"!=typeof e)for(var f in e)__webpack_require__.d(c,f,function(a){return e[a]}.bind(null,f));return c},__webpack_require__.n=function(module){var e=module&&module.__esModule?function getDefault(){return module.default}:function getModuleExports(){return module};return __webpack_require__.d(e,\"a\",e),e},__webpack_require__.o=function(e,a){return Object.prototype.hasOwnProperty.call(e,a)},__webpack_require__.p=\"https://d3njjcbhbojbot.cloudfront.net/webapps/r2-builds/ondemand/\",__webpack_require__.oe=function(e){throw console.error(e),e};var b=window.webpackJsonp=window.webpackJsonp||[],r=b.push.bind(b);b.push=webpackJsonpCallback,b=b.slice();for(var t=0;t<b.length;t++)webpackJsonpCallback(b[t]);var n=r;checkDeferredModules()}([]);</script><script type=\"text/javascript\" src=\"https://d3njjcbhbojbot.cloudfront.net/webapps/r2-builds/ondemand/allStyles.df876176122d9d47267d.js\" defer crossorigin=\"anonymous\"></script><script>/* Polyfill Injector */\n",
      "(function(main) {\n",
      "if(/* Intl */!('Intl' in this)) {\n",
      "var js = document.createElement('script');\n",
      "js.src = \"https://d3njjcbhbojbot.cloudfront.net/web/bundles/vendor/Intl.js.v0-1-4/Intl.en-US.js?features=Intl\";\n",
      "js.onload = main;\n",
      "js.onerror = function() {\n",
      "console.error('Could not load polyfills script!');\n",
      "main();\n",
      "};\n",
      "document.head.appendChild(js);\n",
      "} else {\n",
      "main();\n",
      "}\n",
      "})(function() {\n",
      "(window.webpackJsonp=window.webpackJsonp||[]).push([[\"polyfill\"],{\"+M5X\":function(module,exports,t){var n=t(\"/wKJ\"),r=t(\"9yug\");module.exports=t(\"oyyx\")?function(t,e,i){return n.f(t,e,r(1,i))}:function(t,n,r){return t[n]=r,t}},\"/J51\":function(module,exports,t){var n=t(\"DWPK\"),r=t(\"JVqh\").isFinite;n(n.S,\"Number\",{isFinite:function isFinite(t){return\"number\"==typeof t&&r(t)}})},\"/O+w\":function(module,exports,t){var n=t(\"DWPK\");n(n.S,\"Array\",{isArray:t(\"vEh7\")})},\"/aWK\":function(module,exports,t){\"use strict\";t(\"bXXE\"),t(\"vliS\"),module.exports=t(\"oG9l\").Promise.finally},\"/wKJ\":function(module,exports,t){var n=t(\"uL02\"),r=t(\"ac7b\"),e=t(\"Yxd9\"),i=Object.defineProperty;exports.f=t(\"oyyx\")?Object.defineProperty:function defineProperty(t,o,u){if(n(t),o=e(o,!0),n(u),r)try{return i(t,o,u)}catch(t){}if(\"get\"in u||\"set\"in u)throw TypeError(\"Accessors not supported!\");return\"value\"in u&&(t[o]=u.value),t}},\"/zXF\":function(module,exports){var t=Math.expm1;module.exports=!t||t(10)>22025.465794806718||t(10)<22025.465794806718||-2e-17!=t(-2e-17)?function expm1(t){return 0==(t=+t)?t:t>-1e-6&&t<1e-6?t+t*t/2:Math.exp(t)-1}:t},\"03Z4\":function(module,exports,t){var n=t(\"DWPK\");n(n.S,\"Number\",{isNaN:function isNaN(t){return t!=t}})},\"04zb\":function(module,exports){var t=module.exports=\"undefined\"!=typeof window&&window.Math==Math?window:\"undefined\"!=typeof self&&self.Math==Math?self:Function(\"return this\")();\"number\"==typeof __g&&(__g=t)},\"0Qbi\":function(module,exports,t){var n=t(\"DWPK\"),r=t(\"zrYH\"),e=t(\"WNFN\");n(n.S,\"String\",{raw:function raw(t){for(var n=r(t.raw),i=e(n.length),o=arguments.length,u=[],c=0;i>c;)u.push(String(n[c++])),c<o&&u.push(String(arguments[c]));return u.join(\"\")}})},\"0XEP\":function(module,exports,t){var n=t(\"DWPK\"),r=Math.atanh;n(n.S+n.F*!(r&&1/r(-0)<0),\"Math\",{atanh:function atanh(t){return 0==(t=+t)?t:Math.log((1+t)/(1-t))/2}})},\"0wIN\":function(module,exports,t){t(\"kz6D\")(\"Int8\",1,function(t){return function Int8Array(n,r,e){return t(this,n,r,e)}})},\"173f\":function(module,exports,t){\"use strict\";var n=t(\"DWPK\"),r=t(\"ni3+\")(1);n(n.P+n.F*!t(\"YKEf\")([].map,!0),\"Array\",{map:function map(t){return r(this,t,arguments[1])}})},\"1AGL\":function(module,exports,t){var n=t(\"dIDi\");module.exports=function(t,r,e){if(n(t),void 0===r)return t;switch(e){case 1:return function(n){return t.call(r,n)};case 2:return function(n,e){return t.call(r,n,e)};case 3:return function(n,e,i){return t.call(r,n,e,i)}}return function(){return t.apply(r,arguments)}}},\"1rnR\":function(module,exports,t){var n=t(\"JVqh\"),r=t(\"yRS0\").set,e=n.MutationObserver||n.WebKitMutationObserver,i=n.process,o=n.Promise,u=\"process\"==t(\"36VY\")(i);module.exports=function(){var t,c,a,f=function(){var n,r;for(u&&(n=i.domain)&&n.exit();t;){r=t.fn,t=t.next;try{r()}catch(n){throw t?a():c=void 0,n}}c=void 0,n&&n.enter()};if(u)a=function(){i.nextTick(f)};else if(!e||n.navigator&&n.navigator.standalone)if(o&&o.resolve){var s=o.resolve(void 0);a=function(){s.then(f)}}else a=function(){r.call(n,f)};else{var l=!0,h=document.createTextNode(\"\");new e(f).observe(h,{characterData:!0}),a=function(){h.data=l=!l}}return function(n){var r={fn:n,next:void 0};c&&(c.next=r),t||(t=r,a()),c=r}}},\"28UD\":function(module,exports,t){\"use strict\";var n=t(\"JVqh\"),r=t(\"Dyaa\"),e=t(\"Zznq\"),i=t(\"kzbW\")(\"species\");module.exports=function(t){var o=n[t];e&&o&&!o[i]&&r.f(o,i,{configurable:!0,get:function(){return this}})}},\"2LKT\":function(module,exports){var t=Math.ceil,n=Math.floor;module.exports=function(r){return isNaN(r=+r)?0:(r>0?n:t)(r)}},\"2a3C\":function(module,exports,t){\"use strict\";var n=t(\"DWPK\"),r=t(\"ni3+\")(2);n(n.P+n.F*!t(\"YKEf\")([].filter,!0),\"Array\",{filter:function filter(t){return r(this,t,arguments[1])}})},\"2b/P\":function(module,exports,t){var n=t(\"DWPK\");n(n.S,\"Math\",{trunc:function trunc(t){return(t>0?Math.floor:Math.ceil)(t)}})},\"2wQ8\":function(module,exports,t){var n=t(\"DWPK\");n(n.P,\"Array\",{fill:t(\"jSlo\")}),t(\"dnGy\")(\"fill\")},\"34zd\":function(module,exports,t){\"use strict\";var n=t(\"DWPK\"),r=t(\"tGBs\"),e=t(\"joU+\"),i=1..toPrecision;n(n.P+n.F*(r(function(){return\"1\"!==i.call(1,void 0)})||!r(function(){i.call({})})),\"Number\",{toPrecision:function toPrecision(t){var n=e(this,\"Number#toPrecision: incorrect invocation!\");return void 0===t?i.call(n):i.call(n,t)}})},3517:function(module,exports,t){var n=t(\"DWPK\"),r=t(\"sDyz\"),e=Math.sqrt,i=Math.acosh;n(n.S+n.F*!(i&&710==Math.floor(i(Number.MAX_VALUE))&&i(1/0)==1/0),\"Math\",{acosh:function acosh(t){return(t=+t)<1?NaN:t>94906265.62425156?Math.log(t)+Math.LN2:r(t-1+e(t-1)*e(t+1))}})},\"36VY\":function(module,exports){var t={}.toString;module.exports=function(n){return t.call(n).slice(8,-1)}},\"3OvE\":function(module,exports,t){\"use strict\";t(\"NgGn\");var n=t(\"Qu47\"),r=t(\"xmnv\"),e=t(\"Zznq\"),i=\"toString\",o=/./.toString,u=function(n){t(\"vUcD\")(RegExp.prototype,i,n,!0)};t(\"tGBs\")(function(){return\"/a/b\"!=o.call({source:\"a\",flags:\"b\"})})?u(function toString(){var t=n(this);return\"/\".concat(t.source,\"/\",\"flags\"in t?t.flags:!e&&t instanceof RegExp?r.call(t):void 0)}):o.name!=i&&u(function toString(){return o.call(this)})},\"3eQ6\":function(module,exports,t){var n=t(\"DWPK\");n(n.S,\"Date\",{now:function(){return(new Date).getTime()}})},\"3ynm\":function(module,exports,t){t(\"Y5dT\")(\"getOwnPropertyNames\",function(){return t(\"7EdP\").f})},\"4DiU\":function(module,exports){exports.f=Object.getOwnPropertySymbols},\"4HBL\":function(module,exports,t){var n=t(\"DWPK\"),r=t(\"oDZx\");n(n.S,\"Math\",{cbrt:function cbrt(t){return r(t=+t)*Math.pow(Math.abs(t),1/3)}})},\"4Iya\":function(module,exports,t){var n=t(\"Ot4O\");module.exports=function(t,r,e){if(n(t),void 0===r)return t;switch(e){case 1:return function(n){return t.call(r,n)};case 2:return function(n,e){return t.call(r,n,e)};case 3:return function(n,e,i){return t.call(r,n,e,i)}}return function(){return t.apply(r,arguments)}}},\"4XWU\":function(module,exports,t){var n=t(\"DWPK\"),r=t(\"tQbs\");n(n.S+n.F*(Number.parseFloat!=r),\"Number\",{parseFloat:r})},\"4aZR\":function(module,exports,t){\"use strict\";var n=t(\"Qu47\"),r=t(\"WNFN\"),e=t(\"mwxG\"),i=t(\"5by1\");t(\"68oU\")(\"match\",1,function(t,o,u,c){return[function match(n){var r=t(this),e=null==n?void 0:n[o];return void 0!==e?e.call(n,r):new RegExp(n)[o](String(r))},function(t){var o=c(u,t,this);if(o.done)return o.value;var a=n(t),f=String(this);if(!a.global)return i(a,f);var s=a.unicode;a.lastIndex=0;for(var l=[],h=0,p;null!==(p=i(a,f));){var v=String(p[0]);l[h]=v,\"\"===v&&(a.lastIndex=e(f,r(a.lastIndex),s)),h++}return 0===h?null:l}]})},\"4kXJ\":function(module,exports,t){t(\"28UD\")(\"Array\")},\"4rAR\":function(module,exports){module.exports=function(t,n,r){var e=void 0===r;switch(n.length){case 0:return e?t():t.call(r);case 1:return e?t(n[0]):t.call(r,n[0]);case 2:return e?t(n[0],n[1]):t.call(r,n[0],n[1]);case 3:return e?t(n[0],n[1],n[2]):t.call(r,n[0],n[1],n[2]);case 4:return e?t(n[0],n[1],n[2],n[3]):t.call(r,n[0],n[1],n[2],n[3])}return t.apply(r,n)}},\"55Il\":function(module,exports,t){\"use strict\";t(\"g2aq\");var n=_interopRequireDefault(t(\"HZ8G\"));function _interopRequireDefault(t){return t&&t.__esModule?t:{default:t}}n.default._babelPolyfill&&\"undefined\"!=typeof console&&console.warn&&console.warn(\"@babel/polyfill is loaded more than once on this page. This is probably not desirable/intended and may have consequences if different versions of the polyfills are applied sequentially. If you do need to load the polyfill more than once, use @babel/polyfill/noConflict instead to bypass the warning.\"),n.default._babelPolyfill=!0},\"5by1\":function(module,exports,t){\"use strict\";var n=t(\"6GDU\"),r=RegExp.prototype.exec;module.exports=function(t,e){var i=t.exec;if(\"function\"==typeof i){var o=i.call(t,e);if(\"object\"!=typeof o)throw new TypeError(\"RegExp exec method returned something other than an Object or null\");return o}if(\"RegExp\"!==n(t))throw new TypeError(\"RegExp#exec called on incompatible receiver\");return r.call(t,e)}},\"5dpQ\":function(module,exports,t){\"use strict\";var n=t(\"DWPK\"),r=t(\"N/80\"),e=t(\"G/tI\");n(n.P+n.F*t(\"tGBs\")(function(){return null!==new Date(NaN).toJSON()||1!==Date.prototype.toJSON.call({toISOString:function(){return 1}})}),\"Date\",{toJSON:function toJSON(t){var n=r(this),i=e(n);return\"number\"!=typeof i||isFinite(i)?n.toISOString():null}})},\"5gM1\":function(module,exports,t){var n=t(\"vUcD\");module.exports=function(t,r,e){for(var i in r)n(t,i,r[i],e);return t}},\"5rU/\":function(module,exports,t){var n=t(\"DWPK\"),r=Math.imul;n(n.S+n.F*t(\"tGBs\")(function(){return-5!=r(4294967295,5)||2!=r.length}),\"Math\",{imul:function imul(t,n){var r=65535,e=+t,i=+n,o=65535&e,u=65535&i;return 0|o*u+((65535&e>>>16)*u+o*(65535&i>>>16)<<16>>>0)}})},\"68oU\":function(module,exports,t){\"use strict\";t(\"OolG\");var n=t(\"vUcD\"),r=t(\"w/rr\"),e=t(\"tGBs\"),i=t(\"Z0RU\"),o=t(\"kzbW\"),u=t(\"EsFs\"),c=o(\"species\"),a=!e(function(){var t=/./;return t.exec=function(){var t=[];return t.groups={a:\"7\"},t},\"7\"!==\"\".replace(t,\"$<a>\")}),f=function(){var t=/(?:)/,n=t.exec;t.exec=function(){return n.apply(this,arguments)};var r=\"ab\".split(t);return 2===r.length&&\"a\"===r[0]&&\"b\"===r[1]}();module.exports=function(t,s,l){var h=o(t),p=!e(function(){var n={};return n[h]=function(){return 7},7!=\"\"[t](n)}),v=p?!e(function(){var n=!1,r=/a/;return r.exec=function(){return n=!0,null},\"split\"===t&&(r.constructor={},r.constructor[c]=function(){return r}),r[h](\"\"),!n}):void 0;if(!p||!v||\"replace\"===t&&!a||\"split\"===t&&!f){var y=/./[h],d=l(i,h,\"\"[t],function maybeCallNative(t,n,r,e,i){if(n.exec===u){if(p&&!i)return{done:!0,value:y.call(n,r,e)};return{done:!0,value:t.call(r,n,e)}}return{done:!1}}),g=d[0],x=d[1];n(String.prototype,t,g),r(RegExp.prototype,h,2==s?function(t,n){return x.call(t,this,n)}:function(t){return x.call(t,this)})}}},\"6GDU\":function(module,exports,t){var n=t(\"36VY\"),r=t(\"kzbW\")(\"toStringTag\"),e=\"Arguments\"==n(function(){return arguments}()),i=function(t,n){try{return t[n]}catch(t){}};module.exports=function(t){var o,u,c;return void 0===t?\"Undefined\":null===t?\"Null\":\"string\"==typeof(u=i(o=Object(t),r))?u:e?n(o):\"Object\"==(c=n(o))&&\"function\"==typeof o.callee?\"Arguments\":c}},\"6gX+\":function(module,exports,t){var n=t(\"mieu\"),r=t(\"FUuU\"),e=t(\"zrYH\"),i=t(\"G/tI\"),o=t(\"fjOf\"),u=t(\"6ihu\"),c=Object.getOwnPropertyDescriptor;exports.f=t(\"Zznq\")?c:function getOwnPropertyDescriptor(t,a){if(t=e(t),a=i(a,!0),u)try{return c(t,a)}catch(t){}if(o(t,a))return r(!n.f.call(t,a),t[a])}},\"6ihu\":function(module,exports,t){module.exports=!t(\"Zznq\")&&!t(\"tGBs\")(function(){return 7!=Object.defineProperty(t(\"JVFS\")(\"div\"),\"a\",{get:function(){return 7}}).a})},\"6pvA\":function(module,exports,t){var n=t(\"JVqh\"),r=t(\"iHyg\"),e=t(\"Dyaa\").f,i=t(\"mTtQ\").f,o=t(\"FprW\"),u=t(\"xmnv\"),c=n.RegExp,a=c,f=c.prototype,s=/a/g,l=/a/g,h=new c(s)!==s;if(t(\"Zznq\")&&(!h||t(\"tGBs\")(function(){return l[t(\"kzbW\")(\"match\")]=!1,c(s)!=s||c(l)==l||\"/a/i\"!=c(s,\"i\")}))){c=function RegExp(t,n){var e=this instanceof c,i=o(t),s=void 0===n;return!e&&i&&t.constructor===c&&s?t:r(h?new a(i&&!s?t.source:t,n):a((i=t instanceof c)?t.source:t,i&&s?u.call(t):n),e?this:f,c)};for(var p=function(t){t in c||e(c,t,{configurable:!0,get:function(){return a[t]},set:function(n){a[t]=n}})},v=i(a),y=0;v.length>y;)p(v[y++]);f.constructor=c,c.prototype=f,t(\"vUcD\")(n,\"RegExp\",c)}t(\"28UD\")(\"RegExp\")},\"6vOc\":function(module,exports,t){\"use strict\";var n=t(\"DWPK\"),r=t(\"ZeU4\"),e=t(\"N/80\"),i=t(\"WNFN\"),o=t(\"dIDi\"),u=t(\"EM9/\");n(n.P,\"Array\",{flatMap:function flatMap(t){var n=e(this),c,a;return o(t),c=i(n.length),a=u(n,0),r(a,n,n,c,0,1,t,arguments[1]),a}}),t(\"dnGy\")(\"flatMap\")},\"74pp\":function(module,exports,t){var n=function(exports){\"use strict\";var t=Object.prototype,n=t.hasOwnProperty,r,e=\"function\"==typeof Symbol?Symbol:{},i=e.iterator||\"@@iterator\",o=e.asyncIterator||\"@@asyncIterator\",u=e.toStringTag||\"@@toStringTag\";function define(t,n,r){return Object.defineProperty(t,n,{value:r,enumerable:!0,configurable:!0,writable:!0}),t[n]}try{define({},\"\")}catch(t){define=function(t,n,r){return t[n]=r}}function wrap(t,n,r,e){var i=n&&n.prototype instanceof Generator?n:Generator,o=Object.create(i.prototype),u=new Context(e||[]);return o._invoke=makeInvokeMethod(t,r,u),o}function tryCatch(t,n,r){try{return{type:\"normal\",arg:t.call(n,r)}}catch(t){return{type:\"throw\",arg:t}}}exports.wrap=wrap;var c=\"suspendedStart\",a=\"suspendedYield\",f=\"executing\",s=\"completed\",l={};function Generator(){}function GeneratorFunction(){}function GeneratorFunctionPrototype(){}var h={};h[i]=function(){return this};var p=Object.getPrototypeOf,v=p&&p(p(values([])));v&&v!==t&&n.call(v,i)&&(h=v);var y=GeneratorFunctionPrototype.prototype=Generator.prototype=Object.create(h);function defineIteratorMethods(t){[\"next\",\"throw\",\"return\"].forEach(function(n){define(t,n,function(t){return this._invoke(n,t)})})}function AsyncIterator(t,r){function invoke(e,i,o,u){var c=tryCatch(t[e],t,i);if(\"throw\"!==c.type){var a=c.arg,f=a.value;if(f&&\"object\"==typeof f&&n.call(f,\"__await\"))return r.resolve(f.__await).then(function(t){invoke(\"next\",t,o,u)},function(t){invoke(\"throw\",t,o,u)});return r.resolve(f).then(function(t){a.value=t,o(a)},function(t){return invoke(\"throw\",t,o,u)})}u(c.arg)}var e;function enqueue(t,n){function callInvokeWithMethodAndArg(){return new r(function(r,e){invoke(t,n,r,e)})}return e=e?e.then(callInvokeWithMethodAndArg,callInvokeWithMethodAndArg):callInvokeWithMethodAndArg()}this._invoke=enqueue}function makeInvokeMethod(t,n,r){var e=c;return function invoke(i,o){if(e===f)throw new Error(\"Generator is already running\");if(e===s){if(\"throw\"===i)throw o;return doneResult()}for(r.method=i,r.arg=o;;){var u=r.delegate;if(u){var h=maybeInvokeDelegate(u,r);if(h){if(h===l)continue;return h}}if(\"next\"===r.method)r.sent=r._sent=r.arg;else if(\"throw\"===r.method){if(e===c)throw e=s,r.arg;r.dispatchException(r.arg)}else\"return\"===r.method&&r.abrupt(\"return\",r.arg);e=f;var p=tryCatch(t,n,r);if(\"normal\"===p.type){if(e=r.done?s:a,p.arg===l)continue;return{value:p.arg,done:r.done}}\"throw\"===p.type&&(e=s,r.method=\"throw\",r.arg=p.arg)}}}function maybeInvokeDelegate(t,n){var e=t.iterator[n.method];if(e===r){if(n.delegate=null,\"throw\"===n.method){if(t.iterator.return&&(n.method=\"return\",n.arg=r,maybeInvokeDelegate(t,n),\"throw\"===n.method))return l;n.method=\"throw\",n.arg=new TypeError(\"The iterator does not provide a 'throw' method\")}return l}var i=tryCatch(e,t.iterator,n.arg);if(\"throw\"===i.type)return n.method=\"throw\",n.arg=i.arg,n.delegate=null,l;var o=i.arg;if(!o)return n.method=\"throw\",n.arg=new TypeError(\"iterator result is not an object\"),n.delegate=null,l;if(!o.done)return o;return n[t.resultName]=o.value,n.next=t.nextLoc,\"return\"!==n.method&&(n.method=\"next\",n.arg=r),n.delegate=null,l}function pushTryEntry(t){var n={tryLoc:t[0]};1 in t&&(n.catchLoc=t[1]),2 in t&&(n.finallyLoc=t[2],n.afterLoc=t[3]),this.tryEntries.push(n)}function resetTryEntry(t){var n=t.completion||{};n.type=\"normal\",delete n.arg,t.completion=n}function Context(t){this.tryEntries=[{tryLoc:\"root\"}],t.forEach(pushTryEntry,this),this.reset(!0)}function values(t){if(t){var e=t[i];if(e)return e.call(t);if(\"function\"==typeof t.next)return t;if(!isNaN(t.length)){var o=-1,u=function next(){for(;++o<t.length;)if(n.call(t,o))return next.value=t[o],next.done=!1,next;return next.value=r,next.done=!0,next};return u.next=u}}return{next:doneResult}}function doneResult(){return{value:r,done:!0}}return GeneratorFunction.prototype=y.constructor=GeneratorFunctionPrototype,GeneratorFunctionPrototype.constructor=GeneratorFunction,GeneratorFunction.displayName=define(GeneratorFunctionPrototype,u,\"GeneratorFunction\"),exports.isGeneratorFunction=function(t){var n=\"function\"==typeof t&&t.constructor;return!!n&&(n===GeneratorFunction||\"GeneratorFunction\"===(n.displayName||n.name))},exports.mark=function(t){return Object.setPrototypeOf?Object.setPrototypeOf(t,GeneratorFunctionPrototype):(t.__proto__=GeneratorFunctionPrototype,define(t,u,\"GeneratorFunction\")),t.prototype=Object.create(y),t},exports.awrap=function(t){return{__await:t}},defineIteratorMethods(AsyncIterator.prototype),AsyncIterator.prototype[o]=function(){return this},exports.AsyncIterator=AsyncIterator,exports.async=function(t,n,r,e,i){void 0===i&&(i=Promise);var o=new AsyncIterator(wrap(t,n,r,e),i);return exports.isGeneratorFunction(n)?o:o.next().then(function(t){return t.done?t.value:o.next()})},defineIteratorMethods(y),define(y,u,\"Generator\"),y[i]=function(){return this},y.toString=function(){return\"[object Generator]\"},exports.keys=function(t){var n=[];for(var r in t)n.push(r);return n.reverse(),function next(){for(;n.length;){var r=n.pop();if(r in t)return next.value=r,next.done=!1,next}return next.done=!0,next}},exports.values=values,Context.prototype={constructor:Context,reset:function(t){if(this.prev=0,this.next=0,this.sent=this._sent=r,this.done=!1,this.delegate=null,this.method=\"next\",this.arg=r,this.tryEntries.forEach(resetTryEntry),!t)for(var e in this)\"t\"===e.charAt(0)&&n.call(this,e)&&!isNaN(+e.slice(1))&&(this[e]=r)},stop:function(){this.done=!0;var t,n=this.tryEntries[0].completion;if(\"throw\"===n.type)throw n.arg;return this.rval},dispatchException:function(t){if(this.done)throw t;var e=this;function handle(n,i){return u.type=\"throw\",u.arg=t,e.next=n,i&&(e.method=\"next\",e.arg=r),!!i}for(var i=this.tryEntries.length-1;i>=0;--i){var o=this.tryEntries[i],u=o.completion;if(\"root\"===o.tryLoc)return handle(\"end\");if(o.tryLoc<=this.prev){var c=n.call(o,\"catchLoc\"),a=n.call(o,\"finallyLoc\");if(c&&a){if(this.prev<o.catchLoc)return handle(o.catchLoc,!0);if(this.prev<o.finallyLoc)return handle(o.finallyLoc)}else if(c){if(this.prev<o.catchLoc)return handle(o.catchLoc,!0)}else{if(!a)throw new Error(\"try statement without catch or finally\");if(this.prev<o.finallyLoc)return handle(o.finallyLoc)}}}},abrupt:function(t,r){for(var e=this.tryEntries.length-1;e>=0;--e){var i=this.tryEntries[e];if(i.tryLoc<=this.prev&&n.call(i,\"finallyLoc\")&&this.prev<i.finallyLoc){var o=i;break}}o&&(\"break\"===t||\"continue\"===t)&&o.tryLoc<=r&&r<=o.finallyLoc&&(o=null);var u=o?o.completion:{};if(u.type=t,u.arg=r,o)return this.method=\"next\",this.next=o.finallyLoc,l;return this.complete(u)},complete:function(t,n){if(\"throw\"===t.type)throw t.arg;return\"break\"===t.type||\"continue\"===t.type?this.next=t.arg:\"return\"===t.type?(this.rval=this.arg=t.arg,this.method=\"return\",this.next=\"end\"):\"normal\"===t.type&&n&&(this.next=n),l},finish:function(t){for(var n=this.tryEntries.length-1;n>=0;--n){var r=this.tryEntries[n];if(r.finallyLoc===t)return this.complete(r.completion,r.afterLoc),resetTryEntry(r),l}},catch:function(t){for(var n=this.tryEntries.length-1;n>=0;--n){var r=this.tryEntries[n];if(r.tryLoc===t){var e=r.completion;if(\"throw\"===e.type){var i=e.arg;resetTryEntry(r)}return i}}throw new Error(\"illegal catch attempt\")},delegateYield:function(t,n,e){return this.delegate={iterator:values(t),resultName:n,nextLoc:e},\"next\"===this.method&&(this.arg=r),l}},exports}(module.exports);try{regeneratorRuntime=n}catch(t){Function(\"r\",\"regeneratorRuntime = r\")(n)}},\"77vC\":function(module,exports,t){\"use strict\";var n=t(\"DWPK\"),r=t(\"2LKT\"),e=t(\"joU+\"),i=t(\"bYli\"),o=1..toFixed,u=Math.floor,c=[0,0,0,0,0,0],a=\"Number.toFixed: incorrect invocation!\",f=\"0\",s=function(t,n){for(var r=-1,e=n;++r<6;)e+=t*c[r],c[r]=e%1e7,e=u(e/1e7)},l=function(t){for(var n=6,r=0;--n>=0;)r+=c[n],c[n]=u(r/t),r=r%t*1e7},h=function(){for(var t=6,n=\"\";--t>=0;)if(\"\"!==n||0===t||0!==c[t]){var r=String(c[t]);n=\"\"===n?r:n+i.call(\"0\",7-r.length)+r}return n},p=function(t,n,r){return 0===n?r:n%2==1?p(t,n-1,r*t):p(t*t,n/2,r)},v=function(t){for(var n=0,r=t;r>=4096;)n+=12,r/=4096;for(;r>=2;)n+=1,r/=2;return n};n(n.P+n.F*(!!o&&(\"0.000\"!==8e-5.toFixed(3)||\"1\"!==.9.toFixed(0)||\"1.25\"!==1.255.toFixed(2)||\"1000000000000000128\"!==(0xde0b6b3a7640080).toFixed(0))||!t(\"tGBs\")(function(){o.call({})})),\"Number\",{toFixed:function toFixed(t){var n=e(this,a),o=r(t),u=\"\",c=\"0\",f,y,d,g;if(o<0||o>20)throw RangeError(a);if(n!=n)return\"NaN\";if(n<=-1e21||n>=1e21)return String(n);if(n<0&&(u=\"-\",n=-n),n>1e-21)if(y=(f=v(n*p(2,69,1))-69)<0?n*p(2,-f,1):n/p(2,f,1),y*=4503599627370496,(f=52-f)>0){for(s(0,y),d=o;d>=7;)s(1e7,0),d-=7;for(s(p(10,d,1),0),d=f-1;d>=23;)l(1<<23),d-=23;l(1<<d),s(1,1),l(2),c=h()}else s(0,y),s(1<<-f,0),c=h()+i.call(\"0\",o);return c=o>0?u+((g=c.length)<=o?\"0.\"+i.call(\"0\",o-g)+c:c.slice(0,g-o)+\".\"+c.slice(g-o)):u+c}})},\"7CaX\":function(module,exports,t){var n=t(\"dIDi\"),r=t(\"N/80\"),e=t(\"JjXK\"),i=t(\"WNFN\");module.exports=function(t,o,u,c,a){n(o);var f=r(t),s=e(f),l=i(f.length),h=a?l-1:0,p=a?-1:1;if(u<2)for(;;){if(h in s){c=s[h],h+=p;break}if(h+=p,a?h<0:l<=h)throw TypeError(\"Reduce of empty array with no initial value\")}for(;a?h>=0:l>h;h+=p)h in s&&(c=o(c,s[h],h,f));return c}},\"7EdP\":function(module,exports,t){var n=t(\"zrYH\"),r=t(\"mTtQ\").f,e={}.toString,i=\"object\"==typeof window&&window&&Object.getOwnPropertyNames?Object.getOwnPropertyNames(window):[],o=function(t){try{return r(t)}catch(t){return i.slice()}};module.exports.f=function getOwnPropertyNames(t){return i&&\"[object Window]\"==e.call(t)?o(t):r(n(t))}},\"7LQb\":function(module,exports,t){var n=t(\"DWPK\"),r=t(\"rQa1\"),e=t(\"Qu47\");n(n.S,\"Reflect\",{getPrototypeOf:function getPrototypeOf(t){return r(e(t))}})},\"7Q1/\":function(module,exports,t){var n=t(\"zflD\");t(\"Y5dT\")(\"isExtensible\",function(t){return function isExtensible(r){return!!n(r)&&(!t||t(r))}})},\"7jgA\":function(module,exports,t){\"use strict\";t(\"x8E3\")(\"fixed\",function(t){return function fixed(){return t(this,\"tt\",\"\",\"\")}})},\"7xV1\":function(module,exports,t){var n=t(\"JVqh\").document;module.exports=n&&n.documentElement},\"89Eb\":function(module,exports,t){var n=t(\"zrYH\"),r=t(\"6gX+\").f;t(\"Y5dT\")(\"getOwnPropertyDescriptor\",function(){return function getOwnPropertyDescriptor(t,e){return r(n(t),e)}})},\"8CZx\":function(module,exports){var t={}.hasOwnProperty;module.exports=function(n,r){return t.call(n,r)}},\"8njo\":function(module,exports,t){\"use strict\";t(\"x8E3\")(\"big\",function(t){return function big(){return t(this,\"big\",\"\",\"\")}})},\"9Jp3\":function(module,exports,t){var n=t(\"FprW\"),r=t(\"Z0RU\");module.exports=function(t,e,i){if(n(e))throw TypeError(\"String#\"+i+\" doesn't accept regex!\");return String(r(t))}},\"9yug\":function(module,exports){module.exports=function(t,n){return{enumerable:!(1&t),configurable:!(2&t),writable:!(4&t),value:n}}},A2UN:function(module,exports,t){var n=t(\"DWPK\"),r=t(\"cL59\");n(n.G+n.F*(parseInt!=r),{parseInt:r})},A3Cj:function(module,exports,t){var n=t(\"DWPK\");n(n.S,\"Math\",{log10:function log10(t){return Math.log(t)*Math.LOG10E}})},ASTP:function(module,exports,t){var n=t(\"DWPK\"),r=t(\"q4wH\");n(n.P+n.F*(Date.prototype.toISOString!==r),\"Date\",{toISOString:r})},ASus:function(module,exports,t){t(\"vdVM\"),module.exports=t(\"oG9l\").Object.entries},AtP2:function(module,exports,t){\"use strict\";var n=t(\"DWPK\"),r=t(\"Qu47\"),e=function(t){this._t=r(t),this._i=0;var n=this._k=[],e;for(e in t)n.push(e)};t(\"YPqZ\")(e,\"Object\",function(){var t=this,n=this._k,r;do{if(this._i>=n.length)return{value:void 0,done:!0}}while(!((r=n[this._i++])in this._t));return{value:r,done:!1}}),n(n.S,\"Reflect\",{enumerate:function enumerate(t){return new e(t)}})},BFEg:function(module,exports,t){t(\"kz6D\")(\"Int16\",2,function(t){return function Int16Array(n,r,e){return t(this,n,r,e)}})},\"Ba+H\":function(module,exports,t){var n=t(\"DWPK\"),r=t(\"UazY\"),e=String.fromCharCode,i=String.fromCodePoint;n(n.S+n.F*(!!i&&1!=i.length),\"String\",{fromCodePoint:function fromCodePoint(t){for(var n=[],i=arguments.length,o=0,u;i>o;){if(u=+arguments[o++],r(u,1114111)!==u)throw RangeError(u+\" is not a valid code point\");n.push(u<65536?e(u):e(55296+((u-=65536)>>10),u%1024+56320))}return n.join(\"\")}})},Cn39:function(module,exports,t){var n=t(\"Qu47\"),r=t(\"dIDi\"),e=t(\"kzbW\")(\"species\");module.exports=function(t,i){var o=n(t).constructor,u;return void 0===o||null==(u=n(o)[e])?i:r(u)}},\"DFK/\":function(module,exports,t){t(\"kz6D\")(\"Float64\",8,function(t){return function Float64Array(n,r,e){return t(this,n,r,e)}})},DWPK:function(module,exports,t){var n=t(\"JVqh\"),r=t(\"oG9l\"),e=t(\"w/rr\"),i=t(\"vUcD\"),o=t(\"1AGL\"),u=\"prototype\",c=function(t,u,a){var f=t&c.F,s=t&c.G,l=t&c.S,h=t&c.P,p=t&c.B,v=s?n:l?n[u]||(n[u]={}):(n[u]||{}).prototype,exports=s?r:r[u]||(r[u]={}),y=exports.prototype||(exports.prototype={}),d,g,x,m;for(d in s&&(a=u),a)x=((g=!f&&v&&void 0!==v[d])?v:a)[d],m=p&&g?o(x,n):h&&\"function\"==typeof x?o(Function.call,x):x,v&&i(v,d,x,t&c.U),exports[d]!=x&&e(exports,d,m),h&&y[d]!=x&&(y[d]=x)};n.core=r,c.F=1,c.G=2,c.S=4,c.P=8,c.B=16,c.W=32,c.U=64,c.R=128,module.exports=c},DxP2:function(module,exports,t){var n=t(\"zflD\"),r=t(\"ve2U\").onFreeze;t(\"Y5dT\")(\"seal\",function(t){return function seal(e){return t&&n(e)?t(r(e)):e}})},Dyaa:function(module,exports,t){var n=t(\"Qu47\"),r=t(\"6ihu\"),e=t(\"G/tI\"),i=Object.defineProperty;exports.f=t(\"Zznq\")?Object.defineProperty:function defineProperty(t,o,u){if(n(t),o=e(o,!0),n(u),r)try{return i(t,o,u)}catch(t){}if(\"get\"in u||\"set\"in u)throw TypeError(\"Accessors not supported!\");return\"value\"in u&&(t[o]=u.value),t}},\"EM9/\":function(module,exports,t){var n=t(\"Nq1z\");module.exports=function(t,r){return new(n(t))(r)}},EsFs:function(module,exports,t){\"use strict\";var n=t(\"xmnv\"),r=RegExp.prototype.exec,e=String.prototype.replace,i=r,o=\"lastIndex\",u=(c=/a/,a=/b*/g,r.call(c,\"a\"),r.call(a,\"a\"),0!==c.lastIndex||0!==a.lastIndex),c,a,f=void 0!==/()??/.exec(\"\")[1],s;(u||f)&&(i=function exec(t){var i=this,o,c,a,s;return f&&(c=new RegExp(\"^\"+i.source+\"$(?!\\\\s)\",n.call(i))),u&&(o=i.lastIndex),a=r.call(i,t),u&&a&&(i.lastIndex=i.global?a.index+a[0].length:o),f&&a&&a.length>1&&e.call(a[0],c,function(){for(s=1;s<arguments.length-2;s++)void 0===arguments[s]&&(a[s]=void 0)}),a}),module.exports=i},F7Lc:function(module,exports,t){var n=t(\"JVqh\"),r=t(\"oG9l\"),e=t(\"O3e3\"),i=t(\"WjCL\"),o=t(\"Dyaa\").f;module.exports=function(t){var u=r.Symbol||(r.Symbol=e?{}:n.Symbol||{});\"_\"==t.charAt(0)||t in u||o(u,t,{value:i.f(t)})}},FFU9:function(module,exports,t){t(\"K3qC\"),module.exports=t(\"oG9l\").String.trimLeft},FPvN:function(module,exports,t){var n=t(\"HCPL\");n(n.G,{global:t(\"04zb\")})},FUuU:function(module,exports){module.exports=function(t,n){return{enumerable:!(1&t),configurable:!(2&t),writable:!(4&t),value:n}}},FmN5:function(module,exports,t){var n=t(\"DWPK\");n(n.P,\"String\",{repeat:t(\"bYli\")})},FprW:function(module,exports,t){var n=t(\"zflD\"),r=t(\"36VY\"),e=t(\"kzbW\")(\"match\");module.exports=function(t){var i;return n(t)&&(void 0!==(i=t[e])?!!i:\"RegExp\"==r(t))}},Fu6m:function(module,exports,t){t(\"gmcd\"),module.exports=t(\"oG9l\").String.trimRight},\"G/tI\":function(module,exports,t){var n=t(\"zflD\");module.exports=function(t,r){if(!n(t))return t;var e,i;if(r&&\"function\"==typeof(e=t.toString)&&!n(i=e.call(t)))return i;if(\"function\"==typeof(e=t.valueOf)&&!n(i=e.call(t)))return i;if(!r&&\"function\"==typeof(e=t.toString)&&!n(i=e.call(t)))return i;throw TypeError(\"Can't convert object to primitive value\")}},\"G7i+\":function(module,exports,t){\"use strict\";var n=t(\"DWPK\"),r=t(\"dIDi\"),e=t(\"N/80\"),i=t(\"tGBs\"),o=[].sort,u=[1,2,3];n(n.P+n.F*(i(function(){u.sort(void 0)})||!i(function(){u.sort(null)})||!t(\"YKEf\")(o)),\"Array\",{sort:function sort(t){return void 0===t?o.call(e(this)):o.call(e(this),r(t))}})},\"Gi1/\":function(module,exports,t){\"use strict\";var n=t(\"zflD\"),r=t(\"rQa1\"),e=t(\"kzbW\")(\"hasInstance\"),i=Function.prototype;e in i||t(\"Dyaa\").f(i,e,{value:function(t){if(\"function\"!=typeof this||!n(t))return!1;if(!n(this.prototype))return t instanceof this;for(;t=r(t);)if(this.prototype===t)return!0;return!1}})},GrJa:function(module,exports,t){\"use strict\";t(\"x8E3\")(\"bold\",function(t){return function bold(){return t(this,\"b\",\"\",\"\")}})},GrOG:function(module,exports,t){var n=t(\"Dyaa\").f,r=Function.prototype,e=/^\\s*function ([^ (]*)/,i=\"name\";i in r||t(\"Zznq\")&&n(r,i,{configurable:!0,get:function(){try{return(\"\"+this).match(e)[1]}catch(t){return\"\"}}})},H9Ff:function(module,exports,t){var n=t(\"mTtQ\"),r=t(\"4DiU\"),e=t(\"Qu47\"),i=t(\"JVqh\").Reflect;module.exports=i&&i.ownKeys||function ownKeys(t){var i=n.f(e(t)),o=r.f;return o?i.concat(o(t)):i}},HCPL:function(module,exports,t){var n=t(\"04zb\"),r=t(\"b1R4\"),e=t(\"4Iya\"),i=t(\"+M5X\"),o=t(\"8CZx\"),u=\"prototype\",c=function(t,u,a){var f=t&c.F,s=t&c.G,l=t&c.S,h=t&c.P,p=t&c.B,v=t&c.W,exports=s?r:r[u]||(r[u]={}),y=exports.prototype,d=s?n:l?n[u]:(n[u]||{}).prototype,g,x,m;for(g in s&&(a=u),a){if((x=!f&&d&&void 0!==d[g])&&o(exports,g))continue;m=x?d[g]:a[g],exports[g]=s&&\"function\"!=typeof d[g]?a[g]:p&&x?e(m,n):v&&d[g]==m?function(t){var n=function(n,r,e){if(this instanceof t){switch(arguments.length){case 0:return new t;case 1:return new t(n);case 2:return new t(n,r)}return new t(n,r,e)}return t.apply(this,arguments)};return n.prototype=t.prototype,n}(m):h&&\"function\"==typeof m?e(Function.call,m):m,h&&((exports.virtual||(exports.virtual={}))[g]=m,t&c.R&&y&&!y[g]&&i(y,g,m))}};c.F=1,c.G=2,c.S=4,c.P=8,c.B=16,c.W=32,c.U=64,c.R=128,module.exports=c},HMPH:function(module,exports,t){\"use strict\";var n=t(\"DWPK\"),r=t(\"WNFN\"),e=t(\"9Jp3\"),i=\"startsWith\",o=\"\".startsWith;n(n.P+n.F*t(\"nsg3\")(i),\"String\",{startsWith:function startsWith(t){var n=e(this,t,i),u=r(Math.min(arguments.length>1?arguments[1]:void 0,n.length)),c=String(t);return o?o.call(n,c,u):n.slice(u,u+c.length)===c}})},HW6H:function(module,exports,t){var n=t(\"DWPK\");n(n.S,\"Math\",{fround:t(\"RqNq\")})},HY6u:function(module,exports,t){\"use strict\";var n=t(\"JVqh\"),r=t(\"ni3+\")(0),e=t(\"vUcD\"),i=t(\"ve2U\"),o=t(\"Tcbs\"),u=t(\"Kcti\"),c=t(\"zflD\"),a=t(\"OI3s\"),f=t(\"OI3s\"),s=!n.ActiveXObject&&\"ActiveXObject\"in n,l=\"WeakMap\",h=i.getWeak,p=Object.isExtensible,v=u.ufstore,y,d=function(t){return function WeakMap(){return t(this,arguments.length>0?arguments[0]:void 0)}},g={get:function get(t){if(c(t)){var n=h(t);if(!0===n)return v(a(this,l)).get(t);return n?n[this._i]:void 0}},set:function set(t,n){return u.def(a(this,l),t,n)}},x=module.exports=t(\"rvbA\")(l,d,g,u,!0,!0);f&&s&&(o((y=u.getConstructor(d,l)).prototype,g),i.NEED=!0,r([\"delete\",\"has\",\"get\",\"set\"],function(t){var n=x.prototype,r=n[t];e(n,t,function(n,e){if(c(n)&&!p(n)){this._f||(this._f=new y);var i=this._f[t](n,e);return\"set\"==t?this:i}return r.call(this,n,e)})}))},HZ8G:function(module,exports,t){t(\"FPvN\"),module.exports=t(\"b1R4\").global},IDWI:function(module,exports,t){var n=t(\"Dyaa\"),r=t(\"Qu47\"),e=t(\"t+KX\");module.exports=t(\"Zznq\")?Object.defineProperties:function defineProperties(t,i){r(t);for(var o=e(i),u=o.length,c=0,a;u>c;)n.f(t,a=o[c++],i[a]);return t}},IPlS:function(module,exports,t){var n=t(\"DWPK\"),r=Math.asinh;function asinh(t){return isFinite(t=+t)&&0!=t?t<0?-asinh(-t):Math.log(t+Math.sqrt(t*t+1)):t}n(n.S+n.F*!(r&&1/r(0)>0),\"Math\",{asinh:asinh})},ISGZ:function(module,exports,t){\"use strict\";t(\"x8E3\")(\"strike\",function(t){return function strike(){return t(this,\"strike\",\"\",\"\")}})},IhuO:function(module,exports,t){\"use strict\";var n=t(\"dnGy\"),r=t(\"Tnkd\"),e=t(\"jS79\"),i=t(\"zrYH\");module.exports=t(\"jTO3\")(Array,\"Array\",function(t,n){this._t=i(t),this._i=0,this._k=n},function(){var t=this._t,n=this._k,e=this._i++;if(!t||e>=t.length)return this._t=void 0,r(1);if(\"keys\"==n)return r(0,e);if(\"values\"==n)return r(0,t[e]);return r(0,[e,t[e]])},\"values\"),e.Arguments=e.Array,n(\"keys\"),n(\"values\"),n(\"entries\")},IjkA:function(module,exports,t){\"use strict\";t(\"x8E3\")(\"fontcolor\",function(t){return function fontcolor(n){return t(this,\"font\",\"color\",n)}})},JVFS:function(module,exports,t){var n=t(\"zflD\"),r=t(\"JVqh\").document,e=n(r)&&n(r.createElement);module.exports=function(t){return e?r.createElement(t):{}}},JVqh:function(module,exports){var t=module.exports=\"undefined\"!=typeof window&&window.Math==Math?window:\"undefined\"!=typeof self&&self.Math==Math?self:Function(\"return this\")();\"number\"==typeof __g&&(__g=t)},JjXK:function(module,exports,t){var n=t(\"36VY\");module.exports=Object(\"z\").propertyIsEnumerable(0)?Object:function(t){return\"String\"==n(t)?t.split(\"\"):Object(t)}},Jqp5:function(module,exports,t){t(\"mCUu\"),t(\"Pmbl\"),t(\"jozP\"),module.exports=t(\"oG9l\")},K3qC:function(module,exports,t){\"use strict\";t(\"uS/t\")(\"trimLeft\",function(t){return function trimLeft(){return t(this,1)}},\"trimStart\")},KIK1:function(module,exports,t){var n=t(\"6gX+\"),r=t(\"DWPK\"),e=t(\"Qu47\");r(r.S,\"Reflect\",{getOwnPropertyDescriptor:function getOwnPropertyDescriptor(t,r){return n.f(e(t),r)}})},KUMS:function(module,exports,t){\"use strict\";var n=t(\"Qu47\"),r=t(\"QVGt\"),e=t(\"5by1\");t(\"68oU\")(\"search\",1,function(t,i,o,u){return[function search(n){var r=t(this),e=null==n?void 0:n[i];return void 0!==e?e.call(n,r):new RegExp(n)[i](String(r))},function(t){var i=u(o,t,this);if(i.done)return i.value;var c=n(t),a=String(this),f=c.lastIndex;r(f,0)||(c.lastIndex=0);var s=e(c,a);return r(c.lastIndex,f)||(c.lastIndex=f),null===s?-1:s.index}]})},Kcti:function(module,exports,t){\"use strict\";var n=t(\"5gM1\"),r=t(\"ve2U\").getWeak,e=t(\"Qu47\"),i=t(\"zflD\"),o=t(\"SxNR\"),u=t(\"MDKO\"),c=t(\"ni3+\"),a=t(\"fjOf\"),f=t(\"OI3s\"),s=c(5),l=c(6),h=0,p=function(t){return t._l||(t._l=new v)},v=function(){this.a=[]},y=function(t,n){return s(t.a,function(t){return t[0]===n})};v.prototype={get:function(t){var n=y(this,t);if(n)return n[1]},has:function(t){return!!y(this,t)},set:function(t,n){var r=y(this,t);r?r[1]=n:this.a.push([t,n])},delete:function(t){var n=l(this.a,function(n){return n[0]===t});return~n&&this.a.splice(n,1),!!~n}},module.exports={getConstructor:function(t,e,c,s){var l=t(function(t,n){o(t,l,e,\"_i\"),t._t=e,t._i=h++,t._l=void 0,null!=n&&u(n,c,t[s],t)});return n(l.prototype,{delete:function(t){if(!i(t))return!1;var n=r(t);if(!0===n)return p(f(this,e)).delete(t);return n&&a(n,this._i)&&delete n[this._i]},has:function has(t){if(!i(t))return!1;var n=r(t);if(!0===n)return p(f(this,e)).has(t);return n&&a(n,this._i)}}),l},def:function(t,n,i){var o=r(e(n),!0);return!0===o?p(t).set(n,i):o[t._i]=i,t},ufstore:p}},Keyd:function(module,exports,t){\"use strict\";t(\"x8E3\")(\"blink\",function(t){return function blink(){return t(this,\"blink\",\"\",\"\")}})},LTpQ:function(module,exports,t){\"use strict\";var n=t(\"DWPK\"),r=t(\"9Jp3\"),e=\"includes\";n(n.P+n.F*t(\"nsg3\")(e),\"String\",{includes:function includes(t){return!!~r(this,t,e).indexOf(t,arguments.length>1?arguments[1]:void 0)}})},LisG:function(module,exports,t){t(\"kz6D\")(\"Float32\",4,function(t){return function Float32Array(n,r,e){return t(this,n,r,e)}})},LjmA:function(module,exports,t){\"use strict\";t(\"uS/t\")(\"trim\",function(t){return function trim(){return t(this,3)}})},LuPx:function(module,exports,t){\"use strict\";var n=t(\"JVqh\"),r=t(\"fjOf\"),e=t(\"36VY\"),i=t(\"iHyg\"),o=t(\"G/tI\"),u=t(\"tGBs\"),c=t(\"mTtQ\").f,a=t(\"6gX+\").f,f=t(\"Dyaa\").f,s=t(\"uS/t\").trim,l=\"Number\",h=n.Number,p=h,v=h.prototype,y=e(t(\"rzNn\")(v))==l,d=\"trim\"in String.prototype,g=function(t){var n=o(t,!1);if(\"string\"==typeof n&&n.length>2){var r=(n=d?n.trim():s(n,3)).charCodeAt(0),e,i,u;if(43===r||45===r){if(88===(e=n.charCodeAt(2))||120===e)return NaN}else if(48===r){switch(n.charCodeAt(1)){case 66:case 98:i=2,u=49;break;case 79:case 111:i=8,u=55;break;default:return+n}for(var c=n.slice(2),a=0,f=c.length,l;a<f;a++)if((l=c.charCodeAt(a))<48||l>u)return NaN;return parseInt(c,i)}}return+n};if(!h(\" 0o1\")||!h(\"0b1\")||h(\"+0x1\")){h=function Number(t){var n=arguments.length<1?0:t,r=this;return r instanceof h&&(y?u(function(){v.valueOf.call(r)}):e(r)!=l)?i(new p(g(n)),r,h):g(n)};for(var x=t(\"Zznq\")?c(p):\"MAX_VALUE,MIN_VALUE,NaN,NEGATIVE_INFINITY,POSITIVE_INFINITY,EPSILON,isFinite,isInteger,isNaN,isSafeInteger,MAX_SAFE_INTEGER,MIN_SAFE_INTEGER,parseFloat,parseInt,isInteger\".split(\",\"),m=0,b;x.length>m;m++)r(p,b=x[m])&&!r(h,b)&&f(h,b,a(p,b));h.prototype=v,v.constructor=h,t(\"vUcD\")(n,l,h)}},Lur9:function(module,exports,t){t(\"kz6D\")(\"Uint8\",1,function(t){return function Uint8ClampedArray(n,r,e){return t(this,n,r,e)}},!0)},MDKO:function(module,exports,t){var n=t(\"1AGL\"),r=t(\"Ypmz\"),e=t(\"PQH9\"),i=t(\"Qu47\"),o=t(\"WNFN\"),u=t(\"V1/C\"),c={},a={},exports;(exports=module.exports=function(t,f,s,l,h){var p=h?function(){return t}:u(t),v=n(s,l,f?2:1),y=0,d,g,x,m;if(\"function\"!=typeof p)throw TypeError(t+\" is not iterable!\");if(e(p)){for(d=o(t.length);d>y;y++)if((m=f?v(i(g=t[y])[0],g[1]):v(t[y]))===c||m===a)return m}else for(x=p.call(t);!(g=x.next()).done;)if((m=r(x,v,g.value,f))===c||m===a)return m}).BREAK=c,exports.RETURN=a},MMkC:function(module,exports,t){var n=t(\"zflD\"),r=t(\"Qu47\"),e=function(t,e){if(r(t),!n(e)&&null!==e)throw TypeError(e+\": can't set as prototype!\")};module.exports={set:Object.setPrototypeOf||(\"__proto__\"in{}?function(n,r,i){try{(i=t(\"1AGL\")(Function.call,t(\"6gX+\").f(Object.prototype,\"__proto__\").set,2))(n,[]),r=!(n instanceof Array)}catch(t){r=!0}return function setPrototypeOf(t,n){return e(t,n),r?t.__proto__=n:i(t,n),t}}({},!1):void 0),check:e}},MoDK:function(module,exports,t){var n=t(\"DWPK\"),r=Math.abs;n(n.S,\"Math\",{hypot:function hypot(t,n){for(var e=0,i=0,o=arguments.length,u=0,c,a;i<o;)u<(c=r(arguments[i++]))?(e=e*(a=u/c)*a+1,u=c):e+=c>0?(a=c/u)*a:c;return u===1/0?1/0:u*Math.sqrt(e)}})},MwkF:function(module,exports,t){\"use strict\";var n=t(\"p0MZ\")(!0);t(\"jTO3\")(String,\"String\",function(t){this._t=String(t),this._i=0},function(){var t=this._t,r=this._i,e;if(r>=t.length)return{value:void 0,done:!0};return e=n(t,r),this._i+=e.length,{value:e,done:!1}})},\"N/80\":function(module,exports,t){var n=t(\"Z0RU\");module.exports=function(t){return Object(n(t))}},NVdv:function(module,exports,t){t(\"kz6D\")(\"Uint32\",4,function(t){return function Uint32Array(n,r,e){return t(this,n,r,e)}})},NgGn:function(module,exports,t){t(\"Zznq\")&&\"g\"!=/./g.flags&&t(\"Dyaa\").f(RegExp.prototype,\"flags\",{configurable:!0,get:t(\"xmnv\")})},Nq1z:function(module,exports,t){var n=t(\"zflD\"),r=t(\"vEh7\"),e=t(\"kzbW\")(\"species\");module.exports=function(t){var i;return r(t)&&(\"function\"!=typeof(i=t.constructor)||i!==Array&&!r(i.prototype)||(i=void 0),n(i)&&null===(i=i[e])&&(i=void 0)),void 0===i?Array:i}},O3e3:function(module,exports){module.exports=!1},O57q:function(module,exports,t){var n=t(\"kzbW\")(\"iterator\"),r=!1;try{var e=[7][n]();e.return=function(){r=!0},Array.from(e,function(){throw 2})}catch(t){}module.exports=function(t,e){if(!e&&!r)return!1;var i=!1;try{var o=[7],u=o[n]();u.next=function(){return{done:i=!0}},o[n]=function(){return u},t(o)}catch(t){}return i}},O7N9:function(module,exports,t){var n=t(\"RpEN\"),r=t(\"04zb\").document,e=n(r)&&n(r.createElement);module.exports=function(t){return e?r.createElement(t):{}}},OI3s:function(module,exports,t){var n=t(\"zflD\");module.exports=function(t,r){if(!n(t)||t._t!==r)throw TypeError(\"Incompatible receiver, \"+r+\" required!\");return t}},OM6G:function(module,exports,t){var n=t(\"kzbW\")(\"toPrimitive\"),r=Date.prototype;n in r||t(\"w/rr\")(r,n,t(\"qD9n\"))},OlYm:function(module,exports,t){\"use strict\";var n=t(\"DWPK\"),r=t(\"p0MZ\")(!1);n(n.P,\"String\",{codePointAt:function codePointAt(t){return r(this,t)}})},OoEx:function(module,exports,t){var n=t(\"zflD\"),r=t(\"ve2U\").onFreeze;t(\"Y5dT\")(\"freeze\",function(t){return function freeze(e){return t&&n(e)?t(r(e)):e}})},OolG:function(module,exports,t){\"use strict\";var n=t(\"EsFs\");t(\"DWPK\")({target:\"RegExp\",proto:!0,forced:n!==/./.exec},{exec:n})},Ot4O:function(module,exports){module.exports=function(t){if(\"function\"!=typeof t)throw TypeError(t+\" is not a function!\");return t}},OxmW:function(module,exports,t){t(\"kF8q\"),module.exports=t(\"oG9l\").Object.values},P6Eb:function(module,exports,t){var n=t(\"Dyaa\"),r=t(\"6gX+\"),e=t(\"rQa1\"),i=t(\"fjOf\"),o=t(\"DWPK\"),u=t(\"FUuU\"),c=t(\"Qu47\"),a=t(\"zflD\");function set(t,o,f){var s=arguments.length<4?t:arguments[3],l=r.f(c(t),o),h,p;if(!l){if(a(p=e(t)))return set(p,o,f,s);l=u(0)}if(i(l,\"value\")){if(!1===l.writable||!a(s))return!1;if(h=r.f(s,o)){if(h.get||h.set||!1===h.writable)return!1;h.value=f,n.f(s,o,h)}else n.f(s,o,u(0,f));return!0}return void 0!==l.set&&(l.set.call(s,f),!0)}o(o.S,\"Reflect\",{set:set})},P6M6:function(module,exports,t){\"use strict\";var n=t(\"DWPK\"),r=t(\"7CaX\");n(n.P+n.F*!t(\"YKEf\")([].reduceRight,!0),\"Array\",{reduceRight:function reduceRight(t){return r(this,t,arguments.length,arguments[1],!0)}})},PQH9:function(module,exports,t){var n=t(\"jS79\"),r=t(\"kzbW\")(\"iterator\"),e=Array.prototype;module.exports=function(t){return void 0!==t&&(n.Array===t||e[r]===t)}},Plwb:function(module,exports,t){var n=t(\"DWPK\"),r=t(\"Qu47\"),e=Object.preventExtensions;n(n.S,\"Reflect\",{preventExtensions:function preventExtensions(t){r(t);try{return e&&e(t),!0}catch(t){return!1}}})},Pmbl:function(module,exports,t){var n=t(\"DWPK\"),r=t(\"yRS0\");n(n.G+n.B,{setImmediate:r.set,clearImmediate:r.clear})},Pn0S:function(module,exports,t){\"use strict\";var n=t(\"DWPK\"),r=t(\"ni3+\")(5),e=\"find\",i=!0;e in[]&&Array(1).find(function(){i=!1}),n(n.P+n.F*i,\"Array\",{find:function find(t){return r(this,t,arguments.length>1?arguments[1]:void 0)}}),t(\"dnGy\")(e)},Pv3w:function(module,exports,t){var n=t(\"DWPK\"),r=Math.exp;n(n.S,\"Math\",{cosh:function cosh(t){return(r(t=+t)+r(-t))/2}})},Q4yC:function(module,exports,t){var n=t(\"DWPK\");n(n.S,\"Number\",{MAX_SAFE_INTEGER:9007199254740991})},QCfr:function(module,exports,t){t(\"nkYT\"),t(\"xqGM\"),t(\"dfMp\"),t(\"gSK2\"),t(\"89Eb\"),t(\"g3wo\"),t(\"bnY+\"),t(\"3ynm\"),t(\"OoEx\"),t(\"DxP2\"),t(\"p9aZ\"),t(\"mnfT\"),t(\"dBZJ\"),t(\"7Q1/\"),t(\"tToo\"),t(\"WfpY\"),t(\"geY6\"),t(\"ZYXO\"),t(\"nPoc\"),t(\"GrOG\"),t(\"Gi1/\"),t(\"A2UN\"),t(\"ultW\"),t(\"LuPx\"),t(\"77vC\"),t(\"34zd\"),t(\"iOwZ\"),t(\"/J51\"),t(\"RQAO\"),t(\"03Z4\"),t(\"icNT\"),t(\"Q4yC\"),t(\"Z0RH\"),t(\"4XWU\"),t(\"VvAl\"),t(\"3517\"),t(\"IPlS\"),t(\"0XEP\"),t(\"4HBL\"),t(\"y+ZF\"),t(\"Pv3w\"),t(\"x1DA\"),t(\"HW6H\"),t(\"MoDK\"),t(\"5rU/\"),t(\"A3Cj\"),t(\"SNAT\"),t(\"czsu\"),t(\"kiuN\"),t(\"q5AA\"),t(\"uDrd\"),t(\"2b/P\"),t(\"Ba+H\"),t(\"0Qbi\"),t(\"LjmA\"),t(\"MwkF\"),t(\"OlYm\"),t(\"bczN\"),t(\"LTpQ\"),t(\"FmN5\"),t(\"HMPH\"),t(\"Zl4S\"),t(\"8njo\"),t(\"Keyd\"),t(\"GrJa\"),t(\"7jgA\"),t(\"IjkA\"),t(\"j4q5\"),t(\"wESe\"),t(\"t+JZ\"),t(\"dbYa\"),t(\"ISGZ\"),t(\"uGR2\"),t(\"j4Lt\"),t(\"3eQ6\"),t(\"5dpQ\"),t(\"ASTP\"),t(\"clUq\"),t(\"OM6G\"),t(\"/O+w\"),t(\"Y8VJ\"),t(\"Y7Mh\"),t(\"yuS9\"),t(\"k968\"),t(\"G7i+\"),t(\"YI0P\"),t(\"173f\"),t(\"2a3C\"),t(\"RtZH\"),t(\"tGSB\"),t(\"WLTD\"),t(\"P6M6\"),t(\"dISa\"),t(\"vUhu\"),t(\"X96H\"),t(\"2wQ8\"),t(\"Pn0S\"),t(\"Zl6G\"),t(\"4kXJ\"),t(\"IhuO\"),t(\"6pvA\"),t(\"OolG\"),t(\"3OvE\"),t(\"NgGn\"),t(\"4aZR\"),t(\"jMQ1\"),t(\"KUMS\"),t(\"nj8Z\"),t(\"bXXE\"),t(\"ncK2\"),t(\"q/na\"),t(\"HY6u\"),t(\"ZqlO\"),t(\"nHUN\"),t(\"cAK3\"),t(\"0wIN\"),t(\"fxxf\"),t(\"Lur9\"),t(\"BFEg\"),t(\"z9xx\"),t(\"v0XH\"),t(\"NVdv\"),t(\"LisG\"),t(\"DFK/\"),t(\"egAY\"),t(\"sO19\"),t(\"jfwh\"),t(\"dqeu\"),t(\"AtP2\"),t(\"Wmbw\"),t(\"KIK1\"),t(\"7LQb\"),t(\"cdhn\"),t(\"iDut\"),t(\"Xvdm\"),t(\"Plwb\"),t(\"P6Eb\"),t(\"xNOO\"),module.exports=t(\"oG9l\")},QVGt:function(module,exports){module.exports=Object.is||function is(t,n){return t===n?0!==t||1/t==1/n:t!=t&&n!=n}},Qu47:function(module,exports,t){var n=t(\"zflD\");module.exports=function(t){if(!n(t))throw TypeError(t+\" is not an object!\");return t}},RQAO:function(module,exports,t){var n=t(\"DWPK\");n(n.S,\"Number\",{isInteger:t(\"YzHy\")})},RpEN:function(module,exports){module.exports=function(t){return\"object\"==typeof t?null!==t:\"function\"==typeof t}},RqNq:function(module,exports,t){var n=t(\"oDZx\"),r=Math.pow,e=r(2,-52),i=r(2,-23),o=r(2,127)*(2-i),u=r(2,-126),c=function(t){return t+1/e-1/e};module.exports=Math.fround||function fround(t){var r=Math.abs(t),a=n(t),f,s;if(r<u)return a*c(r/u/i)*u*i;if((s=(f=(1+i/e)*r)-(f-r))>o||s!=s)return a*(1/0);return a*s}},RtZH:function(module,exports,t){\"use strict\";var n=t(\"DWPK\"),r=t(\"ni3+\")(3);n(n.P+n.F*!t(\"YKEf\")([].some,!0),\"Array\",{some:function some(t){return r(this,t,arguments[1])}})},Rtif:function(module,exports,t){\"use strict\";var n=t(\"DWPK\"),r=t(\"ywNy\")(!0);n(n.P,\"Array\",{includes:function includes(t){return r(this,t,arguments.length>1?arguments[1]:void 0)}}),t(\"dnGy\")(\"includes\")},SCsK:function(module,exports,t){var n=t(\"2LKT\"),r=t(\"WNFN\");module.exports=function(t){if(void 0===t)return 0;var e=n(t),i=r(e);if(e!==i)throw RangeError(\"Wrong length!\");return i}},SNAT:function(module,exports,t){var n=t(\"DWPK\");n(n.S,\"Math\",{log1p:t(\"sDyz\")})},SmAJ:function(module,exports,t){\"use strict\";var n=t(\"DWPK\"),r=t(\"nFV2\"),e=t(\"Z5qv\"),i=/Version\\/10\\.\\d+(\\.\\d+)?( Mobile\\/\\w+)? Safari\\//.test(e);n(n.P+n.F*i,\"String\",{padEnd:function padEnd(t){return r(this,t,arguments.length>1?arguments[1]:void 0,!1)}})},SxNR:function(module,exports){module.exports=function(t,n,r,e){if(!(t instanceof n)||void 0!==e&&e in t)throw TypeError(r+\": incorrect invocation!\");return t}},TOx1:function(module,exports,t){\"use strict\";var n=t(\"Dyaa\").f,r=t(\"rzNn\"),e=t(\"5gM1\"),i=t(\"1AGL\"),o=t(\"SxNR\"),u=t(\"MDKO\"),c=t(\"jTO3\"),a=t(\"Tnkd\"),f=t(\"28UD\"),s=t(\"Zznq\"),l=t(\"ve2U\").fastKey,h=t(\"OI3s\"),p=s?\"_s\":\"size\",v=function(t,n){var r=l(n),e;if(\"F\"!==r)return t._i[r];for(e=t._f;e;e=e.n)if(e.k==n)return e};module.exports={getConstructor:function(t,c,a,f){var l=t(function(t,n){o(t,l,c,\"_i\"),t._t=c,t._i=r(null),t._f=void 0,t._l=void 0,t[p]=0,null!=n&&u(n,a,t[f],t)});return e(l.prototype,{clear:function clear(){for(var t=h(this,c),n=t._i,r=t._f;r;r=r.n)r.r=!0,r.p&&(r.p=r.p.n=void 0),delete n[r.i];t._f=t._l=void 0,t[p]=0},delete:function(t){var n=h(this,c),r=v(n,t);if(r){var e=r.n,i=r.p;delete n._i[r.i],r.r=!0,i&&(i.n=e),e&&(e.p=i),n._f==r&&(n._f=e),n._l==r&&(n._l=i),n[p]--}return!!r},forEach:function forEach(t){h(this,c);for(var n=i(t,arguments.length>1?arguments[1]:void 0,3),r;r=r?r.n:this._f;)for(n(r.v,r.k,this);r&&r.r;)r=r.p},has:function has(t){return!!v(h(this,c),t)}}),s&&n(l.prototype,\"size\",{get:function(){return h(this,c)[p]}}),l},def:function(t,n,r){var e=v(t,n),i,o;return e?e.v=r:(t._l=e={i:o=l(n,!0),k:n,v:r,p:i=t._l,n:void 0,r:!1},t._f||(t._f=e),i&&(i.n=e),t[p]++,\"F\"!==o&&(t._i[o]=e)),t},getEntry:v,setStrong:function(t,n,r){c(t,n,function(t,r){this._t=h(t,n),this._k=r,this._l=void 0},function(){for(var t=this,n=this._k,r=this._l;r&&r.r;)r=r.p;if(!this._t||!(this._l=r=r?r.n:this._t._f))return this._t=void 0,a(1);if(\"keys\"==n)return a(0,r.k);if(\"values\"==n)return a(0,r.v);return a(0,[r.k,r.v])},r?\"entries\":\"values\",!r,!0),f(n)}}},Tcbs:function(module,exports,t){\"use strict\";var n=t(\"Zznq\"),r=t(\"t+KX\"),e=t(\"4DiU\"),i=t(\"mieu\"),o=t(\"N/80\"),u=t(\"JjXK\"),c=Object.assign;module.exports=!c||t(\"tGBs\")(function(){var t={},n={},r=Symbol(),e=\"abcdefghijklmnopqrst\";return t[r]=7,e.split(\"\").forEach(function(t){n[t]=t}),7!=c({},t)[r]||Object.keys(c({},n)).join(\"\")!=e})?function assign(t,c){for(var a=o(t),f=arguments.length,s=1,l=e.f,h=i.f;f>s;)for(var p=u(arguments[s++]),v=l?r(p).concat(l(p)):r(p),y=v.length,d=0,g;y>d;)g=v[d++],n&&!h.call(p,g)||(a[g]=p[g]);return a}:c},Tnkd:function(module,exports){module.exports=function(t,n){return{value:n,done:!!t}}},UFFn:function(module,exports,t){var n=t(\"Zznq\"),r=t(\"t+KX\"),e=t(\"zrYH\"),i=t(\"mieu\").f;module.exports=function(t){return function(o){for(var u=e(o),c=r(u),a=c.length,f=0,s=[],l;a>f;)l=c[f++],n&&!i.call(u,l)||s.push(t?[l,u[l]]:u[l]);return s}}},UazY:function(module,exports,t){var n=t(\"2LKT\"),r=Math.max,e=Math.min;module.exports=function(t,i){return(t=n(t))<0?r(t+i,0):e(t,i)}},\"V1/C\":function(module,exports,t){var n=t(\"6GDU\"),r=t(\"kzbW\")(\"iterator\"),e=t(\"jS79\");module.exports=t(\"oG9l\").getIteratorMethod=function(t){if(null!=t)return t[r]||t[\"@@iterator\"]||e[n(t)]}},VvAl:function(module,exports,t){var n=t(\"DWPK\"),r=t(\"cL59\");n(n.S+n.F*(Number.parseInt!=r),\"Number\",{parseInt:r})},WLTD:function(module,exports,t){\"use strict\";var n=t(\"DWPK\"),r=t(\"7CaX\");n(n.P+n.F*!t(\"YKEf\")([].reduce,!0),\"Array\",{reduce:function reduce(t){return r(this,t,arguments.length,arguments[1],!1)}})},WNFN:function(module,exports,t){var n=t(\"2LKT\"),r=Math.min;module.exports=function(t){return t>0?r(n(t),9007199254740991):0}},WfpY:function(module,exports,t){var n=t(\"DWPK\");n(n.S,\"Object\",{is:t(\"QVGt\")})},WjCL:function(module,exports,t){exports.f=t(\"kzbW\")},Wmbw:function(module,exports,t){var n=t(\"6gX+\"),r=t(\"rQa1\"),e=t(\"fjOf\"),i=t(\"DWPK\"),o=t(\"zflD\"),u=t(\"Qu47\");function get(t,i){var c=arguments.length<3?t:arguments[2],a,f;if(u(t)===c)return t[i];if(a=n.f(t,i))return e(a,\"value\")?a.value:void 0!==a.get?a.get.call(c):void 0;if(o(f=r(t)))return get(f,i,c)}i(i.S,\"Reflect\",{get:get})},X96H:function(module,exports,t){var n=t(\"DWPK\");n(n.P,\"Array\",{copyWithin:t(\"xJHY\")}),t(\"dnGy\")(\"copyWithin\")},XLjZ:function(module,exports){module.exports=\"\\t\\n\\v\\f\\r   ᠎             　\\u2028\\u2029\\ufeff\"},XYiB:function(module,exports,t){\"use strict\";var n=t(\"JVqh\"),r=t(\"Zznq\"),e=t(\"O3e3\"),i=t(\"djRs\"),o=t(\"w/rr\"),u=t(\"5gM1\"),c=t(\"tGBs\"),a=t(\"SxNR\"),f=t(\"2LKT\"),s=t(\"WNFN\"),l=t(\"SCsK\"),h=t(\"mTtQ\").f,p=t(\"Dyaa\").f,v=t(\"jSlo\"),y=t(\"YX/n\"),d=\"ArrayBuffer\",g=\"DataView\",x=\"prototype\",m=\"Wrong length!\",b=\"Wrong index!\",S=n.ArrayBuffer,w=n.DataView,P=n.Math,D=n.RangeError,O=n.Infinity,E=S,F=P.abs,I=P.pow,N=P.floor,W=P.log,A=P.LN2,M=\"buffer\",j=\"byteLength\",G=\"byteOffset\",K=r?\"_b\":M,k=r?\"_l\":j,z=r?\"_o\":G;function packIEEE754(t,n,r){var e=new Array(r),i=8*r-n-1,o=(1<<i)-1,u=o>>1,c=23===n?I(2,-24)-I(2,-77):0,a=0,f=t<0||0===t&&1/t<0?1:0,s,l,h;for((t=F(t))!=t||t===O?(l=t!=t?1:0,s=o):(s=N(W(t)/A),t*(h=I(2,-s))<1&&(s--,h*=2),(t+=s+u>=1?c/h:c*I(2,1-u))*h>=2&&(s++,h/=2),s+u>=o?(l=0,s=o):s+u>=1?(l=(t*h-1)*I(2,n),s+=u):(l=t*I(2,u-1)*I(2,n),s=0));n>=8;e[a++]=255&l,l/=256,n-=8);for(s=s<<n|l,i+=n;i>0;e[a++]=255&s,s/=256,i-=8);return e[--a]|=128*f,e}function unpackIEEE754(t,n,r){var e=8*r-n-1,i=(1<<e)-1,o=i>>1,u=e-7,c=r-1,a=t[c--],f=127&a,s;for(a>>=7;u>0;f=256*f+t[c],c--,u-=8);for(s=f&(1<<-u)-1,f>>=-u,u+=n;u>0;s=256*s+t[c],c--,u-=8);if(0===f)f=1-o;else{if(f===i)return s?NaN:a?-O:O;s+=I(2,n),f-=o}return(a?-1:1)*s*I(2,f-n)}function unpackI32(t){return t[3]<<24|t[2]<<16|t[1]<<8|t[0]}function packI8(t){return[255&t]}function packI16(t){return[255&t,t>>8&255]}function packI32(t){return[255&t,t>>8&255,t>>16&255,t>>24&255]}function packF64(t){return packIEEE754(t,52,8)}function packF32(t){return packIEEE754(t,23,4)}function addGetter(t,n,r){p(t[x],n,{get:function(){return this[r]}})}function get(t,n,r,e){var i,o=l(+r);if(o+n>t[k])throw D(b);var u=t[K]._b,c=o+t[z],a=u.slice(c,c+n);return e?a:a.reverse()}function set(t,n,r,e,i,o){var u,c=l(+r);if(c+n>t[k])throw D(b);for(var a=t[K]._b,f=c+t[z],s=e(+i),h=0;h<n;h++)a[f+h]=s[o?h:n-h-1]}if(i.ABV){if(!c(function(){S(1)})||!c(function(){new S(-1)})||c(function(){return new S,new S(1.5),new S(NaN),S.name!=d})){for(var T=(S=function ArrayBuffer(t){return a(this,S),new E(l(t))})[x]=E[x],U=h(E),R=0,L;U.length>R;)(L=U[R++])in S||o(S,L,E[L]);e||(T.constructor=S)}var q=new w(new S(2)),Y=w[x].setInt8;q.setInt8(0,2147483648),q.setInt8(1,2147483649),!q.getInt8(0)&&q.getInt8(1)||u(w[x],{setInt8:function setInt8(t,n){Y.call(this,t,n<<24>>24)},setUint8:function setUint8(t,n){Y.call(this,t,n<<24>>24)}},!0)}else S=function ArrayBuffer(t){a(this,S,d);var n=l(t);this._b=v.call(new Array(n),0),this[k]=n},w=function DataView(t,n,r){a(this,w,g),a(t,S,g);var e=t[k],i=f(n);if(i<0||i>e)throw D(\"Wrong offset!\");if(i+(r=void 0===r?e-i:s(r))>e)throw D(m);this[K]=t,this[z]=i,this[k]=r},r&&(addGetter(S,j,\"_l\"),addGetter(w,M,\"_b\"),addGetter(w,j,\"_l\"),addGetter(w,G,\"_o\")),u(w[x],{getInt8:function getInt8(t){return get(this,1,t)[0]<<24>>24},getUint8:function getUint8(t){return get(this,1,t)[0]},getInt16:function getInt16(t){var n=get(this,2,t,arguments[1]);return(n[1]<<8|n[0])<<16>>16},getUint16:function getUint16(t){var n=get(this,2,t,arguments[1]);return n[1]<<8|n[0]},getInt32:function getInt32(t){return unpackI32(get(this,4,t,arguments[1]))},getUint32:function getUint32(t){return unpackI32(get(this,4,t,arguments[1]))>>>0},getFloat32:function getFloat32(t){return unpackIEEE754(get(this,4,t,arguments[1]),23,4)},getFloat64:function getFloat64(t){return unpackIEEE754(get(this,8,t,arguments[1]),52,8)},setInt8:function setInt8(t,n){set(this,1,t,packI8,n)},setUint8:function setUint8(t,n){set(this,1,t,packI8,n)},setInt16:function setInt16(t,n){set(this,2,t,packI16,n,arguments[2])},setUint16:function setUint16(t,n){set(this,2,t,packI16,n,arguments[2])},setInt32:function setInt32(t,n){set(this,4,t,packI32,n,arguments[2])},setUint32:function setUint32(t,n){set(this,4,t,packI32,n,arguments[2])},setFloat32:function setFloat32(t,n){set(this,4,t,packF32,n,arguments[2])},setFloat64:function setFloat64(t,n){set(this,8,t,packF64,n,arguments[2])}});y(S,d),y(w,g),o(w[x],i.VIEW,!0),exports.ArrayBuffer=S,exports.DataView=w},Xvdm:function(module,exports,t){var n=t(\"DWPK\");n(n.S,\"Reflect\",{ownKeys:t(\"H9Ff\")})},Y5dT:function(module,exports,t){var n=t(\"DWPK\"),r=t(\"oG9l\"),e=t(\"tGBs\");module.exports=function(t,i){var o=(r.Object||{})[t]||Object[t],u={};u[t]=i(o),n(n.S+n.F*e(function(){o(1)}),\"Object\",u)}},Y7Mh:function(module,exports,t){\"use strict\";var n=t(\"DWPK\"),r=t(\"x6Mh\");n(n.S+n.F*t(\"tGBs\")(function(){function F(){}return!(Array.of.call(F)instanceof F)}),\"Array\",{of:function of(){for(var t=0,n=arguments.length,e=new(\"function\"==typeof this?this:Array)(n);n>t;)r(e,t,arguments[t++]);return e.length=n,e}})},Y8VJ:function(module,exports,t){\"use strict\";var n=t(\"1AGL\"),r=t(\"DWPK\"),e=t(\"N/80\"),i=t(\"Ypmz\"),o=t(\"PQH9\"),u=t(\"WNFN\"),c=t(\"x6Mh\"),a=t(\"V1/C\");r(r.S+r.F*!t(\"O57q\")(function(t){Array.from(t)}),\"Array\",{from:function from(t){var r=e(t),f=\"function\"==typeof this?this:Array,s=arguments.length,l=s>1?arguments[1]:void 0,h=void 0!==l,p=0,v=a(r),y,d,g,x;if(h&&(l=n(l,s>2?arguments[2]:void 0,2)),null==v||f==Array&&o(v))for(d=new f(y=u(r.length));y>p;p++)c(d,p,h?l(r[p],p):r[p]);else for(x=v.call(r),d=new f;!(g=x.next()).done;p++)c(d,p,h?i(x,l,[g.value,p],!0):g.value);return d.length=p,d}})},YI0P:function(module,exports,t){\"use strict\";var n=t(\"DWPK\"),r=t(\"ni3+\")(0),e=t(\"YKEf\")([].forEach,!0);n(n.P+n.F*!e,\"Array\",{forEach:function forEach(t){return r(this,t,arguments[1])}})},YKEf:function(module,exports,t){\"use strict\";var n=t(\"tGBs\");module.exports=function(t,r){return!!t&&n(function(){r?t.call(null,function(){},1):t.call(null)})}},YPqZ:function(module,exports,t){\"use strict\";var n=t(\"rzNn\"),r=t(\"FUuU\"),e=t(\"YX/n\"),i={};t(\"w/rr\")(i,t(\"kzbW\")(\"iterator\"),function(){return this}),module.exports=function(t,o,u){t.prototype=n(i,{next:r(1,u)}),e(t,o+\" Iterator\")}},\"YX/n\":function(module,exports,t){var n=t(\"Dyaa\").f,r=t(\"fjOf\"),e=t(\"kzbW\")(\"toStringTag\");module.exports=function(t,i,o){t&&!r(t=o?t:t.prototype,e)&&n(t,e,{configurable:!0,value:i})}},Ypmz:function(module,exports,t){var n=t(\"Qu47\");module.exports=function(t,r,e,i){try{return i?r(n(e)[0],e[1]):r(e)}catch(r){var o=t.return;throw void 0!==o&&n(o.call(t)),r}}},Yxd9:function(module,exports,t){var n=t(\"RpEN\");module.exports=function(t,r){if(!n(t))return t;var e,i;if(r&&\"function\"==typeof(e=t.toString)&&!n(i=e.call(t)))return i;if(\"function\"==typeof(e=t.valueOf)&&!n(i=e.call(t)))return i;if(!r&&\"function\"==typeof(e=t.toString)&&!n(i=e.call(t)))return i;throw TypeError(\"Can't convert object to primitive value\")}},YzHy:function(module,exports,t){var n=t(\"zflD\"),r=Math.floor;module.exports=function isInteger(t){return!n(t)&&isFinite(t)&&r(t)===t}},Z0RH:function(module,exports,t){var n=t(\"DWPK\");n(n.S,\"Number\",{MIN_SAFE_INTEGER:-9007199254740991})},Z0RU:function(module,exports){module.exports=function(t){if(null==t)throw TypeError(\"Can't call method on  \"+t);return t}},Z5qv:function(module,exports,t){var n,r=t(\"JVqh\").navigator;module.exports=r&&r.userAgent||\"\"},ZDSA:function(module,exports){module.exports=function(t){try{return!!t()}catch(t){return!0}}},ZYXO:function(module,exports,t){\"use strict\";var n=t(\"6GDU\"),r={};r[t(\"kzbW\")(\"toStringTag\")]=\"z\",r+\"\"!=\"[object z]\"&&t(\"vUcD\")(Object.prototype,\"toString\",function toString(){return\"[object \"+n(this)+\"]\"},!0)},ZeU4:function(module,exports,t){\"use strict\";var n=t(\"vEh7\"),r=t(\"zflD\"),e=t(\"WNFN\"),i=t(\"1AGL\"),o=t(\"kzbW\")(\"isConcatSpreadable\");function flattenIntoArray(t,u,c,a,f,s,l,h){for(var p=f,v=0,y=!!l&&i(l,h,3),d,g;v<a;){if(v in c){if(d=y?y(c[v],v,u):c[v],g=!1,r(d)&&(g=void 0!==(g=d[o])?!!g:n(d)),g&&s>0)p=flattenIntoArray(t,u,d,e(d.length),p,s-1)-1;else{if(p>=9007199254740991)throw TypeError();t[p]=d}p++}v++}return p}module.exports=flattenIntoArray},Zl4S:function(module,exports,t){\"use strict\";t(\"x8E3\")(\"anchor\",function(t){return function anchor(n){return t(this,\"a\",\"name\",n)}})},Zl6G:function(module,exports,t){\"use strict\";var n=t(\"DWPK\"),r=t(\"ni3+\")(6),e=\"findIndex\",i=!0;e in[]&&Array(1)[e](function(){i=!1}),n(n.P+n.F*i,\"Array\",{findIndex:function findIndex(t){return r(this,t,arguments.length>1?arguments[1]:void 0)}}),t(\"dnGy\")(e)},ZqlO:function(module,exports,t){\"use strict\";var n=t(\"Kcti\"),r=t(\"OI3s\"),e=\"WeakSet\";t(\"rvbA\")(e,function(t){return function WeakSet(){return t(this,arguments.length>0?arguments[0]:void 0)}},{add:function add(t){return n.def(r(this,e),t,!0)}},n,!1,!0)},Zyvw:function(module,exports,t){t(\"F7Lc\")(\"asyncIterator\")},Zznq:function(module,exports,t){module.exports=!t(\"tGBs\")(function(){return 7!=Object.defineProperty({},\"a\",{get:function(){return 7}}).a})},ac7b:function(module,exports,t){module.exports=!t(\"oyyx\")&&!t(\"ZDSA\")(function(){return 7!=Object.defineProperty(t(\"O7N9\")(\"div\"),\"a\",{get:function(){return 7}}).a})},b1R4:function(module,exports){var t=module.exports={version:\"2.6.11\"};\"number\"==typeof __e&&(__e=t)},bXXE:function(module,exports,t){\"use strict\";var n=t(\"O3e3\"),r=t(\"JVqh\"),e=t(\"1AGL\"),i=t(\"6GDU\"),o=t(\"DWPK\"),u=t(\"zflD\"),c=t(\"dIDi\"),a=t(\"SxNR\"),f=t(\"MDKO\"),s=t(\"Cn39\"),l=t(\"yRS0\").set,h=t(\"1rnR\")(),p=t(\"l46h\"),v=t(\"qm9t\"),y=t(\"Z5qv\"),d=t(\"xQ3V\"),g=\"Promise\",x=r.TypeError,m=r.process,b=m&&m.versions,S=b&&b.v8||\"\",w=r.Promise,P=\"process\"==i(m),D=function(){},O,E,F,I,N=E=p.f,W=!!function(){try{var n=w.resolve(1),r=(n.constructor={})[t(\"kzbW\")(\"species\")]=function(t){t(D,D)};return(P||\"function\"==typeof PromiseRejectionEvent)&&n.then(D)instanceof r&&0!==S.indexOf(\"6.6\")&&-1===y.indexOf(\"Chrome/66\")}catch(t){}}(),A=function(t){var n;return!(!u(t)||\"function\"!=typeof(n=t.then))&&n},M=function(t,n){if(t._n)return;t._n=!0;var r=t._c;h(function(){for(var e=t._v,i=1==t._s,o=0,u=function(n){var r=i?n.ok:n.fail,o=n.resolve,u=n.reject,c=n.domain,a,f,s;try{r?(i||(2==t._h&&K(t),t._h=1),!0===r?a=e:(c&&c.enter(),a=r(e),c&&(c.exit(),s=!0)),a===n.promise?u(x(\"Promise-chain cycle\")):(f=A(a))?f.call(a,o,u):o(a)):u(e)}catch(t){c&&!s&&c.exit(),u(t)}};r.length>o;)u(r[o++]);t._c=[],t._n=!1,n&&!t._h&&j(t)})},j=function(t){l.call(r,function(){var n=t._v,e=G(t),i,o,u;if(e&&(i=v(function(){P?m.emit(\"unhandledRejection\",n,t):(o=r.onunhandledrejection)?o({promise:t,reason:n}):(u=r.console)&&u.error&&u.error(\"Unhandled promise rejection\",n)}),t._h=P||G(t)?2:1),t._a=void 0,e&&i.e)throw i.v})},G=function(t){return 1!==t._h&&0===(t._a||t._c).length},K=function(t){l.call(r,function(){var n;P?m.emit(\"rejectionHandled\",t):(n=r.onrejectionhandled)&&n({promise:t,reason:t._v})})},k=function(t){var n=this;if(n._d)return;n._d=!0,(n=n._w||n)._v=t,n._s=2,n._a||(n._a=n._c.slice()),M(n,!0)},z=function(t){var n=this,r;if(n._d)return;n._d=!0,n=n._w||n;try{if(n===t)throw x(\"Promise can't be resolved itself\");(r=A(t))?h(function(){var i={_w:n,_d:!1};try{r.call(t,e(z,i,1),e(k,i,1))}catch(t){k.call(i,t)}}):(n._v=t,n._s=1,M(n,!1))}catch(t){k.call({_w:n,_d:!1},t)}};W||(w=function Promise(t){a(this,w,g,\"_h\"),c(t),O.call(this);try{t(e(z,this,1),e(k,this,1))}catch(t){k.call(this,t)}},(O=function Promise(t){this._c=[],this._a=void 0,this._s=0,this._d=!1,this._v=void 0,this._h=0,this._n=!1}).prototype=t(\"5gM1\")(w.prototype,{then:function then(t,n){var r=N(s(this,w));return r.ok=\"function\"!=typeof t||t,r.fail=\"function\"==typeof n&&n,r.domain=P?m.domain:void 0,this._c.push(r),this._a&&this._a.push(r),this._s&&M(this,!1),r.promise},catch:function(t){return this.then(void 0,t)}}),F=function(){var t=new O;this.promise=t,this.resolve=e(z,t,1),this.reject=e(k,t,1)},p.f=N=function(t){return t===w||t===I?new F(t):E(t)}),o(o.G+o.W+o.F*!W,{Promise:w}),t(\"YX/n\")(w,g),t(\"28UD\")(g),I=t(\"oG9l\").Promise,o(o.S+o.F*!W,g,{reject:function reject(t){var n=N(this),r;return(0,n.reject)(t),n.promise}}),o(o.S+o.F*(n||!W),g,{resolve:function resolve(t){return d(n&&this===I?w:this,t)}}),o(o.S+o.F*!(W&&t(\"O57q\")(function(t){w.all(t).catch(D)})),g,{all:function all(t){var n=this,r=N(n),e=r.resolve,i=r.reject,o=v(function(){var r=[],o=0,u=1;f(t,!1,function(t){var c=o++,a=!1;r.push(void 0),u++,n.resolve(t).then(function(t){if(a)return;a=!0,r[c]=t,--u||e(r)},i)}),--u||e(r)});return o.e&&i(o.v),r.promise},race:function race(t){var n=this,r=N(n),e=r.reject,i=v(function(){f(t,!1,function(t){n.resolve(t).then(r.resolve,e)})});return i.e&&e(i.v),r.promise}})},bYli:function(module,exports,t){\"use strict\";var n=t(\"2LKT\"),r=t(\"Z0RU\");module.exports=function repeat(t){var e=String(r(this)),i=\"\",o=n(t);if(o<0||o==1/0)throw RangeError(\"Count can't be negative\");for(;o>0;(o>>>=1)&&(e+=e))1&o&&(i+=e);return i}},bczN:function(module,exports,t){\"use strict\";var n=t(\"DWPK\"),r=t(\"WNFN\"),e=t(\"9Jp3\"),i=\"endsWith\",o=\"\".endsWith;n(n.P+n.F*t(\"nsg3\")(i),\"String\",{endsWith:function endsWith(t){var n=e(this,t,i),u=arguments.length>1?arguments[1]:void 0,c=r(n.length),a=void 0===u?c:Math.min(r(u),c),f=String(t);return o?o.call(n,f,a):n.slice(a-f.length,a)===f}})},\"bnY+\":function(module,exports,t){var n=t(\"N/80\"),r=t(\"t+KX\");t(\"Y5dT\")(\"keys\",function(){return function keys(t){return r(n(t))}})},cAK3:function(module,exports,t){var n=t(\"DWPK\");n(n.G+n.W+n.F*!t(\"djRs\").ABV,{DataView:t(\"XYiB\").DataView})},cL59:function(module,exports,t){var n=t(\"JVqh\").parseInt,r=t(\"uS/t\").trim,e=t(\"XLjZ\"),i=/^[-+]?0[xX]/;module.exports=8!==n(e+\"08\")||22!==n(e+\"0x16\")?function parseInt(t,e){var o=r(String(t),3);return n(o,e>>>0||(i.test(o)?16:10))}:n},cdhn:function(module,exports,t){var n=t(\"DWPK\");n(n.S,\"Reflect\",{has:function has(t,n){return n in t}})},clUq:function(module,exports,t){var n=Date.prototype,r=\"Invalid Date\",e=\"toString\",i=n.toString,o=n.getTime;new Date(NaN)+\"\"!=r&&t(\"vUcD\")(n,e,function toString(){var t=o.call(this);return t==t?i.call(this):r})},czsu:function(module,exports,t){var n=t(\"DWPK\");n(n.S,\"Math\",{log2:function log2(t){return Math.log(t)/Math.LN2}})},dBZJ:function(module,exports,t){var n=t(\"zflD\");t(\"Y5dT\")(\"isSealed\",function(t){return function isSealed(r){return!n(r)||!!t&&t(r)}})},dIDi:function(module,exports){module.exports=function(t){if(\"function\"!=typeof t)throw TypeError(t+\" is not a function!\");return t}},dISa:function(module,exports,t){\"use strict\";var n=t(\"DWPK\"),r=t(\"ywNy\")(!1),e=[].indexOf,i=!!e&&1/[1].indexOf(1,-0)<0;n(n.P+n.F*(i||!t(\"YKEf\")(e)),\"Array\",{indexOf:function indexOf(t){return i?e.apply(this,arguments)||0:r(this,t,arguments[1])}})},dTuy:function(module,exports,t){\"use strict\";var n=t(\"DWPK\"),r=t(\"nFV2\"),e=t(\"Z5qv\"),i=/Version\\/10\\.\\d+(\\.\\d+)?( Mobile\\/\\w+)? Safari\\//.test(e);n(n.P+n.F*i,\"String\",{padStart:function padStart(t){return r(this,t,arguments.length>1?arguments[1]:void 0,!0)}})},dbYa:function(module,exports,t){\"use strict\";t(\"x8E3\")(\"small\",function(t){return function small(){return t(this,\"small\",\"\",\"\")}})},dfMp:function(module,exports,t){var n=t(\"DWPK\");n(n.S+n.F*!t(\"Zznq\"),\"Object\",{defineProperty:t(\"Dyaa\").f})},djRs:function(module,exports,t){for(var n=t(\"JVqh\"),r=t(\"w/rr\"),e=t(\"qQmm\"),i=e(\"typed_array\"),o=e(\"view\"),u=!(!n.ArrayBuffer||!n.DataView),c=u,a=0,f=9,s,l=\"Int8Array,Uint8Array,Uint8ClampedArray,Int16Array,Uint16Array,Int32Array,Uint32Array,Float32Array,Float64Array\".split(\",\");a<9;)(s=n[l[a++]])?(r(s.prototype,i,!0),r(s.prototype,o,!0)):c=!1;module.exports={ABV:u,CONSTR:c,TYPED:i,VIEW:o}},dmsU:function(module,exports,t){t(\"6vOc\"),module.exports=t(\"oG9l\").Array.flatMap},dnGy:function(module,exports,t){var n=t(\"kzbW\")(\"unscopables\"),r=Array.prototype;null==r[n]&&t(\"w/rr\")(r,n,{}),module.exports=function(t){r[n][t]=!0}},dqeu:function(module,exports,t){var n=t(\"DWPK\"),r=t(\"6gX+\").f,e=t(\"Qu47\");n(n.S,\"Reflect\",{deleteProperty:function deleteProperty(t,n){var i=r(e(t),n);return!(i&&!i.configurable)&&delete t[n]}})},ePkw:function(module,exports,t){var n=t(\"t+KX\"),r=t(\"4DiU\"),e=t(\"mieu\");module.exports=function(t){var i=n(t),o=r.f;if(o)for(var u=o(t),c=e.f,a=0,f;u.length>a;)c.call(t,f=u[a++])&&i.push(f);return i}},egAY:function(module,exports,t){var n=t(\"DWPK\"),r=t(\"dIDi\"),e=t(\"Qu47\"),i=(t(\"JVqh\").Reflect||{}).apply,o=Function.apply;n(n.S+n.F*!t(\"tGBs\")(function(){i(function(){})}),\"Reflect\",{apply:function apply(t,n,u){var c=r(t),a=e(u);return i?i(c,n,a):o.call(c,n,a)}})},fjOf:function(module,exports){var t={}.hasOwnProperty;module.exports=function(n,r){return t.call(n,r)}},fxxf:function(module,exports,t){t(\"kz6D\")(\"Uint8\",1,function(t){return function Uint8Array(n,r,e){return t(this,n,r,e)}})},g2aq:function(module,exports,t){\"use strict\";t(\"QCfr\"),t(\"k4iZ\"),t(\"dmsU\"),t(\"qza8\"),t(\"k5B3\"),t(\"FFU9\"),t(\"Fu6m\"),t(\"twuh\"),t(\"xj2u\"),t(\"OxmW\"),t(\"ASus\"),t(\"/aWK\"),t(\"Jqp5\"),t(\"74pp\")},g3wo:function(module,exports,t){var n=t(\"N/80\"),r=t(\"rQa1\");t(\"Y5dT\")(\"getPrototypeOf\",function(){return function getPrototypeOf(t){return r(n(t))}})},gSK2:function(module,exports,t){var n=t(\"DWPK\");n(n.S+n.F*!t(\"Zznq\"),\"Object\",{defineProperties:t(\"IDWI\")})},geY6:function(module,exports,t){var n=t(\"DWPK\");n(n.S,\"Object\",{setPrototypeOf:t(\"MMkC\").set})},gmcd:function(module,exports,t){\"use strict\";t(\"uS/t\")(\"trimRight\",function(t){return function trimRight(){return t(this,2)}},\"trimEnd\")},iCDq:function(module,exports,t){var n=t(\"DWPK\"),r=t(\"H9Ff\"),e=t(\"zrYH\"),i=t(\"6gX+\"),o=t(\"x6Mh\");n(n.S,\"Object\",{getOwnPropertyDescriptors:function getOwnPropertyDescriptors(t){for(var n=e(t),u=i.f,c=r(n),a={},f=0,s,l;c.length>f;)void 0!==(l=u(n,s=c[f++]))&&o(a,s,l);return a}})},iDut:function(module,exports,t){var n=t(\"DWPK\"),r=t(\"Qu47\"),e=Object.isExtensible;n(n.S,\"Reflect\",{isExtensible:function isExtensible(t){return r(t),!e||e(t)}})},iHyg:function(module,exports,t){var n=t(\"zflD\"),r=t(\"MMkC\").set;module.exports=function(t,e,i){var o=e.constructor,u;return o!==i&&\"function\"==typeof o&&(u=o.prototype)!==i.prototype&&n(u)&&r&&r(t,u),t}},iOwZ:function(module,exports,t){var n=t(\"DWPK\");n(n.S,\"Number\",{EPSILON:Math.pow(2,-52)})},icNT:function(module,exports,t){var n=t(\"DWPK\"),r=t(\"YzHy\"),e=Math.abs;n(n.S,\"Number\",{isSafeInteger:function isSafeInteger(t){return r(t)&&e(t)<=9007199254740991}})},j4Lt:function(module,exports,t){\"use strict\";t(\"x8E3\")(\"sup\",function(t){return function sup(){return t(this,\"sup\",\"\",\"\")}})},j4q5:function(module,exports,t){\"use strict\";t(\"x8E3\")(\"fontsize\",function(t){return function fontsize(n){return t(this,\"font\",\"size\",n)}})},jMQ1:function(module,exports,t){\"use strict\";var n=t(\"Qu47\"),r=t(\"N/80\"),e=t(\"WNFN\"),i=t(\"2LKT\"),o=t(\"mwxG\"),u=t(\"5by1\"),c=Math.max,a=Math.min,f=Math.floor,s=/\\$([$&`']|\\d\\d?|<[^>]*>)/g,l=/\\$([$&`']|\\d\\d?)/g,h=function(t){return void 0===t?t:String(t)};t(\"68oU\")(\"replace\",2,function(t,p,v,y){return[function replace(n,r){var e=t(this),i=null==n?void 0:n[p];return void 0!==i?i.call(n,e,r):v.call(String(e),n,r)},function(t,r){var f=y(v,t,this,r);if(f.done)return f.value;var s=n(t),l=String(this),p=\"function\"==typeof r;p||(r=String(r));var d=s.global;if(d){var g=s.unicode;s.lastIndex=0}for(var x=[];;){var m=u(s,l),b;if(null===m)break;if(x.push(m),!d)break;\"\"===String(m[0])&&(s.lastIndex=o(l,e(s.lastIndex),g))}for(var S=\"\",w=0,P=0;P<x.length;P++){m=x[P];for(var D=String(m[0]),O=c(a(i(m.index),l.length),0),E=[],F=1;F<m.length;F++)E.push(h(m[F]));var I=m.groups;if(p){var N=[D].concat(E,O,l);void 0!==I&&N.push(I);var W=String(r.apply(void 0,N))}else W=getSubstitution(D,l,O,E,I,r);O>=w&&(S+=l.slice(w,O)+W,w=O+D.length)}return S+l.slice(w)}];function getSubstitution(t,n,e,i,o,u){var c=e+t.length,a=i.length,h=l;return void 0!==o&&(o=r(o),h=s),v.call(u,h,function(r,u){var s;switch(u.charAt(0)){case\"$\":return\"$\";case\"&\":return t;case\"`\":return n.slice(0,e);case\"'\":return n.slice(c);case\"<\":s=o[u.slice(1,-1)];break;default:var l=+u;if(0===l)return r;if(l>a){var h=f(l/10);if(0===h)return r;if(h<=a)return void 0===i[h-1]?u.charAt(1):i[h-1]+u.charAt(1);return r}s=i[l-1]}return void 0===s?\"\":s})}})},jS79:function(module,exports){module.exports={}},jSlo:function(module,exports,t){\"use strict\";var n=t(\"N/80\"),r=t(\"UazY\"),e=t(\"WNFN\");module.exports=function fill(t){for(var i=n(this),o=e(i.length),u=arguments.length,c=r(u>1?arguments[1]:void 0,o),a=u>2?arguments[2]:void 0,f=void 0===a?o:r(a,o);f>c;)i[c++]=t;return i}},jTO3:function(module,exports,t){\"use strict\";var n=t(\"O3e3\"),r=t(\"DWPK\"),e=t(\"vUcD\"),i=t(\"w/rr\"),o=t(\"jS79\"),u=t(\"YPqZ\"),c=t(\"YX/n\"),a=t(\"rQa1\"),f=t(\"kzbW\")(\"iterator\"),s=!([].keys&&\"next\"in[].keys()),l=\"@@iterator\",h=\"keys\",p=\"values\",v=function(){return this};module.exports=function(t,y,d,g,x,m,b){u(d,y,g);var S=function(t){if(!s&&t in O)return O[t];switch(t){case h:return function keys(){return new d(this,t)};case p:return function values(){return new d(this,t)}}return function entries(){return new d(this,t)}},w=y+\" Iterator\",P=x==p,D=!1,O=t.prototype,E=O[f]||O[l]||x&&O[x],F=E||S(x),I=x?P?S(\"entries\"):F:void 0,N=\"Array\"==y&&O.entries||E,W,A,M;if(N&&(M=a(N.call(new t)))!==Object.prototype&&M.next&&(c(M,w,!0),n||\"function\"==typeof M[f]||i(M,f,v)),P&&E&&E.name!==p&&(D=!0,F=function values(){return E.call(this)}),n&&!b||!s&&!D&&O[f]||i(O,f,F),o[y]=F,o[w]=v,x)if(W={values:P?F:S(p),keys:m?F:S(h),entries:I},b)for(A in W)A in O||e(O,A,W[A]);else r(r.P+r.F*(s||D),y,W);return W}},jfwh:function(module,exports,t){var n=t(\"Dyaa\"),r=t(\"DWPK\"),e=t(\"Qu47\"),i=t(\"G/tI\");r(r.S+r.F*t(\"tGBs\")(function(){Reflect.defineProperty(n.f({},1,{value:1}),1,{value:2})}),\"Reflect\",{defineProperty:function defineProperty(t,r,o){e(t),r=i(r,!0),e(o);try{return n.f(t,r,o),!0}catch(t){return!1}}})},\"joU+\":function(module,exports,t){var n=t(\"36VY\");module.exports=function(t,r){if(\"number\"!=typeof t&&\"Number\"!=n(t))throw TypeError(r);return+t}},jozP:function(module,exports,t){for(var n=t(\"IhuO\"),r=t(\"t+KX\"),e=t(\"vUcD\"),i=t(\"JVqh\"),o=t(\"w/rr\"),u=t(\"jS79\"),c=t(\"kzbW\"),a=c(\"iterator\"),f=c(\"toStringTag\"),s=u.Array,l={CSSRuleList:!0,CSSStyleDeclaration:!1,CSSValueList:!1,ClientRectList:!1,DOMRectList:!1,DOMStringList:!1,DOMTokenList:!0,DataTransferItemList:!1,FileList:!1,HTMLAllCollection:!1,HTMLCollection:!1,HTMLFormElement:!1,HTMLSelectElement:!1,MediaList:!0,MimeTypeArray:!1,NamedNodeMap:!1,NodeList:!0,PaintRequestList:!1,Plugin:!1,PluginArray:!1,SVGLengthList:!1,SVGNumberList:!1,SVGPathSegList:!1,SVGPointList:!1,SVGStringList:!1,SVGTransformList:!1,SourceBufferList:!1,StyleSheetList:!0,TextTrackCueList:!1,TextTrackList:!1,TouchList:!1},h=r(l),p=0;p<h.length;p++){var v=h[p],y=l[v],d=i[v],g=d&&d.prototype,x;if(g&&(g[a]||o(g,a,s),g[f]||o(g,f,v),u[v]=s,y))for(x in n)g[x]||e(g,x,n[x],!0)}},k4iZ:function(module,exports,t){t(\"Rtif\"),module.exports=t(\"oG9l\").Array.includes},k5B3:function(module,exports,t){t(\"SmAJ\"),module.exports=t(\"oG9l\").String.padEnd},k968:function(module,exports,t){\"use strict\";var n=t(\"DWPK\"),r=t(\"7xV1\"),e=t(\"36VY\"),i=t(\"UazY\"),o=t(\"WNFN\"),u=[].slice;n(n.P+n.F*t(\"tGBs\")(function(){r&&u.call(r)}),\"Array\",{slice:function slice(t,n){var r=o(this.length),c=e(this);if(n=void 0===n?r:n,\"Array\"==c)return u.call(this,t,n);for(var a=i(t,r),f=i(n,r),s=o(f-a),l=new Array(s),h=0;h<s;h++)l[h]=\"String\"==c?this.charAt(a+h):this[a+h];return l}})},kF8q:function(module,exports,t){var n=t(\"DWPK\"),r=t(\"UFFn\")(!1);n(n.S,\"Object\",{values:function values(t){return r(t)}})},kiuN:function(module,exports,t){var n=t(\"DWPK\");n(n.S,\"Math\",{sign:t(\"oDZx\")})},kz6D:function(module,exports,t){\"use strict\";if(t(\"Zznq\")){var n=t(\"O3e3\"),r=t(\"JVqh\"),e=t(\"tGBs\"),i=t(\"DWPK\"),o=t(\"djRs\"),u=t(\"XYiB\"),c=t(\"1AGL\"),a=t(\"SxNR\"),f=t(\"FUuU\"),s=t(\"w/rr\"),l=t(\"5gM1\"),h=t(\"2LKT\"),p=t(\"WNFN\"),v=t(\"SCsK\"),y=t(\"UazY\"),d=t(\"G/tI\"),g=t(\"fjOf\"),x=t(\"6GDU\"),m=t(\"zflD\"),b=t(\"N/80\"),S=t(\"PQH9\"),w=t(\"rzNn\"),P=t(\"rQa1\"),D=t(\"mTtQ\").f,O=t(\"V1/C\"),E=t(\"qQmm\"),F=t(\"kzbW\"),I=t(\"ni3+\"),N=t(\"ywNy\"),W=t(\"Cn39\"),A=t(\"IhuO\"),M=t(\"jS79\"),j=t(\"O57q\"),G=t(\"28UD\"),K=t(\"jSlo\"),k=t(\"xJHY\"),z=t(\"Dyaa\"),T=t(\"6gX+\"),U=z.f,R=T.f,L=r.RangeError,q=r.TypeError,Y=r.Uint8Array,C=\"ArrayBuffer\",V=\"SharedArrayBuffer\",Z=\"BYTES_PER_ELEMENT\",Q=\"prototype\",B=Array.prototype,J=u.ArrayBuffer,X=u.DataView,H=I(0),tt=I(2),nt=I(3),rt=I(4),et=I(5),it=I(6),ot=N(!0),ut=N(!1),ct=A.values,at=A.keys,ft=A.entries,st=B.lastIndexOf,lt=B.reduce,ht=B.reduceRight,pt=B.join,vt=B.sort,yt=B.slice,dt=B.toString,gt=B.toLocaleString,xt=F(\"iterator\"),mt=F(\"toStringTag\"),bt=E(\"typed_constructor\"),St=E(\"def_constructor\"),wt=o.CONSTR,Pt=o.TYPED,Dt=o.VIEW,Ot=\"Wrong length!\",Et=I(1,function(t,n){return At(W(t,t[St]),n)}),Ft=e(function(){return 1===new Y(new Uint16Array([1]).buffer)[0]}),It=!!Y&&!!Y.prototype.set&&e(function(){new Y(1).set({})}),Nt=function(t,n){var r=h(t);if(r<0||r%n)throw L(\"Wrong offset!\");return r},Wt=function(t){if(m(t)&&Pt in t)return t;throw q(t+\" is not a typed array!\")},At=function(t,n){if(!(m(t)&&bt in t))throw q(\"It is not a typed array constructor!\");return new t(n)},_t=function(t,n){return Mt(W(t,t[St]),n)},Mt=function(t,n){for(var r=0,e=n.length,i=At(t,e);e>r;)i[r]=n[r++];return i},jt=function(t,n,r){U(t,n,{get:function(){return this._d[r]}})},Gt=function from(t){var n=b(t),r=arguments.length,e=r>1?arguments[1]:void 0,i=void 0!==e,o=O(n),u,a,f,s,l,h;if(null!=o&&!S(o)){for(h=o.call(n),f=[],u=0;!(l=h.next()).done;u++)f.push(l.value);n=f}for(i&&r>2&&(e=c(e,arguments[2],2)),u=0,a=p(n.length),s=At(this,a);a>u;u++)s[u]=i?e(n[u],u):n[u];return s},Kt=function of(){for(var t=0,n=arguments.length,r=At(this,n);n>t;)r[t]=arguments[t++];return r},kt=!!Y&&e(function(){gt.call(new Y(1))}),zt=function toLocaleString(){return gt.apply(kt?yt.call(Wt(this)):Wt(this),arguments)},Tt={copyWithin:function copyWithin(t,n){return k.call(Wt(this),t,n,arguments.length>2?arguments[2]:void 0)},every:function every(t){return rt(Wt(this),t,arguments.length>1?arguments[1]:void 0)},fill:function fill(t){return K.apply(Wt(this),arguments)},filter:function filter(t){return _t(this,tt(Wt(this),t,arguments.length>1?arguments[1]:void 0))},find:function find(t){return et(Wt(this),t,arguments.length>1?arguments[1]:void 0)},findIndex:function findIndex(t){return it(Wt(this),t,arguments.length>1?arguments[1]:void 0)},forEach:function forEach(t){H(Wt(this),t,arguments.length>1?arguments[1]:void 0)},indexOf:function indexOf(t){return ut(Wt(this),t,arguments.length>1?arguments[1]:void 0)},includes:function includes(t){return ot(Wt(this),t,arguments.length>1?arguments[1]:void 0)},join:function join(t){return pt.apply(Wt(this),arguments)},lastIndexOf:function lastIndexOf(t){return st.apply(Wt(this),arguments)},map:function map(t){return Et(Wt(this),t,arguments.length>1?arguments[1]:void 0)},reduce:function reduce(t){return lt.apply(Wt(this),arguments)},reduceRight:function reduceRight(t){return ht.apply(Wt(this),arguments)},reverse:function reverse(){for(var t=this,n=Wt(this).length,r=Math.floor(n/2),e=0,i;e<r;)i=this[e],this[e++]=this[--n],this[n]=i;return this},some:function some(t){return nt(Wt(this),t,arguments.length>1?arguments[1]:void 0)},sort:function sort(t){return vt.call(Wt(this),t)},subarray:function subarray(t,n){var r=Wt(this),e=r.length,i=y(t,e);return new(W(r,r[St]))(r.buffer,r.byteOffset+i*r.BYTES_PER_ELEMENT,p((void 0===n?e:y(n,e))-i))}},Ut=function slice(t,n){return _t(this,yt.call(Wt(this),t,n))},Rt=function set(t){Wt(this);var n=Nt(arguments[1],1),r=this.length,e=b(t),i=p(e.length),o=0;if(i+n>r)throw L(Ot);for(;o<i;)this[n+o]=e[o++]},Lt={entries:function entries(){return ft.call(Wt(this))},keys:function keys(){return at.call(Wt(this))},values:function values(){return ct.call(Wt(this))}},qt=function(t,n){return m(t)&&t[Pt]&&\"symbol\"!=typeof n&&n in t&&String(+n)==String(n)},Yt=function getOwnPropertyDescriptor(t,n){return qt(t,n=d(n,!0))?f(2,t[n]):R(t,n)},Ct=function defineProperty(t,n,r){if(qt(t,n=d(n,!0))&&m(r)&&g(r,\"value\")&&!g(r,\"get\")&&!g(r,\"set\")&&!r.configurable&&(!g(r,\"writable\")||r.writable)&&(!g(r,\"enumerable\")||r.enumerable))return t[n]=r.value,t;return U(t,n,r)};wt||(T.f=Yt,z.f=Ct),i(i.S+i.F*!wt,\"Object\",{getOwnPropertyDescriptor:Yt,defineProperty:Ct}),e(function(){dt.call({})})&&(dt=gt=function toString(){return pt.call(this)});var Vt=l({},Tt);l(Vt,Lt),s(Vt,xt,Lt.values),l(Vt,{slice:Ut,set:Rt,constructor:function(){},toString:dt,toLocaleString:zt}),jt(Vt,\"buffer\",\"b\"),jt(Vt,\"byteOffset\",\"o\"),jt(Vt,\"byteLength\",\"l\"),jt(Vt,\"length\",\"e\"),U(Vt,mt,{get:function(){return this[Pt]}}),module.exports=function(t,u,c,f){var l=t+((f=!!f)?\"Clamped\":\"\")+\"Array\",h=\"get\"+t,y=\"set\"+t,d=r[l],g=d||{},b=d&&P(d),S=!d||!o.ABV,O={},E=d&&d.prototype,F=function(t,n){var r=t._d;return r.v[h](n*u+r.o,Ft)},I=function(t,n,r){var e=t._d;f&&(r=(r=Math.round(r))<0?0:r>255?255:255&r),e.v[y](n*u+e.o,r,Ft)},N=function(t,n){U(t,n,{get:function(){return F(this,n)},set:function(t){return I(this,n,t)},enumerable:!0})};S?(d=c(function(t,n,r,e){a(t,d,l,\"_d\");var i=0,o=0,c,f,h,y;if(m(n)){if(!(n instanceof J||(y=x(n))==C||y==V))return Pt in n?Mt(d,n):Gt.call(d,n);c=n,o=Nt(r,u);var g=n.byteLength;if(void 0===e){if(g%u)throw L(Ot);if((f=g-o)<0)throw L(Ot)}else if((f=p(e)*u)+o>g)throw L(Ot);h=f/u}else h=v(n),c=new J(f=h*u);for(s(t,\"_d\",{b:c,o:o,l:f,e:h,v:new X(c)});i<h;)N(t,i++)}),E=d.prototype=w(Vt),s(E,\"constructor\",d)):e(function(){d(1)})&&e(function(){new d(-1)})&&j(function(t){new d,new d(null),new d(1.5),new d(t)},!0)||(d=c(function(t,n,r,e){var i;if(a(t,d,l),!m(n))return new g(v(n));if(n instanceof J||(i=x(n))==C||i==V)return void 0!==e?new g(n,Nt(r,u),e):void 0!==r?new g(n,Nt(r,u)):new g(n);if(Pt in n)return Mt(d,n);return Gt.call(d,n)}),H(b!==Function.prototype?D(g).concat(D(b)):D(g),function(t){t in d||s(d,t,g[t])}),d.prototype=E,n||(E.constructor=d));var W=E[xt],A=!!W&&(\"values\"==W.name||null==W.name),K=Lt.values;s(d,bt,!0),s(E,Pt,l),s(E,Dt,!0),s(E,St,d),(f?new d(1)[mt]==l:mt in E)||U(E,mt,{get:function(){return l}}),O[l]=d,i(i.G+i.W+i.F*(d!=g),O),i(i.S,l,{BYTES_PER_ELEMENT:u}),i(i.S+i.F*e(function(){g.of.call(d,1)}),l,{from:Gt,of:Kt}),Z in E||s(E,Z,u),i(i.P,l,Tt),G(l),i(i.P+i.F*It,l,{set:Rt}),i(i.P+i.F*!A,l,Lt),n||E.toString==dt||(E.toString=dt),i(i.P+i.F*e(function(){new d(1).slice()}),l,{slice:Ut}),i(i.P+i.F*(e(function(){return[1,2].toLocaleString()!=new d([1,2]).toLocaleString()})||!e(function(){E.toLocaleString.call([1,2])})),l,{toLocaleString:zt}),M[l]=A?W:K,n||A||s(E,xt,K)}}else module.exports=function(){}},kzbW:function(module,exports,t){var n=t(\"lORq\")(\"wks\"),r=t(\"qQmm\"),e=t(\"JVqh\").Symbol,i=\"function\"==typeof e,o;(module.exports=function(t){return n[t]||(n[t]=i&&e[t]||(i?e:r)(\"Symbol.\"+t))}).store=n},l46h:function(module,exports,t){\"use strict\";var n=t(\"dIDi\");function PromiseCapability(t){var r,e;this.promise=new t(function(t,n){if(void 0!==r||void 0!==e)throw TypeError(\"Bad Promise constructor\");r=t,e=n}),this.resolve=n(r),this.reject=n(e)}module.exports.f=function(t){return new PromiseCapability(t)}},lORq:function(module,exports,t){var n=t(\"oG9l\"),r=t(\"JVqh\"),e=\"__core-js_shared__\",i=r[e]||(r[e]={});(module.exports=function(t,n){return i[t]||(i[t]=void 0!==n?n:{})})(\"versions\",[]).push({version:n.version,mode:t(\"O3e3\")?\"pure\":\"global\",copyright:\"© 2019 Denis Pushkarev (zloirock.ru)\"})},mCUu:function(module,exports,t){var n=t(\"JVqh\"),r=t(\"DWPK\"),e=t(\"Z5qv\"),i=[].slice,o=/MSIE .\\./.test(e),u=function(t){return function(n,r){var e=arguments.length>2,o=!!e&&i.call(arguments,2);return t(e?function(){(\"function\"==typeof n?n:Function(n)).apply(this,o)}:n,r)}};r(r.G+r.B+r.F*o,{setTimeout:u(n.setTimeout),setInterval:u(n.setInterval)})},mTtQ:function(module,exports,t){var n=t(\"zICG\"),r=t(\"r67A\").concat(\"length\",\"prototype\");exports.f=Object.getOwnPropertyNames||function getOwnPropertyNames(t){return n(t,r)}},mieu:function(module,exports){exports.f={}.propertyIsEnumerable},mnfT:function(module,exports,t){var n=t(\"zflD\");t(\"Y5dT\")(\"isFrozen\",function(t){return function isFrozen(r){return!n(r)||!!t&&t(r)}})},mwxG:function(module,exports,t){\"use strict\";var n=t(\"p0MZ\")(!0);module.exports=function(t,r,e){return r+(e?n(t,r).length:1)}},nFV2:function(module,exports,t){var n=t(\"WNFN\"),r=t(\"bYli\"),e=t(\"Z0RU\");module.exports=function(t,i,o,u){var c=String(e(t)),a=c.length,f=void 0===o?\" \":String(o),s=n(i);if(s<=a||\"\"==f)return c;var l=s-a,h=r.call(f,Math.ceil(l/f.length));return h.length>l&&(h=h.slice(0,l)),u?h+c:c+h}},nHUN:function(module,exports,t){\"use strict\";var n=t(\"DWPK\"),r=t(\"djRs\"),e=t(\"XYiB\"),i=t(\"Qu47\"),o=t(\"UazY\"),u=t(\"WNFN\"),c=t(\"zflD\"),a=t(\"JVqh\").ArrayBuffer,f=t(\"Cn39\"),s=e.ArrayBuffer,l=e.DataView,h=r.ABV&&a.isView,p=s.prototype.slice,v=r.VIEW,y=\"ArrayBuffer\";n(n.G+n.W+n.F*(a!==s),{ArrayBuffer:s}),n(n.S+n.F*!r.CONSTR,y,{isView:function isView(t){return h&&h(t)||c(t)&&v in t}}),n(n.P+n.U+n.F*t(\"tGBs\")(function(){return!new s(2).slice(1,void 0).byteLength}),y,{slice:function slice(t,n){if(void 0!==p&&void 0===n)return p.call(i(this),t);for(var r=i(this).byteLength,e=o(t,r),c=o(void 0===n?r:n,r),a=new(f(this,s))(u(c-e)),h=new l(this),v=new l(a),y=0;e<c;)v.setUint8(y++,h.getUint8(e++));return a}}),t(\"28UD\")(y)},nPoc:function(module,exports,t){var n=t(\"DWPK\");n(n.P,\"Function\",{bind:t(\"tmzv\")})},ncK2:function(module,exports,t){\"use strict\";var n=t(\"TOx1\"),r=t(\"OI3s\"),e=\"Map\";module.exports=t(\"rvbA\")(e,function(t){return function Map(){return t(this,arguments.length>0?arguments[0]:void 0)}},{get:function get(t){var i=n.getEntry(r(this,e),t);return i&&i.v},set:function set(t,i){return n.def(r(this,e),0===t?0:t,i)}},n,!0)},\"ni3+\":function(module,exports,t){var n=t(\"1AGL\"),r=t(\"JjXK\"),e=t(\"N/80\"),i=t(\"WNFN\"),o=t(\"EM9/\");module.exports=function(t,u){var c=1==t,a=2==t,f=3==t,s=4==t,l=6==t,h=5==t||l,p=u||o;return function(o,u,v){for(var y=e(o),d=r(y),g=n(u,v,3),x=i(d.length),m=0,b=c?p(o,x):a?p(o,0):void 0,S,w;x>m;m++)if((h||m in d)&&(w=g(S=d[m],m,y),t))if(c)b[m]=w;else if(w)switch(t){case 3:return!0;case 5:return S;case 6:return m;case 2:b.push(S)}else if(s)return!1;return l?-1:f||s?s:b}}},nj8Z:function(module,exports,t){\"use strict\";var n=t(\"FprW\"),r=t(\"Qu47\"),e=t(\"Cn39\"),i=t(\"mwxG\"),o=t(\"WNFN\"),u=t(\"5by1\"),c=t(\"EsFs\"),a=t(\"tGBs\"),f=Math.min,s=[].push,l=\"split\",h=\"length\",p=\"lastIndex\",v=4294967295,y=!a(function(){RegExp(4294967295,\"y\")});t(\"68oU\")(\"split\",2,function(t,a,l,h){var p;return p=\"c\"==\"abbc\".split(/(b)*/)[1]||4!=\"test\".split(/(?:)/,-1).length||2!=\"ab\".split(/(?:ab)*/).length||4!=\".\".split(/(.?)(.?)/).length||\".\".split(/()()/).length>1||\"\".split(/.?/).length?function(t,r){var e=String(this);if(void 0===t&&0===r)return[];if(!n(t))return l.call(e,t,r);for(var i=[],o=(t.ignoreCase?\"i\":\"\")+(t.multiline?\"m\":\"\")+(t.unicode?\"u\":\"\")+(t.sticky?\"y\":\"\"),u=0,a=void 0===r?4294967295:r>>>0,f=new RegExp(t.source,o+\"g\"),h,p,v;(h=c.call(f,e))&&!((p=f.lastIndex)>u&&(i.push(e.slice(u,h.index)),h.length>1&&h.index<e.length&&s.apply(i,h.slice(1)),v=h[0].length,u=p,i.length>=a));)f.lastIndex===h.index&&f.lastIndex++;return u===e.length?!v&&f.test(\"\")||i.push(\"\"):i.push(e.slice(u)),i.length>a?i.slice(0,a):i}:\"0\".split(void 0,0).length?function(t,n){return void 0===t&&0===n?[]:l.call(this,t,n)}:l,[function split(n,r){var e=t(this),i=null==n?void 0:n[a];return void 0!==i?i.call(n,e,r):p.call(String(e),n,r)},function(t,n){var c=h(p,t,this,n,p!==l);if(c.done)return c.value;var a=r(t),s=String(this),v=e(a,RegExp),d=a.unicode,g=(a.ignoreCase?\"i\":\"\")+(a.multiline?\"m\":\"\")+(a.unicode?\"u\":\"\")+(y?\"y\":\"g\"),x=new v(y?a:\"^(?:\"+a.source+\")\",g),m=void 0===n?4294967295:n>>>0;if(0===m)return[];if(0===s.length)return null===u(x,s)?[s]:[];for(var b=0,S=0,w=[];S<s.length;){x.lastIndex=y?S:0;var P=u(x,y?s:s.slice(S)),D;if(null===P||(D=f(o(x.lastIndex+(y?0:S)),s.length))===b)S=i(s,S,d);else{if(w.push(s.slice(b,S)),w.length===m)return w;for(var O=1;O<=P.length-1;O++)if(w.push(P[O]),w.length===m)return w;S=b=D}}return w.push(s.slice(b)),w}]})},nkYT:function(module,exports,t){\"use strict\";var n=t(\"JVqh\"),r=t(\"fjOf\"),e=t(\"Zznq\"),i=t(\"DWPK\"),o=t(\"vUcD\"),u=t(\"ve2U\").KEY,c=t(\"tGBs\"),a=t(\"lORq\"),f=t(\"YX/n\"),s=t(\"qQmm\"),l=t(\"kzbW\"),h=t(\"WjCL\"),p=t(\"F7Lc\"),v=t(\"ePkw\"),y=t(\"vEh7\"),d=t(\"Qu47\"),g=t(\"zflD\"),x=t(\"N/80\"),m=t(\"zrYH\"),b=t(\"G/tI\"),S=t(\"FUuU\"),w=t(\"rzNn\"),P=t(\"7EdP\"),D=t(\"6gX+\"),O=t(\"4DiU\"),E=t(\"Dyaa\"),F=t(\"t+KX\"),I=D.f,N=E.f,W=P.f,A=n.Symbol,M=n.JSON,j=M&&M.stringify,G=\"prototype\",K=l(\"_hidden\"),k=l(\"toPrimitive\"),z={}.propertyIsEnumerable,T=a(\"symbol-registry\"),U=a(\"symbols\"),R=a(\"op-symbols\"),L=Object.prototype,q=\"function\"==typeof A&&!!O.f,Y=n.QObject,C=!Y||!Y.prototype||!Y.prototype.findChild,V=e&&c(function(){return 7!=w(N({},\"a\",{get:function(){return N(this,\"a\",{value:7}).a}})).a})?function(t,n,r){var e=I(L,n);e&&delete L[n],N(t,n,r),e&&t!==L&&N(L,n,e)}:N,Z=function(t){var n=U[t]=w(A.prototype);return n._k=t,n},Q=q&&\"symbol\"==typeof A.iterator?function(t){return\"symbol\"==typeof t}:function(t){return t instanceof A},B=function defineProperty(t,n,e){if(t===L&&B(R,n,e),d(t),n=b(n,!0),d(e),r(U,n))return e.enumerable?(r(t,K)&&t[K][n]&&(t[K][n]=!1),e=w(e,{enumerable:S(0,!1)})):(r(t,K)||N(t,K,S(1,{})),t[K][n]=!0),V(t,n,e);return N(t,n,e)},J=function defineProperties(t,n){d(t);for(var r=v(n=m(n)),e=0,i=r.length,o;i>e;)B(t,o=r[e++],n[o]);return t},X=function create(t,n){return void 0===n?w(t):J(w(t),n)},H=function propertyIsEnumerable(t){var n=z.call(this,t=b(t,!0));if(this===L&&r(U,t)&&!r(R,t))return!1;return!(n||!r(this,t)||!r(U,t)||r(this,K)&&this[K][t])||n},tt=function getOwnPropertyDescriptor(t,n){if(t=m(t),n=b(n,!0),t===L&&r(U,n)&&!r(R,n))return;var e=I(t,n);return!e||!r(U,n)||r(t,K)&&t[K][n]||(e.enumerable=!0),e},nt=function getOwnPropertyNames(t){for(var n=W(m(t)),e=[],i=0,o;n.length>i;)r(U,o=n[i++])||o==K||o==u||e.push(o);return e},rt=function getOwnPropertySymbols(t){for(var n=t===L,e=W(n?R:m(t)),i=[],o=0,u;e.length>o;)!r(U,u=e[o++])||n&&!r(L,u)||i.push(U[u]);return i};q||(o((A=function Symbol(){if(this instanceof A)throw TypeError(\"Symbol is not a constructor!\");var t=s(arguments.length>0?arguments[0]:void 0),n=function(e){this===L&&n.call(R,e),r(this,K)&&r(this[K],t)&&(this[K][t]=!1),V(this,t,S(1,e))};return e&&C&&V(L,t,{configurable:!0,set:n}),Z(t)}).prototype,\"toString\",function toString(){return this._k}),D.f=tt,E.f=B,t(\"mTtQ\").f=P.f=nt,t(\"mieu\").f=H,O.f=rt,e&&!t(\"O3e3\")&&o(L,\"propertyIsEnumerable\",H,!0),h.f=function(t){return Z(l(t))}),i(i.G+i.W+i.F*!q,{Symbol:A});for(var et=\"hasInstance,isConcatSpreadable,iterator,match,replace,search,species,split,toPrimitive,toStringTag,unscopables\".split(\",\"),it=0;et.length>it;)l(et[it++]);for(var ot=F(l.store),ut=0;ot.length>ut;)p(ot[ut++]);i(i.S+i.F*!q,\"Symbol\",{for:function(t){return r(T,t+=\"\")?T[t]:T[t]=A(t)},keyFor:function keyFor(t){if(!Q(t))throw TypeError(t+\" is not a symbol!\");for(var n in T)if(T[n]===t)return n},useSetter:function(){C=!0},useSimple:function(){C=!1}}),i(i.S+i.F*!q,\"Object\",{create:X,defineProperty:B,defineProperties:J,getOwnPropertyDescriptor:tt,getOwnPropertyNames:nt,getOwnPropertySymbols:rt});var ct=c(function(){O.f(1)});i(i.S+i.F*ct,\"Object\",{getOwnPropertySymbols:function getOwnPropertySymbols(t){return O.f(x(t))}}),M&&i(i.S+i.F*(!q||c(function(){var t=A();return\"[null]\"!=j([t])||\"{}\"!=j({a:t})||\"{}\"!=j(Object(t))})),\"JSON\",{stringify:function stringify(t){for(var n=[t],r=1,e,i;arguments.length>r;)n.push(arguments[r++]);if(i=e=n[1],!g(e)&&void 0===t||Q(t))return;return y(e)||(e=function(t,n){if(\"function\"==typeof i&&(n=i.call(this,t,n)),!Q(n))return n}),n[1]=e,j.apply(M,n)}}),A.prototype[k]||t(\"w/rr\")(A.prototype,k,A.prototype.valueOf),f(A,\"Symbol\"),f(Math,\"Math\",!0),f(n.JSON,\"JSON\",!0)},nsg3:function(module,exports,t){var n=t(\"kzbW\")(\"match\");module.exports=function(t){var r=/./;try{\"/./\"[t](r)}catch(e){try{return r[n]=!1,!\"/./\"[t](r)}catch(t){}}return!0}},oDZx:function(module,exports){module.exports=Math.sign||function sign(t){return 0==(t=+t)||t!=t?t:t<0?-1:1}},oG9l:function(module,exports){var t=module.exports={version:\"2.6.11\"};\"number\"==typeof __e&&(__e=t)},oyyx:function(module,exports,t){module.exports=!t(\"ZDSA\")(function(){return 7!=Object.defineProperty({},\"a\",{get:function(){return 7}}).a})},p0MZ:function(module,exports,t){var n=t(\"2LKT\"),r=t(\"Z0RU\");module.exports=function(t){return function(e,i){var o=String(r(e)),u=n(i),c=o.length,a,f;if(u<0||u>=c)return t?\"\":void 0;return(a=o.charCodeAt(u))<55296||a>56319||u+1===c||(f=o.charCodeAt(u+1))<56320||f>57343?t?o.charAt(u):a:t?o.slice(u,u+2):f-56320+(a-55296<<10)+65536}}},p9aZ:function(module,exports,t){var n=t(\"zflD\"),r=t(\"ve2U\").onFreeze;t(\"Y5dT\")(\"preventExtensions\",function(t){return function preventExtensions(e){return t&&n(e)?t(r(e)):e}})},\"q/na\":function(module,exports,t){\"use strict\";var n=t(\"TOx1\"),r=t(\"OI3s\"),e=\"Set\";module.exports=t(\"rvbA\")(e,function(t){return function Set(){return t(this,arguments.length>0?arguments[0]:void 0)}},{add:function add(t){return n.def(r(this,e),t=0===t?0:t,t)}},n)},q4wH:function(module,exports,t){\"use strict\";var n=t(\"tGBs\"),r=Date.prototype.getTime,e=Date.prototype.toISOString,i=function(t){return t>9?t:\"0\"+t};module.exports=n(function(){return\"0385-07-25T07:06:39.999Z\"!=e.call(new Date(-5e13-1))})||!n(function(){e.call(new Date(NaN))})?function toISOString(){if(!isFinite(r.call(this)))throw RangeError(\"Invalid time value\");var t=this,n=t.getUTCFullYear(),e=t.getUTCMilliseconds(),o=n<0?\"-\":n>9999?\"+\":\"\";return o+(\"00000\"+Math.abs(n)).slice(o?-6:-4)+\"-\"+i(t.getUTCMonth()+1)+\"-\"+i(t.getUTCDate())+\"T\"+i(t.getUTCHours())+\":\"+i(t.getUTCMinutes())+\":\"+i(t.getUTCSeconds())+\".\"+(e>99?e:\"0\"+i(e))+\"Z\"}:e},q5AA:function(module,exports,t){var n=t(\"DWPK\"),r=t(\"/zXF\"),e=Math.exp;n(n.S+n.F*t(\"tGBs\")(function(){return-2e-17!=!Math.sinh(-2e-17)}),\"Math\",{sinh:function sinh(t){return Math.abs(t=+t)<1?(r(t)-r(-t))/2:(e(t-1)-e(-t-1))*(Math.E/2)}})},qD9n:function(module,exports,t){\"use strict\";var n=t(\"Qu47\"),r=t(\"G/tI\"),e=\"number\";module.exports=function(t){if(\"string\"!==t&&t!==e&&\"default\"!==t)throw TypeError(\"Incorrect hint\");return r(n(this),t!=e)}},qQmm:function(module,exports){var t=0,n=Math.random();module.exports=function(r){return\"Symbol(\".concat(void 0===r?\"\":r,\")_\",(++t+n).toString(36))}},qm9t:function(module,exports){module.exports=function(t){try{return{e:!1,v:t()}}catch(t){return{e:!0,v:t}}}},qza8:function(module,exports,t){t(\"dTuy\"),module.exports=t(\"oG9l\").String.padStart},r67A:function(module,exports){module.exports=\"constructor,hasOwnProperty,isPrototypeOf,propertyIsEnumerable,toLocaleString,toString,valueOf\".split(\",\")},rQa1:function(module,exports,t){var n=t(\"fjOf\"),r=t(\"N/80\"),e=t(\"yDFr\")(\"IE_PROTO\"),i=Object.prototype;module.exports=Object.getPrototypeOf||function(t){if(t=r(t),n(t,e))return t[e];if(\"function\"==typeof t.constructor&&t instanceof t.constructor)return t.constructor.prototype;return t instanceof Object?i:null}},rvbA:function(module,exports,t){\"use strict\";var n=t(\"JVqh\"),r=t(\"DWPK\"),e=t(\"vUcD\"),i=t(\"5gM1\"),o=t(\"ve2U\"),u=t(\"MDKO\"),c=t(\"SxNR\"),a=t(\"zflD\"),f=t(\"tGBs\"),s=t(\"O57q\"),l=t(\"YX/n\"),h=t(\"iHyg\");module.exports=function(t,p,v,y,d,g){var x=n[t],m=x,b=d?\"set\":\"add\",S=m&&m.prototype,w={},P=function(t){var n=S[t];e(S,t,\"delete\"==t?function(t){return!(g&&!a(t))&&n.call(this,0===t?0:t)}:\"has\"==t?function has(t){return!(g&&!a(t))&&n.call(this,0===t?0:t)}:\"get\"==t?function get(t){return g&&!a(t)?void 0:n.call(this,0===t?0:t)}:\"add\"==t?function add(t){return n.call(this,0===t?0:t),this}:function set(t,r){return n.call(this,0===t?0:t,r),this})};if(\"function\"==typeof m&&(g||S.forEach&&!f(function(){(new m).entries().next()}))){var D=new m,O=D[b](g?{}:-0,1)!=D,E=f(function(){D.has(1)}),F=s(function(t){new m(t)}),I=!g&&f(function(){for(var t=new m,n=5;n--;)t[b](n,n);return!t.has(-0)});F||((m=p(function(n,r){c(n,m,t);var e=h(new x,n,m);return null!=r&&u(r,d,e[b],e),e})).prototype=S,S.constructor=m),(E||I)&&(P(\"delete\"),P(\"has\"),d&&P(\"get\")),(I||O)&&P(b),g&&S.clear&&delete S.clear}else m=y.getConstructor(p,t,d,b),i(m.prototype,v),o.NEED=!0;return l(m,t),w[t]=m,r(r.G+r.W+r.F*(m!=x),w),g||y.setStrong(m,t,d),m}},rzNn:function(module,exports,t){var n=t(\"Qu47\"),r=t(\"IDWI\"),e=t(\"r67A\"),i=t(\"yDFr\")(\"IE_PROTO\"),o=function(){},u=\"prototype\",c=function(){var n=t(\"JVFS\")(\"iframe\"),r=e.length,i=\"<\",o=\">\",u;for(n.style.display=\"none\",t(\"7xV1\").appendChild(n),n.src=\"javascript:\",(u=n.contentWindow.document).open(),u.write(\"<script>document.F=Object<\\/script>\"),u.close(),c=u.F;r--;)delete c.prototype[e[r]];return c()};module.exports=Object.create||function create(t,e){var u;return null!==t?(o.prototype=n(t),u=new o,o.prototype=null,u[i]=t):u=c(),void 0===e?u:r(u,e)}},sDyz:function(module,exports){module.exports=Math.log1p||function log1p(t){return(t=+t)>-1e-8&&t<1e-8?t-t*t/2:Math.log(1+t)}},sO19:function(module,exports,t){var n=t(\"DWPK\"),r=t(\"rzNn\"),e=t(\"dIDi\"),i=t(\"Qu47\"),o=t(\"zflD\"),u=t(\"tGBs\"),c=t(\"tmzv\"),a=(t(\"JVqh\").Reflect||{}).construct,f=u(function(){function F(){}return!(a(function(){},[],F)instanceof F)}),s=!u(function(){a(function(){})});n(n.S+n.F*(f||s),\"Reflect\",{construct:function construct(t,n){e(t),i(n);var u=arguments.length<3?t:e(arguments[2]);if(s&&!f)return a(t,n,u);if(t==u){switch(n.length){case 0:return new t;case 1:return new t(n[0]);case 2:return new t(n[0],n[1]);case 3:return new t(n[0],n[1],n[2]);case 4:return new t(n[0],n[1],n[2],n[3])}var l=[null];return l.push.apply(l,n),new(c.apply(t,l))}var h=u.prototype,p=r(o(h)?h:Object.prototype),v=Function.apply.call(t,p,n);return o(v)?v:p}})},\"t+JZ\":function(module,exports,t){\"use strict\";t(\"x8E3\")(\"link\",function(t){return function link(n){return t(this,\"a\",\"href\",n)}})},\"t+KX\":function(module,exports,t){var n=t(\"zICG\"),r=t(\"r67A\");module.exports=Object.keys||function keys(t){return n(t,r)}},tGBs:function(module,exports){module.exports=function(t){try{return!!t()}catch(t){return!0}}},tGSB:function(module,exports,t){\"use strict\";var n=t(\"DWPK\"),r=t(\"ni3+\")(4);n(n.P+n.F*!t(\"YKEf\")([].every,!0),\"Array\",{every:function every(t){return r(this,t,arguments[1])}})},tQbs:function(module,exports,t){var n=t(\"JVqh\").parseFloat,r=t(\"uS/t\").trim;module.exports=1/n(t(\"XLjZ\")+\"-0\")!=-1/0?function parseFloat(t){var e=r(String(t),3),i=n(e);return 0===i&&\"-\"==e.charAt(0)?-0:i}:n},tToo:function(module,exports,t){var n=t(\"DWPK\");n(n.S+n.F,\"Object\",{assign:t(\"Tcbs\")})},tmzv:function(module,exports,t){\"use strict\";var n=t(\"dIDi\"),r=t(\"zflD\"),e=t(\"4rAR\"),i=[].slice,o={},u=function(t,n,r){if(!(n in o)){for(var e=[],i=0;i<n;i++)e[i]=\"a[\"+i+\"]\";o[n]=Function(\"F,a\",\"return new F(\"+e.join(\",\")+\")\")}return o[n](t,r)};module.exports=Function.bind||function bind(t){var o=n(this),c=i.call(arguments,1),a=function(){var n=c.concat(i.call(arguments));return this instanceof a?u(o,n.length,n):e(o,n,t)};return r(o.prototype)&&(a.prototype=o.prototype),a}},twuh:function(module,exports,t){t(\"Zyvw\"),module.exports=t(\"WjCL\").f(\"asyncIterator\")},uDrd:function(module,exports,t){var n=t(\"DWPK\"),r=t(\"/zXF\"),e=Math.exp;n(n.S,\"Math\",{tanh:function tanh(t){var n=r(t=+t),i=r(-t);return n==1/0?1:i==1/0?-1:(n-i)/(e(t)+e(-t))}})},uGR2:function(module,exports,t){\"use strict\";t(\"x8E3\")(\"sub\",function(t){return function sub(){return t(this,\"sub\",\"\",\"\")}})},uL02:function(module,exports,t){var n=t(\"RpEN\");module.exports=function(t){if(!n(t))throw TypeError(t+\" is not an object!\");return t}},\"uS/t\":function(module,exports,t){var n=t(\"DWPK\"),r=t(\"Z0RU\"),e=t(\"tGBs\"),i=t(\"XLjZ\"),o=\"[\"+i+\"]\",u=\"​",
      "\",c=RegExp(\"^\"+o+o+\"*\"),a=RegExp(o+o+\"*$\"),f=function(t,r,o){var c={},a=e(function(){return!!i[t]()||u[t]()!=u}),f=c[t]=a?r(s):i[t];o&&(c[o]=f),n(n.P+n.F*a,\"String\",c)},s=f.trim=function(t,n){return t=String(r(t)),1&n&&(t=t.replace(c,\"\")),2&n&&(t=t.replace(a,\"\")),t};module.exports=f},ultW:function(module,exports,t){var n=t(\"DWPK\"),r=t(\"tQbs\");n(n.G+n.F*(parseFloat!=r),{parseFloat:r})},v0XH:function(module,exports,t){t(\"kz6D\")(\"Int32\",4,function(t){return function Int32Array(n,r,e){return t(this,n,r,e)}})},vEh7:function(module,exports,t){var n=t(\"36VY\");module.exports=Array.isArray||function isArray(t){return\"Array\"==n(t)}},vUcD:function(module,exports,t){var n=t(\"JVqh\"),r=t(\"w/rr\"),e=t(\"fjOf\"),i=t(\"qQmm\")(\"src\"),o=t(\"yBGA\"),u=\"toString\",c=(\"\"+o).split(u);t(\"oG9l\").inspectSource=function(t){return o.call(t)},(module.exports=function(t,o,u,a){var f=\"function\"==typeof u;if(f&&(e(u,\"name\")||r(u,\"name\",o)),t[o]===u)return;f&&(e(u,i)||r(u,i,t[o]?\"\"+t[o]:c.join(String(o)))),t===n?t[o]=u:a?t[o]?t[o]=u:r(t,o,u):(delete t[o],r(t,o,u))})(Function.prototype,u,function toString(){return\"function\"==typeof this&&this[i]||o.call(this)})},vUhu:function(module,exports,t){\"use strict\";var n=t(\"DWPK\"),r=t(\"zrYH\"),e=t(\"2LKT\"),i=t(\"WNFN\"),o=[].lastIndexOf,u=!!o&&1/[1].lastIndexOf(1,-0)<0;n(n.P+n.F*(u||!t(\"YKEf\")(o)),\"Array\",{lastIndexOf:function lastIndexOf(t){if(u)return o.apply(this,arguments)||0;var n=r(this),c=i(n.length),a=c-1;for(arguments.length>1&&(a=Math.min(a,e(arguments[1]))),a<0&&(a=c+a);a>=0;a--)if(a in n&&n[a]===t)return a||0;return-1}})},vdVM:function(module,exports,t){var n=t(\"DWPK\"),r=t(\"UFFn\")(!0);n(n.S,\"Object\",{entries:function entries(t){return r(t)}})},ve2U:function(module,exports,t){var n=t(\"qQmm\")(\"meta\"),r=t(\"zflD\"),e=t(\"fjOf\"),i=t(\"Dyaa\").f,o=0,u=Object.isExtensible||function(){return!0},c=!t(\"tGBs\")(function(){return u(Object.preventExtensions({}))}),a=function(t){i(t,n,{value:{i:\"O\"+ ++o,w:{}}})},f=function(t,i){if(!r(t))return\"symbol\"==typeof t?t:(\"string\"==typeof t?\"S\":\"P\")+t;if(!e(t,n)){if(!u(t))return\"F\";if(!i)return\"E\";a(t)}return t[n].i},s=function(t,r){if(!e(t,n)){if(!u(t))return!0;if(!r)return!1;a(t)}return t[n].w},l=function(t){return c&&h.NEED&&u(t)&&!e(t,n)&&a(t),t},h=module.exports={KEY:n,NEED:!1,fastKey:f,getWeak:s,onFreeze:l}},vliS:function(module,exports,t){\"use strict\";var n=t(\"DWPK\"),r=t(\"oG9l\"),e=t(\"JVqh\"),i=t(\"Cn39\"),o=t(\"xQ3V\");n(n.P+n.R,\"Promise\",{finally:function(t){var n=i(this,r.Promise||e.Promise),u=\"function\"==typeof t;return this.then(u?function(r){return o(n,t()).then(function(){return r})}:t,u?function(r){return o(n,t()).then(function(){throw r})}:t)}})},\"w/rr\":function(module,exports,t){var n=t(\"Dyaa\"),r=t(\"FUuU\");module.exports=t(\"Zznq\")?function(t,e,i){return n.f(t,e,r(1,i))}:function(t,n,r){return t[n]=r,t}},wESe:function(module,exports,t){\"use strict\";t(\"x8E3\")(\"italics\",function(t){return function italics(){return t(this,\"i\",\"\",\"\")}})},x1DA:function(module,exports,t){var n=t(\"DWPK\"),r=t(\"/zXF\");n(n.S+n.F*(r!=Math.expm1),\"Math\",{expm1:r})},x6Mh:function(module,exports,t){\"use strict\";var n=t(\"Dyaa\"),r=t(\"FUuU\");module.exports=function(t,e,i){e in t?n.f(t,e,r(0,i)):t[e]=i}},x8E3:function(module,exports,t){var n=t(\"DWPK\"),r=t(\"tGBs\"),e=t(\"Z0RU\"),i=/\"/g,o=function(t,n,r,o){var u=String(e(t)),c=\"<\"+n;return\"\"!==r&&(c+=\" \"+r+'=\"'+String(o).replace(i,\"&quot;\")+'\"'),c+\">\"+u+\"</\"+n+\">\"};module.exports=function(t,e){var i={};i[t]=e(o),n(n.P+n.F*r(function(){var n=\"\"[t]('\"');return n!==n.toLowerCase()||n.split('\"').length>3}),\"String\",i)}},xJHY:function(module,exports,t){\"use strict\";var n=t(\"N/80\"),r=t(\"UazY\"),e=t(\"WNFN\");module.exports=[].copyWithin||function copyWithin(t,i){var o=n(this),u=e(o.length),c=r(t,u),a=r(i,u),f=arguments.length>2?arguments[2]:void 0,s=Math.min((void 0===f?u:r(f,u))-a,u-c),l=1;for(a<c&&c<a+s&&(l=-1,a+=s-1,c+=s-1);s-- >0;)a in o?o[c]=o[a]:delete o[c],c+=l,a+=l;return o}},xNOO:function(module,exports,t){var n=t(\"DWPK\"),r=t(\"MMkC\");r&&n(n.S,\"Reflect\",{setPrototypeOf:function setPrototypeOf(t,n){r.check(t,n);try{return r.set(t,n),!0}catch(t){return!1}}})},xQ3V:function(module,exports,t){var n=t(\"Qu47\"),r=t(\"zflD\"),e=t(\"l46h\");module.exports=function(t,i){if(n(t),r(i)&&i.constructor===t)return i;var o=e.f(t),u;return(0,o.resolve)(i),o.promise}},xj2u:function(module,exports,t){t(\"iCDq\"),module.exports=t(\"oG9l\").Object.getOwnPropertyDescriptors},xmnv:function(module,exports,t){\"use strict\";var n=t(\"Qu47\");module.exports=function(){var t=n(this),r=\"\";return t.global&&(r+=\"g\"),t.ignoreCase&&(r+=\"i\"),t.multiline&&(r+=\"m\"),t.unicode&&(r+=\"u\"),t.sticky&&(r+=\"y\"),r}},xqGM:function(module,exports,t){var n=t(\"DWPK\");n(n.S,\"Object\",{create:t(\"rzNn\")})},\"y+ZF\":function(module,exports,t){var n=t(\"DWPK\");n(n.S,\"Math\",{clz32:function clz32(t){return(t>>>=0)?31-Math.floor(Math.log(t+.5)*Math.LOG2E):32}})},yBGA:function(module,exports,t){module.exports=t(\"lORq\")(\"native-function-to-string\",Function.toString)},yDFr:function(module,exports,t){var n=t(\"lORq\")(\"keys\"),r=t(\"qQmm\");module.exports=function(t){return n[t]||(n[t]=r(t))}},yRS0:function(module,exports,t){var n=t(\"1AGL\"),r=t(\"4rAR\"),e=t(\"7xV1\"),i=t(\"JVFS\"),o=t(\"JVqh\"),u=o.process,c=o.setImmediate,a=o.clearImmediate,f=o.MessageChannel,s=o.Dispatch,l=0,h={},p=\"onreadystatechange\",v,y,d,g=function(){var t=+this;if(h.hasOwnProperty(t)){var n=h[t];delete h[t],n()}},x=function(t){g.call(t.data)};c&&a||(c=function setImmediate(t){for(var n=[],e=1;arguments.length>e;)n.push(arguments[e++]);return h[++l]=function(){r(\"function\"==typeof t?t:Function(t),n)},v(l),l},a=function clearImmediate(t){delete h[t]},\"process\"==t(\"36VY\")(u)?v=function(t){u.nextTick(n(g,t,1))}:s&&s.now?v=function(t){s.now(n(g,t,1))}:f?(d=(y=new f).port2,y.port1.onmessage=x,v=n(d.postMessage,d,1)):o.addEventListener&&\"function\"==typeof postMessage&&!o.importScripts?(v=function(t){o.postMessage(t+\"\",\"*\")},o.addEventListener(\"message\",x,!1)):v=p in i(\"script\")?function(t){e.appendChild(i(\"script\")).onreadystatechange=function(){e.removeChild(this),g.call(t)}}:function(t){setTimeout(n(g,t,1),0)}),module.exports={set:c,clear:a}},yuS9:function(module,exports,t){\"use strict\";var n=t(\"DWPK\"),r=t(\"zrYH\"),e=[].join;n(n.P+n.F*(t(\"JjXK\")!=Object||!t(\"YKEf\")(e)),\"Array\",{join:function join(t){return e.call(r(this),void 0===t?\",\":t)}})},ywNy:function(module,exports,t){var n=t(\"zrYH\"),r=t(\"WNFN\"),e=t(\"UazY\");module.exports=function(t){return function(i,o,u){var c=n(i),a=r(c.length),f=e(u,a),s;if(t&&o!=o){for(;a>f;)if((s=c[f++])!=s)return!0}else for(;a>f;f++)if((t||f in c)&&c[f]===o)return t||f||0;return!t&&-1}}},z9xx:function(module,exports,t){t(\"kz6D\")(\"Uint16\",2,function(t){return function Uint16Array(n,r,e){return t(this,n,r,e)}})},zICG:function(module,exports,t){var n=t(\"fjOf\"),r=t(\"zrYH\"),e=t(\"ywNy\")(!1),i=t(\"yDFr\")(\"IE_PROTO\");module.exports=function(t,o){var u=r(t),c=0,a=[],f;for(f in u)f!=i&&n(u,f)&&a.push(f);for(;o.length>c;)n(u,f=o[c++])&&(~e(a,f)||a.push(f));return a}},zflD:function(module,exports){module.exports=function(t){return\"object\"==typeof t?null!==t:\"function\"==typeof t}},zrYH:function(module,exports,t){var n=t(\"JjXK\"),r=t(\"Z0RU\");module.exports=function(t){return n(r(t))}}},[[\"55Il\",\"manifest\"]]]);\n",
      "});\n",
      "//# sourceMappingURL=polyfill.8417f859f432193848db.js.map</script><script>/* Polyfill Injector */\n",
      "(function(main) {\n",
      "if(/* Intl */!('Intl' in this)) {\n",
      "var js = document.createElement('script');\n",
      "js.src = \"https://d3njjcbhbojbot.cloudfront.net/web/bundles/vendor/Intl.js.v0-1-4/Intl.en-US.js?features=Intl\";\n",
      "js.onload = main;\n",
      "js.onerror = function() {\n",
      "console.error('Could not load polyfills script!');\n",
      "main();\n",
      "};\n",
      "document.head.appendChild(js);\n",
      "} else {\n",
      "main();\n",
      "}\n",
      "})(function() {\n"
     ]
    },
    {
     "name": "stdout",
     "output_type": "stream",
     "text": [
      "(window.webpackJsonp=window.webpackJsonp||[]).push([[\"preloader\"],{\"+6XX\":function(module,exports,e){var t=e(\"y1pI\");function listCacheHas(e){return t(this.__data__,e)>-1}module.exports=listCacheHas},\"/DZa\":function(module,e,t){\"use strict\";t.d(e,\"a\",function(){return ping}),t.d(e,\"b\",function(){return post}),t.d(e,\"c\",function(){return postIframe});var n=4e3;function serializeVal(e){return\"string\"!=typeof e&&window.JSON?window.JSON.stringify(e):e.toString()}function serialize(e){var t=[];for(var n in e)void 0!==e[n]&&t.push(n+\"=\"+encodeURIComponent(serializeVal(e[n])));return window.JSON||t.push(\"_noJSON_=true\"),t.join(\"&\")}function post(e,t,n){var r=new XMLHttpRequest;return r.open(\"POST\",e,!0),r.setRequestHeader(\"Content-Type\",\"application/json;charset=UTF-8\"),n&&\"function\"==typeof n&&(r.onload=function(){n(r)},r.ontimeout=function(){n(r)}),r.timeout=5e3,r.send(JSON.stringify(t)),r}function postIframe(e,t,n){var r=document.createElement(\"iframe\"),i=t.guid;document.body.appendChild(r),r.style.display=\"none\",r.name=i,r.contentWindow.name=i;var o=document.createElement(\"div\");o.style.display=\"none;\",document.body.appendChild(o);var a=document.createElement(\"form\"),s;for(var c in a.target=i,a.action=e,a.method=\"POST\",o.appendChild(a),t)void 0!==t[c]&&((s=document.createElement(\"input\")).type=\"hidden\",s.name=c,s.value=serializeVal(t[c]),a.appendChild(s));r.onload=r.onreadystatechange=function(){this.readyState&&\"complete\"!==this.readyState||(r.onreadystatechange=r.onload=null,r.parentNode.removeChild(r),a.parentNode.removeChild(a),n&&\"function\"==typeof n&&n())},a.submit()}function getScript(e,t,n){var r=document.createElement(\"script\");r.type=\"text/javascript\",r.async=!0,r.src=e+\"?\"+serialize(t),r.onload=r.onreadystatechange=function(){this.readyState&&\"complete\"!==this.readyState||(r.onreadystatechange=r.onload=null,r.parentNode.removeChild(r),n&&\"function\"==typeof n&&n())},document.head.appendChild(r)}function ping(e,t,r){if(serialize(t).length<n)if(navigator&&navigator.sendBeacon&&Blob){var i=new Blob([serialize(t)],{type:\"application/x-www-form-urlencoded\"});navigator.sendBeacon(e,i)}else getScript(e,t,r);else postIframe(e,t,r)}var r=ping,i=post,o=postIframe,a=getScript},\"2gN3\":function(module,exports,e){var t,n=e(\"Kz5y\")[\"__core-js_shared__\"];module.exports=n},\"3Fdi\":function(module,exports){var e,t=Function.prototype.toString;function toSource(e){if(null!=e){try{return t.call(e)}catch(e){}try{return e+\"\"}catch(e){}}return\"\"}module.exports=toSource},\"44Ds\":function(module,exports,e){var t=e(\"e4Nc\"),n=\"Expected a function\";function memoize(e,r){if(\"function\"!=typeof e||null!=r&&\"function\"!=typeof r)throw new TypeError(n);var i=function(){var t=arguments,n=r?r.apply(this,t):t[0],o=i.cache;if(o.has(n))return o.get(n);var a=e.apply(this,t);return i.cache=o.set(n,a)||o,a};return i.cache=new(memoize.Cache||t),i}memoize.Cache=t,module.exports=memoize},\"4kuk\":function(module,exports,e){var t=e(\"SfRM\"),n=e(\"Hvzi\"),r=e(\"u8Dt\"),i=e(\"ekgI\"),o=e(\"JSQU\");function Hash(e){var t=-1,n=null==e?0:e.length;for(this.clear();++t<n;){var r=e[t];this.set(r[0],r[1])}}Hash.prototype.clear=t,Hash.prototype.delete=n,Hash.prototype.get=r,Hash.prototype.has=i,Hash.prototype.set=o,module.exports=Hash},\"5Wga\":function(module,e,t){\"use strict\";var n=t(\"cDf5\"),r=t.n(n),i=function factory(){var e={};function errorEquals(e,t){return[\"message\",\"url\",\"line\",\"column\"].every(function(n){return e[n]==t[n]})}return function(t,n){var i=(n=n||{}).logger||window&&window.console||{error:function error(){}},o=n.version||\"\",a=n.versionTimestamp||\"\",s=function stringifyError(e){var t={};return e&&\"object\"==r()(e)&&Object.getOwnPropertyNames(e).forEach(function(n){t[n]=e[n]}),JSON.stringify(t)},c=function logClientSideError(r,c,u,h,f){if(!c||!h||!u)return;if(r.target&&r.type&&(r=r.type),f&&f.stack){for(var p=/\\(([^)\\s]+?):\\d+:\\d+\\)/gm,l=/\\s*(https?:\\/\\/[^:\\s]+?):\\d+:\\d+\\s*$/gm,d,g=!0;d=p.exec(f.stack);)if(d&&!n.scriptFilter.test(d[1])){g=!1;break}if(g)for(;d=l.exec(f.stack);)if(d&&!n.scriptFilter.test(d[1])){g=!1;break}if(!g)return}var m=s(f),v={message:r,script:c,line:u,url:window&&window.document?window.document.URL:c,column:h,error:m,version:o,versionTimestamp:a,appName:window.appName||\"unknown\"},y,w;(i.error(m),!c||n.scriptFilter&&!n.scriptFilter.test(c))||!errorEquals(v,e)&&(e=v,t(v))};if(\"undefined\"==typeof window)return c;window.onerror=c,window.errorTracker&&delete window.errorTracker}},o=i();\"function\"==typeof define&&t(\"PDX0\")&&(o=define(i)),e.a=o},\"8Q8L\":function(module,e,t){\"use strict\";var n=t(\"cDf5\"),r=t.n(n),i=t(\"VGgr\"),o=/.*\\/204\\.(min\\.)?js(\\?.*)?$/,a=function(){function TwoOhFour(e,t,n,r){this.ping=e,this.document=t,this.location=n,this.screen=r;for(var i=this.document.getElementsByTagName(\"script\"),a=i.length,s=this.document.referrer,c=this.location.host.split(\".\");c.length>2;)c.shift();this.archive=[],this.options={user:null,version:null,client:\"204\",from:s,domain:\".\"+c.join(\".\"),currentURL:this.location.href,tracker:\"__204u\",initialReferrerTracker:\"__204r\",beacon:\"https://www.coursera.org/eventing/info\",debug:!1};for(var u=0;u<a;u+=1)if(o.test(i[u].src)){var h=/^.+\\?(.*)$/.exec(i[u].src);if(h)for(var f=h[1].split(\"&\"),p=0;p<f.length;p+=1){var l=f[p].split(\"=\");/client|user|version|tracker|beacon/.test(l[0])&&(this.options[l[0]]=decodeURIComponent(l[1]))}break}this.initialize()}var e=TwoOhFour.prototype;return e.initialize=function initialize(){this.options.session=this.session();var e=this.options.initialReferrerTracker,t={domain:this.options.domain,days:365};this.options.initialReferrer=i.a.setOnce(e,this.options.from,t)},e.session=function session(e){var t={domain:this.options.domain,days:365};return i.a.get(this.options.tracker,t)},e.push=function push(e){if(\"object\"===r()(e))if(Array.isArray&&Array.isArray(e)||e.constructor===Array)switch(e[0]){case\"send\":this.send(e[1],e[2]);break;case\"tracker\":this.options.tracker=e[1],this.options.session=this.session();break;case\"post\":this.send(e[1],e[2],!0);break;case\"domain\":var t=e[1];t!==this.options.domain&&(i.a.removeAll([this.options.tracker,this.options.initialReferrerTracker],{domain:this.options.domain}),this.options.domain=t,this.initialize());break;default:this.options[e[0]]=e[1]}else this.send(e);return this},e.send=function send(){var e=arguments.length>0&&void 0!==arguments[0]?arguments[0]:{},t=arguments.length>1?arguments[1]:void 0,n=arguments.length>2?arguments[2]:void 0,r=\"string\"==typeof e?{key:e}:e;return this.location.href!==this.options.currentURL&&(this.options.from=this.options.currentURL,this.options.currentURL=this.location.href),this.options.user&&(r.user=this.options.user),this.options.version&&(r.version=this.options.version),this.options.from&&(r.from=this.options.from),this.options.initialReferrer&&(r.initialReferrer=this.options.initialReferrer),r.session=this.options.session,r.client=this.options.client,r.url=this.location.href,r.time=(new Date).getTime(),this.screen&&(r.screen={height:this.screen.height,width:this.screen.width}),this.options.debug?(this.archive.push(r),t&&t()):this.ping(this.options.beacon,r,t),this},e.batch=function batch(e){for(;e&&e.length;)this.push(e.shift());return this},TwoOhFour}();e.a=a},AP2z:function(module,exports,e){var t=e(\"nmnc\"),n=Object.prototype,r=n.hasOwnProperty,i=n.toString,o=t?t.toStringTag:void 0;function getRawTag(e){var t=r.call(e,o),n=e[o];try{e[o]=void 0;var a=!0}catch(e){}var s=i.call(e);return a&&(t?e[o]=n:delete e[o]),s}module.exports=getRawTag},\"Ag+A\":function(module,e,t){\"use strict\";var n=t(\"lSNA\"),r=t.n(n),i=t(\"RIqP\"),o=t.n(i),a=t(\"cDf5\"),s=t.n(a),c=t(\"44Ds\"),u=t.n(c),h=t(\"gr0B\");function isNumeric(e){return!isNaN(parseFloat(e))&&isFinite(e)}function _roundNumbers(e){var t={};for(var n in e){var r=e[n];isNumeric(r)?t[n]=Math.round(r):\"object\"===s()(r)?t[n]=_roundNumbers(r):t[n]=r}return t}function startLoadTime(){if(window.PerformanceNavigationTiming){var e=performance.getEntriesByType(\"navigation\")[0];return e&&e.startTime}}function firstPaintTime(){if(window.PerformancePaintTiming){var e=performance.getEntriesByType(\"paint\")[0];return e&&e.startTime}}function finishDocumentLoadTime(){if(window.PerformanceNavigationTiming){var e=performance.getEntriesByType(\"navigation\")[0];return e&&e.domContentLoadedEventEnd}}function finishLoadTime(){if(window.PerformanceNavigationTiming){var e=performance.getEntriesByType(\"navigation\")[0];return e&&e.loadEventEnd}}function resourceTimings(){var e;if(window.PerformanceResourceTiming)return(performance.getEntriesByType(\"resource\")||[]).filter(function(e){return e.name.endsWith(\".js\")||e.name.endsWith(\".css\")}).map(function(e){var t=e.toJSON?e.toJSON():{},n=[\"duration\",\"startTime\",\"name\",\"transferSize\",\"decodedBodySize\",\"encodedBodySize\"];return Object.assign.apply(Object,[{}].concat(o()(n.map(function(e){return r()({},e,t[e])}))))})}function rawPerformanceNavigationTimingResults(){if(window.PerformanceNavigationTiming){var e=performance.getEntriesByType(\"navigation\")[0];return e&&e.toJSON&&e.toJSON()}}function _extractTiming(e){return{dns:e.domainLookupEnd-e.domainLookupStart,connection:e.connectEnd-e.connectStart,request:e.responseStart-e.requestStart,response:e.responseEnd-e.responseStart}}function _extractPageTiming(e){var t;if(!e||0===e.navigationStart)return{};var n={};for(var r in e)\"number\"==typeof e[r]&&(n[r]=e[r]);var i={totalload:e.loadEventEnd-e.navigationStart,domReady:e.domComplete-e.domInteractive,redirect:e.redirectEnd-e.redirectStart,appcache:e.domainLookupStart-e.fetchStart,network:e.responseEnd-e.fetchStart,initDomTree:e.domInteractive-e.responseEnd,pageload:e.loadEventEnd-e.responseEnd,interactive:e.domInteractive-e.navigationStart},o=Object.assign(_extractTiming(e),i),a={startLoadTime:startLoadTime(),firstPaint:firstPaintTime(),finishDocumentLoadTime:finishDocumentLoadTime(),finishLoad:finishLoadTime(),resourceTimings:resourceTimings(),rawPerformanceNavigationTimingResults:rawPerformanceNavigationTimingResults()};return Object.keys(a).forEach(function(e){a[e]&&(o[e]=a[e])}),o}function _extractResourceTiming(e){var t={duration:e.duration,network:e.responseEnd-e.startTime};return Object.assign(_extractTiming(e),t)}var f=function _timerStart(e){return e+\"_start\"},p=function _timerEnd(e){return e+\"_end\"},l=function(){function Timing(e,t){var n=this,r=arguments.length>2&&void 0!==arguments[2]?arguments[2]:{};this.getMarks=u()(function(){var e;if(n.performance.getEntriesByType)return n.performance.getEntriesByType(\"mark\").reduce(function(e,t){return e[t.name]=t.startTime,e},{});return{}}),this.getTimers=u()(function(){var e;if(n.performance&&n.performance.getEntriesByType)return n.performance.getEntriesByType(\"measure\").reduce(function(e,t){return e[t.name]=t.duration,e},{});return{}}),this.performance=e,this.record=t,this.currentTimeout=null,this.keyFiles=[],this.reportedEvents=!1,this.timers={},this.delay=r.delay||1e3,this.eventingKey=r.eventingKey,this.usedSetMarkOnceKeys=new Set}var e=Timing.prototype;return e.setMarkOnce=function setMarkOnce(e,t){this.usedSetMarkOnceKeys.has(e)||(this.setMark(e,t),this.usedSetMarkOnceKeys.add(e))},e.setMark=function setMark(e,t){this.performance&&this.performance.timing&&this.performance.mark&&this.performance.mark(e),t&&(this.currentTimeout&&window.clearTimeout(this.currentTimeout),this.currentTimeout=window.setTimeout(this.reportDataToEventing.bind(this),this.delay))},e.getKeyFileTiming=function getKeyFileTiming(){if(this.performance.getEntriesByType){var e=this.performance.getEntriesByType(\"resource\"),t=this.keyFiles,n={};return t.forEach(function(t){var r=t.replace(/\\.\\w+$/,\"\"),i=e.find(function(e){return-1!==e.name.indexOf(r)});void 0!==i&&(n[t]=_extractResourceTiming(i))}),n}return{}},e.getPageData=function getPageData(){return _extractPageTiming(this.performance&&this.performance.timing)||{}},e.getNextTTIMark=function getNextTTIMark(){var e=this.getTimers();if(h.c&&e[\"Next.js-hydration\"]&&e[\"Next.js-before-hydration\"])return{\"serverRendering.completeRender\":e[\"Next.js-before-hydration\"]+e[\"Next.js-hydration\"]};return{}},e.getRehydrationTime=function getRehydrationTime(){var e=this.getMarks();if(e&&e[\"serverRendering.startRehydrate\"]&&e[\"serverRendering.completeRender\"])return{rehydration:e[\"serverRendering.completeRender\"]-e[\"serverRendering.startRehydrate\"]};if(h.c&&e[\"Next.js-hydration\"])return{rehydration:e[\"Next.js-hydration\"]};return{}},e.reportDataToEventing=function reportDataToEventing(){if(this.performance&&this.performance.timing&&!this.reportedEvents){var e,t=_roundNumbers(Object.assign({serverRendered:!!window.context||h.c,reactChecksum:Math.abs(window.REACT_CHECKSUM)},this.getPageData(),this.getKeyFileTiming(),this.getMarks(),this.getTimers(),this.getNextTTIMark(),this.getRehydrationTime()));this.record([this.eventingKey,t]),this.reportedEvents=!0}},e.time=function time(e){this.setMark(f(e))},e.timeEnd=function timeEnd(e){this.setMark(p(e)),this.performance&&this.performance.measure&&this.performance.clearMarks&&(this.performance.measure(e,f(e),p(e)),this.performance.clearMarks(f(e)),this.performance.clearMarks(p(e)))},e.setKeyFiles=function setKeyFiles(e){this.keyFiles=e},Timing}();l.prototype.roundNumbers=_roundNumbers,e.a=l},Bnag:function(module,exports){function _nonIterableSpread(){throw new TypeError(\"Invalid attempt to spread non-iterable instance.\\nIn order to be iterable, non-array objects must have a [Symbol.iterator]() method.\")}module.exports=_nonIterableSpread},CZ5l:function(module,e,t){\"use strict\";var n;t.d(e,\"b\",function(){return u});var r=function windowExists(){return\"undefined\"!=typeof window},i,o,a,s,c,u=function isLocalStorageEnabled(){if(!r())return!1;try{var e=\"__test__store__\";window.localStorage.setItem(e,e);var t=window.localStorage.getItem(e);return window.localStorage.removeItem(e),t==e}catch(e){return!1}};n=\"undefined\"==typeof window?{}:{windowExists:r,hostname:function hostname(){return window.location.hostname},href:function href(){return window.location.href},referrer:function referrer(){return window.document.referrer},screenHeight:function screenHeight(){return window.screen.height},screenWidth:function screenWidth(){return window.screen.width},isLocalStorageEnabled:u},e.a=n},Cwc5:function(module,exports,e){var t=e(\"NKxu\"),n=e(\"Npjl\");function getNative(e,r){var i=n(e,r);return t(i)?i:void 0}module.exports=getNative},E2jh:function(module,exports,e){var t=e(\"2gN3\"),n=(r=/[^.]+$/.exec(t&&t.keys&&t.keys.IE_PROTO||\"\"))?\"Symbol(src)_1.\"+r:\"\",r;function isMasked(e){return!!n&&n in e}module.exports=isMasked},EbDI:function(module,exports){function _iterableToArray(e){if(\"undefined\"!=typeof Symbol&&Symbol.iterator in Object(e))return Array.from(e)}module.exports=_iterableToArray},EpBk:function(module,exports){function isKeyable(e){var t=typeof e;return\"string\"==t||\"number\"==t||\"symbol\"==t||\"boolean\"==t?\"__proto__\"!==e:null===e}module.exports=isKeyable},GoyQ:function(module,exports){function isObject(e){var t=typeof e;return null!=e&&(\"object\"==t||\"function\"==t)}module.exports=isObject},H8j4:function(module,exports,e){var t=e(\"QkVE\");function mapCacheSet(e,n){var r=t(this,e),i=r.size;return r.set(e,n),this.size+=r.size==i?0:1,this}module.exports=mapCacheSet},Hvzi:function(module,exports){function hashDelete(e){var t=this.has(e)&&delete this.__data__[e];return this.size-=t?1:0,t}module.exports=hashDelete},Ijbi:function(module,exports,e){var t=e(\"WkPL\");function _arrayWithoutHoles(e){if(Array.isArray(e))return t(e)}module.exports=_arrayWithoutHoles},JHgL:function(module,exports,e){var t=e(\"QkVE\");function mapCacheGet(e){return t(this,e).get(e)}module.exports=mapCacheGet},JSQU:function(module,exports,e){var t=e(\"YESw\"),n=\"__lodash_hash_undefined__\";function hashSet(e,r){var i=this.__data__;return this.size+=this.has(e)?0:1,i[e]=t&&void 0===r?n:r,this}module.exports=hashSet},KMkd:function(module,exports){function listCacheClear(){this.__data__=[],this.size=0}module.exports=listCacheClear},KfNM:function(module,exports){var e,t=Object.prototype.toString;function objectToString(e){return t.call(e)}module.exports=objectToString},Kz5y:function(module,exports,e){var t=e(\"WFqU\"),n=\"object\"==typeof self&&self&&self.Object===Object&&self,r=t||n||Function(\"return this\")();module.exports=r},Lled:function(module,e,t){\"use strict\";t.r(e);var n=t(\"8Q8L\"),r=t(\"/DZa\"),i=function identity(e){return e},o;if(\"undefined\"==typeof window){var a={};Object.keys(n.a.prototype).forEach(function(e){return a[e]=i}),o=a}else o=new n.a(r.a,window.document,window.location,window.screen);e.default=o},\"ML/G\":function(module,e,t){\"use strict\";var n=t(\"c6na\"),r=t.n(n),i=t(\"unn+\"),o=t(\"kF7O\"),a=t(\"5Wga\"),s=t(\"Lled\"),c=t(\"wEcP\"),u=Object(o.a)({logger:i.default});if(\"undefined\"!=typeof window){var h=window.location.protocol+\"//\"+window.location.host,f=/production/.test(r.a.environment);Object(a.a)(function(e){u.pushV2([\"page.error.javascript\",e])},{logger:i.default,version:\"ea87c58b14aa6245c30441c0deeddb26c2c7ee16\",versionTimestamp:\"1600709997582\",scriptFilter:new RegExp(\"^\"+r.a.url.app_chunks)}),u.register(\"204\",s.default),u.register(\"400\",c.a),u.register(\"ga\",window._gaq=window._gaq||[],\"google\"),u.get(\"204\").queue.push([\"debug\",!f]),u.get(\"204\").queue.push([\"beacon\",h+\"/eventing/info\"]),u.get(\"204\").queue=s.default.batch(window._204),u.get(\"400\").queue.push([\"batch\",[\"constant\",\"debug\",!f],[\"constant\",\"beacon\",h+\"/eventing/info.v2\"],[\"constant\",\"beaconBatch\",h+\"/eventing/infoBatch.v2\"],[\"app\",\"phoenix\"],[\"clientVersion\",\"ea87c58b14aa6245c30441c0deeddb26c2c7ee16\"]].concat(window._400))}e.a=u},NKxu:function(module,exports,e){var t=e(\"lSCD\"),n=e(\"E2jh\"),r=e(\"GoyQ\"),i=e(\"3Fdi\"),o=/[\\\\^$.*+?()[\\]{}|]/g,a=/^\\[object .+?Constructor\\]$/,s=Function.prototype,c=Object.prototype,u=s.toString,h=c.hasOwnProperty,f=RegExp(\"^\"+u.call(h).replace(o,\"\\\\$&\").replace(/hasOwnProperty|(function).*?(?=\\\\\\()| for .+?(?=\\\\\\])/g,\"$1.*?\")+\"$\");function baseIsNative(e){if(!r(e)||n(e))return!1;var o;return(t(e)?f:a).test(i(e))}module.exports=baseIsNative},Npjl:function(module,exports){function getValue(e,t){return null==e?void 0:e[t]}module.exports=getValue},NykK:function(module,exports,e){var t=e(\"nmnc\"),n=e(\"AP2z\"),r=e(\"KfNM\"),i=\"[object Null]\",o=\"[object Undefined]\",a=t?t.toStringTag:void 0;function baseGetTag(e){if(null==e)return void 0===e?o:i;return a&&a in Object(e)?n(e):r(e)}module.exports=baseGetTag},P5U6:function(module,e,t){\"use strict\";var n=t(\"Ag+A\"),r=t(\"ML/G\"),i=r.a.pushV2.bind(r.a),o;if(\"undefined\"==typeof window){var a={},s=function identity(e){return e};Object.keys(n.a.prototype).forEach(function(e){return a[e]=s}),o=a}else{var c=window.performance||window.webkitPerformance||window.msPerformance||window.mozPerformance,u;o=new n.a(c,i,{eventingKey:\"page.time.web_page_load.time\"})}e.a=o},PDX0:function(module,exports){(function(e){module.exports=e}).call(this,{})},QkVE:function(module,exports,e){var t=e(\"EpBk\");function getMapData(e,n){var r=e.__data__;return t(n)?r[\"string\"==typeof n?\"string\":\"hash\"]:r.map}module.exports=getMapData},RIqP:function(module,exports,e){var t=e(\"Ijbi\"),n=e(\"EbDI\"),r=e(\"ZhPi\"),i=e(\"Bnag\");function _toConsumableArray(e){return t(e)||n(e)||r(e)||i()}module.exports=_toConsumableArray},SfRM:function(module,exports,e){var t=e(\"YESw\");function hashClear(){this.__data__=t?t(null):{},this.size=0}module.exports=hashClear},SkC6:function(module,e,t){\"use strict\";t.d(e,\"a\",function(){return n});var n=\"next\"},UkGL:function(module,e,t){\"use strict\";\"undefined\"!=typeof window&&(window.console.log=window.console.log||function(){},window.console.error=window.console.error||function(){},window.console.warn=window.console.warn||function(){},window.console.info=window.console.info||function(){},window.console.log.apply||(window.console.log=Function.prototype.bind.call(window.console.log,window.console),window.console.error=Function.prototype.bind.call(window.console.error,window.console),window.console.warn=Function.prototype.bind.call(window.console.warn,window.console),window.console.info=Function.prototype.bind.call(window.console.info,window.console)));var n=\"undefined\"!=typeof window?window.console:console,r=function Logger(e){this.options=e||{}};r.prototype.customize=function(e){return this.options=e||{},this},r.prototype.info=function(){return\"info\"==this.options.level&&n.info.apply(n,arguments),this},r.prototype.warn=function(){return/info|warn/.test(this.options.level)&&n.warn.apply(n,arguments),this},r.prototype.error=function(){return/error|warn|info/.test(this.options.level)&&n.error.apply(n,arguments),this},e.a=function(e){return new r(e)}},VGgr:function(module,e,t){\"use strict\";var n=function identity(e){return e},r=function set(e,t,r){r=r||{};var i=new Date;if(null==t&&(r.days=-1),\"number\"==typeof r.days)i.setDate(i.getDate()+r.days),r.expires=i;else if(\"number\"==typeof r.minutes)i.setMinutes(i.getMinutes()+r.minutes),r.expires=new Date(i);else if(\"number\"==typeof r.expires){var o=r.expires,a=new Date;a.setDate(a.getDate()+o),r.expires=a}r.path||(r.path=\"/\");var s=r.raw?n:encodeURIComponent,c=s(e)+\"=\"+s(String(t))+\"; path=\"+r.path;return r.expires&&(c+=\"; expires=\"+r.expires.toUTCString()),r.domain&&(c+=\"; domain=\"+r.domain),r.secure&&(c+=\"; secure\"),document.cookie=c,c},i=function setOnce(e,t,n){var i=o(e,n);return null===i&&(r(e,t,n),i=t),i},o=function get(e,t){for(var r=(t=t||{}).raw?n:decodeURIComponent,i=document.cookie.split(\"; \"),o=0,a;i[o];o++)if(r((a=i[o].split(\"=\"))[0])===e){var s=r(a[1]||\"\");return\"null\"===s?null:s}return null},a=function remove(e,t){(t=t||{}).days=-1,r(e,null,t)},s=function removeAll(e,t){for(var n=e.length;n>=0;n--)a(e[n],t)};e.a={set:r,setOnce:i,get:o,remove:a,removeAll:s}},WFqU:function(module,exports,e){(function(e){var t=\"object\"==typeof e&&e&&e.Object===Object&&e;module.exports=t}).call(this,e(\"yLpj\"))},WkPL:function(module,exports){function _arrayLikeToArray(e,t){(null==t||t>e.length)&&(t=e.length);for(var n=0,r=new Array(t);n<t;n++)r[n]=e[n];return r}module.exports=_arrayLikeToArray},Xi7e:function(module,exports,e){var t=e(\"KMkd\"),n=e(\"adU4\"),r=e(\"tMB7\"),i=e(\"+6XX\"),o=e(\"Z8oC\");function ListCache(e){var t=-1,n=null==e?0:e.length;for(this.clear();++t<n;){var r=e[t];this.set(r[0],r[1])}}ListCache.prototype.clear=t,ListCache.prototype.delete=n,ListCache.prototype.get=r,ListCache.prototype.has=i,ListCache.prototype.set=o,module.exports=ListCache},YESw:function(module,exports,e){var t,n=e(\"Cwc5\")(Object,\"create\");module.exports=n},Z8oC:function(module,exports,e){var t=e(\"y1pI\");function listCacheSet(e,n){var r=this.__data__,i=t(r,e);return i<0?(++this.size,r.push([e,n])):r[i][1]=n,this}module.exports=listCacheSet},ZhPi:function(module,exports,e){var t=e(\"WkPL\");function _unsupportedIterableToArray(e,n){if(!e)return;if(\"string\"==typeof e)return t(e,n);var r=Object.prototype.toString.call(e).slice(8,-1);if(\"Object\"===r&&e.constructor&&(r=e.constructor.name),\"Map\"===r||\"Set\"===r)return Array.from(e);if(\"Arguments\"===r||/^(?:Ui|I)nt(?:8|16|32)(?:Clamped)?Array$/.test(r))return t(e,n)}module.exports=_unsupportedIterableToArray},adU4:function(module,exports,e){var t=e(\"y1pI\"),n,r=Array.prototype.splice;function listCacheDelete(e){var n=this.__data__,i=t(n,e),o;if(i<0)return!1;return i==n.length-1?n.pop():r.call(n,i,1),--this.size,!0}module.exports=listCacheDelete},brec:function(module,e,t){\"use strict\";var n;t.r(e),t(\"vjEu\").a.instrumentAfterPreload()},c6na:function(module,exports){module.exports={gapi_eventing_data:{project_number:\"274249572679\",api_key:\"\",client_id:\"274249572679-al8nc3ttcavj0n91due232a3h6s3r9vk.apps.googleusercontent.com\"},bigquery:{dataset:\"mydataset\",table_prefix:\"livedata_\"},dir:{home:\"/\"},debug:!1,compress:!0,optimize:!0,environment:\"production\",log:\"error\",url:{api:\"/maestro/api/\",maestro:\"/maestro/api/\",base:\"https://www.coursera.org/\",origin:\"https://www-origin.coursera.org/\",cloudfront_api:\"https://d1hpa2gdx2lr6r.cloudfront.net/maestro/api/\",accounts:\"https://accounts.coursera.org/\",assets:\"https://d3njjcbhbojbot.cloudfront.net/web/\",resource_assets:\"https://coursera_assets.s3.amazonaws.com/\",app_assets:\"https://d3njjcbhbojbot.cloudfront.net/web/\",app_chunks:\"https://d3njjcbhbojbot.cloudfront.net/webapps/\",imageProxyRoot:\"https://d3njjcbhbojbot.cloudfront.net/api/utilities/v1/imageproxy/\"}}},cDf5:function(module,exports){function _typeof(e){return\"function\"==typeof Symbol&&\"symbol\"==typeof Symbol.iterator?module.exports=_typeof=function _typeof(e){return typeof e}:module.exports=_typeof=function _typeof(e){return e&&\"function\"==typeof Symbol&&e.constructor===Symbol&&e!==Symbol.prototype?\"symbol\":typeof e},_typeof(e)}module.exports=_typeof},e4Nc:function(module,exports,e){var t=e(\"fGT3\"),n=e(\"k+1r\"),r=e(\"JHgL\"),i=e(\"pSRY\"),o=e(\"H8j4\");function MapCache(e){var t=-1,n=null==e?0:e.length;for(this.clear();++t<n;){var r=e[t];this.set(r[0],r[1])}}MapCache.prototype.clear=t,MapCache.prototype.delete=n,MapCache.prototype.get=r,MapCache.prototype.has=i,MapCache.prototype.set=o,module.exports=MapCache},ebwN:function(module,exports,e){var t,n,r=e(\"Cwc5\")(e(\"Kz5y\"),\"Map\");module.exports=r},ekgI:function(module,exports,e){var t=e(\"YESw\"),n,r=Object.prototype.hasOwnProperty;function hashHas(e){var n=this.__data__;return t?void 0!==n[e]:r.call(n,e)}module.exports=hashHas},fGT3:function(module,exports,e){var t=e(\"4kuk\"),n=e(\"Xi7e\"),r=e(\"ebwN\");function mapCacheClear(){this.size=0,this.__data__={hash:new t,map:new(r||n),string:new t}}module.exports=mapCacheClear},gOgX:function(module,e,t){\"use strict\";var n=t(\"lSNA\"),r=t.n(n),i=t(\"cDf5\"),o=t.n(i),a=t(\"VGgr\"),s=t(\"CZ5l\"),c=t(\"unn+\");function ownKeys(e,t){var n=Object.keys(e);if(Object.getOwnPropertySymbols){var r=Object.getOwnPropertySymbols(e);t&&(r=r.filter(function(t){return Object.getOwnPropertyDescriptor(e,t).enumerable})),n.push.apply(n,r)}return n}function _objectSpread(e){for(var t=1;t<arguments.length;t++){var n=null!=arguments[t]?arguments[t]:{};t%2?ownKeys(Object(n),!0).forEach(function(t){r()(e,t,n[t])}):Object.getOwnPropertyDescriptors?Object.defineProperties(e,Object.getOwnPropertyDescriptors(n)):ownKeys(Object(n)).forEach(function(t){Object.defineProperty(e,t,Object.getOwnPropertyDescriptor(n,t))})}return e}var u=22,h=300,f=50,p=3,l=50,d=2e5,g=\"400batching\",m=\"400batching-inflight\",v=\"sequence-number-key\",y=\"web\",w={activityExpirationTime:18e5,batching:!0,method:\"GET\",beacon:\"/eventing/info.v2\",beaconBatch:\"/eventing/infoBatch.v2\",debug:!1,initialReferrerTracker:\"__400r\",lastActivityTimeTracker:\"__400vt\",visitIdTracker:\"__400v\"},b=function isActivityTimeExpired(e){if(!e)return!0;if((new Date).getTime()-e>w.activityExpirationTime)return!0;return!1},T=function getBatchFromStore(e){var t=window.localStorage.getItem(e),n=null;if(t)try{n=JSON.parse(t)}catch(e){throw e}return n&&Array.isArray(n.events)||(n={clientType:\"web\",app:null,clientVersion:null,events:[]}),n},k=function clearBatchFromStore(e){window.localStorage.removeItem(e)},x=function setBatchStore(e,t){try{window.localStorage.setItem(e,JSON.stringify(t))}catch(e){window.localStorage.clear()}},S=function switchBatchStores(e,t){var n=T(e);return k(e),n&&n.events.length&&x(t,n),n},E=function mergeBatchStores(e,t){var n=T(e),r=T(t);r.events=r.events.concat(n.events),k(e),x(t,r)},j=function generateUUID(){var e=(new Date).getTime(),t;return\"xxxxxxxx-xxxx-4xxx-yxxx-xxxxxxxxxxxx\".replace(/[xy]/g,function(t){var n=(e+16*Math.random())%16|0;return e=Math.floor(e/16),(\"x\"===t?n:7&n|8).toString(16)})},O=function(){function FourHundred(e,t,n){this.ping=e,this.pingPost=n,this.pingIframe=t,this.pingInFlight=!1,this.constants=w,this.state={},this.archive=[],this.state.domain=this.getDomain(),this.batchTimer=-1,this.batchAttempts=0,this.getCurrentInitialReferrer(),this.getCurrentVisitId(),this.evaluateCapabilities(),this.state.lastHref=s.a.href(),this.state.lastReferrer=s.a.referrer(),this.state.screenSize={height:s.a.screenHeight(),width:s.a.screenWidth()},this.updateLastActivityTime()}var e=FourHundred.prototype;return e.evaluateCapabilities=function evaluateCapabilities(){this.canBatch=s.a.isLocalStorageEnabled()&&!0===this.constants.batching},e.getDomain=function getDomain(){for(var e=s.a.hostname().split(\".\");e.length>2;)e.shift();return\".\"+e.join(\".\")},e.getLastReferrer=function getLastReferrer(){return s.a.href()!==this.state.lastHref&&(this.state.lastReferrer=this.state.lastHref,this.state.lastHref=s.a.href()),this.state.lastReferrer},e.getCurrentInitialReferrer=function getCurrentInitialReferrer(){var e={domain:this.state.domain,minutes:30};this.state.initialReferrer=this.state.initialReferrer||a.a.get(this.constants.initialReferrerTracker);var t=this.state.lastActivityTime||a.a.get(this.constants.lastActivityTimeTracker);if(!this.state.initialReferrer||b(t)){var n=s.a.referrer();if(!n)return null;var r=/([a-z0-9-_]+\\.)*[a-z0-9-_]+\\.[a-z]+/gi,i=n.match(r),o=this.state.domain.split(\".\"),c=o[o.length-2]+\".\"+o[o.length-1];i&&i[0].indexOf(c)>-1&&(n=null),a.a.set(this.constants.initialReferrerTracker,n,e),this.state.initialReferrer=n}return this.state.initialReferrer},e.getCurrentVisitId=function getCurrentVisitId(){var e={domain:this.state.domain,minutes:30};this.state.visitId=this.state.visitId||a.a.get(this.constants.visitIdTracker);var t=this.state.lastActivityTime||a.a.get(this.constants.lastActivityTimeTracker);if(!this.state.visitId||b(t)){var n=j();a.a.set(this.constants.visitIdTracker,n,e),this.state.visitId=n}return this.state.visitId},e.getAndIncrementSequence=function getAndIncrementSequence(){if(s.a.isLocalStorageEnabled()){var e=parseInt(window.localStorage.getItem(v)||0,10)+1;return window.localStorage.setItem(v,e),e}},e.updateLastActivityTime=function updateLastActivityTime(){var e=(new Date).getTime(),t={domain:this.state.domain,minutes:30};a.a.set(this.constants.lastActivityTimeTracker,e,t),this.state.lastActivityTime=e},e.push=function push(e){if(\"object\"!==o()(e))return this;if(Array.isArray&&Array.isArray(e)||e.constructor===Array)switch(e[0]){case\"batch\":for(e.shift();e.length;)this.push(e.shift());if(-1===this.batchTimer&&this.canBatch){var t=S(m,g);t&&t.events.length&&this.poll(),window&&window.onbeforeunload&&window.addEventListener(\"beforeunload\",this.poll.bind(this))}s.a.windowExists()&&(window._400=this);break;case\"constant\":this.constants[e[1]]=e[2],this.evaluateCapabilities();break;case\"send\":this.send(e[1],e[2],e[3]);break;default:this.state[e[0]]=e[1]}else this.send(e);return this},e.send=function send(e,t,n){var r={};for(var i in(r=\"string\"==typeof e?{key:e,value:{}}:e||{}).clientType=\"web\",r.url=s.a.href(),r.app=this.state.app,r.referrerUrl=this.getLastReferrer(),r.initialReferrer=this.getCurrentInitialReferrer(),r.guid=j(),r.visitId=this.getCurrentVisitId(),r.screenSize=this.state.screenSize,r.clientVersion=this.state.clientVersion,r.clientTimestamp=(new Date).getTime(),r.sequence=this.getAndIncrementSequence(),r.value=_objectSpread(_objectSpread({},e.value),{},{appName:window.appName||\"unknown\"}),r)null!==r[i]&&\"\"!==r[i]&&void 0!==r[i]||delete r[i];return this.constants.debug?(this.archive.push(r),t&&t()):this.canBatch&&!n?(this.batchEvent(r),t&&t()):\"POST\"===this.constants.method?this.pingPost(this.constants.beacon,r,t):\"GET\"===this.constants.method?this.ping(this.constants.beacon,r,t):\"IFRAME\"===this.constants.method&&this.pingIframe(this.constants.beacon,r,t),this.updateLastActivityTime(),this},e.batchEvent=function batchEvent(e){var t=T(g);window.clearTimeout(this.batchingTimer),t.events.push(e);try{window.localStorage.setItem(g,JSON.stringify(t))}catch(n){22===n.code?this.poll(e):(t.app=this.state.app,t.clientVersion=this.state.clientVersion,window.localStorage.clear(),this.postIframe(this.constants.beaconBatch,t))}if(t.events.length>50)this.poll();else{var n=300;if(1===t.events.length)this.batchingTimerLast=(new Date).getTime();else{var r=(new Date).getTime()-this.batchingTimerLast;n=r>300?50:300-r+50}this.batchingTimer=window.setTimeout(this.poll.bind(this),n)}},e.poll=function poll(e){if(!1===this.pingInFlight){var t=S(g,m);if(e&&t.events.push(event),t.app=this.state.app,t.clientVersion=this.state.clientVersion,t&&t.events&&t.events.length){var n=\"IFRAME\"===this.constants.method?this.pingIframe:this.pingPost;this.pingInFlight=!0,n(this.constants.beaconBatch,t,function(n){if(this.pingInFlight=!1,200===n.status){if(this.batchAttempts=0,k(m),n.responseText)try{var r=JSON.parse(n.responseText);r[400]&&c.default.error(r[400])}catch(e){c.default.error(\"can not parse eventing response\")}}else if(413===n.status){this.batchAttempts=0,k(m);for(var i=[],o=t.events||[];o.length>0&&2*JSON.stringify(i).length<2e5;)i.push(o.pop());2*JSON.stringify(i).length>2e5&&i.pop(),i.length?(t.events=i,this.pingPost(this.constants.beaconBatch,t)):t.events.pop(),o.length&&(t.events=o,x(g,t),this.batchingTimer=window.setTimeout(this.poll.bind(this,e),50))}else E(m,g),this.batchAttempts+=1,this.batchAttempts<=3&&(this.batchingTimer=window.setTimeout(this.poll.bind(this,e),50))}.bind(this))}}else this.batchingTimer=window.setTimeout(this.poll.bind(this,e),50)},FourHundred}();e.a=O},gr0B:function(module,e,t){\"use strict\";t.d(e,\"a\",function(){return u}),t.d(e,\"b\",function(){return h}),t.d(e,\"c\",function(){return f});var n=t(\"SkC6\"),r,i,o,a,s,c,u=\"undefined\"!=typeof window&&((null===(r=window)||void 0===r?void 0:null===(i=r.location)||void 0===i?void 0:i.href.includes(\"localhost\"))||(null===(o=window)||void 0===o?void 0:null===(a=o.location)||void 0===a?void 0:a.href.includes(\"mock.dev-coursera\"))),h=\"undefined\"==typeof window?!!Object({NODE_ENV:\"production\"}).NEXT_DEV_ENV:null===(s=window)||void 0===s?void 0:null===(c=s.location)||void 0===c?void 0:c.href.includes(\"localhost\"),f=\"ondemand\"===n.a},\"k+1r\":function(module,exports,e){var t=e(\"QkVE\");function mapCacheDelete(e){var n=t(this,e).delete(e);return this.size-=n?1:0,n}module.exports=mapCacheDelete},kF7O:function(module,e,t){\"use strict\";var n=t(\"RIqP\"),r=t.n(n),i=t(\"UkGL\"),o=500;function asString(e){return\"string\"==typeof e?e:JSON.stringify(e)}var a=function(){function MultiTracker(e){var t=e||{};this.trackers={},this.logger=t.logger||Object(i.a)({level:\"error\"})}var e=MultiTracker.prototype;return e.register=function register(e,t,n,r){this.trackers[e]={queue:t||[],type:n||\"key-value\",parse:r,name:e}},e.get=function get(e){return this.trackers[e]},e.push=function push(){for(var e=arguments,t,n,i,o=0;o<e.length;o++){var a,s=Array.isArray(e[o])?e[o]:[e[o]];for(var c in this.trackers)if(\"400\"!==c){var u=this.trackers[c];if(\"google\"==u.type){if(\"pageview\"==s[0]){t=[\"_trackPageview\"];for(var h=1;h<s.length;h++)t.push(asString(s[h]))}}else if(\"key-value\"==u.type){i=[];for(var f=1;f<s.length;f++)\"function\"==typeof s[f]?n=s[f]:i.push(asString(s[f]));t=i.length?{key:s[0],value:i.join(\".\")}:{key:s[0]}}else\"custom\"==u.type&&u.parse&&(t=u.parse.apply(this,s));if(t)if(n){var p=n,l=window.setTimeout(p,500);u.queue.push([\"send\",t,function(){return window.clearTimeout(l),p(u.name)}])}else u.queue.push(t);t=void 0,n=void 0}(a=this.logger).info.apply(a,[\"multitracker:\"].concat(r()(s)))}},e.pushV2=function pushV2(){for(var e=arguments,t,n,i,o=0;o<e.length;o++){var a,s=Array.isArray(e[o])?e[o]:[e[o]];for(var c in this.trackers)if(\"204\"!==c){var u=this.trackers[c];if(\"google\"==u.type){if(\"pageview\"==s[0]){t=[\"_trackPageview\"];for(var h=1;h<s.length;h++)t.push(asString(s[h]))}}else if(\"key-value\"==u.type){i=[];for(var f=1;f<s.length;f++)\"function\"==typeof s[f]?n=s[f]:i.push(s[f]);t=i.length?{key:s[0],value:1==i.length?i[0]:i}:{key:s[0],value:{}}}else\"custom\"==u.type&&u.parse&&(t=u.parse.apply(this,s));if(t)if(n){var p=n,l=window.setTimeout(p,500);u.queue.push([\"send\",t,function(){return window.clearTimeout(l),p(u.name)}])}else u.queue.push(t);t=void 0,n=void 0}(a=this.logger).info.apply(a,[\"multitracker:\"].concat(r()(s)))}},MultiTracker}();e.a=function(e){return new a(e)}},lSCD:function(module,exports,e){var t=e(\"NykK\"),n=e(\"GoyQ\"),r=\"[object AsyncFunction]\",i=\"[object Function]\",o=\"[object GeneratorFunction]\",a=\"[object Proxy]\";function isFunction(e){if(!n(e))return!1;var s=t(e);return s==i||s==o||s==r||s==a}module.exports=isFunction},lSNA:function(module,exports){function _defineProperty(e,t,n){return t in e?Object.defineProperty(e,t,{value:n,enumerable:!0,configurable:!0,writable:!0}):e[t]=n,e}module.exports=_defineProperty},ljhN:function(module,exports){function eq(e,t){return e===t||e!=e&&t!=t}module.exports=eq},nmnc:function(module,exports,e){var t,n=e(\"Kz5y\").Symbol;module.exports=n},pSRY:function(module,exports,e){var t=e(\"QkVE\");function mapCacheHas(e){return t(this,e).has(e)}module.exports=mapCacheHas},rBzQ:function(module,e,t){\"use strict\";e.a=!!window.ssr},tMB7:function(module,exports,e){var t=e(\"y1pI\");function listCacheGet(e){var n=this.__data__,r=t(n,e);return r<0?void 0:n[r][1]}module.exports=listCacheGet},u8Dt:function(module,exports,e){var t=e(\"YESw\"),n=\"__lodash_hash_undefined__\",r,i=Object.prototype.hasOwnProperty;function hashGet(e){var r=this.__data__;if(t){var o=r[e];return o===n?void 0:o}return i.call(r,e)?r[e]:void 0}module.exports=hashGet},\"unn+\":function(module,e,t){\"use strict\";t.r(e);var n=t(\"c6na\"),r=t.n(n),i=t(\"UkGL\");e.default=Object(i.a)({level:r.a.log})},vjEu:function(module,e,t){\"use strict\";var n=t(\"ML/G\"),r=t(\"rBzQ\"),i=t(\"P5U6\"),o=function addEventListenerBetweenPreloaderAndRehydration(e,t){window.addEventListener(e,t),window.addEventListener(\"rendered\",function(){return window.removeEventListener(e,t)})},a=function instrumentLinks(){var e;o(\"click\",function prehydrationEventListener(e){if(e.target.matches(\"[data-click-key]\")){var t=e.target.getAttribute(\"data-click-key\"),r=JSON.parse(e.target.getAttribute(\"data-click-value\"))||{};r.isBeforeRehydration=!0,n.a.pushV2([t,r])}})},s=function instrumentAbandonTracking(){var e,t;o(\"visibilitychange\",function trackLoadingAbandonedVisibilityChange(e){var t,r,i={key:\"web.load.abandoned.visibility_change\",value:{visibilityState:document.visibilityState,msFromTimeOrigin:performance&&performance.now()}};n.a.get(\"400\").queue.push([\"send\",i,null,!0])}),o(\"unload\",function trackLoadingAbandonedUnload(){var e,t={key:\"web.load.abandoned.unload\",value:{msFromTimeOrigin:performance&&performance.now()}};n.a.get(\"400\").queue.push([\"send\",t,null,!0])})},c=function instrumentAfterPreload(){i.a.setMark(\"preloaderExecuted\"),n.a.get(\"400\").queue.push([\"send\",\"web.preload.loaded\",null,!0]),r.a&&(a(),s())};e.a={instrumentAfterPreload:c}},wEcP:function(module,e,t){\"use strict\";var n=t(\"gOgX\"),r=t(\"VGgr\"),i=t(\"/DZa\"),o;if(\"undefined\"==typeof window){var a=function identity(e){return e},s={};Object.keys(n.a.prototype).forEach(function(e){return s[e]=a}),o=s}else o=new n.a(i.a,i.c,i.b);e.a=o},y1pI:function(module,exports,e){var t=e(\"ljhN\");function assocIndexOf(e,n){for(var r=e.length;r--;)if(t(e[r][0],n))return r;return-1}module.exports=assocIndexOf},yLpj:function(module,exports){var e;e=function(){return this}();try{e=e||new Function(\"return this\")()}catch(t){\"object\"==typeof window&&(e=window)}module.exports=e}},[[\"brec\",\"manifest\"]]]);\n",
      "});\n",
      "//# sourceMappingURL=preloader.d9b7e78310341efd4fbe.js.map</script><script type=\"text/javascript\" src=\"https://d3njjcbhbojbot.cloudfront.net/webapps/r2-builds/ondemand/loader.874284225bbc821bf38e.js\" defer crossorigin=\"anonymous\"></script><script type=\"text/javascript\" src=\"https://d3njjcbhbojbot.cloudfront.net/webapps/r2-builds/ondemand/en.app.d0c4daf58ebcb852ea60.js\" defer crossorigin=\"anonymous\"></script></head><body> <div id=\"fb-root\"></div><div id=\"rendered-content\"><div class=\"rc-MetatagsWrapper\" data-reactroot=\"\"><div class=\"rc-OndemandAppLoggedOut\"><div><div data-track=\"true\" data-track-action=\"click\" data-track-component=\"authentication_modal\" class=\"rc-AuthenticationModal\" role=\"presentation\" data-e2e=\"auth-modal\"><div class=\"rc-Modal layer\" data-js=\"Modal\" data-track=\"true\" data-track-action=\"show\" role=\"dialog\" aria-modal=\"true\" aria-label=\"Log in\"><div class=\"c-modal-overlay\" role=\"presentation\"></div><div class=\"c-modal-x-out\"><a class=\"nostyle\" aria-label=\"close\" href=\"?\" role=\"button\" data-track=\"true\" data-track-action=\"close\" data-e2e=\"close-modal-button\">✕</a></div><div class=\"c-modal-content\"></div></div></div></div></div></div></div><script>\n",
      "window.App={\"context\":{\"dispatcher\":{\"stores\":{\"ApplicationStore\":{\"csrfToken\":\"\\u003CMISSING\\u003E\",\"mobilePromoEligible\":false,\"requestCountryCode\":\"EG\",\"userAgent\":{\"source\":\"Python-urllib\\u002F3.8\",\"browser\":{\"name\":\"unknown\"},\"system\":\"unknown\",\"platform\":\"unknown\",\"isMobileBrowser\":false,\"isAndroid\":false,\"isCourseraMobileApp\":false,\"isMobile\":false,\"isIOS\":false,\"isMobilePhoneBrowser\":false,\"isPrerender\":false,\"isRobot\":false},\"userData\":{\"id\":null,\"authenticated\":false},\"appName\":\"ondemand\"},\"NaptimeStore\":{\"data\":{},\"responseCache\":{},\"elementsToUrlMapping\":{},\"emptyQueries\":[],\"errors\":{}}}},\"plugins\":{}},\"plugins\":{}};\n",
      "window.appName=\"ondemand\";\n",
      "window.__APOLLO_STATE__ = {};\n",
      "window.renderedClassNames = [];\n",
      "window.detectedTimezone = \"Africa/Cairo\";\n",
      "window.modernRouter=false;\n",
      "\n",
      "</script><script>var loadScript = function(url, success, async) {\n",
      "var newScript = document.createElement('script');\n",
      "var scripts = document.getElementsByTagName('script');\n",
      "\n",
      "newScript.type = 'text/javascript';\n",
      "newScript.async = async || false;\n",
      "newScript.crossOrigin = 'anonymous';\n",
      "\n",
      "if (success) {\n",
      "if (newScript.addEventListener) {\n",
      "newScript.addEventListener('load', function() {\n",
      "success();\n",
      "}, false);\n",
      "} else if(newScript.readyState) {\n",
      "newScript.onreadystatechange = function() {\n",
      "if (this.readyState == 'complete') {\n",
      "newScript.onreadystatechange = null;\n",
      "success();\n",
      "}\n",
      "};\n",
      "}\n",
      "}\n",
      "\n",
      "if (scripts && scripts.length) {\n",
      "var lastScript = scripts[scripts.length - 1];\n",
      "lastScript.parentNode.insertBefore(newScript, lastScript.nextSibling);\n",
      "} else if (window.document && window.document.body) {\n",
      "window.document.body.appendChild(newScript);\n",
      "}\n",
      "\n",
      "// IE9 will execute the proper order if src is set AFTER injection\n",
      "newScript.src = url;\n",
      "}\n",
      "\n",
      "window.coursera = {};\n",
      "window.appName = \"ondemand\";\n",
      "window.locale = \"en\";\n",
      "</script><script>coursera.config = (function() {\n",
      "var config = JSON.parse('{\"gapi_eventing_data\":{\"project_number\":\"274249572679\",\"api_key\":\"\",\"client_id\":\"274249572679-al8nc3ttcavj0n91due232a3h6s3r9vk.apps.googleusercontent.com\"},\"bigquery\":{\"dataset\":\"mydataset\",\"table_prefix\":\"livedata_\"},\"dir\":{\"home\":\"/\"},\"debug\":false,\"compress\":true,\"optimize\":true,\"environment\":\"production\",\"log\":\"error\",\"url\":{\"api\":\"/maestro/api/\",\"maestro\":\"/maestro/api/\",\"base\":\"https://www.coursera.org/\",\"origin\":\"https://www-origin.coursera.org/\",\"cloudfront_api\":\"https://d1hpa2gdx2lr6r.cloudfront.net/maestro/api/\",\"accounts\":\"https://accounts.coursera.org/\",\"assets\":\"https://d3njjcbhbojbot.cloudfront.net/web/\",\"resource_assets\":\"https://coursera_assets.s3.amazonaws.com/\",\"app_assets\":\"https://d3njjcbhbojbot.cloudfront.net/web/\",\"app_chunks\":\"https://d3njjcbhbojbot.cloudfront.net/webapps/\",\"imageProxyRoot\":\"https://d3njjcbhbojbot.cloudfront.net/api/utilities/v1/imageproxy/\"},\"version\":\"ea87c58b14aa6245c30441c0deeddb26c2c7ee16\",\"versionTimestamp\":\"1600709997582\"}');\n",
      "if (config) {\n",
      "// requesters country of origin, injected by edge\n",
      "// in the following format https://en.wikipedia.org/wiki/ISO_3166-1_alpha-2\n",
      "config.requestCountryCode = 'EG';\n",
      "return config;\n",
      "} else {\n",
      "return {};\n",
      "}\n",
      "})();/* global coursera */\n",
      "// Provide a string that will be replaced by edge.\n",
      "// Make sure to use double quotes because edge only escapes double quotes.\n",
      "// Then check that edge actually did the replacement.\n",
      "// Otherwise return an empty object.\n",
      "// You must use double quotes for the injected string\n",
      "coursera.epicOverrides = (function() {\n",
      "var injectedString = \"{\\\"elements\\\":[{\\\"namespace\\\":\\\"GrowthAcquisition\\\",\\\"idForAllocation\\\":\\\"9395860891-1600728821742\\\",\\\"experimentId\\\":\\\"G0NI4GfZEeqkb6_BL1dowg\\\",\\\"variantId\\\":\\\"kn2LYK-jQ669glZNNUI7gg\\\",\\\"parameterName\\\":\\\"improveCertificatesOnXDP\\\",\\\"id\\\":0,\\\"version\\\":1,\\\"value\\\":false,\\\"status\\\":\\\"RUNNING\\\"},{\\\"namespace\\\":\\\"Growth\\\",\\\"idForAllocation\\\":\\\"9395860891-1600728821742\\\",\\\"experimentId\\\":\\\"LzAmIIm1Eee_1KG2a8Jzlw\\\",\\\"variantId\\\":\\\"FcjedWp9QUO_LNlOuB04bg\\\",\\\"parameterName\\\":\\\"courseCertUpsellList\\\",\\\"id\\\":1,\\\"version\\\":1,\\\"value\\\":{\\\"schedule-projects\\\":\\\"applied-project-management\\\",\\\"project-management-capstone\\\":\\\"applied-project-management\\\",\\\"project-planning\\\":\\\"applied-project-management\\\",\\\"project-risk-management\\\":\\\"applied-project-management\\\"},\\\"status\\\":\\\"RUNNING\\\"},{\\\"namespace\\\":\\\"EnterpriseSSO\\\",\\\"idForAllocation\\\":\\\"9395860891-1600728821742\\\",\\\"experimentId\\\":\\\"ISCVIK_gEeqgBbHAzV2ubA\\\",\\\"variantId\\\":\\\"rZZM0ckYR3a60TGDok2jFw\\\",\\\"parameterName\\\":\\\"SSO_MODES\\\",\\\"id\\\":2,\\\"version\\\":1,\\\"value\\\":{\\\"GDPR_CONTROLLER_AFTER_FIRST_ENROLLMENT\\\":[\\\"_khIP87SRomhUydEliGbnw\\\",\\\"ibWwRHhNQy2j24yTzlB0vA\\\",\\\"y3D_kRHeT6Wcxm60bLOl7w\\\",\\\"onRj4Nn2R3CV867WYZdmTA\\\",\\\"rV_kvNUWTpqrdztHruz76Q\\\",\\\"SG3ve5VVTxSkLpDb0TqjLA\\\",\\\"6u5ZLWbySG2vAVGi3Dk_XA\\\",\\\"wUnIXAWGSluh6nPgkk-U7Q\\\",\\\"DUPIaRCoRDqChROIySd2Gw\\\",\\\"3yg-iee0QIa9-bqrHjcdSw\\\",\\\"58jsOuzxSDmsO8Q8RN05GA\\\",\\\"tpGsTDknQVW_VN3y1HCExA\\\",\\\"4U3NUIjgT6e9qOgFQxgGRA\\\",\\\"GPgasWGyTyKV0jiIYu4LKA\\\",\\\"BuDYakZoRCygmgchZbvKWg\\\",\\\"q7FgxTQAS2iD30ws8JAiZQ\\\",\\\"0MB_ymYeQhu6V_tbupQ1Og\\\",\\\"KOH40f5pTz6Ae-tLtE6pQw\\\",\\\"75yFgX7gRMOhUz0KnxynxA\\\",\\\"DCCnmluHTriQh7fNd_bNPw\\\",\\\"87wRIQBdSbOkLVB8Zdd3vA\\\",\\\"hHRZVwVCRpuqIskiWn3vEA\\\",\\\"EiNtebucR0-i38-xCglQzQ\\\",\\\"DIKFepulR26aEGdKOmKbfw\\\",\\\"KOH40f5pTz6Ae-tLtE6pQw\\\",\\\"oegvK2RDSn6o7OEox81SFw\\\",\\\"sl0_a6CKQ_mJ4n6MkYDDrQ\\\",\\\"aOeaYn7kRVeoNbguboS-hA\\\",\\\"O8K6wUzmRdSOQw9sKCLJMA\\\",\\\"F_qFPfA3S4mWQ7LpzvRQIQ\\\",\\\"PrUR6-NAT865A6RPvF_O1Q\\\",\\\"wdXo9QVCQkSp8PPO2xGKOw\\\",\\\"XdWqfB35Qrmt9-REbQiibA\\\"],\\\"RESTRICTIVE\\\":[\\\"bMkXnDhMShWWp3l5QyKRaw\\\",\\\"PmioQFeYRvGGo3hbKUdZIg\\\",\\\"PTIEbEGyQK2wqanS8WpMVQ\\\",\\\"GeYNJT8JQ4eiNyWNQoOa4Q\\\",\\\"60Ehb-nEQZKDBHfcBV_KmA\\\",\\\"PTIEbEGyQK2wqanS8WpMVQ\\\",\\\"GeYNJT8JQ4eiNyWNQoOa4Q\\\",\\\"O8K6wUzmRdSOQw9sKCLJMA\\\",\\\"F_qFPfA3S4mWQ7LpzvRQIQ\\\",\\\"4kHdnnRtRS-r82aXS-chig\\\",\\\"4-XodGnRRFWCkWt-DarQQw\\\",\\\"VKlnRCHeTU-mrTxMOe2YAA\\\"]},\\\"status\\\":\\\"RUNNING\\\"},{\\\"namespace\\\":\\\"GrowthDegrees\\\",\\\"idForAllocation\\\":\\\"9395860891-1600728821742\\\",\\\"experimentId\\\":\\\"A7xGQJbdEemefHUGGD5M9g\\\",\\\"variantId\\\":\\\"xezj_abNR3u42UPvunS3JQ\\\",\\\"parameterName\\\":\\\"comm100ChatAllowedDDPSlugs\\\",\\\"id\\\":3,\\\"version\\\":1,\\\"value\\\":[\\\"mcit-penn\\\"],\\\"status\\\":\\\"RUNNING\\\"},{\\\"namespace\\\":\\\"browseCollections\\\",\\\"idForAllocation\\\":\\\"9395860891-1600728821742\\\",\\\"experimentId\\\":\\\"YrjY0F1XEemJRy0zEcbFlA\\\",\\\"variantId\\\":\\\"5Cqg3u2TQZC2yS6QrEaksA\\\",\\\"parameterName\\\":\\\"holdout\\\",\\\"id\\\":4,\\\"version\\\":1,\\\"value\\\":false,\\\"status\\\":\\\"RUNNING\\\"},{\\\"namespace\\\":\\\"GrowthAcquisition\\\",\\\"idForAllocation\\\":\\\"9395860891-1600728821742\\\",\\\"experimentId\\\":\\\"9SZqkOmBEeqNTH_1wxkVlg\\\",\\\"variantId\\\":\\\"znLzDBp8QmOw-SP3z5YL5A\\\",\\\"parameterName\\\":\\\"enableLazyImages\\\",\\\"id\\\":5,\\\"version\\\":1,\\\"value\\\":true,\\\"status\\\":\\\"RUNNING\\\"},{\\\"namespace\\\":\\\"Launch\\\",\\\"idForAllocation\\\":\\\"9395860891-1600728821742\\\",\\\"experimentId\\\":\\\"iKe8oCihEeiRvIG1AH_RWA\\\",\\\"variantId\\\":\\\"4TwfRZhkSzSZ0u9mSyh4Fw\\\",\\\"parameterName\\\":\\\"splashPageRollout\\\",\\\"id\\\":6,\\\"version\\\":1,\\\"value\\\":[\\\"advanced-applied-data-science-ibm\\\",\\\"10000women\\\"],\\\"status\\\":\\\"RUNNING\\\"},{\\\"namespace\\\":\\\"GrowthDegrees\\\",\\\"idForAllocation\\\":\\\"9395860891-1600728821742\\\",\\\"experimentId\\\":\\\"gl-iwN2WEeq5Kb1MHu8Mpw\\\",\\\"variantId\\\":\\\"60tR4qAhSwmn7FUuKs4BFg\\\",\\\"parameterName\\\":\\\"showDegreesHomepage\\\",\\\"id\\\":7,\\\"version\\\":1,\\\"value\\\":true,\\\"status\\\":\\\"RUNNING\\\"},{\\\"namespace\\\":\\\"UniversityProduct\\\",\\\"idForAllocation\\\":\\\"9395860891-1600728821742\\\",\\\"experimentId\\\":\\\"gsVNAEbbEeetDb2-yWQkzA\\\",\\\"variantId\\\":\\\"6Mew50aYR2a-Y0Jr7BLfLg\\\",\\\"parameterName\\\":\\\"enableHotJarWES\\\",\\\"id\\\":8,\\\"version\\\":1,\\\"value\\\":true,\\\"status\\\":\\\"RUNNING\\\"},{\\\"namespace\\\":\\\"SEO\\\",\\\"idForAllocation\\\":\\\"9395860891-1600728821742\\\",\\\"experimentId\\\":\\\"wuviYFL3EeqGr-cZzTH5jQ\\\",\\\"variantId\\\":\\\"sU93aiasTv60sgaNSl3UgQ\\\",\\\"parameterName\\\":\\\"addContextualLinksToBrowseAndEntityPages\\\",\\\"id\\\":9,\\\"version\\\":1,\\\"value\\\":false,\\\"status\\\":\\\"RUNNING\\\"},{\\\"namespace\\\":\\\"DDP\\\",\\\"idForAllocation\\\":\\\"9395860891-1600728821742\\\",\\\"experimentId\\\":\\\"Mq7FcBROEemNQJlTSFMYHQ\\\",\\\"variantId\\\":\\\"dVblQpacQsOfpmYEuDvlgA\\\",\\\"parameterName\\\":\\\"zendeskEnabledMasterExperiment\\\",\\\"id\\\":10,\\\"version\\\":1,\\\"value\\\":false,\\\"status\\\":\\\"RUNNING\\\"},{\\\"tagTarget\\\":{\\\"targetType\\\":\\\"WHITELIST\\\",\\\"tagValues\\\":[\\\"HRSOu-BiEeOZpyIACyeXpA\\\",\\\"0OEv42lpEeaUlwon5hM_Dw\\\",\\\"ESRGuuYzEeeUDhLeFYRShg\\\",\\\"lswH0jTZEea1ggpF7DR5sw\\\",\\\"q3r0bBbMEeafcQ6IJeJ6Vw\\\",\\\"qn0BuLTsEeeEuBKG5mUxcg\\\",\\\"goJ9vXd_EeWtpg5GoAM5Iw\\\",\\\"4vLX1NAeEeWihQ6ogHC6vQ\\\",\\\"_eIWXiykEeaibBJMku26Gw\\\",\\\"d97rTJHcEeeLfAo2ml5Pyg\\\",\\\"gh5rVEd3EeW2ZBIIl17oPw\\\",\\\"H9j3VizfEeW-zwq84wShFQ\\\",\\\"hp5KWAVyEeaa_RIigsB41Q\\\",\\\"sPT4Do1cEeWbIxKn7M-nSQ\\\",\\\"Anu7oplDEeWqkw5zNB248Q\\\",\\\"-YdYt3Q6EeWxvQr3acyajw\\\",\\\"2QKA3X3EEeW-FwqtbgSK1Q\\\",\\\"JI9lH7iAEeWddwqLXioIgw\\\",\\\"2bS6_yWeEeeikAo7i2uNUg\\\",\\\"zX9TJI2iEeWbIxKn7M-nSQ\\\",\\\"hHc_5i-9EeWv_w7cMMH1Uw\\\",\\\"bIkXsq9HEeSmzyIAC0yFng\\\",\\\"Wf2bzsqnEeWBhRLooYlj_Q\\\",\\\"AXmFGEEjEeWpogr5ZO8qxQ\\\",\\\"4yPs1NawEeeIbwqmmTZQLA\\\",\\\"euRJEycxEeWP8AqYi9cmiw\\\",\\\"LrZ_qEziEeWyUw4oVjG8nQ\\\",\\\"b8OFK47-EeWF6gpQJiw6hQ\\\",\\\"o_uax8a6EeWIJRKecECAWw\\\",\\\"3cmY9AVPEeWr2CIAC20DIw\\\",\\\"-ahG_eF_EeaH3gpl1SSeHg\\\",\\\"e9sNO-GnEeaKEg7zbPMg-A\\\",\\\"539Ys48mEeWF6gpQJiw6hQ\\\",\\\"3mA6QTIyEeWsOA5fzAmxbw\\\",\\\"fqVFH2MHEeaMZBK2pChIVQ\\\",\\\"XosatFKUEeWEHRLwpfV5DQ\\\",\\\"PKJBXN8SEeWxQg6ioCYbHw\\\",\\\"pIrEKFV5Eea6Uwq1IhBOhw\\\",\\\"948IYJRQEeeOpwoxDQI2lg\\\",\\\"5JJoCSsxEeWWnhJMxi0Z9Q\\\",\\\"G6SPg3t8EeeAExLLhasP5A\\\",\\\"qqRBbiEREeW5Rwo0txKkgQ\\\",\\\"UFSkjArtEeaLXQp-QzuOHQ\\\",\\\"0T3Y9XjjEeeY4QpmMQsEfA\\\",\\\"zfksZy_FEeWWqBIFfWmDPQ\\\",\\\"jOSNeqolEeehsA7jkIRnug\\\",\\\"X8wHJ9gYEeahUgoYYL5t3g\\\",\\\"r0V6xDciEeWO-Qq6rEZAow\\\",\\\"RdcXx-kUEeWDtQ4tuIgsiw\\\",\\\"q6P-8ed8EeSglCIACzUL2A\\\",\\\"9_2drtq_EeWoKQ6POrXqdQ\\\",\\\"nw7W8Ib0EeWLPRLnVNA9qw\\\",\\\"sIhBvix6EeWccAqzeA4VPw\\\",\\\"oIIVJqNXEeWM5RIHOLu8Dw\\\",\\\"CMriWkeSEea9IA5mW7znqQ\\\",\\\"cL6HnUpNEeWb5ArkqfgJBw\\\",\\\"Wokt7DntEeWO-Qq6rEZAow\\\",\\\"WGJsi1UuEeWaMw4b4yEpbw\\\",\\\"wWmv2BEhEeWvmQrN_lODCw\\\",\\\"IEGB9xHcEeaRgQ4evS8KlQ\\\",\\\"GNr7-GFfEeW5iQpSR8Sfhw\\\",\\\"K7JO2Pp5EeSZDSIACyoA8g\\\",\\\"_HnWrRtDEeWP9g4JMjGIiQ\\\",\\\"vnoctcCAEeedJRJjt8USWA\\\",\\\"WFRV5ZVGEeaPOA7y0lv8VQ\\\",\\\"l-VzSGYDEeWq4RLQvtY_lQ\\\",\\\"5CCP4gWAEeWXaSIACyAJQw\\\",\\\"m4gpU445EeWq-BKQI4jyyw\\\",\\\"1pTpF9v9EeWcBg435JRSdw\\\",\\\"-O2O1Sy8EeWV6Q7jN0iEaQ\\\",\\\"JpfomI7mEeWzARIeC3uC5w\\\",\\\"5AYG1NbQEeWEOQ7ZE5jC0Q\\\",\\\"wx3x5cPREeedYw67U0qIKg\\\",\\\"UwNrlYaGEeS8XCIACzASlQ\\\",\\\"b4OfB0R4EeaL3g5tgt_P6Q\\\",\\\"6GKIgtwaEeWbigpIjeBbbQ\\\",\\\"JKQGR1UHEea4Zwq5JsP8XQ\\\",\\\"eQ92vI2YEeWeogpSJNat4w\\\",\\\"H4Lq9DClEeeckAoFzJuh9g\\\",\\\"1e3cxzeNEeWO-Qq6rEZAow\\\",\\\"pNYBd3jtEeeFwApLz3FWEg\\\",\\\"PsI7dlrCEeW5ChKOjFc59Q\\\",\\\"gvw1-gKyEeaJMgqy4cb6jQ\\\",\\\"rAY3Bp_JEeajJhIEs83WWg\\\",\\\"5qe8W_5iEeSiniIAC1OXJA\\\",\\\"6tx1Y3LiEeWxvQr3acyajw\\\",\\\"2Hgif4zPEeeypArJuorftg\\\",\\\"KK4EhXQMEeSc3CIACrbZqg\\\",\\\"Ff8L7HZAEeeobg7O-NRcDA\\\",\\\"rgBZRpwaEeafIQpJGWIzpg\\\",\\\"u3forbRfEeeAxAouDGu3cg\\\",\\\"qzwLIm32EeabgxL_CsKzaQ\\\",\\\"MQLdHLd0EeeChhJXz190Vg\\\",\\\"Ua5FJQKYEeijwg6Q7AfPog\\\",\\\"yVYjJjlJEea_QBJ9iBnl3w\\\",\\\"K0CLlm15Eeem_Q73lEzyLA\\\",\\\"m4P_9jaeEeWBMQ5pdIoFkQ\\\",\\\"-_a5rfggEeS0mSIACx2P1w\\\",\\\"ix4wfRhfEea3DxJjpF7HPw\\\",\\\"ESrs85KbEeW2aQ7olstw0Q\\\",\\\"9iW9MyKnEeapkBKJ0Y_FqQ\\\",\\\"_pVIj63IEeeApxJ8N9WHcA\\\",\\\"VkYMdI_XEeWZyg6bf_Oxkw\\\",\\\"W1GYfZBWEeaPiw57oPj_hQ\\\",\\\"YrbKHF42Eea2uw7FUMTxlQ\\\",\\\"S2yYbyBiEeWa6hIFcmm3AQ\\\",\\\"mtT9uoZDEee5sQp-c2T9xg\\\",\\\"m3-YVtKREeaskwrhgK9PcA\\\",\\\"Ycu2Tay_EeaVdxKCaraLyA\\\",\\\"5UGFRKUVEeStrCIACxCS_Q\\\",\\\"X_ZG4rVzEeWq2A7HIftJ6w\\\",\\\"93w6xNzBEeSvjyIAC3jXcg\\\",\\\"z_MvXQoVEeWCpyIAC3lAyw\\\",\\\"EVxWU6_bEeSmUyIACymLoA\\\",\\\"pkE92hJhEearKQowajWNkQ\\\",\\\"yn4BHt70EeWDLBKS83bB7Q\\\",\\\"EZVzungdEeWi0g6YoSAL-w\\\",\\\"TEfLGl5WEeW5iQpSR8Sfhw\\\",\\\"7O843CBJEeWcQw5YiljpGw\\\",\\\"D-kRGMhiEeSHHCIAC12q0A\\\",\\\"3BtSOZkvEeeNegqR6J6tDg\\\",\\\"NtRu6kfmEeWk9g4dP2hYVQ\\\",\\\"HcZv2HHtEeWrAxJQXw-8PQ\\\",\\\"STiBVnU-EeWKsgrp3VnvAw\\\",\\\"tjqUXz-5EeWpogr5ZO8qxQ\\\",\\\"zVy42a12EeWKaQ6n__gsuQ\\\",\\\"7mp9vlryEeWzUQ41NnCQkQ\\\",\\\"dPkbnh6zEeWP0w4yK2369w\\\",\\\"_aXKkBnJEeW9dA4X94-nLQ\\\",\\\"Dvgs4iAXEeWKeQ6ae81EbQ\\\",\\\"X_CuLfb0EeWfYgqbi1xsdw\\\",\\\"zarv50qwEeaovA5yk1oeyQ\\\",\\\"od-wAux4EeWaMA7Pe7xMzw\\\",\\\"GniSDGdyEeWq4RLQvtY_lQ\\\",\\\"evGYoZ65EeW6bw4ogk2HGQ\\\",\\\"0jVDw8z0EeSMfSIAC4tSZw\\\",\\\"V2Rnzt9KEeWVFwqmKx7D2Q\\\",\\\"mXOBuEEkEeWKOBLv1z6n9w\\\",\\\"kb8BeBtHEeWP9g4JMjGIiQ\\\",\\\"ix6p0FfOEeWT8xIUiEQHHQ\\\",\\\"ET33QCcYEeWbYQ5aIUJhSw\\\",\\\"jsozn_dMEeaSfhKA_sgPeg\\\",\\\"kKwHoIP4Eea_HA7U3gpEVw\\\",\\\"NZmNZlzAEeW3Vw7jVMSMiw\\\",\\\"NJWa6CDkEeWa6hIFcmm3AQ\\\",\\\"QtAD8SXCEeWxbhIkPfddLQ\\\",\\\"i4lCti8mEeadCQq-_15rRQ\\\",\\\"X9NQX3HtEeWi0g6YoSAL-w\\\",\\\"A06r2j6XEea_VAogyls_Sw\\\",\\\"GutC4Nm9EeWkoRJloSKtsw\\\",\\\"lXNlz0B0EeWKOBLv1z6n9w\\\",\\\"BvhI5eJkEeWr4g7T_DyXNw\\\",\\\"N8tsZtwdEeenDAqfmPZsgg\\\",\\\"Ubg5m6GeEeSoeSIAC0cUQw\\\",\\\"KCDwoVb9EeWaMw4b4yEpbw\\\",\\\"Ckas6KfpEeS3eyIACw6YLg\\\",\\\"01MWvUeMEeaeRgqQhMBV5Q\\\",\\\"tOKC7icYEeW6YBLN1oULHQ\\\",\\\"eLzp7w-NEeWPhwrBf2tcNQ\\\",\\\"bALgYL4jEeejoA6gkzed5A\\\",\\\"UMooQlv8EeWzUQ41NnCQkQ\\\",\\\"OFscqWDPEeWFnw4rjmRYKQ\\\",\\\"KoJTHEpJEeWJHwqqqPAooQ\\\",\\\"atv2JmMHEea4ixIRhYg8jQ\\\",\\\"zs3YSHQ6EeWrAxJQXw-8PQ\\\",\\\"L7stsPOKEeSlpiIAC7NwBA\\\",\\\"kGjoPlCdEeWfzRIay-bDMQ\\\",\\\"jA4AZLlTEeWfYA612mWHZw\\\",\\\"mTI4WFplEeWPXA4vXFBIfw\\\",\\\"szecWzeyEeSnNyIACxiLYQ\\\",\\\"LZZg6vhQEeWfYgqbi1xsdw\\\",\\\"3FBY1Z4eEeev7w6v-2RTNg\\\",\\\"t2hchZe2EeWjfxIrc5BW9Q\\\",\\\"Ijr8rurHEeSb-yIACwuKNg\\\",\\\"mzD-aSOFEeW5Rwo0txKkgQ\\\",\\\"kKyRFEEiEeWB_AoW1KYI4Q\\\",\\\"d9Ou11BAEeeffgqJyG_Okg\\\",\\\"yFZxWd8aEeWDLBKS83bB7Q\\\",\\\"NnouyjuOEeWFSA6UPWxRyQ\\\",\\\"S7NS8xoFEeWwrBKfKrqlSQ\\\",\\\"nzM4LgHTEeaosAqqqSjfcQ\\\",\\\"QH3jq7RDEeeMiQ4Nm9ulJA\\\",\\\"gkMKPVDMEeWfzRIay-bDMQ\\\",\\\"mKzzYp5YEeWVBgpelZA5Jw\\\",\\\"JJ1g_B6sEeWFIxLDnS6_kQ\\\",\\\"tlTh8kzVEeagxwr1Kg22cw\\\",\\\"ghnWYbvuEeWuCAqiwoZfSw\\\",\\\"urbm-CT-EeWCGRL6mLoB5w\\\",\\\"9uthHBq9EeWg_RJGAuFGjw\\\",\\\"5veWow4QEeayXBIQdVd_6w\\\",\\\"6mOCpgP8EeWmBSIAC9UI2A\\\",\\\"cYz0Y3QxEeSdOyIAC1STUg\\\",\\\"xtpKLngcEeWrAxJQXw-8PQ\\\",\\\"dbg14I1oEeWbIxKn7M-nSQ\\\",\\\"a0OJ1ha4EeWKlgqs7LdhRw\\\",\\\"uIwhB9m0EeWmJA7MFk_WCQ\\\",\\\"cm6SuF0tEeeRBg6DrzW1mg\\\",\\\"F8ZetLm6EeWbNBLZhfEI2Q\\\",\\\"tudrlqdjEeellg6wyPI6Pg\\\",\\\"opX5uCGvEearhhL0e-FIDw\\\",\\\"ZTyI7epPEeWvGQrWsIkLlw\\\",\\\"sQEO1tohEeSQryIAC46GNw\\\",\\\"q6hZQfQtEeS_qSIACxODig\\\",\\\"gUk1J6KaEeWzcRL32DA-SQ\\\",\\\"qBprGt8cEeWsvwp02yXW0Q\\\",\\\"Gyll8Zh9EeWZyg6bf_Oxkw\\\",\\\"EwR6zhSDEeWCWhKuhISYpw\\\",\\\"gtbTilrcEeW5ChKOjFc59Q\\\",\\\"Lka_AUNqEeSEgyIAC1AP1w\\\",\\\"VT7tQKIyEeWiwAqQT7MHVQ\\\",\\\"5hRQhN9AEeWsvwp02yXW0Q\\\",\\\"yoEcMimLEeWbhg7tBrEPHw\\\",\\\"1IxAHTxmEeWdUgozVKt3nw\\\",\\\"hhFDsQ72EeWPhwrBf2tcNQ\\\",\\\"vqy5rJJMEeehcwpLungpGA\\\",\\\"ZvLQKUDrEeaDtA7V-fOzBw\\\",\\\"jIaMzuYjEeWomRIq0eOZbw\\\",\\\"g6miROxMEeWgEA49BslyNQ\\\",\\\"CdrDcFM2EeaLwg5UuE_6KQ\\\",\\\"o4mFTLyQEea5qAp8aGSsAg\\\",\\\"NNB3vnsMEeaCZBIelfdoiQ\\\",\\\"G5hfwlaTEeWsGQ6fKrurvQ\\\",\\\"Wi6g78WsEeWCSBJ1_yk7Tw\\\",\\\"0ayiYtaOEeWvEArBkQ8C9Q\\\",\\\"wZm0CJ0jEeWILQ7D3uPEMw\\\",\\\"l9ryvRniEeWjrA6seF25aw\\\",\\\"XUv9NVL-EeWEHRLwpfV5DQ\\\",\\\"lDOzNnwOEeSreSIACy-QzA\\\",\\\"82aQj7-XEeWlXArQvkLgXw\\\",\\\"LY8dVhVXEeWvmQrN_lODCw\\\",\\\"BvJl4ZynEeeeLg6Ny5iuug\\\",\\\"98ToAjCQEeeUJAp8qPNzqg\\\",\\\"WUlWcFTeEea6Uwq1IhBOhw\\\",\\\"-Ph0DnwyEeaA7w6yFE2sWQ\\\",\\\"p6GNi4gDEeW0iQ6RUMSWEQ\\\",\\\"0SYC5bspEeScJSIAC0aWWQ\\\",\\\"jFTD2Tu2EeWFSA6UPWxRyQ\\\",\\\"k2Ty4TonEeWO-Qq6rEZAow\\\",\\\"FjD-ZB8oEeScWCIACnuVZQ\\\",\\\"0l8lhEXrEeWbNhIvIryYow\\\",\\\"Qzq_RhPlEeWfzgpfp_iBVw\\\",\\\"THaE_RqwEeWDtQoum3sFeQ\\\",\\\"7OuwOuZMEeW05Qou4vkexQ\\\",\\\"JV2US53WEeW4xRJkiwxnYw\\\",\\\"Qj-ZfiUAEeWxbhIkPfddLQ\\\",\\\"2RQKJFb6EeWTbwotamPtlQ\\\",\\\"rWODgk58EeaSCRItpK5oLQ\\\",\\\"EwG0wVcFEeWoihJUyvgO6w\\\",\\\"3oV7d6_HEeS5PyIAC4GQ5A\\\",\\\"KixhPZSuEeWI6BJRAK7IKQ\\\",\\\"LEwPv7bcEeSrhSIAC2sFOw\\\",\\\"bnQLDSclEeWbiBJCM9ziNQ\\\",\\\"F5IIkY2jEeW-ng7WVUsFiQ\\\",\\\"s5sEkwAHEeW9ISIACxWDhA\\\",\\\"j_-Kkrw7Eea5qAp8aGSsAg\\\",\\\"-DeBzORjEeSwliIAC3sMgg\\\",\\\"xfaXlhvMEeeK5RKT8BCCCA\\\",\\\"FuHL-RuOEeSduyIAC0iV4g\\\",\\\"XUoQOTbqEeWoUw6Yc8vnEw\\\",\\\"At1XBOAAEeWoTg63tTECEQ\\\",\\\"grRYIubyEeaVLRKoA_hS8A\\\",\\\"fcqBEnxQEeaXRRKK7mMjqw\\\",\\\"xRA5cxnoEeWg_RJGAuFGjw\\\",\\\"w-VZF214EeeWCg71xNIlJg\\\",\\\"-WZJR3fJEeWKxgq26fqTNQ\\\",\\\"SgcGB0YOEeemlQrrzf9X-A\\\",\\\"d1WkxNf4EeSFEiIAC0CpYw\\\",\\\"KQ7XaDaaEeWWBQrVFXqd1w\\\",\\\"AUxxP-LfEeaqDQq7dMI62A\\\",\\\"lO5va7h_EeayqhK4SOTn7g\\\",\\\"IH7VjpoSEeWxTA6NLywNHw\\\",\\\"RXo42NFzEeWEOQ7ZE5jC0Q\\\",\\\"fZN4SVfiEeWsGQ6fKrurvQ\\\",\\\"dh3wTQZNEeWJMSIAC7Jl0w\\\",\\\"aWeQOYdaEeacLAowENVELw\\\",\\\"ofu7SKAEEeSrqiIAC46RtQ\\\",\\\"-KDHP5UFEeaPOA7y0lv8VQ\\\",\\\"Q5o-hKIwEeWzcRL32DA-SQ\\\",\\\"WaKiiuSYEeSRgCIACxAE0Q\\\",\\\"v9CQdBkhEeWjrA6seF25aw\\\",\\\"Xr4n5w7WEeeiThJuAhkCcA\\\",\\\"HBzqJ09KEeaSCRItpK5oLQ\\\",\\\"LcLAGMEVEeWvUhLEBd1H9w\\\",\\\"Vl33l3YNEealBw7zEbSgBw\\\",\\\"jB4S7oIAEeWVOA72XBQbjQ\\\",\\\"lAGmYTKVEeWgIQ7IEhB31Q\\\",\\\"r74vRmEsEeWQAgqoue9YNw\\\",\\\"eUhVWo2iEeWJIAqFKsey7w\\\",\\\"FioEDkKkEeWpogr5ZO8qxQ\\\",\\\"3vTfVlUsEeWaMw4b4yEpbw\\\",\\\"s6_Z4SBAEeWcQw5YiljpGw\\\",\\\"nymnhGMNEeWMMg7wwTZV_Q\\\",\\\"Cn3HgzTdEeWW9BKhJ4xW0Q\\\",\\\"yt9FQtZWEeaDExLRWbCaPg\\\",\\\"caUavg4QEeaY6ApZCjoQPw\\\",\\\"Niihyrb2EeSNXyIAC0mVOQ\\\",\\\"aPM0Nx7iEea8agoSdQeRvQ\\\",\\\"TN2PygiBEeW4diIACwKO-g\\\",\\\"iXq6zSWTEeWs4gorU6Q1Yw\\\",\\\"G_9QyIesEeWfngrMqWa91Q\\\",\\\"SdHxfbfoEeaySxJObWl3bA\\\",\\\"JBCvTm03EeWEewoyD2Bc5Q\\\",\\\"VuB23StaEeWccAqzeA4VPw\\\",\\\"q78Cq1x8EeW9BBKT5ztNhQ\\\",\\\"R3QoIjeuEeWCYBKNeFwojw\\\",\\\"ICHUM2UiEeaspg4CA9Hi1w\\\",\\\"W62t_A-ZEeWuEBJhzy2uFw\\\",\\\"eH8S1b38EeWxzxJER_JW2w\\\",\\\"ugSnwH9hEeSiIiIAC3lQMQ\\\",\\\"tEqImn2kEeWb-BLhFdaGww\\\",\\\"6Fa6w3EjEeWbbw5cIAKQrw\\\",\\\"rWOCs42DEeWIbw4397jVQw\\\",\\\"MOYxuFfOEeWTbwotamPtlQ\\\",\\\"xOBaY1ibEeS-oiIAC0UN8Q\\\",\\\"DoehDsNaEeSFKyIACw6TQw\\\",\\\"A82QaHtJEeSliSIAC0EO7A\\\",\\\"iI9VRSBSEeW5Rwo0txKkgQ\\\",\\\"uhmPeQZHEeWNRCIAC3rB3Q\\\",\\\"we2C0U9DEealsQ4S5bCf-Q\\\",\\\"BPAnFSl4EeWbhg7tBrEPHw\\\",\\\"Xy2quTeOEeWJaxK5AT4frw\\\",\\\"7Iw3cbCiEeS-qCIACimRTw\\\",\\\"N6kw6qEJEeSHiSIAC0EiMQ\\\",\\\"3TdKKA-VEeWhsgqB1eduww\\\",\\\"Nap1_eB0EeWHHAokaxVUhQ\\\",\\\"0zQ5g82xEeeDaxJqd7j5uA\\\",\\\"ouoDtVM7EeaUyhJ5kBsouw\\\",\\\"cKvqIUXWEeSAFiIACyyIrg\\\",\\\"xAUa37WoEeW-DxJ4SAJAhQ\\\",\\\"IFz46F48EeSncCIAC0eNkA\\\",\\\"ijXGKZHZEeerwQrGqCbRTA\\\",\\\"pNJRE3jlEeeO7g69QmeD8A\\\",\\\"a9S36isyEeWccAqzeA4VPw\\\",\\\"4c3Na4HJEeebiA46KC81FA\\\",\\\"192QixZOEeWKlgqs7LdhRw\\\",\\\"_UsmIV-PEeSnpyIACzWBsQ\\\",\\\"1HMhd4JEEeWxQQoymFg8zQ\\\",\\\"xK2ybtwzEeez4BKR_KlTkA\\\",\\\"aLT8b2rnEeak0hLPfPzoPw\\\",\\\"etUml1ZbEeWQVQr3-Nu12w\\\",\\\"M9h7jndcEeWi0g6YoSAL-w\\\",\\\"fVStkiGAEeWibgoGfGzczQ\\\",\\\"B6xVo03bEeaSCRItpK5oLQ\\\",\\\"NHZYDoLEEeWXmQ4F86nmrw\\\",\\\"wNpXSI7-EeW93wo8Ha4kow\\\",\\\"Uq0cvh6TEeS2uyIACzGOcw\\\",\\\"LZj7-KJCEeWYyRIEa7jVJw\\\",\\\"QKGzLQoYEeWKzSIAC7Uk8A\\\",\\\"wmoTBzyAEeWFSA6UPWxRyQ\\\",\\\"6AL8FY7BEeW5gxKDBxYMJw\\\",\\\"dQMNsk2NEeW2EwoziUhyxQ\\\",\\\"C40AUGZoEeWq4RLQvtY_lQ\\\",\\\"Kzg9QkDxEeWZtA4u62x6lQ\\\",\\\"VIUTXB0IEea20BJooCBlFw\\\",\\\"IJnuLLWoEeWfYA612mWHZw\\\",\\\"7pQIqpStEeWzARIeC3uC5w\\\",\\\"bzhAuJ9sEeWJORITtzkPnQ\\\",\\\"5d5-vUEkEeWKOBLv1z6n9w\\\",\\\"K4eYfU1aEeWigQ4Vtn6olw\\\",\\\"4gFDJxJhEeayXBIQdVd_6w\\\",\\\"0nQ09Q4SEeaY6ApZCjoQPw\\\",\\\"pbw8djXzEeW6RApRXdjJPw\\\",\\\"eBEnnYkqEeWGBwqGAoUFww\\\",\\\"zyGo9ph2EeSyKiIAC0EFDA\\\",\\\"_PYZqCETEeW5Rwo0txKkgQ\\\",\\\"8Yiz7ITUEeaTWA5e4i8Kvw\\\",\\\"dScDad8bEeWNrAqe1RXmgw\\\",\\\"O4zNy4R9EeWXmQ4F86nmrw\\\",\\\"WHpKheovEeWHHw4eQCNF6Q\\\",\\\"893hvnH8EeWLqw7zlLhRzQ\\\",\\\"vV5KmA_3EeWPhwrBf2tcNQ\\\",\\\"A9Yb1uFoEeWLHw5Kc9wFbw\\\",\\\"wywOj9ZqEeWoww7Hc7148Q\\\",\\\"KEY9D8SzEeWhPQ55lNYVVQ\\\",\\\"7wfVmobsEeWgjA5cAvYgmw\\\",\\\"Q_W9Aw5BEea7axIlQHzY1Q\\\",\\\"iRBJm_LREeSplSIACzYDNg\\\",\\\"Rtlt9eFdEeSGQSIAC1sPoA\\\",\\\"l28DESP2EeWcQw5YiljpGw\\\",\\\"0lWQ0yP5EeWibgoGfGzczQ\\\",\\\"yC0iaOrHEeSb-yIACwuKNg\\\",\\\"n5-mrvV_EeW_Fg5kRHBRWw\\\",\\\"R9bQ2bU2EeWhzw6RmNsYkQ\\\",\\\"XrCGMTroEeeAnw4ZpXnkxA\\\",\\\"iYYp3BipEeeAuQ5XyvTfVA\\\",\\\"wU9rptfZEeSQpiIAC2iNcA\\\",\\\"Fw4ZgaAIEeSrPCIAC1SWlw\\\",\\\"oBD-Aq5rEeWDaxLlMKJUpw\\\",\\\"y20FTlDPEeWMlwoziUhyxQ\\\",\\\"ex6zqWw6EeSBviIAC4cMmw\\\",\\\"0qiIqiLuEea8agoSdQeRvQ\\\",\\\"X8YjHDowEeWnxw5wP_KHTw\\\",\\\"5qFfbA5AEeaoZBKRisF_Dw\\\",\\\"3KNgoXgcEeWrAxJQXw-8PQ\\\",\\\"92ijl7WhEeW-xg611XxSbw\\\",\\\"1AOj5h1WEeaSjBI-YFKkww\\\",\\\"yGzRJSWJEeWs4gorU6Q1Yw\\\",\\\"qwVGRrgdEeWkwBIgnN7tuw\\\",\\\"UZ2GhkvlEeWyUw4oVjG8nQ\\\",\\\"NSxhuc9cEeWczg7kSY_tVQ\\\",\\\"EGWVwnE7EeWxvQr3acyajw\\\",\\\"7FRjpz1BEeWC4g7VhG4bTQ\\\",\\\"q4jrAUR4Eea5xg7_DSTNnw\\\",\\\"qqP6hnElEeWi0g6YoSAL-w\\\",\\\"5uY2s0U4EeWbNhIvIryYow\\\",\\\"wIiu6ShLEeabkA6A3tuC4Q\\\",\\\"RugeU1pBEeaw3QoEHqdPHw\\\",\\\"ujDaYENhEeSfwCIACxeXRw\\\",\\\"c7SmIq3JEeeN3goWo4mKhg\\\",\\\"-cU13ARSEee5kw7fsxuOhg\\\",\\\"Zsd6tn68EeeOgw4a3SFqnA\\\",\\\"CaJoOSNrEeaLUg4ucc6JJQ\\\",\\\"8Z78nUQREeabNQ5k0FBNlQ\\\",\\\"7mdQ8leoEeeZ3g7LRzMq2g\\\",\\\"X55NADVvEeW6RApRXdjJPw\\\",\\\"13cxmIVmEeaSuApRnRH4vw\\\",\\\"LAsCMVNlEeaLwg5UuE_6KQ\\\",\\\"oHkr8bWNEeW2iwpbOuagWQ\\\",\\\"QYYAP_ZSEeWzQw5ZtKzbdQ\\\",\\\"mn-McyvqEeWccAqzeA4VPw\\\",\\\"9GGvo5QIEeWBAQoVMoNgNQ\\\",\\\"nnd5lshWEeSA1yIACye2oA\\\",\\\"DVetX9HfEeWlbgqNCYymGw\\\",\\\"H9F0uPUfEeW_PAqltdIuVw\\\",\\\"zfZ1eLJIEee1URLG_iv35A\\\",\\\"-ufScs8fEeSS_CIACzcAUg\\\",\\\"kZ029icpEeWbYQ5aIUJhSw\\\",\\\"W-ayAiM9EeSjriIACzaDig\\\",\\\"M7W0H9_dEeS2ayIAC7NlsA\\\",\\\"NiK99anHEeS88iIAC1WehA\\\",\\\"SN5tm_tBEeScRyIAC3-PxA\\\",\\\"XMBb_CfbEeaiMhLaNG_3QQ\\\",\\\"VXrdLODREeWGtArzEGZPmw\\\",\\\"5HBkkNZEEeau6wpUmreBng\\\",\\\"eKJIPOAMEeelCBLoDv22aA\\\",\\\"7_wUMCBSEeW5Rwo0txKkgQ\\\",\\\"KqKtbzXyEeWW9BKhJ4xW0Q\\\",\\\"XdQwhCQcEeapkBKJ0Y_FqQ\\\",\\\"senhGTbqEeWw6g4yTrGrVQ\\\",\\\"1b9VUDu6EeWdUgozVKt3nw\\\",\\\"pDX5iINYEealyAq9mBiU-w\\\",\\\"Yg0QhCDeEeWXzxJxfIL00w\\\",\\\"yE4SeOsyEeWaMA7Pe7xMzw\\\",\\\"X1gEFr4LEeaqug5_d2-DwA\\\",\\\"KIU_MO-XEeaChwpLfdCNZA\\\",\\\"83wSTQbEEeaCAQ5MYbYgBw\\\",\\\"b6AxviyUEea8-BJ7AvBU3Q\\\",\\\"1cW_OysHEeWccAqzeA4VPw\\\",\\\"bpULWbWpEeWbNBLZhfEI2Q\\\",\\\"QKuGrOVSEeWqgA7hWaP3zw\\\",\\\"EZaf2jCPEeeo0w7S4sUhzA\\\",\\\"enk-CJRMEeaerwqx2eVOvQ\\\",\\\"VlVL7qXiEeScJCIACymM8Q\\\",\\\"wIj8XHHLEeSXYyIACw0Peg\\\",\\\"7_kA050XEeWIXgpWJNgyEw\\\",\\\"fUpdLCAMEeWibgoGfGzczQ\\\",\\\"d_71NKdPEeSOWCIAC2iDyw\\\",\\\"mShQi8YfEeWg0QoHq3JjoQ\\\",\\\"3uUhp3hZEee12AoVaVBtGA\\\",\\\"m3M_QRdcEeaEIQq1FSQEZQ\\\",\\\"QdHw-bjSEee9Dw6zl3J7sA\\\",\\\"SiUFNQMIEeWKrCIAC49PHA\\\",\\\"6kAowBObEeWfzgpfp_iBVw\\\",\\\"t1gZRTXyEeW6RApRXdjJPw\\\",\\\"SrM6V-3pEeSJZSIAC0gHUg\\\",\\\"CTZdEFfbEeWsGQ6fKrurvQ\\\",\\\"W9XMEny5EeW3pg6oA-kqJQ\\\",\\\"RYH9NTXzEeWWBQrVFXqd1w\\\",\\\"tMHV7wu7EeWoRw4pD4cXmw\\\",\\\"j0Ytj2cAEeWUihJ1ayDcyQ\\\",\\\"z7qyITcjEeWnxw5wP_KHTw\\\",\\\"asKM33phEeafpQ7bFXmnJw\\\",\\\"pBpdFgq4EeafmAoLZ2pYtw\\\",\\\"Fp0K8RoEEeWDtQoum3sFeQ\\\",\\\"p2kZV1WKEeeozwrtSTjoGg\\\",\\\"mG15ZhQ9EeWCWhKuhISYpw\\\",\\\"gja-ZYNWEeWxQQoymFg8zQ\\\",\\\"BOxskeJGEea3uhKgRSNY-g\\\",\\\"zc34tTekEeWXuQopUhAqaw\\\",\\\"UShq4HPgEeWi0g6YoSAL-w\\\",\\\"z5mjsWCeEeWVEg5QpF1H_w\\\",\\\"Ts1j3OZkEeaw3QpTaAahwA\\\",\\\"Wv_qFVYzEeWKXg4Y7_tPaw\\\",\\\"b-UZI43PEeWTzg6WBWinhQ\\\",\\\"m8Ax7uY0EeWPBQp-iKDXPw\\\",\\\"QGl4qFJkEeauXRI4ypm_Yw\\\",\\\"oZirzngdEeWrAxJQXw-8PQ\\\",\\\"EKfyaEtaEeW4rRLEP0z9Bw\\\",\\\"gDXTbUEjEeWKOBLv1z6n9w\\\",\\\"yS8ezjDPEeW-zwq84wShFQ\\\",\\\"ceSIMmPeEeWXRApPoSsREw\\\",\\\"8To4DTVtEeWWBQrVFXqd1w\\\",\\\"-1YwAnTLEeSjmyIAC0aXFg\\\",\\\"0B_AVEqwEeaw2hIsmg4YHQ\\\",\\\"7QEXSlPgEeaVmgqzlkasOw\\\",\\\"sCnDCtBhEeWFqw71fuUDrw\\\",\\\"ZR2zKt-eEeW2DxJ2-klr8Q\\\",\\\"UHpTmhtHEeWBKhJRV_B8Gw\\\",\\\"31zZu_xWEealqA7jlkBudg\\\",\\\"BySMWm04EeW8nRIpKnwp7Q\\\"],\\\"tagName\\\":\\\"course_id\\\"},\\\"namespace\\\":\\\"Flex\\\",\\\"idForAllocation\\\":\\\"9395860891-1600728821742\\\",\\\"experimentId\\\":\\\"xTa1IEHQEeiivJ_nrtfPhg\\\",\\\"variantId\\\":\\\"CxuUpUdMRCC3R5mHjcrJzw\\\",\\\"parameterName\\\":\\\"sessionsV2EnrollmentEnabled\\\",\\\"id\\\":11,\\\"version\\\":1,\\\"value\\\":false,\\\"status\\\":\\\"RUNNING\\\"},{\\\"namespace\\\":\\\"GrowthAcquisition\\\",\\\"idForAllocation\\\":\\\"9395860891-1600728821742\\\",\\\"experimentId\\\":\\\"BAFNQKq4EeqNLW35iISN9A\\\",\\\"variantId\\\":\\\"eUOETRD_RHW4z6EfJNTg-g\\\",\\\"parameterName\\\":\\\"programSelectCollections\\\",\\\"id\\\":12,\\\"version\\\":1,\\\"value\\\":true,\\\"status\\\":\\\"RUNNING\\\"},{\\\"namespace\\\":\\\"Enterprise\\\",\\\"idForAllocation\\\":\\\"9395860891-1600728821742\\\",\\\"experimentId\\\":\\\"_gp28JvGEeqv4T3zyl7Djg\\\",\\\"variantId\\\":\\\"Z_QCarCVSnealRvSup4nCg\\\",\\\"parameterName\\\":\\\"enableUpswell\\\",\\\"id\\\":13,\\\"version\\\":1,\\\"value\\\":true,\\\"status\\\":\\\"RUNNING\\\"},{\\\"namespace\\\":\\\"GrowthDegrees\\\",\\\"idForAllocation\\\":\\\"9395860891-1600728821742\\\",\\\"experimentId\\\":\\\"rySHULZ_Eeqo7pexdBh-Ig\\\",\\\"variantId\\\":\\\"tkXhIgvgSK-KGfS8Ou5ljA\\\",\\\"parameterName\\\":\\\"unauthenticatedShowDegreeDate\\\",\\\"id\\\":14,\\\"version\\\":1,\\\"value\\\":false,\\\"status\\\":\\\"RUNNING\\\"},{\\\"namespace\\\":\\\"Enterprise\\\",\\\"idForAllocation\\\":\\\"9395860891-1600728821742\\\",\\\"experimentId\\\":\\\"rc9h0HOHEeqysA33ez87GA\\\",\\\"variantId\\\":\\\"mbWQYbusRZyWE2npy82sHA\\\",\\\"parameterName\\\":\\\"enableMiniPDP\\\",\\\"id\\\":15,\\\"version\\\":1,\\\"value\\\":true,\\\"status\\\":\\\"RUNNING\\\"},{\\\"namespace\\\":\\\"Growth\\\",\\\"idForAllocation\\\":\\\"9395860891-1600728821742\\\",\\\"experimentId\\\":\\\"ZQp1AJSaEeqLZ_1vocYOfg\\\",\\\"variantId\\\":\\\"9P4p0GqpSP-nNKLk8hEVdQ\\\",\\\"parameterName\\\":\\\"careerPlansVariant\\\",\\\"id\\\":16,\\\"version\\\":1,\\\"value\\\":\\\"page\\\",\\\"status\\\":\\\"RUNNING\\\"},{\\\"namespace\\\":\\\"GrowthAcquisition\\\",\\\"idForAllocation\\\":\\\"/learn/python-data-analysis/home/welcome.htm\\\",\\\"experimentId\\\":\\\"pj8lQKE7EeqosM_Us8ruzw\\\",\\\"variantId\\\":\\\"UVJ1b7uLS6W3pCzt9KeZdA\\\",\\\"parameterName\\\":\\\"socialMetaCertificate\\\",\\\"id\\\":17,\\\"version\\\":1,\\\"value\\\":true,\\\"status\\\":\\\"RUNNING\\\"},{\\\"namespace\\\":\\\"Growth\\\",\\\"idForAllocation\\\":\\\"9395860891-1600728821742\\\",\\\"experimentId\\\":\\\"J54fUJSaEeqLZ_1vocYOfg\\\",\\\"variantId\\\":\\\"2TyI4t98Q5KmlaspOqr2Rg\\\",\\\"parameterName\\\":\\\"careerPlansRollout\\\",\\\"id\\\":18,\\\"version\\\":1,\\\"value\\\":false,\\\"status\\\":\\\"RUNNING\\\"},{\\\"namespace\\\":\\\"Enterprise\\\",\\\"idForAllocation\\\":\\\"9395860891-1600728821742\\\",\\\"experimentId\\\":\\\"r53sIPN_Eeq3Zq2AxGUSNw\\\",\\\"variantId\\\":\\\"Fksg88GuQ0mmNDJ-uNa--g\\\",\\\"parameterName\\\":\\\"disableProgramJumbotronContrast\\\",\\\"id\\\":19,\\\"version\\\":1,\\\"value\\\":[\\\"XhOW5ZDBRDGRGt4kuEzcHA\\\"],\\\"status\\\":\\\"RUNNING\\\"},{\\\"namespace\\\":\\\"Authoring\\\",\\\"idForAllocation\\\":\\\"9395860891-1600728821742\\\",\\\"experimentId\\\":\\\"qfC6APXxEemFl-GG5jbsPA\\\",\\\"variantId\\\":\\\"Wkv3MO2OSzetLWU1cmVwGw\\\",\\\"parameterName\\\":\\\"gradebookLearnerColumnConfigsEnabled\\\",\\\"id\\\":20,\\\"version\\\":1,\\\"value\\\":true,\\\"status\\\":\\\"RUNNING\\\"},{\\\"namespace\\\":\\\"Growth\\\",\\\"idForAllocation\\\":\\\"9395860891-1600728821742\\\",\\\"experimentId\\\":\\\"xlP-IMnzEemru62x_0ILZA\\\",\\\"variantId\\\":\\\"ZleNd5vHSx6GjpqrGOjR9w\\\",\\\"parameterName\\\":\\\"showMtdpEnrollmentChecklist\\\",\\\"id\\\":21,\\\"version\\\":1,\\\"value\\\":true,\\\"status\\\":\\\"RUNNING\\\"},{\\\"namespace\\\":\\\"Growth\\\",\\\"idForAllocation\\\":\\\"9395860891-1600728821742\\\",\\\"experimentId\\\":\\\"iKTbQHHcEem6mE16S5wfGA\\\",\\\"variantId\\\":\\\"kqi5CcDLQQi8ID9FhWiE_Q\\\",\\\"parameterName\\\":\\\"competencyTestsWhitelist\\\",\\\"id\\\":22,\\\"version\\\":1,\\\"value\\\":[\\\"visualization-graphic\\\",\\\"machine-learning\\\",\\\"statistics\\\",\\\"statistical-programming\\\"],\\\"status\\\":\\\"RUNNING\\\"},{\\\"namespace\\\":\\\"Enterprise\\\",\\\"idForAllocation\\\":\\\"9395860891-1600728821742\\\",\\\"experimentId\\\":\\\"kTgUoNv6Eeq5Kb1MHu8Mpw\\\",\\\"variantId\\\":\\\"90XkFIxJTO2n4RLW9H-Opw\\\",\\\"parameterName\\\":\\\"enableSocialProof\\\",\\\"id\\\":23,\\\"version\\\":1,\\\"value\\\":true,\\\"status\\\":\\\"RUNNING\\\"},{\\\"namespace\\\":\\\"edgeRouting\\\",\\\"idForAllocation\\\":\\\"9395860891-1600728821742\\\",\\\"experimentId\\\":\\\"pgXHYNkCEeq5Kb1MHu8Mpw\\\",\\\"variantId\\\":\\\"oLouPJ97QXKWYM-y8RTFkQ\\\",\\\"parameterName\\\":\\\"vlpReact16Rollout\\\",\\\"id\\\":24,\\\"version\\\":1,\\\"value\\\":\\\"alternate\\\",\\\"status\\\":\\\"RUNNING\\\"},{\\\"namespace\\\":\\\"Growth\\\",\\\"idForAllocation\\\":\\\"9395860891-1600728821742\\\",\\\"experimentId\\\":\\\"dikOoH27Eeq0vsWWJKnozw\\\",\\\"variantId\\\":\\\"aGxekA93RUqsKwri8glklw\\\",\\\"parameterName\\\":\\\"cdpBannerRatingComponentTest\\\",\\\"id\\\":25,\\\"version\\\":1,\\\"value\\\":\\\"control\\\",\\\"status\\\":\\\"RUNNING\\\"},{\\\"namespace\\\":\\\"GrowthDegrees\\\",\\\"idForAllocation\\\":\\\"9395860891-1600728821742\\\",\\\"experimentId\\\":\\\"hx-gILAVEeqKBGVcslhArg\\\",\\\"variantId\\\":\\\"XZPYXCYSR6-I6uHBhqAeEA\\\",\\\"parameterName\\\":\\\"showHubEOIv2\\\",\\\"id\\\":26,\\\"version\\\":1,\\\"value\\\":false,\\\"status\\\":\\\"RUNNING\\\"},{\\\"namespace\\\":\\\"Growth\\\",\\\"idForAllocation\\\":\\\"9395860891-1600728821742\\\",\\\"experimentId\\\":\\\"P2GpwNfOEeib3EV-pYQTzA\\\",\\\"variantId\\\":\\\"LMTdUgGxR_aR0Mwsig2_4A\\\",\\\"parameterName\\\":\\\"insidedFooterConfig\\\",\\\"id\\\":27,\\\"version\\\":1,\\\"value\\\":[{\\\"label\\\":\\\"Learners\\\",\\\"href\\\":\\\"https://www.coursera.community\\\"},{\\\"label\\\":\\\"Partners\\\",\\\"href\\\":\\\"https://www.coursera.org/about/partners\\\"},{\\\"label\\\":\\\"Developers\\\",\\\"href\\\":\\\"https://building.coursera.org/developer-program/\\\"},{\\\"href\\\":\\\"https://www.coursera.community/beta-tester-news-announcements-20/join-the-coursera-beta-tester-community-47\\\",\\\"label\\\":\\\"Beta Testers\\\"},{\\\"href\\\":\\\"https://www.coursera.community/gtc-news-announcements-17/join-the-coursera-global-translator-community-45\\\",\\\"label\\\":\\\"Translators\\\"}],\\\"status\\\":\\\"RUNNING\\\"},{\\\"namespace\\\":\\\"GrowthAcquisition\\\",\\\"idForAllocation\\\":\\\"9395860891-1600728821742\\\",\\\"experimentId\\\":\\\"JfbnUIMoEeqaUsP2OLkXSg\\\",\\\"variantId\\\":\\\"23gMtBxwRg2w-P6YwSwMCA\\\",\\\"parameterName\\\":\\\"enableJoinForFreeMobileCTASiteWide\\\",\\\"id\\\":28,\\\"version\\\":1,\\\"value\\\":false,\\\"status\\\":\\\"RUNNING\\\"},{\\\"namespace\\\":\\\"Enterprise\\\",\\\"idForAllocation\\\":\\\"9395860891-1600728821742\\\",\\\"experimentId\\\":\\\"6qCNEBd-EeqXYC-7WwsKNQ\\\",\\\"variantId\\\":\\\"YaxHr_0LS8qT3jD-e80mXA\\\",\\\"parameterName\\\":\\\"disabledTrackingVerbiage\\\",\\\"id\\\":29,\\\"version\\\":1,\\\"value\\\":[\\\"ncEC73jJSkKsLaF3Dabi_g\\\",\\\"gMHq7jJ4Rs-mrj9P6OUxsQ\\\",\\\"rV_kvNUWTpqrdztHruz76Q\\\",\\\"7EoK09sQReC9AhtuPL4jdQ\\\",\\\"wv-6cESqRUSNfLgKIUT3WQ\\\"],\\\"status\\\":\\\"RUNNING\\\"},{\\\"namespace\\\":\\\"Flex\\\",\\\"idForAllocation\\\":\\\"9395860891-1600728821742\\\",\\\"experimentId\\\":\\\"jDB70Mr3EeeTYx8pA9nYuw\\\",\\\"variantId\\\":\\\"k3RFQap_SyWj-zTUOiQOAg\\\",\\\"parameterName\\\":\\\"widgetQuizQuestionEnabled\\\",\\\"id\\\":30,\\\"version\\\":1,\\\"value\\\":true,\\\"status\\\":\\\"RUNNING\\\"},{\\\"namespace\\\":\\\"Enterprise\\\",\\\"idForAllocation\\\":\\\"9395860891-1600728821742\\\",\\\"experimentId\\\":\\\"YZuloEc1EemSN6VaA-RPeg\\\",\\\"variantId\\\":\\\"jKEQCdYQQaq49ZAzxbi2hg\\\",\\\"parameterName\\\":\\\"invitationsWhitelist\\\",\\\"id\\\":31,\\\"version\\\":1,\\\"value\\\":[\\\"i1ADGfIIScyRsPNBmHQOqw\\\",\\\"dAlFvG6zRXGe46LxMqmv4g\\\",\\\"H6nNGqAqSQyWf7QSUWWT9Q\\\",\\\"bMkXnDhMShWWp3l5QyKRaw\\\",\\\"PmioQFeYRvGGo3hbKUdZIg\\\"],\\\"status\\\":\\\"RUNNING\\\"},{\\\"namespace\\\":\\\"XDP\\\",\\\"idForAllocation\\\":\\\"9395860891-1600728821742\\\",\\\"experimentId\\\":\\\"KtoukI6lEeiMkCN8QsAfwQ\\\",\\\"variantId\\\":\\\"41RejuFyT2OBM2mrRYr6sQ\\\",\\\"parameterName\\\":\\\"authoring\\\",\\\"id\\\":32,\\\"version\\\":1,\\\"value\\\":true,\\\"status\\\":\\\"RUNNING\\\"},{\\\"namespace\\\":\\\"edgeRouting\\\",\\\"idForAllocation\\\":\\\"9395860891-1600728821742\\\",\\\"experimentId\\\":\\\"0Ai0oDPaEeq40KfvyR0Yig\\\",\\\"variantId\\\":\\\"uzMjAE1zReyjpNRJGxbFqw\\\",\\\"parameterName\\\":\\\"google-it-150-terms-page\\\",\\\"id\\\":33,\\\"version\\\":1,\\\"value\\\":\\\"alternate\\\",\\\"status\\\":\\\"RUNNING\\\"},{\\\"namespace\\\":\\\"DDP\\\",\\\"idForAllocation\\\":\\\"9395860891-1600728821742\\\",\\\"experimentId\\\":\\\"4uqSIERWEeiCYA0t4tF0Aw\\\",\\\"variantId\\\":\\\"pao9T_cyTaqgTpjrFvbMig\\\",\\\"parameterName\\\":\\\"showIllinoisEOI\\\",\\\"id\\\":34,\\\"version\\\":1,\\\"value\\\":true,\\\"status\\\":\\\"RUNNING\\\"},{\\\"namespace\\\":\\\"payments\\\",\\\"idForAllocation\\\":\\\"9395860891-1600728821742\\\",\\\"experimentId\\\":\\\"cYtVcJlYEeq7Jtefw4lcZg\\\",\\\"variantId\\\":\\\"sRM4uCNeQSCBK6VQ7Irq8A\\\",\\\"parameterName\\\":\\\"pdpImpression\\\",\\\"id\\\":35,\\\"version\\\":1,\\\"value\\\":true,\\\"status\\\":\\\"RUNNING\\\"},{\\\"namespace\\\":\\\"authentication\\\",\\\"idForAllocation\\\":\\\"9395860891-1600728821742\\\",\\\"experimentId\\\":\\\"x5PVIMU-EeqafxF8yuFzlg\\\",\\\"variantId\\\":\\\"PAMMB_9AR86HX7p2ySXCUg\\\",\\\"parameterName\\\":\\\"shouldEnableDeviceCheck\\\",\\\"id\\\":36,\\\"version\\\":1,\\\"value\\\":true,\\\"status\\\":\\\"RUNNING\\\"},{\\\"namespace\\\":\\\"Enterprise\\\",\\\"idForAllocation\\\":\\\"9395860891-1600728821742\\\",\\\"experimentId\\\":\\\"88YEcFpsEeqLLL-gPp_cYA\\\",\\\"variantId\\\":\\\"O4ixkXT9R66cqwNfNxB8cQ\\\",\\\"parameterName\\\":\\\"enableProjectToggleBanner\\\",\\\"id\\\":37,\\\"version\\\":1,\\\"value\\\":true,\\\"status\\\":\\\"RUNNING\\\"},{\\\"tagTarget\\\":{\\\"targetType\\\":\\\"WHITELIST\\\",\\\"tagName\\\":\\\"specialization_id\\\",\\\"tagValues\\\":[\\\"7lHCSlFIEeeffRIHljDI_g\\\",\\\"oRyN5IglEeePyRLleDGmxg\\\",\\\"child~L8zv1y16EeiOGQoLfyCjcg\\\",\\\"dwzq23ZLEei12goo904QNg\\\",\\\"kLWnFWsyEeeVdhKUpvOPZg\\\",\\\"cbueaYMPEeme0Q6mGz36ig\\\"]},\\\"namespace\\\":\\\"Growth\\\",\\\"idForAllocation\\\":\\\"9395860891-1600728821742\\\",\\\"experimentId\\\":\\\"rX7O0PGGEeedbZcKnZgByQ\\\",\\\"variantId\\\":\\\"GruasfXYS9yyZvfHJL_zuQ\\\",\\\"parameterName\\\":\\\"isCertificate\\\",\\\"id\\\":38,\\\"version\\\":1,\\\"value\\\":true,\\\"status\\\":\\\"RUNNING\\\"},{\\\"namespace\\\":\\\"Authoring\\\",\\\"idForAllocation\\\":\\\"9395860891-1600728821742\\\",\\\"experimentId\\\":\\\"yYoSsNZaEeiwzD2WFbU35A\\\",\\\"variantId\\\":\\\"O-ReOMJeToSDFhO_4ss6kg\\\",\\\"parameterName\\\":\\\"enableFullStory\\\",\\\"id\\\":39,\\\"version\\\":1,\\\"value\\\":true,\\\"status\\\":\\\"RUNNING\\\"},{\\\"namespace\\\":\\\"Growth\\\",\\\"idForAllocation\\\":\\\"9395860891-1600728821742\\\",\\\"experimentId\\\":\\\"ufg_cNaFEeqiQKmth5Qx9g\\\",\\\"variantId\\\":\\\"HUShbUISSe2NB8qvNl4IcQ\\\",\\\"parameterName\\\":\\\"enableForStudentsHeaderButtonV2\\\",\\\"id\\\":40,\\\"version\\\":1,\\\"value\\\":true,\\\"status\\\":\\\"RUNNING\\\"},{\\\"namespace\\\":\\\"Flex\\\",\\\"idForAllocation\\\":\\\"9395860891-1600728821742\\\",\\\"experimentId\\\":\\\"aAvH8IB9Eei70IVDmjGVPw\\\",\\\"variantId\\\":\\\"_Vrn38-MS66hfNvZI0hyjw\\\",\\\"parameterName\\\":\\\"enrollmentStateBannerCourses\\\",\\\"id\\\":41,\\\"version\\\":1,\\\"value\\\":[\\\"TMk-JMPqEeeraQqgwblWsg\\\",\\\"h0C59R2CEeiShw5EcKeMUg\\\",\\\"3DeJ-gctEeiDDQ70Ac3Gdg\\\",\\\"0V5okGj5Eeelxw4aT8L6NA\\\"],\\\"status\\\":\\\"RUNNING\\\"},{\\\"namespace\\\":\\\"FrontendInfra\\\",\\\"idForAllocation\\\":\\\"9395860891-1600728821742\\\",\\\"experimentId\\\":\\\"BZWyYDrhEem290eD5HU-Bw\\\",\\\"variantId\\\":\\\"ITFh1qvKQQ--VMb74eceLg\\\",\\\"parameterName\\\":\\\"muxEnabled\\\",\\\"id\\\":42,\\\"version\\\":1,\\\"value\\\":\\\"true\\\",\\\"status\\\":\\\"RUNNING\\\"},{\\\"namespace\\\":\\\"GrowthDegrees\\\",\\\"idForAllocation\\\":\\\"9395860891-1600728821742\\\",\\\"experimentId\\\":\\\"VT0Z0DcVEeqfVvePAh1ojA\\\",\\\"variantId\\\":\\\"zKhS2ziWRuWJHq-I-a9OAw\\\",\\\"parameterName\\\":\\\"degreesOnEOIv2\\\",\\\"id\\\":43,\\\"version\\\":1,\\\"value\\\":[\\\"master-of-computer-science-illinois\\\",\\\"unt-online-bachelor-completion\\\",\\\"maestria-ingenieria-software-uniandes\\\",\\\"master-of-computer-science-asu\\\",\\\"mph-umich\\\",\\\"master-of-applied-data-science-umich\\\",\\\"global-mph-imperial\\\",\\\"msc-machine-learning-imperial\\\",\\\"master-of-data-science-hse\\\",\\\"bachelor-of-science-computer-science-london\\\",\\\"omie\\\",\\\"global-mba-macquarie\\\",\\\"maestria-analitica-de-datos-uniandes\\\",\\\"master-of-population-science-umich\\\",\\\"ms-management-illinois\\\",\\\"msee-boulder\\\"],\\\"status\\\":\\\"RUNNING\\\"},{\\\"namespace\\\":\\\"Growth\\\",\\\"idForAllocation\\\":\\\"9395860891-1600728821742\\\",\\\"experimentId\\\":\\\"PLNroHqnEeqDNWGdltv_gg\\\",\\\"variantId\\\":\\\"qoVrdS3mSnKnwUgvZdrT8g\\\",\\\"parameterName\\\":\\\"openBrowseContentInNewWindow\\\",\\\"id\\\":44,\\\"version\\\":1,\\\"value\\\":true,\\\"status\\\":\\\"RUNNING\\\"},{\\\"namespace\\\":\\\"edgeRouting\\\",\\\"idForAllocation\\\":\\\"9395860891-1600728821742\\\",\\\"experimentId\\\":\\\"V5ZqwHkOEeqDNWGdltv_gg\\\",\\\"variantId\\\":\\\"TvGzm8HeR12Lb4q4ZEKZUg\\\",\\\"parameterName\\\":\\\"courseMatchEnabled\\\",\\\"id\\\":45,\\\"version\\\":1,\\\"value\\\":\\\"alternate\\\",\\\"status\\\":\\\"RUNNING\\\"},{\\\"namespace\\\":\\\"Growth\\\",\\\"idForAllocation\\\":\\\"9395860891-1600728821742\\\",\\\"experimentId\\\":\\\"WU5VsINbEeqRtwfcZmtTcQ\\\",\\\"variantId\\\":\\\"FnEzV0rqS3ORu7zq52fLjg\\\",\\\"parameterName\\\":\\\"asuChecklistSlugs\\\",\\\"id\\\":46,\\\"version\\\":1,\\\"value\\\":[\\\"big-data-asu\\\",\\\"ai-machine-learning-asu\\\",\\\"software-engineering-asu\\\",\\\"cybersecurity-asu\\\"],\\\"status\\\":\\\"RUNNING\\\"},{\\\"namespace\\\":\\\"Growth\\\",\\\"idForAllocation\\\":\\\"9395860891-1600728821742\\\",\\\"experimentId\\\":\\\"dHec4PcDEeqyryVJkehvVg\\\",\\\"variantId\\\":\\\"p48sFs3-SCOvgwiZtV_LSw\\\",\\\"parameterName\\\":\\\"careerPlansBrowse\\\",\\\"id\\\":47,\\\"version\\\":1,\\\"value\\\":false,\\\"status\\\":\\\"RUNNING\\\"},{\\\"namespace\\\":\\\"Enterprise\\\",\\\"idForAllocation\\\":\\\"9395860891-1600728821742\\\",\\\"experimentId\\\":\\\"OkFVkF3cEeqiZTsLFdC3wg\\\",\\\"variantId\\\":\\\"_NF3DVHiRiW0q7kKyYjWRQ\\\",\\\"parameterName\\\":\\\"browseCTAV2\\\",\\\"id\\\":48,\\\"version\\\":1,\\\"value\\\":true,\\\"status\\\":\\\"RUNNING\\\"},{\\\"namespace\\\":\\\"Enterprise\\\",\\\"idForAllocation\\\":\\\"9395860891-1600728821742\\\",\\\"experimentId\\\":\\\"7ntPEDSZEemUF9PO6Co8LA\\\",\\\"variantId\\\":\\\"w_SpVBXiQj2apN9FAUtmGQ\\\",\\\"parameterName\\\":\\\"fullStoryAdminDashboardEnabled\\\",\\\"id\\\":49,\\\"version\\\":1,\\\"value\\\":true,\\\"status\\\":\\\"RUNNING\\\"},{\\\"namespace\\\":\\\"GrowthAcquisition\\\",\\\"idForAllocation\\\":\\\"/learn/python-data-analysis/home/welcome.htm\\\",\\\"experimentId\\\":\\\"tNfPMJriEeqqNDG1azLfTw\\\",\\\"variantId\\\":\\\"pocAUu5dRUCtJX0MPDMPTA\\\",\\\"parameterName\\\":\\\"socialMetaPromotion\\\",\\\"id\\\":50,\\\"version\\\":1,\\\"value\\\":false,\\\"status\\\":\\\"RUNNING\\\"},{\\\"namespace\\\":\\\"GrowthAcquisition\\\",\\\"idForAllocation\\\":\\\"9395860891-1600728821742\\\",\\\"experimentId\\\":\\\"gSv9AOcTEeqS_q8aaQFvdA\\\",\\\"variantId\\\":\\\"KQnAKVfRTH2MmIcJzPAXqw\\\",\\\"parameterName\\\":\\\"showGoogleOneTapId\\\",\\\"id\\\":51,\\\"version\\\":1,\\\"value\\\":true,\\\"status\\\":\\\"RUNNING\\\"},{\\\"namespace\\\":\\\"UniversityProduct\\\",\\\"idForAllocation\\\":\\\"9395860891-1600728821742\\\",\\\"experimentId\\\":\\\"8xs1QPY-EeWNiR0-xiyvFg\\\",\\\"variantId\\\":\\\"GZ8mOH90R8y5ZqnSjekzrw\\\",\\\"parameterName\\\":\\\"enableMCSDSPage\\\",\\\"id\\\":52,\\\"version\\\":1,\\\"value\\\":true,\\\"status\\\":\\\"RUNNING\\\"},{\\\"namespace\\\":\\\"epicSanityTest\\\",\\\"idForAllocation\\\":\\\"/learn/python-data-analysis/home/welcome.htm\\\",\\\"experimentId\\\":\\\"OUxDMOI5EeSBHlt3m4P7NA\\\",\\\"variantId\\\":\\\"IqRbx092QB-egQrBzyfrAw\\\",\\\"parameterName\\\":\\\"byUrlAATest\\\",\\\"id\\\":53,\\\"version\\\":1,\\\"value\\\":\\\"#BABABA\\\",\\\"status\\\":\\\"RUNNING\\\"},{\\\"namespace\\\":\\\"Enterprise\\\",\\\"idForAllocation\\\":\\\"9395860891-1600728821742\\\",\\\"experimentId\\\":\\\"ee0JkAr-EeqARzkEDVSMAg\\\",\\\"variantId\\\":\\\"Elmxo6dmS-KZK4QplbyAjg\\\",\\\"parameterName\\\":\\\"hideLearnerHelpLink\\\",\\\"id\\\":54,\\\"version\\\":1,\\\"value\\\":[\\\"wUnIXAWGSluh6nPgkk-U7Q\\\",\\\"q73HA_cyQfOnBuybY6c2Vw\\\"],\\\"status\\\":\\\"RUNNING\\\"},{\\\"namespace\\\":\\\"edgeRouting\\\",\\\"idForAllocation\\\":\\\"9395860891-1600728821742\\\",\\\"experimentId\\\":\\\"XtY4YKf-Eem1kxfO7F2rnA\\\",\\\"variantId\\\":\\\"rGMKQy0IRRukTzSXNywXBg\\\",\\\"parameterName\\\":\\\"backboneMigrationAuthentication\\\",\\\"id\\\":55,\\\"version\\\":1,\\\"value\\\":\\\"alternate\\\",\\\"status\\\":\\\"RUNNING\\\"},{\\\"namespace\\\":\\\"Enterprise\\\",\\\"idForAllocation\\\":\\\"9395860891-1600728821742\\\",\\\"experimentId\\\":\\\"TH5ZwC_2Eem290eD5HU-Bw\\\",\\\"variantId\\\":\\\"j2Zsm3VbQ5iPaO_XjCBBfQ\\\",\\\"parameterName\\\":\\\"whitelistedSkipPasswordSSO\\\",\\\"id\\\":56,\\\"version\\\":1,\\\"value\\\":[\\\"_khIP87SRomhUydEliGbnw\\\",\\\"ibWwRHhNQy2j24yTzlB0vA\\\",\\\"y3D_kRHeT6Wcxm60bLOl7w\\\",\\\"onRj4Nn2R3CV867WYZdmTA\\\",\\\"rV_kvNUWTpqrdztHruz76Q\\\",\\\"SG3ve5VVTxSkLpDb0TqjLA\\\",\\\"6u5ZLWbySG2vAVGi3Dk_XA\\\",\\\"wUnIXAWGSluh6nPgkk-U7Q\\\",\\\"DUPIaRCoRDqChROIySd2Gw\\\",\\\"3yg-iee0QIa9-bqrHjcdSw\\\",\\\"58jsOuzxSDmsO8Q8RN05GA\\\"],\\\"status\\\":\\\"RUNNING\\\"},{\\\"namespace\\\":\\\"EnterpriseSSO\\\",\\\"idForAllocation\\\":\\\"9395860891-1600728821742\\\",\\\"experimentId\\\":\\\"sGSU0AfdEeq49FEywEc8yQ\\\",\\\"variantId\\\":\\\"3gKBD1EuSmWzyW0Ft8dl6A\\\",\\\"parameterName\\\":\\\"whitelistedSkipPasswordSSO\\\",\\\"id\\\":57,\\\"version\\\":1,\\\"value\\\":[\\\"_khIP87SRomhUydEliGbnw\\\",\\\"ibWwRHhNQy2j24yTzlB0vA\\\",\\\"y3D_kRHeT6Wcxm60bLOl7w\\\",\\\"onRj4Nn2R3CV867WYZdmTA\\\",\\\"rV_kvNUWTpqrdztHruz76Q\\\",\\\"SG3ve5VVTxSkLpDb0TqjLA\\\",\\\"6u5ZLWbySG2vAVGi3Dk_XA\\\",\\\"wUnIXAWGSluh6nPgkk-U7Q\\\",\\\"DUPIaRCoRDqChROIySd2Gw\\\",\\\"3yg-iee0QIa9-bqrHjcdSw\\\",\\\"58jsOuzxSDmsO8Q8RN05GA\\\",\\\"PmioQFeYRvGGo3hbKUdZIg\\\",\\\"tpGsTDknQVW_VN3y1HCExA\\\",\\\"4U3NUIjgT6e9qOgFQxgGRA\\\",\\\"GPgasWGyTyKV0jiIYu4LKA\\\",\\\"BuDYakZoRCygmgchZbvKWg\\\",\\\"q7FgxTQAS2iD30ws8JAiZQ\\\",\\\"0MB_ymYeQhu6V_tbupQ1Og\\\",\\\"KOH40f5pTz6Ae-tLtE6pQw\\\",\\\"75yFgX7gRMOhUz0KnxynxA\\\",\\\"DCCnmluHTriQh7fNd_bNPw\\\",\\\"87wRIQBdSbOkLVB8Zdd3vA\\\",\\\"hHRZVwVCRpuqIskiWn3vEA\\\",\\\"EiNtebucR0-i38-xCglQzQ\\\",\\\"DIKFepulR26aEGdKOmKbfw\\\",\\\"KOH40f5pTz6Ae-tLtE6pQw\\\",\\\"oegvK2RDSn6o7OEox81SFw\\\",\\\"bMkXnDhMShWWp3l5QyKRaw\\\",\\\"GeYNJT8JQ4eiNyWNQoOa4Q\\\",\\\"PTIEbEGyQK2wqanS8WpMVQ\\\",\\\"sl0_a6CKQ_mJ4n6MkYDDrQ\\\",\\\"aOeaYn7kRVeoNbguboS-hA\\\",\\\"O8K6wUzmRdSOQw9sKCLJMA\\\",\\\"F_qFPfA3S4mWQ7LpzvRQIQ\\\",\\\"4kHdnnRtRS-r82aXS-chig\\\",\\\"PrUR6-NAT865A6RPvF_O1Q\\\",\\\"wdXo9QVCQkSp8PPO2xGKOw\\\",\\\"XdWqfB35Qrmt9-REbQiibA\\\",\\\"Zdto7u3NSzGN7t_Pl4_4Bw\\\",\\\"4-XodGnRRFWCkWt-DarQQw\\\",\\\"VKlnRCHeTU-mrTxMOe2YAA\\\",\\\"FQfWRTH7S-un_bmAGrQIaQ\\\",\\\"Y3yqGdPTRxKWfOoElFOopA\\\"],\\\"status\\\":\\\"RUNNING\\\"},{\\\"namespace\\\":\\\"Enterprise\\\",\\\"idForAllocation\\\":\\\"9395860891-1600728821742\\\",\\\"experimentId\\\":\\\"GWcb4HBKEeqysA33ez87GA\\\",\\\"variantId\\\":\\\"1TNo-3C8Qzy8f2YWbLzmSA\\\",\\\"parameterName\\\":\\\"blacklistProjectToggleBanner\\\",\\\"id\\\":58,\\\"version\\\":1,\\\"value\\\":[\\\"XhOW5ZDBRDGRGt4kuEzcHA\\\",\\\"8ek6DCuMQ3-DIGth4ZJCjw\\\"],\\\"status\\\":\\\"RUNNING\\\"},{\\\"namespace\\\":\\\"Growth\\\",\\\"idForAllocation\\\":\\\"9395860891-1600728821742\\\",\\\"experimentId\\\":\\\"Eyl9YNMKEeiwzD2WFbU35A\\\",\\\"variantId\\\":\\\"Bja1YkW0Qsq_WXm4TpZCPw\\\",\\\"parameterName\\\":\\\"useQualificationSurveyV2Api\\\",\\\"id\\\":59,\\\"version\\\":1,\\\"value\\\":\\\"true\\\",\\\"status\\\":\\\"RUNNING\\\"},{\\\"namespace\\\":\\\"Growth\\\",\\\"idForAllocation\\\":\\\"9395860891-1600728821742\\\",\\\"experimentId\\\":\\\"nz008LocEemZskeru4x4Kg\\\",\\\"variantId\\\":\\\"HfAoGmv3RUm_oQ0W1JKdCg\\\",\\\"parameterName\\\":\\\"enableMigratedVersion\\\",\\\"id\\\":60,\\\"version\\\":1,\\\"value\\\":true,\\\"status\\\":\\\"RUNNING\\\"},{\\\"namespace\\\":\\\"Growth\\\",\\\"idForAllocation\\\":\\\"9395860891-1600728821742\\\",\\\"experimentId\\\":\\\"OAHoQGT-EeixDMMjZdsNTg\\\",\\\"variantId\\\":\\\"g6mOUoyFS_27CJqr5jD1PQ\\\",\\\"parameterName\\\":\\\"seoOverrideEnabledApps\\\",\\\"id\\\":61,\\\"version\\\":1,\\\"value\\\":[\\\"premium-hub\\\",\\\"xdp\\\",\\\"xdp-perf\\\",\\\"xdp-react-16\\\",\\\"browse\\\",\\\"browse-perf\\\",\\\"university-program\\\",\\\"video-logged-out-page\\\",\\\"video-logged-out-page-react-16\\\",\\\"catalog\\\",\\\"partners-graphql\\\",\\\"degrees-hub\\\",\\\"directory\\\",\\\"directory-graphql\\\",\\\"front-page\\\",\\\"front-page-perf\\\",\\\"collections\\\",\\\"search\\\",\\\"next\\\"],\\\"status\\\":\\\"RUNNING\\\"},{\\\"namespace\\\":\\\"Partner\\\",\\\"idForAllocation\\\":\\\"9395860891-1600728821742\\\",\\\"experimentId\\\":\\\"p0C6sKjNEemz0E0RgmlhTw\\\",\\\"variantId\\\":\\\"VhvOI_jzSDeUAz4Aenkucw\\\",\\\"parameterName\\\":\\\"enablePendo\\\",\\\"id\\\":62,\\\"version\\\":1,\\\"value\\\":true,\\\"status\\\":\\\"RUNNING\\\"},{\\\"namespace\\\":\\\"Growth\\\",\\\"idForAllocation\\\":\\\"9395860891-1600728821742\\\",\\\"experimentId\\\":\\\"B51hkIm1Eeeu0vP8VMCxJA\\\",\\\"variantId\\\":\\\"a9Qlp1PJRwG9CkFocl2YBQ\\\",\\\"parameterName\\\":\\\"s12nCertUpsellList\\\",\\\"id\\\":63,\\\"version\\\":1,\\\"value\\\":{\\\"project-management\\\":\\\"applied-project-management\\\"},\\\"status\\\":\\\"RUNNING\\\"},{\\\"namespace\\\":\\\"GrowthAcquisition\\\",\\\"idForAllocation\\\":\\\"/learn/python-data-analysis/home/welcome.htm\\\",\\\"experimentId\\\":\\\"kvVDELAKEeqOUnGehbtvxQ\\\",\\\"variantId\\\":\\\"tTpjH3XeT8mFfIsHu2bJcA\\\",\\\"parameterName\\\":\\\"showVLPMetaImages\\\",\\\"id\\\":64,\\\"version\\\":1,\\\"value\\\":false,\\\"status\\\":\\\"RUNNING\\\"},{\\\"namespace\\\":\\\"Enterprise\\\",\\\"idForAllocation\\\":\\\"9395860891-1600728821742\\\",\\\"experimentId\\\":\\\"rwdeMNi0EeqI8cWR5-haOg\\\",\\\"variantId\\\":\\\"ZItJi-BITfSIvgIkx9DDSw\\\",\\\"parameterName\\\":\\\"teamsLandingNavLinksExtended\\\",\\\"id\\\":65,\\\"version\\\":1,\\\"value\\\":true,\\\"status\\\":\\\"RUNNING\\\"},{\\\"namespace\\\":\\\"siteMisc\\\",\\\"idForAllocation\\\":\\\"9395860891-1600728821742\\\",\\\"experimentId\\\":\\\"9E3CYG-yEeqsk-XnlxVMNQ\\\",\\\"variantId\\\":\\\"ISlvzBqKTSy7bupvYg4jNg\\\",\\\"parameterName\\\":\\\"enableSSRApolloCache\\\",\\\"id\\\":66,\\\"version\\\":1,\\\"value\\\":[\\\"front-page\\\",\\\"front-page-perf\\\",\\\"browse\\\",\\\"browse-perf\\\",\\\"search\\\"],\\\"status\\\":\\\"RUNNING\\\"},{\\\"namespace\\\":\\\"paymentCheckout\\\",\\\"idForAllocation\\\":\\\"9395860891-1600728821742\\\",\\\"experimentId\\\":\\\"behiUD6XEeiFsBVo9_S3dA\\\",\\\"variantId\\\":\\\"YyiTu9xzReGzy2b8u5EGNw\\\",\\\"parameterName\\\":\\\"mdpCheckout\\\",\\\"id\\\":67,\\\"version\\\":1,\\\"value\\\":\\\"true\\\",\\\"status\\\":\\\"RUNNING\\\"},{\\\"namespace\\\":\\\"Growth\\\",\\\"idForAllocation\\\":\\\"9395860891-1600728821742\\\",\\\"experimentId\\\":\\\"cWgq0BbnEeqXYC-7WwsKNQ\\\",\\\"variantId\\\":\\\"CAc3_hNcTXGvSImExOno2w\\\",\\\"parameterName\\\":\\\"enableUpdatedGlobalFooter\\\",\\\"id\\\":68,\\\"version\\\":1,\\\"value\\\":true,\\\"status\\\":\\\"RUNNING\\\"},{\\\"namespace\\\":\\\"edgeRouting\\\",\\\"idForAllocation\\\":\\\"9395860891-1600728821742\\\",\\\"experimentId\\\":\\\"E_XHYKjMEemz0E0RgmlhTw\\\",\\\"variantId\\\":\\\"RRThfIX5ThKtBEZLu0K4SA\\\",\\\"parameterName\\\":\\\"expert-network-page\\\",\\\"id\\\":69,\\\"version\\\":1,\\\"value\\\":\\\"alternate\\\",\\\"status\\\":\\\"RUNNING\\\"},{\\\"namespace\\\":\\\"edgeRouting\\\",\\\"idForAllocation\\\":\\\"9395860891-1600728821742\\\",\\\"experimentId\\\":\\\"XgpWgAwPEeq5YQUhe3u9rw\\\",\\\"variantId\\\":\\\"rJMc8xnJTWq1Speu3-4u5g\\\",\\\"parameterName\\\":\\\"teach-coursera-page\\\",\\\"id\\\":70,\\\"version\\\":1,\\\"value\\\":\\\"alternate\\\",\\\"status\\\":\\\"RUNNING\\\"},{\\\"namespace\\\":\\\"Growth\\\",\\\"idForAllocation\\\":\\\"9395860891-1600728821742\\\",\\\"experimentId\\\":\\\"GrRBkCWQEemyy68o9eK3Nw\\\",\\\"variantId\\\":\\\"YsuaV36bSAyU3pWRFVt9GA\\\",\\\"parameterName\\\":\\\"degreeMarketingOrder\\\",\\\"id\\\":71,\\\"version\\\":1,\\\"value\\\":[\\\"Penn MCIT\\\",\\\"iMBA\\\",\\\"IL MCSDS\\\",\\\"IL MCS\\\",\\\"iMSA\\\",\\\"HEC OMIE\\\",\\\"ASU MCS\\\",\\\"UofL BSC\\\",\\\"MQ\\\",\\\"Imperial MPH\\\",\\\"Michigan MPH\\\",\\\"Michigan MADS\\\",\\\"Imperial MSML\\\",\\\"Boulder MSDS\\\",\\\"Boulder MSEE\\\"],\\\"status\\\":\\\"RUNNING\\\"},{\\\"namespace\\\":\\\"Authoring\\\",\\\"idForAllocation\\\":\\\"9395860891-1600728821742\\\",\\\"experimentId\\\":\\\"D1fgwK5oEemkbO1lDE34yg\\\",\\\"variantId\\\":\\\"a1-v5q1JQ4S66GcpRCDQ6Q\\\",\\\"parameterName\\\":\\\"contentServiceTraffic\\\",\\\"id\\\":72,\\\"version\\\":1,\\\"value\\\":100,\\\"status\\\":\\\"RUNNING\\\"},{\\\"namespace\\\":\\\"Enterprise\\\",\\\"idForAllocation\\\":\\\"9395860891-1600728821742\\\",\\\"experimentId\\\":\\\"tTJj4DfdEeqZbo2L3ch41Q\\\",\\\"variantId\\\":\\\"lnpvQf-XTQy9rZgkfwjgJw\\\",\\\"parameterName\\\":\\\"whitelistOrganizationProgramsForSSOLogin\\\",\\\"id\\\":73,\\\"version\\\":1,\\\"value\\\":{\\\"cl3DQUjHQPSTS-JUv19TDQ\\\":[\\\"XbAdOy2zEeq4sw7_OqGIUw\\\"],\\\"EYtJdT9ORm-WiqS2Km3fAQ\\\":[\\\"UM_p_PBKEemdlwrsvuHfBA\\\"],\\\"ZhzO-H9ySN-ejtxiPTOQjg\\\":[\\\"mko62FKHEeqUWxIBZwsASw\\\"],\\\"3yg-iee0QIa9-bqrHjcdSw\\\":[\\\"8zHifF-2EemZsAocpbohtA\\\",\\\"GrJuMKy1EemtYw7WimdZog\\\",\\\"90Q1n3s7EemBiBLCtk78NA\\\",\\\"on7OREDdEemt8g6E7tChUA\\\"],\\\"UQAsGMZ-Q9unt5OKFJpPFw\\\":[\\\"O9loUosREeq1qA66YY5ZsQ\\\",\\\"gBKN0euXEeqBqgrNjGIE6w\\\"],\\\"HckSHgnRSDaR4b21Uxa9sg\\\":[\\\"s93xmYPKEemDBQ7UkImyKg\\\"],\\\"PTyaCyAaQa-KvzIBbq_rtA\\\":[\\\"VfuQddDWEeqjvw5E9VcM4Q\\\",\\\"tnCFsNArEeqJhg7gtAoGmw\\\",\\\"gAtrSOGVEeqCcQr7TU8f4Q\\\"],\\\"A8q0BxroRxO4DHpHFPDVLA\\\":[\\\"H8OOSor9Eeq2NwqVBq8-lw\\\"],\\\"LeIQPIdEQA27xwO7dhH56g\\\":[\\\"d8zU-pGCEeqQMA4tVons5w\\\"],\\\"p7q-Q8zVTjO-REHFhRte8g\\\":[\\\"Ia_89j1JEeqvqxKY0Jj6Uw\\\",\\\"FiOiAKdpEeqEDA42YBMnow\\\",\\\"Jys5JadpEeqEDA42YBMnow\\\",\\\"i8pLC3UtEeq61BLtM0QViQ\\\",\\\"ATS_gKdpEeqEDA42YBMnow\\\"]},\\\"status\\\":\\\"RUNNING\\\"},{\\\"namespace\\\":\\\"GrowthAcquisition\\\",\\\"idForAllocation\\\":\\\"9395860891-1600728821742\\\",\\\"experimentId\\\":\\\"xmZS0K9fEeqydtWXpAEWNw\\\",\\\"variantId\\\":\\\"ZBaV--q7TMOPA0OyMFMVyQ\\\",\\\"parameterName\\\":\\\"showCoronavirusBannerVariants\\\",\\\"id\\\":74,\\\"version\\\":1,\\\"value\\\":\\\"threeLinks\\\",\\\"status\\\":\\\"RUNNING\\\"},{\\\"namespace\\\":\\\"Enterprise\\\",\\\"idForAllocation\\\":\\\"9395860891-1600728821742\\\",\\\"experimentId\\\":\\\"mcyX0ObbEeqkaX2DZhJF-Q\\\",\\\"variantId\\\":\\\"FCG2s-VoTte9ljGalan_qg\\\",\\\"parameterName\\\":\\\"frontPageFunnel2\\\",\\\"id\\\":75,\\\"version\\\":1,\\\"value\\\":false,\\\"status\\\":\\\"RUNNING\\\"},{\\\"namespace\\\":\\\"siteMisc\\\",\\\"idForAllocation\\\":\\\"9395860891-1600728821742\\\",\\\"experimentId\\\":\\\"HlkzAPBYEee5KpPQCFtJkw\\\",\\\"variantId\\\":\\\"PqLRw3XtQlOldiz-4UXN3A\\\",\\\"parameterName\\\":\\\"enableCircumventCloudfront\\\",\\\"id\\\":76,\\\"version\\\":1,\\\"value\\\":true,\\\"status\\\":\\\"RUNNING\\\"},{\\\"namespace\\\":\\\"Enterprise\\\",\\\"idForAllocation\\\":\\\"9395860891-1600728821742\\\",\\\"experimentId\\\":\\\"fQNG0J28EemAFoMWYLv-yA\\\",\\\"variantId\\\":\\\"wS6-72GcRziCMRptjON_gA\\\",\\\"parameterName\\\":\\\"blackListEnterpriseStrategic\\\",\\\"id\\\":77,\\\"version\\\":1,\\\"value\\\":[\\\"WMGye-6gTkuo2I3DkJ51NQ\\\",\\\"cMxTM8ERSiW9QODZsnmrzQ\\\",\\\"V4wqXsZGQYmWfz545MqUwQ\\\",\\\"ibWwRHhNQy2j24yTzlB0vA\\\",\\\"4xUdugtbTUaA5PMfnlyB2A\\\",\\\"Wc_KXGb8SlG7Y44qi6O9Sw\\\",\\\"OZ_X0sepRSGanv2r82lzYg\\\",\\\"6NUDta5tS7CBIvHMVFPPPQ\\\",\\\"VaS7Uwf5TcaMcKcx7QK4UA\\\",\\\"NXst-uTITquYxidxeAYh-g\\\",\\\"jKa2BNlHRj6x9JxKB0g5WQ\\\",\\\"_khIP87SRomhUydEliGbnw\\\",\\\"tQgMQbynQjen_iLgz6gg1A\\\",\\\"WmOAX_wbRgieVxHmQAR7ew\\\",\\\"IUgk75NiRIug7AlApNIvjQ\\\",\\\"A8q0BxroRxO4DHpHFPDVLA\\\",\\\"ezJrJsZPQ_uUSklAhRqtkQ\\\",\\\"z0BIUPMjQpC8nZ2AwTjvCw\\\",\\\"htixZybvTmOcL5pCBMp8DQ\\\",\\\"hJEkAk9oRzu4W2pWuCG_bQ\\\",\\\"iFIfd-UmTqCLXnRhyuVPwg\\\",\\\"QJfmYTEmTkabHx3YK8XUyg\\\",\\\"L4gi_S5LT4a_kPNvBI_I3g\\\",\\\"bw2jG-_kQK2afhIXHgw0Bg\\\",\\\"dAlFvG6zRXGe46LxMqmv4g\\\",\\\"ZhzO-H9ySN-ejtxiPTOQjg\\\",\\\"KWI0LSwhRx-42nyRWwE6IA\\\",\\\"m-8iUgW2Q7ibCL4vJvRm4g\\\",\\\"-I1w4i-cStOXv8JV5KQDQQ\\\",\\\"QO3YDucURpa1RaVxnQjO_w\\\",\\\"84mgIRGHT8SfOKtkhH_4OQ\\\",\\\"zHtJYhF7SgKyGCbd5OQ6nQ\\\",\\\"deWfXVqESbeAU5-6N8HvXg\\\",\\\"-pczBFjZRA-yCPSOqkkS6Q\\\",\\\"GGrKZctGT5OceBnswj6LCQ\\\",\\\"1wXj2D7zRPaWp7_bQUiM_Q\\\",\\\"bi4JimTmQwC_mb6xIlqDaQ\\\",\\\"vflibAgUTQqGFWwkoGSR2g\\\",\\\"WbcJe9ntSheQOIfiZjrS3w\\\",\\\"Z97y6DyiTNSAvsEqBMEo1g\\\",\\\"qamlgN1aSZuT41g0B85YKQ\\\",\\\"VJ7xPxykRxegGjDKu8HHBQ\\\",\\\"90D6BAljQUKukxUlWhvESA\\\"],\\\"status\\\":\\\"RUNNING\\\"},{\\\"namespace\\\":\\\"Growth\\\",\\\"idForAllocation\\\":\\\"9395860891-1600728821742\\\",\\\"experimentId\\\":\\\"tNRdIKuTEeqfEin3BNCiDg\\\",\\\"variantId\\\":\\\"OLS6EQbbRSqF-q37lBTjfA\\\",\\\"parameterName\\\":\\\"domainToGuidedProjectsMapping\\\",\\\"id\\\":78,\\\"version\\\":1,\\\"value\\\":{\\\"business\\\":\\\"/browse/business?facets=entityTypeTag%3ARhyme+Projects%2CcategoryMultiTag%3Abusiness\\\",\\\"computer-science\\\":\\\"/browse/computer-science?facets=entityTypeTag%3ARhyme+Projects%2CcategoryMultiTag%3Acomputer-science\\\",\\\"data-science\\\":\\\"/browse/data-science?facets=entityTypeTag%3ARhyme+Projects%2CcategoryMultiTag%3Adata-science\\\",\\\"information-technology\\\":\\\"/browse/information-technology?facets=entityTypeTag%3ARhyme+Projects%2CcategoryMultiTag%3Ainformation-technology\\\"},\\\"status\\\":\\\"RUNNING\\\"},{\\\"namespace\\\":\\\"UniversityProduct\\\",\\\"idForAllocation\\\":\\\"9395860891-1600728821742\\\",\\\"experimentId\\\":\\\"R5PbYOjREeaGnmUQ2oOVYQ\\\",\\\"variantId\\\":\\\"raDH4ABCTk6ooj8zHN_SmA\\\",\\\"parameterName\\\":\\\"qualificationAssessments\\\",\\\"id\\\":79,\\\"version\\\":1,\\\"value\\\":{\\\"becoming-a-data-analyst-clrjg\\\":\\\"BV1ylx-2QuadcpcfthLmVg\\\",\\\"becoming-a-data-engineer-vmpj0\\\":\\\"qkFvVch9QBeBb1XIfUAXmQ\\\",\\\"become-a-data-scientist-pgp0v\\\":\\\"4ytDJ-xlQsqrQyfsZQLK_Q\\\",\\\"data-science-r-program-u2fmg\\\":\\\"ajpBxGccR9i6QcRnHDfYcA\\\",\\\"axa-python-jyeeq\\\":\\\"wLVMjRA0Skm1TI0QNJpJqA\\\",\\\"axa-data-engineering-i0cam\\\":\\\"44iiFWpdQaqIohVqXaGq1A\\\",\\\"data-science-python-program-uc2x0\\\":\\\"8PLxRssjSkKy8UbLIxpCnw\\\",\\\"becoming-a-machine-learning-engineer-rtcoc\\\":\\\"wGrFKyQ6QNCqxSskOnDQdg\\\",\\\"data-engineer-program-i5g6w\\\":\\\"1VFv8lebQF2Rb_JXmwBdYA\\\",\\\"axa-r-rjnj0\\\":\\\"dW7OwLwjTJ-uzsC8I5yfAg\\\"},\\\"status\\\":\\\"RUNNING\\\"},{\\\"namespace\\\":\\\"GrowthAcquisition\\\",\\\"idForAllocation\\\":\\\"/learn/python-data-analysis/home/welcome.htm\\\",\\\"experimentId\\\":\\\"DBmT0KHKEeqdwR8tSQgyDQ\\\",\\\"variantId\\\":\\\"fDwe83xSSwuH93N0PDANlQ\\\",\\\"parameterName\\\":\\\"socialMetaDegree\\\",\\\"id\\\":80,\\\"version\\\":1,\\\"value\\\":true,\\\"status\\\":\\\"RUNNING\\\"},{\\\"namespace\\\":\\\"GrowthAcquisition\\\",\\\"idForAllocation\\\":\\\"/learn/python-data-analysis/home/welcome.htm\\\",\\\"experimentId\\\":\\\"ME3_kJuSEeqc6_d3QbStpg\\\",\\\"variantId\\\":\\\"we7oh8irR0KYJXnvoJqUsQ\\\",\\\"parameterName\\\":\\\"socialMetaXDP\\\",\\\"id\\\":81,\\\"version\\\":1,\\\"value\\\":\\\"A\\\",\\\"status\\\":\\\"RUNNING\\\"},{\\\"namespace\\\":\\\"GrowthDegrees\\\",\\\"idForAllocation\\\":\\\"9395860891-1600728821742\\\",\\\"experimentId\\\":\\\"GHGqEJH4EemC3Kv3M-kuwQ\\\",\\\"variantId\\\":\\\"CBZP85RlRI6zlbJ82HnN8w\\\",\\\"parameterName\\\":\\\"masterTracksPaidOnCoursera\\\",\\\"id\\\":82,\\\"version\\\":1,\\\"value\\\":[\\\"construction-engineering-management-umich\\\",\\\"supply-chain-excellence-rutgers\\\",\\\"machine-learning-analytics-chicago\\\",\\\"innovation-management-entrepreneurship-hec\\\",\\\"social-work-umich\\\",\\\"sustainability-development-umich\\\"],\\\"status\\\":\\\"RUNNING\\\"},{\\\"namespace\\\":\\\"edgeRouting\\\",\\\"idForAllocation\\\":\\\"9395860891-1600728821742\\\",\\\"experimentId\\\":\\\"ngh-sGflEeqiZTsLFdC3wg\\\",\\\"variantId\\\":\\\"9QAYlHJXQUefB8uvfYfcoQ\\\",\\\"parameterName\\\":\\\"coronavirus-ts\\\",\\\"id\\\":83,\\\"version\\\":1,\\\"value\\\":\\\"alternate\\\",\\\"status\\\":\\\"RUNNING\\\"},{\\\"namespace\\\":\\\"epicSanityTest\\\",\\\"idForAllocation\\\":\\\"9395860891-1600728821742\\\",\\\"experimentId\\\":\\\"D8MboOOTEeS9AxsvPmsp6g\\\",\\\"variantId\\\":\\\"FO_iZOCTRJyXmCBbBcB0lg\\\",\\\"parameterName\\\":\\\"bySessionAllocationTest\\\",\\\"id\\\":84,\\\"version\\\":1,\\\"value\\\":0.2,\\\"status\\\":\\\"RUNNING\\\"},{\\\"namespace\\\":\\\"Growth\\\",\\\"idForAllocation\\\":\\\"9395860891-1600728821742\\\",\\\"experimentId\\\":\\\"7TYGYKB1EeqBF-nyfH1s7A\\\",\\\"variantId\\\":\\\"oNt0qJxwT2WZ4cRTNpu1CQ\\\",\\\"parameterName\\\":\\\"openSearchAndLoggedInHomeContentInMultipleTabs\\\",\\\"id\\\":85,\\\"version\\\":1,\\\"value\\\":true,\\\"status\\\":\\\"RUNNING\\\"},{\\\"namespace\\\":\\\"Flex\\\",\\\"idForAllocation\\\":\\\"9395860891-1600728821742\\\",\\\"experimentId\\\":\\\"UmrnAMr3EeeTYx8pA9nYuw\\\",\\\"variantId\\\":\\\"FYdBlclpSmWAkSN0BB1GJw\\\",\\\"parameterName\\\":\\\"widgetItemAuthoringEnabled\\\",\\\"id\\\":86,\\\"version\\\":1,\\\"value\\\":true,\\\"status\\\":\\\"RUNNING\\\"},{\\\"namespace\\\":\\\"Enterprise\\\",\\\"idForAllocation\\\":\\\"9395860891-1600728821742\\\",\\\"experimentId\\\":\\\"UMKCkG9YEeiaXqUqAWjBcg\\\",\\\"variantId\\\":\\\"agAog6n-TIyEFky2qtgVPQ\\\",\\\"parameterName\\\":\\\"enableDriftChatBot\\\",\\\"id\\\":87,\\\"version\\\":1,\\\"value\\\":true,\\\"status\\\":\\\"RUNNING\\\"},{\\\"namespace\\\":\\\"GrowthDegrees\\\",\\\"idForAllocation\\\":\\\"9395860891-1600728821742\\\",\\\"experimentId\\\":\\\"yEPHYFdlEeqLLL-gPp_cYA\\\",\\\"variantId\\\":\\\"JaAwiRg2TJaRvnSBQyKTjw\\\",\\\"parameterName\\\":\\\"comm100ChatEnabled\\\",\\\"id\\\":88,\\\"version\\\":1,\\\"value\\\":true,\\\"status\\\":\\\"RUNNING\\\"},{\\\"namespace\\\":\\\"UniversityProduct\\\",\\\"idForAllocation\\\":\\\"9395860891-1600728821742\\\",\\\"experimentId\\\":\\\"1qMbIFLEEea7tpWNqDxbGg\\\",\\\"variantId\\\":\\\"UsF0KFp9SB2Gq_RF1EydPg\\\",\\\"parameterName\\\":\\\"enableEnterprise\\\",\\\"id\\\":89,\\\"version\\\":1,\\\"value\\\":true,\\\"status\\\":\\\"RUNNING\\\"},{\\\"namespace\\\":\\\"GrowthDegrees\\\",\\\"idForAllocation\\\":\\\"9395860891-1600728821742\\\",\\\"experimentId\\\":\\\"d_6nwMrEEeq7o0HYblwlPw\\\",\\\"variantId\\\":\\\"tLFTNBl1Sz2nLkJ4rWUCOQ\\\",\\\"parameterName\\\":\\\"degreesWithFinancialTab\\\",\\\"id\\\":90,\\\"version\\\":1,\\\"value\\\":[\\\"master-of-computer-science-asu\\\",\\\"bachelor-of-science-computer-science-london\\\"],\\\"status\\\":\\\"RUNNING\\\"},{\\\"namespace\\\":\\\"Growth\\\",\\\"idForAllocation\\\":\\\"9395860891-1600728821742\\\",\\\"experimentId\\\":\\\"t7ligHZyEemc20sZ1VdaZA\\\",\\\"variantId\\\":\\\"UNCEqUWzR9SCY3aHKNNxMw\\\",\\\"parameterName\\\":\\\"enableCompetencyTests\\\",\\\"id\\\":91,\\\"version\\\":1,\\\"value\\\":true,\\\"status\\\":\\\"RUNNING\\\"},{\\\"namespace\\\":\\\"edgeRouting\\\",\\\"idForAllocation\\\":\\\"9395860891-1600728821742\\\",\\\"experimentId\\\":\\\"mAzrEISyEeqqu__DS83GMg\\\",\\\"variantId\\\":\\\"c2GnVpajRk21R2uAeM730w\\\",\\\"parameterName\\\":\\\"workforce-recovery-ts\\\",\\\"id\\\":92,\\\"version\\\":1,\\\"value\\\":\\\"alternate\\\",\\\"status\\\":\\\"RUNNING\\\"},{\\\"namespace\\\":\\\"Enterprise\\\",\\\"idForAllocation\\\":\\\"9395860891-1600728821742\\\",\\\"experimentId\\\":\\\"9OUg4Hg4EeqlFmMTcMnd-Q\\\",\\\"variantId\\\":\\\"Lz-ljI-_S0yX1SXpeIEP_g\\\",\\\"parameterName\\\":\\\"spanishOrgSlugs\\\",\\\"id\\\":93,\\\"version\\\":1,\\\"value\\\":[\\\"andres-wes-5-rw1pz\\\",\\\"ceibaljap\\\",\\\"cinde\\\",\\\"cinde-test\\\",\\\"c4wr-agetic\\\",\\\"c4wr-alcalda-de-medelln\\\",\\\"c4wr-alcaldia-de-pasto\\\",\\\"c4wr-alcalda-local-de-teusaquillo\\\",\\\"c4wr-alcaldia-de-bucaramanga\\\",\\\"c4wr-alcaldia-de-jamundi\\\",\\\"c4wr-alcaldia-de-neiva\\\",\\\"c4wr-ampyme\\\",\\\"c4wr-autoridad-de-turismo-de-panama\\\",\\\"c4wr-ayuntamiento-de-ponferrada\\\",\\\"c4wr-departamento-nacional-de-planeacin\\\",\\\"c4wr-fedisalfoundation-for-salvadoran-comprehensi\\\",\\\"c4wr-funsepa\\\",\\\"c4wr-fundacion-carvajal\\\",\\\"c4wr-gobernacion-de-boyaca\\\",\\\"c4wr-gobernacion-del-atlantico\\\",\\\"c4wr-gobernacion-del-valle\\\",\\\"c4wr-gobierno-de-la-ciudad-de-buenos-aires\\\",\\\"c4wr-gobierno-de-panama\\\",\\\"c4wr-icetex\\\",\\\"c4wr-inefop\\\",\\\"c4wr-innpulsa-colombia\\\",\\\"c4wr-instituto-de-la-juventud-guanajuatense\\\",\\\"c4wr-instituto-tecnolgico-de-la-produccin\\\",\\\"c4wr-ministerio-de-la-presidencia\\\",\\\"c4wr-ministerio-del-trabajo-y-previsin-social\\\",\\\"c4wr-municipalidad-de-campana\\\",\\\"c4wr-municipalidad-de-la-ciudad-de-mendoza\\\",\\\"c4wr-municipalidad-de-yerba-buena\\\",\\\"c4wr-oficina-de-inclusin-y-desarrollo-productivo-barranquilla-colombia\\\",\\\"c4wr-ruta-n-medelln\\\",\\\"c4wr-secretaria-de-hacienda-y-credito-publico\\\",\\\"c4wr-secretara-de-innovacin-de-la-presidencia\\\",\\\"c4wr-secretara-del-trabajo-y-previsin-social-mexico\\\",\\\"c4wr-secretaria-de-comunicacion-y-transporte\\\",\\\"c4wr-secretaria-de-economia-gobierno-oaxaca\\\",\\\"c4wr-secretaria-del-trabajo-y-prevision-social-ch\\\",\\\"c4wr-secretaria-distrital-de-desarrollo-econmico\\\",\\\"c4wr-senprende\\\",\\\"c4wr-servicio-nacional-de-capacitacion-y-empleo-se\\\",\\\"c4wr-plataforma-abierta-de-innovacin\\\",\\\"c4c-uniempresarial\\\",\\\"c42r-municipio-de-general-juan-madariaga\\\",\\\"att-mexico\\\"],\\\"status\\\":\\\"RUNNING\\\"},{\\\"namespace\\\":\\\"siteMisc\\\",\\\"idForAllocation\\\":\\\"9395860891-1600728821742\\\",\\\"experimentId\\\":\\\"TYScsKqeEeamMvfZ27Wsgw\\\",\\\"variantId\\\":\\\"0EXWUnfTRACP6otkUCQPdw\\\",\\\"parameterName\\\":\\\"useReactHelmetMetatags\\\",\\\"id\\\":94,\\\"version\\\":1,\\\"value\\\":true,\\\"status\\\":\\\"RUNNING\\\"},{\\\"namespace\\\":\\\"UniversityProduct\\\",\\\"idForAllocation\\\":\\\"9395860891-1600728821742\\\",\\\"experimentId\\\":\\\"5TmI4BucEeaJ1js1DqnyLg\\\",\\\"variantId\\\":\\\"iywnYRbpT0qZ7EKP4OSsaw\\\",\\\"parameterName\\\":\\\"enableQualification\\\",\\\"id\\\":95,\\\"version\\\":1,\\\"value\\\":[\\\"masters-in-computer-data-science\\\",\\\"imba\\\",\\\"imsa\\\",\\\"masters-innovation-entrepreneurship\\\"],\\\"status\\\":\\\"RUNNING\\\"},{\\\"namespace\\\":\\\"GrowthAcquisition\\\",\\\"idForAllocation\\\":\\\"9395860891-1600728821742\\\",\\\"experimentId\\\":\\\"TXdb8KqyEeqydtWXpAEWNw\\\",\\\"variantId\\\":\\\"_9xoLyTDQA21pwA-81C1Lg\\\",\\\"parameterName\\\":\\\"shareCTAOnLoggedInHomeHomeTab\\\",\\\"id\\\":96,\\\"version\\\":1,\\\"value\\\":\\\"B\\\",\\\"status\\\":\\\"RUNNING\\\"},{\\\"namespace\\\":\\\"GrowthDegrees\\\",\\\"idForAllocation\\\":\\\"9395860891-1600728821742\\\",\\\"experimentId\\\":\\\"Qks_cPExEemPe4PyoVxwmw\\\",\\\"variantId\\\":\\\"2HacKv4ZQJyPwCf3lbKoNg\\\",\\\"parameterName\\\":\\\"useBannerAdsForPromoUnits\\\",\\\"id\\\":97,\\\"version\\\":1,\\\"value\\\":true,\\\"status\\\":\\\"RUNNING\\\"},{\\\"namespace\\\":\\\"Enterprise\\\",\\\"idForAllocation\\\":\\\"9395860891-1600728821742\\\",\\\"experimentId\\\":\\\"B63ZsIsrEeqXzPHi7LDT9A\\\",\\\"variantId\\\":\\\"WzBO1_8bSqmYjuu4EpiaEg\\\",\\\"parameterName\\\":\\\"enableSkillsPlanning\\\",\\\"id\\\":98,\\\"version\\\":1,\\\"value\\\":true,\\\"status\\\":\\\"RUNNING\\\"},{\\\"namespace\\\":\\\"SEO\\\",\\\"idForAllocation\\\":\\\"9395860891-1600728821742\\\",\\\"experimentId\\\":\\\"rHjVkOd5EemnQE8izKtXUg\\\",\\\"variantId\\\":\\\"TOHPZbWIQHmqWevDYm-7zg\\\",\\\"parameterName\\\":\\\"shouldOptimizeMobileWebBreadcrumbs\\\",\\\"id\\\":99,\\\"version\\\":1,\\\"value\\\":false,\\\"status\\\":\\\"RUNNING\\\"},{\\\"namespace\\\":\\\"edgeRouting\\\",\\\"idForAllocation\\\":\\\"9395860891-1600728821742\\\",\\\"experimentId\\\":\\\"yOwNQCBaEeqPBMu_W0vkPQ\\\",\\\"variantId\\\":\\\"XIrKiPBtQVm1PGbZgDHCpw\\\",\\\"parameterName\\\":\\\"government-page\\\",\\\"id\\\":100,\\\"version\\\":1,\\\"value\\\":\\\"alternate\\\",\\\"status\\\":\\\"RUNNING\\\"},{\\\"namespace\\\":\\\"Growth\\\",\\\"idForAllocation\\\":\\\"9395860891-1600728821742\\\",\\\"experimentId\\\":\\\"MIheEMX6Eem-i1dtGiveHA\\\",\\\"variantId\\\":\\\"7_L9TgHyTh6mTlJjPFjGkw\\\",\\\"parameterName\\\":\\\"cmsLaunchPages\\\",\\\"id\\\":101,\\\"version\\\":1,\\\"value\\\":[\\\"10000women\\\",\\\"10000women-spa\\\",\\\"10000women-brpt\\\"],\\\"status\\\":\\\"RUNNING\\\"},{\\\"namespace\\\":\\\"XDP\\\",\\\"idForAllocation\\\":\\\"9395860891-1600728821742\\\",\\\"experimentId\\\":\\\"ESBXcB3SEeiV6nvmPkyH4g\\\",\\\"variantId\\\":\\\"FlJo_QclQtWSKl71paF1kw\\\",\\\"parameterName\\\":\\\"mdpRollout\\\",\\\"id\\\":102,\\\"version\\\":1,\\\"value\\\":\\\"[\\\\n  \\\\\\\"construction-engineering-management-umich\\\\\\\",\\\\n  \\\\\\\"instructional-design-illinois\\\\\\\"]\\\",\\\"status\\\":\\\"RUNNING\\\"},{\\\"namespace\\\":\\\"Growth\\\",\\\"idForAllocation\\\":\\\"9395860891-1600728821742\\\",\\\"experimentId\\\":\\\"sVrjoOGSEeqkaX2DZhJF-Q\\\",\\\"variantId\\\":\\\"ocJSsQtXRK-up2mX5WE_LQ\\\",\\\"parameterName\\\":\\\"mastertrackCarousel\\\",\\\"id\\\":103,\\\"version\\\":1,\\\"value\\\":false,\\\"status\\\":\\\"RUNNING\\\"},{\\\"namespace\\\":\\\"Growth\\\",\\\"idForAllocation\\\":\\\"9395860891-1600728821742\\\",\\\"experimentId\\\":\\\"_MafsKLnEee84KOrlKUKvQ\\\",\\\"variantId\\\":\\\"79kQavd8QKeIpwJEuuILEg\\\",\\\"parameterName\\\":\\\"cdpUpsellV2Enabled\\\",\\\"id\\\":104,\\\"version\\\":1,\\\"value\\\":true,\\\"status\\\":\\\"RUNNING\\\"},{\\\"namespace\\\":\\\"Growth\\\",\\\"idForAllocation\\\":\\\"9395860891-1600728821742\\\",\\\"experimentId\\\":\\\"43LRYKLmEee84KOrlKUKvQ\\\",\\\"variantId\\\":\\\"OeJcpchXR5-Kt8tqqaITLA\\\",\\\"parameterName\\\":\\\"sdpUpsellEnabled\\\",\\\"id\\\":105,\\\"version\\\":1,\\\"value\\\":true,\\\"status\\\":\\\"RUNNING\\\"},{\\\"namespace\\\":\\\"edgeRouting\\\",\\\"idForAllocation\\\":\\\"9395860891-1600728821742\\\",\\\"experimentId\\\":\\\"brjuIDPXEeqZbo2L3ch41Q\\\",\\\"variantId\\\":\\\"vhW-0LHhQeixSa1NiLBDSA\\\",\\\"parameterName\\\":\\\"google-it-coursera-page\\\",\\\"id\\\":106,\\\"version\\\":1,\\\"value\\\":\\\"alternate\\\",\\\"status\\\":\\\"RUNNING\\\"},{\\\"namespace\\\":\\\"growthFalcons\\\",\\\"idForAllocation\\\":\\\"9395860891-1600728821742\\\",\\\"experimentId\\\":\\\"d62vkLaiEeqaIQmSAUj1Mw\\\",\\\"variantId\\\":\\\"Za4zYeoASXm6PU4zFrwQ5A\\\",\\\"parameterName\\\":\\\"availableForEveryonePromo\\\",\\\"id\\\":107,\\\"version\\\":1,\\\"value\\\":true,\\\"status\\\":\\\"RUNNING\\\"},{\\\"namespace\\\":\\\"Enterprise\\\",\\\"idForAllocation\\\":\\\"9395860891-1600728821742\\\",\\\"experimentId\\\":\\\"kpWQUFzbEeqbOFevk-gkZg\\\",\\\"variantId\\\":\\\"32hNw64ZRhuf1guCvqzwYw\\\",\\\"parameterName\\\":\\\"enableProjectBadge\\\",\\\"id\\\":108,\\\"version\\\":1,\\\"value\\\":true,\\\"status\\\":\\\"RUNNING\\\"},{\\\"namespace\\\":\\\"Flex\\\",\\\"idForAllocation\\\":\\\"9395860891-1600728821742\\\",\\\"experimentId\\\":\\\"qMlYcMr3EeerK6ELsM1zsQ\\\",\\\"variantId\\\":\\\"D6VbXwy5TRqikSjaZpqqMQ\\\",\\\"parameterName\\\":\\\"widgetManagerEnabled\\\",\\\"id\\\":109,\\\"version\\\":1,\\\"value\\\":true,\\\"status\\\":\\\"RUNNING\\\"},{\\\"namespace\\\":\\\"GrowthAcquisition\\\",\\\"idForAllocation\\\":\\\"9395860891-1600728821742\\\",\\\"experimentId\\\":\\\"8QH34LcxEeq-KDemnTXmWA\\\",\\\"variantId\\\":\\\"UglbDLE_TqC4kHDrGByiBQ\\\",\\\"parameterName\\\":\\\"xdpShareCTAQ2Updates\\\",\\\"id\\\":110,\\\"version\\\":1,\\\"value\\\":\\\"A\\\",\\\"status\\\":\\\"RUNNING\\\"},{\\\"namespace\\\":\\\"FullStory\\\",\\\"idForAllocation\\\":\\\"9395860891-1600728821742\\\",\\\"experimentId\\\":\\\"Alj9gGemEeqAsKs-CPURjA\\\",\\\"variantId\\\":\\\"pjCkCIUyRzGJ9CgcfT1T2A\\\",\\\"parameterName\\\":\\\"enableAdminApp\\\",\\\"id\\\":111,\\\"version\\\":1,\\\"value\\\":true,\\\"status\\\":\\\"RUNNING\\\"},{\\\"namespace\\\":\\\"Enterprise\\\",\\\"idForAllocation\\\":\\\"9395860891-1600728821742\\\",\\\"experimentId\\\":\\\"c1w0cKHVEeq29g29ff4QeA\\\",\\\"variantId\\\":\\\"8ia8EoDESOO4J1EpdNUCeg\\\",\\\"parameterName\\\":\\\"wesBusinessTeamsEnabled\\\",\\\"id\\\":112,\\\"version\\\":1,\\\"value\\\":true,\\\"status\\\":\\\"RUNNING\\\"},{\\\"namespace\\\":\\\"Enterprise\\\",\\\"idForAllocation\\\":\\\"9395860891-1600728821742\\\",\\\"experimentId\\\":\\\"63MWEFf6EeqGr-cZzTH5jQ\\\",\\\"variantId\\\":\\\"gRH7soCSRWiC2QovtYJbgA\\\",\\\"parameterName\\\":\\\"disablePendo\\\",\\\"id\\\":113,\\\"version\\\":1,\\\"value\\\":[\\\"VoVGuNLeQuSBpl8U3rk5Hg\\\",\\\"6i-hJlw0Q5eWk5LwulzUUg\\\"],\\\"status\\\":\\\"RUNNING\\\"},{\\\"namespace\\\":\\\"siteMisc\\\",\\\"idForAllocation\\\":\\\"9395860891-1600728821742\\\",\\\"experimentId\\\":\\\"h7pxYNPQEeaX8-XFeEkKJw\\\",\\\"variantId\\\":\\\"ntN7YW2YTZqYYvM5ZvSezw\\\",\\\"parameterName\\\":\\\"mobilePromoMethod\\\",\\\"id\\\":114,\\\"version\\\":1,\\\"value\\\":\\\"bottomBanner\\\",\\\"status\\\":\\\"RUNNING\\\"},{\\\"namespace\\\":\\\"featureBlacklist\\\",\\\"idForAllocation\\\":\\\"9395860891-1600728821742\\\",\\\"experimentId\\\":\\\"_OvcUBwtEeWHaIGkK0VUdA\\\",\\\"variantId\\\":\\\"RwcPRcvnSBaZcRvzhma6ow\\\",\\\"parameterName\\\":\\\"privacyUsers\\\",\\\"id\\\":115,\\\"version\\\":1,\\\"value\\\":[\\\"c3505fbfa8eef219a2076583c86352c9\\\",\\\"56fa950469da5c51aac7d0472c950e9c\\\",\\\"33ed9837320daa6dcbc14d2d0450ce8a\\\",\\\"6e3f06153c2a81d0a10814e24b5e716d\\\",\\\"0c1a02d2024f211713e17ce8e418c5e3\\\",\\\"8284d5516e63d0bc5d6b1b287049f58d\\\"],\\\"status\\\":\\\"RUNNING\\\"},{\\\"namespace\\\":\\\"Enterprise\\\",\\\"idForAllocation\\\":\\\"9395860891-1600728821742\\\",\\\"experimentId\\\":\\\"BGAB0A-mEeq5Y08IrBQR4Q\\\",\\\"variantId\\\":\\\"lsKRrgyUTUmCxupD_6XsLQ\\\",\\\"parameterName\\\":\\\"enableContractRenewal\\\",\\\"id\\\":116,\\\"version\\\":1,\\\"value\\\":[\\\"AAF5FgTmRq2GzxwgweDj1g\\\",\\\"3oYaAXOkScaI7f8ujpWqcA\\\"],\\\"status\\\":\\\"RUNNING\\\"},{\\\"namespace\\\":\\\"SEO\\\",\\\"idForAllocation\\\":\\\"9395860891-1600728821742\\\",\\\"experimentId\\\":\\\"-H08AEHjEeqLLL-gPp_cYA\\\",\\\"variantId\\\":\\\"-AAQGvUtQTCyI91ast3QSw\\\",\\\"parameterName\\\":\\\"shouldOptimizeMobileWebBrowsePage\\\",\\\"id\\\":117,\\\"version\\\":1,\\\"value\\\":true,\\\"status\\\":\\\"RUNNING\\\"},{\\\"namespace\\\":\\\"edgeRouting\\\",\\\"idForAllocation\\\":\\\"9395860891-1600728821742\\\",\\\"experimentId\\\":\\\"Jv_WUIPtEeqSAwOIMmsU5Q\\\",\\\"variantId\\\":\\\"y6tZdII0Sbqw8SawZP-iDg\\\",\\\"parameterName\\\":\\\"c4s-rollout\\\",\\\"id\\\":118,\\\"version\\\":1,\\\"value\\\":\\\"alternate\\\",\\\"status\\\":\\\"RUNNING\\\"},{\\\"namespace\\\":\\\"Growth\\\",\\\"idForAllocation\\\":\\\"9395860891-1600728821742\\\",\\\"experimentId\\\":\\\"sNYDkGd9EeqiZTsLFdC3wg\\\",\\\"variantId\\\":\\\"3ySyuw2IQ-mxJH7DxfQ-zw\\\",\\\"parameterName\\\":\\\"improveMobileXDPCTA\\\",\\\"id\\\":119,\\\"version\\\":1,\\\"value\\\":true,\\\"status\\\":\\\"RUNNING\\\"},{\\\"namespace\\\":\\\"SEO\\\",\\\"idForAllocation\\\":\\\"9395860891-1600728821742\\\",\\\"experimentId\\\":\\\"wsIO4F8OEeqQWwtq4ArQsg\\\",\\\"variantId\\\":\\\"Ey94vmz4Q927tqLwomSzIA\\\",\\\"parameterName\\\":\\\"optimizeAuthPagesMobileWeb\\\",\\\"id\\\":120,\\\"version\\\":1,\\\"value\\\":false,\\\"status\\\":\\\"RUNNING\\\"},{\\\"tagTarget\\\":{\\\"targetType\\\":\\\"WHITELIST\\\",\\\"tagName\\\":\\\"specialization_id\\\",\\\"tagValues\\\":[\\\"4JGavHT_EeaWKQo_29qXIQ\\\",\\\"r10Jy2huEeaDsA4V_O3EAQ\\\",\\\"xe8TSnRkEeaflgpbsOXi2w\\\",\\\"qG-wrV5SEeawWQoiUy1qRQ\\\",\\\"kLWnFWsyEeeVdhKUpvOPZg\\\",\\\"7lHCSlFIEeeffRIHljDI_g\\\",\\\"oRyN5IglEeePyRLleDGmxg\\\",\\\"qzhn9PT2EeSKSCIAC7TI2A\\\",\\\"I-nFAEigEeiR8w76z8x-Vg\\\"]},\\\"namespace\\\":\\\"Growth\\\",\\\"idForAllocation\\\":\\\"9395860891-1600728821742\\\",\\\"experimentId\\\":\\\"YfO0UKw-EeaYE9MukwFz8Q\\\",\\\"variantId\\\":\\\"8s9nppE2RtaydvvGsqsslg\\\",\\\"parameterName\\\":\\\"blacklistS12nsFromFinaid\\\",\\\"id\\\":121,\\\"version\\\":1,\\\"value\\\":true,\\\"status\\\":\\\"RUNNING\\\"},{\\\"namespace\\\":\\\"Flex\\\",\\\"idForAllocation\\\":\\\"9395860891-1600728821742\\\",\\\"experimentId\\\":\\\"dLnBoNuvEeeGVftug7-S5w\\\",\\\"variantId\\\":\\\"CBBIFqY-TWKYt9k1CW1Vgw\\\",\\\"parameterName\\\":\\\"widgetIVQAuthoringEnabled\\\",\\\"id\\\":122,\\\"version\\\":1,\\\"value\\\":true,\\\"status\\\":\\\"RUNNING\\\"},{\\\"namespace\\\":\\\"Enterprise\\\",\\\"idForAllocation\\\":\\\"9395860891-1600728821742\\\",\\\"experimentId\\\":\\\"qIofcPK4Eeq_RB-6EiniEQ\\\",\\\"variantId\\\":\\\"PgYkGXtqRf2LpnT4h_LoSw\\\",\\\"parameterName\\\":\\\"disableUpswellEnrollmentDeadline\\\",\\\"id\\\":123,\\\"version\\\":1,\\\"value\\\":[\\\"gBKN0euXEeqBqgrNjGIE6w\\\",\\\"O9loUosREeq1qA66YY5ZsQ\\\",\\\"Vxqn4X6wEeq55Q4FoYZ2Uw\\\",\\\"QIOxL5FDEequvQpeOE2BaQ\\\"],\\\"status\\\":\\\"RUNNING\\\"},{\\\"namespace\\\":\\\"GrowthAcquisition\\\",\\\"idForAllocation\\\":\\\"9395860891-1600728821742\\\",\\\"experimentId\\\":\\\"Ui7JgKqyEeqydtWXpAEWNw\\\",\\\"variantId\\\":\\\"B5ZunD_NRcGO-_bHJU6EbQ\\\",\\\"parameterName\\\":\\\"shareCTAOnLoggedInHomeInProgressTab\\\",\\\"id\\\":124,\\\"version\\\":1,\\\"value\\\":\\\"Control\\\",\\\"status\\\":\\\"RUNNING\\\"},{\\\"namespace\\\":\\\"GrowthAcquisition\\\",\\\"idForAllocation\\\":\\\"9395860891-1600728821742\\\",\\\"experimentId\\\":\\\"ql2OIKqyEeqZC8FSVTZLSA\\\",\\\"variantId\\\":\\\"L7OiIXhLTMGHjmQFHXReww\\\",\\\"parameterName\\\":\\\"shareCTAOnLoggedInHomeCompletedTab\\\",\\\"id\\\":125,\\\"version\\\":1,\\\"value\\\":\\\"B\\\",\\\"status\\\":\\\"RUNNING\\\"},{\\\"namespace\\\":\\\"Growth\\\",\\\"idForAllocation\\\":\\\"9395860891-1600728821742\\\",\\\"experimentId\\\":\\\"CQkIkFBnEeetUbmYo64TKQ\\\",\\\"variantId\\\":\\\"NZnJawx0QtiugORHmxD-yw\\\",\\\"parameterName\\\":\\\"blacklistCoursesFromFinaid\\\",\\\"id\\\":126,\\\"version\\\":1,\\\"value\\\":[\\\"IIZBW6-mEeaHBgqkZt_jWA\\\",\\\"zErmN5rZEeajJhIEs83WWg\\\",\\\"RpCqbucEEeaH9Q51wS-wDA\\\",\\\"GZluGec0EeaqHRKenm-C8A\\\",\\\"10W6Te_sEea7DBK-0BPzLg\\\",\\\"04UTtdz5EeaM5xKSknhJng\\\",\\\"_qMNfupfEea9sQ4_cyco6A\\\",\\\"coKKdodfEee-nQrsYRBh-g\\\",\\\"lAe6xrqUEeeJRwrm1qGMrA\\\",\\\"VivQGEdIEemEVA7yMJH7Bg\\\",\\\"pJ3XYkagEemxLA6xYs8f6A\\\",\\\"rUDAA-ShEemHfgqEl4_jig\\\",\\\"t2Gp3snCEemHiQqglUGzsg\\\",\\\"FALeCNrsEemxthIDmiPlEg\\\",\\\"7F3IvslLEemrpgp-DHPbHA\\\",\\\"mgu5l9rGEemZYA6RFvxeDg\\\",\\\"77ztW8kLEem39RJQBK97pA\\\",\\\"xxP3poDiEeq4zBKgTIm8gQ\\\"],\\\"status\\\":\\\"RUNNING\\\"}]}\";\n",
      "\n",
      "if (injectedString.search('EPIC_SITE_HOME_PLACEHOLDER') >= 0) {\n",
      "return {};\n",
      "}\n",
      "\n",
      "var epicResponse = injectedString && injectedString !== undefined ? JSON.parse(injectedString) : {};\n",
      "return epicResponse.elements || {};\n",
      "})();\n",
      "/* globals coursera */\n",
      "/* eslint-disable quotes */\n",
      "coursera.user = (function() {\n",
      "var userJson = \"{}\";\n",
      "try {\n",
      "return JSON.parse(userJson);\n",
      "} catch (e) {\n",
      "return {};\n",
      "}\n",
      "})();\n",
      "/* globals coursera*/\n",
      "// Defines a named AMD module containing the course ID\n",
      "coursera.courseId = (function() {\n",
      "return 'RZ1S0B0MEeacvQ6cODzg5Q';\n",
      "})();\n",
      "</script><!--[if lte IE 9]><script>var queueScript = function(scripts, callback) {\n",
      "return function() {\n",
      "if (scripts.length > 1) {\n",
      "loadScript(scripts.shift(), queueScript(scripts, callback));\n",
      "} else {\n",
      "loadScript(scripts.shift(), callback);\n",
      "}\n",
      "}\n",
      "};\n",
      "\n",
      "var queue = function(scripts, callback) {\n",
      "queueScript(scripts, callback)();\n",
      "}\n",
      "\n",
      "var scripts = [\n",
      "'https://d3njjcbhbojbot.cloudfront.net/web/bundles/vendor/Intl.js.v0-1-4/Intl.en-US.js',\n",
      "'https://d3njjcbhbojbot.cloudfront.net/webapps/r2-builds/ondemand/polyfill.8417f859f432193848db.js','https://d3njjcbhbojbot.cloudfront.net/webapps/r2-builds/ondemand/preloader.d9b7e78310341efd4fbe.js','https://d3njjcbhbojbot.cloudfront.net/webapps/r2-builds/ondemand/loader.874284225bbc821bf38e.js',\n",
      "''\n",
      "];\n",
      "scripts.pop(); // remove the last element, since it is empty due to template oddities...\n",
      "queue(scripts, function() {});</script><![endif]-->\n",
      "<!--[if !IE]> --><script>if (!window.JSON) {\n",
      "loadScript('https://d3njjcbhbojbot.cloudfront.net/web/js/vendor/json2.js');\n",
      "}\n",
      "</script><!-- <![endif]--></body></html>\n"
     ]
    }
   ],
   "source": [
    "fhand = urllib.request.urlopen('https://www.coursera.org/learn/python-data-analysis/home/welcome.htm')\n",
    "n =  []\n",
    "for l in fhand:\n",
    "    print(l.decode().strip())"
   ]
  },
  {
   "cell_type": "code",
   "execution_count": 86,
   "metadata": {},
   "outputs": [
    {
     "data": {
      "text/plain": [
       "['Introduction to Data Science in Python']"
      ]
     },
     "execution_count": 86,
     "metadata": {},
     "output_type": "execute_result"
    }
   ],
   "source": [
    "l = '<h2 class=\"course-name color-primary-text\" aria-describedby=\"partner-names-description\">Introduction to Data Science in Python</h2>'\n",
    "w='<h2.+?>(.+)<'\n",
    "find = re.findall(w , l)\n",
    "find"
   ]
  },
  {
   "cell_type": "code",
   "execution_count": 52,
   "metadata": {},
   "outputs": [
    {
     "name": "stdout",
     "output_type": "stream",
     "text": [
      "<h1>The Second Page</h1>\n",
      "<p>\n",
      "If you like, you can switch back to the\n",
      "<a href=\"page1.htm\">\n",
      "First Page</a>.\n",
      "</p>\n"
     ]
    }
   ],
   "source": [
    "fhand = urllib.request.urlopen('http://www.dr-chuck.com/page2.htm')\n",
    "for l in fhand:\n",
    "    print(l.decode().strip()) #decode byte >> str # strip remove white spaces in start and the end "
   ]
  },
  {
   "cell_type": "code",
   "execution_count": 63,
   "metadata": {},
   "outputs": [],
   "source": [
    "l= '<a href=\"page1.htm\">'\n",
    "w='<h2.+?>(.+)<'\n",
    "find = re.findall(w , l)\n",
    "#n.append(find[0])\n",
    "#print(n) #decode byte >> str # strip remove white spaces in start and the end "
   ]
  },
  {
   "cell_type": "code",
   "execution_count": 64,
   "metadata": {},
   "outputs": [
    {
     "data": {
      "text/plain": [
       "1"
      ]
     },
     "execution_count": 64,
     "metadata": {},
     "output_type": "execute_result"
    }
   ],
   "source": [
    "len(find)"
   ]
  },
  {
   "cell_type": "code",
   "execution_count": 67,
   "metadata": {
    "scrolled": true
   },
   "outputs": [
    {
     "data": {
      "text/plain": [
       "['page1.htm', 'page1.htm']"
      ]
     },
     "execution_count": 67,
     "metadata": {},
     "output_type": "execute_result"
    }
   ],
   "source": [
    "n.append(find[0])\n",
    "n"
   ]
  },
  {
   "cell_type": "markdown",
   "metadata": {},
   "source": [
    "## webcraweler \\ webscraping"
   ]
  },
  {
   "cell_type": "code",
   "execution_count": 102,
   "metadata": {},
   "outputs": [],
   "source": [
    "## webcraweler \\ webscraping\n",
    "from bs4 import BeautifulSoup as bs "
   ]
  },
  {
   "cell_type": "code",
   "execution_count": 130,
   "metadata": {},
   "outputs": [
    {
     "ename": "TypeError",
     "evalue": "'str' object is not callable",
     "output_type": "error",
     "traceback": [
      "\u001b[1;31m---------------------------------------------------------------------------\u001b[0m",
      "\u001b[1;31mTypeError\u001b[0m                                 Traceback (most recent call last)",
      "\u001b[1;32m<ipython-input-130-940cb5103d1f>\u001b[0m in \u001b[0;36m<module>\u001b[1;34m\u001b[0m\n\u001b[1;32m----> 1\u001b[1;33m \u001b[0murl\u001b[0m \u001b[1;33m=\u001b[0m \u001b[0mstr\u001b[0m\u001b[1;33m(\u001b[0m\u001b[0minput\u001b[0m\u001b[1;33m(\u001b[0m\u001b[1;34m'Enter - '\u001b[0m\u001b[1;33m)\u001b[0m\u001b[1;33m)\u001b[0m\u001b[1;33m\u001b[0m\u001b[1;33m\u001b[0m\u001b[0m\n\u001b[0m\u001b[0;32m      2\u001b[0m \u001b[1;31m#url = 'http://www.dr-chuck.com/page1.htm'\u001b[0m\u001b[1;33m\u001b[0m\u001b[1;33m\u001b[0m\u001b[1;33m\u001b[0m\u001b[0m\n\u001b[0;32m      3\u001b[0m \u001b[0mhtml\u001b[0m \u001b[1;33m=\u001b[0m \u001b[0murllib\u001b[0m\u001b[1;33m.\u001b[0m\u001b[0mrequest\u001b[0m\u001b[1;33m.\u001b[0m\u001b[0murlopen\u001b[0m\u001b[1;33m(\u001b[0m\u001b[0murl\u001b[0m\u001b[1;33m)\u001b[0m\u001b[1;33m.\u001b[0m\u001b[0mread\u001b[0m\u001b[1;33m(\u001b[0m\u001b[1;33m)\u001b[0m\u001b[1;33m\u001b[0m\u001b[1;33m\u001b[0m\u001b[0m\n\u001b[0;32m      4\u001b[0m \u001b[0msoup\u001b[0m \u001b[1;33m=\u001b[0m \u001b[0mbs\u001b[0m\u001b[1;33m(\u001b[0m\u001b[0mhtml\u001b[0m\u001b[1;33m,\u001b[0m \u001b[1;34m'html.parser'\u001b[0m\u001b[1;33m)\u001b[0m\u001b[1;33m\u001b[0m\u001b[1;33m\u001b[0m\u001b[0m\n\u001b[0;32m      5\u001b[0m \u001b[0mtags\u001b[0m \u001b[1;33m=\u001b[0m \u001b[0msoup\u001b[0m\u001b[1;33m(\u001b[0m\u001b[1;34m'a'\u001b[0m\u001b[1;33m)\u001b[0m\u001b[1;31m##dictionary  #anchore tags\u001b[0m\u001b[1;33m\u001b[0m\u001b[1;33m\u001b[0m\u001b[0m\n",
      "\u001b[1;31mTypeError\u001b[0m: 'str' object is not callable"
     ]
    }
   ],
   "source": [
    "url = input('Enter - ')\n",
    "#url = 'http://www.dr-chuck.com/page1.htm'\n",
    "html = urllib.request.urlopen(url).read()\n",
    "soup = bs(html, 'html.parser')\n",
    "tags = soup('a')##dictionary  #anchore tags  \n",
    "for tag in tags:\n",
    "    print('print line' , tag.get('href' , None))   #search for the href tag and what that comes after it \n",
    "    print(tag.contents[0])\n",
    "print ('the url we entred' ,url)"
   ]
  },
  {
   "cell_type": "code",
   "execution_count": 92,
   "metadata": {},
   "outputs": [
    {
     "data": {
      "text/plain": [
       "<h1>The First Page</h1>\n",
       "<p>\n",
       "If you like, you can switch to the \n",
       "<a href=\"http://www.dr-chuck.com/page2.htm\">\n",
       "Second Page</a>.\n",
       "</p>"
      ]
     },
     "execution_count": 92,
     "metadata": {},
     "output_type": "execute_result"
    }
   ],
   "source": [
    "soup\n"
   ]
  },
  {
   "cell_type": "code",
   "execution_count": 93,
   "metadata": {},
   "outputs": [
    {
     "data": {
      "text/plain": [
       "bs4.BeautifulSoup"
      ]
     },
     "execution_count": 93,
     "metadata": {},
     "output_type": "execute_result"
    }
   ],
   "source": [
    "type(soup)"
   ]
  },
  {
   "cell_type": "code",
   "execution_count": 94,
   "metadata": {},
   "outputs": [
    {
     "name": "stdout",
     "output_type": "stream",
     "text": [
      "Enter - http://www.dr-chuck.com/page1.htm\n",
      "http://www.dr-chuck.com/page2.htm\n"
     ]
    }
   ],
   "source": [
    "#urllink file \n",
    "\n",
    "import urllib.request, urllib.parse, urllib.error\n",
    "from bs4 import BeautifulSoup\n",
    "import ssl\n",
    "\n",
    "# Ignore SSL certificate errors\n",
    "ctx = ssl.create_default_context()\n",
    "ctx.check_hostname = False\n",
    "ctx.verify_mode = ssl.CERT_NONE\n",
    "\n",
    "url = input('Enter - ')\n",
    "html = urllib.request.urlopen(url, context=ctx).read()\n",
    "soup = BeautifulSoup(html, 'html.parser')\n",
    "\n",
    "# Retrieve all of the anchor tags\n",
    "tags = soup('a')\n",
    "for tag in tags:\n",
    "    print(tag.get('href', None))\n"
   ]
  },
  {
   "cell_type": "markdown",
   "metadata": {},
   "source": [
    "# get H1 easier way"
   ]
  },
  {
   "cell_type": "code",
   "execution_count": 98,
   "metadata": {},
   "outputs": [
    {
     "name": "stdout",
     "output_type": "stream",
     "text": [
      "The First Page\n"
     ]
    }
   ],
   "source": [
    "# Ignore SSL certificate errors\n",
    "ctx = ssl.create_default_context()\n",
    "ctx.check_hostname = False\n",
    "ctx.verify_mode = ssl.CERT_NONE\n",
    "\n",
    "url = 'http://www.dr-chuck.com/page1.htm'\n",
    "html = urllib.request.urlopen(url, context=ctx).read()\n",
    "soup = BeautifulSoup(html, 'html.parser')\n",
    "\n",
    "# Retrieve all of the anchor tags\n",
    "tags = soup('h1')\n",
    "for tag in tags:\n",
    "    print(tag.contents[0])\n"
   ]
  },
  {
   "cell_type": "code",
   "execution_count": null,
   "metadata": {},
   "outputs": [],
   "source": []
  },
  {
   "cell_type": "code",
   "execution_count": 51,
   "metadata": {},
   "outputs": [
    {
     "data": {
      "text/plain": [
       "<h1>The Second Page</h1>\n",
       "<p>\n",
       "If you like, you can switch back to the \n",
       "<a href=\"page1.htm\">\n",
       "First Page</a>.\n",
       "</p>"
      ]
     },
     "execution_count": 51,
     "metadata": {},
     "output_type": "execute_result"
    }
   ],
   "source": [
    "soup"
   ]
  },
  {
   "cell_type": "code",
   "execution_count": null,
   "metadata": {},
   "outputs": [],
   "source": []
  },
  {
   "cell_type": "code",
   "execution_count": 77,
   "metadata": {},
   "outputs": [
    {
     "name": "stdout",
     "output_type": "stream",
     "text": [
      "TAG: <span class=\"comments\">99</span>\n",
      "URL: None\n",
      "Contents: 99\n",
      "Attrs: {'class': ['comments']}\n",
      "TAG: <span class=\"comments\">99</span>\n",
      "URL: None\n",
      "Contents: 99\n",
      "Attrs: {'class': ['comments']}\n",
      "TAG: <span class=\"comments\">98</span>\n",
      "URL: None\n",
      "Contents: 98\n",
      "Attrs: {'class': ['comments']}\n",
      "TAG: <span class=\"comments\">98</span>\n",
      "URL: None\n",
      "Contents: 98\n",
      "Attrs: {'class': ['comments']}\n",
      "TAG: <span class=\"comments\">94</span>\n",
      "URL: None\n",
      "Contents: 94\n",
      "Attrs: {'class': ['comments']}\n",
      "TAG: <span class=\"comments\">92</span>\n",
      "URL: None\n",
      "Contents: 92\n",
      "Attrs: {'class': ['comments']}\n",
      "TAG: <span class=\"comments\">91</span>\n",
      "URL: None\n",
      "Contents: 91\n",
      "Attrs: {'class': ['comments']}\n",
      "TAG: <span class=\"comments\">91</span>\n",
      "URL: None\n",
      "Contents: 91\n",
      "Attrs: {'class': ['comments']}\n",
      "TAG: <span class=\"comments\">90</span>\n",
      "URL: None\n",
      "Contents: 90\n",
      "Attrs: {'class': ['comments']}\n",
      "TAG: <span class=\"comments\">88</span>\n",
      "URL: None\n",
      "Contents: 88\n",
      "Attrs: {'class': ['comments']}\n",
      "TAG: <span class=\"comments\">80</span>\n",
      "URL: None\n",
      "Contents: 80\n",
      "Attrs: {'class': ['comments']}\n",
      "TAG: <span class=\"comments\">80</span>\n",
      "URL: None\n",
      "Contents: 80\n",
      "Attrs: {'class': ['comments']}\n",
      "TAG: <span class=\"comments\">77</span>\n",
      "URL: None\n",
      "Contents: 77\n",
      "Attrs: {'class': ['comments']}\n",
      "TAG: <span class=\"comments\">68</span>\n",
      "URL: None\n",
      "Contents: 68\n",
      "Attrs: {'class': ['comments']}\n",
      "TAG: <span class=\"comments\">66</span>\n",
      "URL: None\n",
      "Contents: 66\n",
      "Attrs: {'class': ['comments']}\n",
      "TAG: <span class=\"comments\">64</span>\n",
      "URL: None\n",
      "Contents: 64\n",
      "Attrs: {'class': ['comments']}\n",
      "TAG: <span class=\"comments\">64</span>\n",
      "URL: None\n",
      "Contents: 64\n",
      "Attrs: {'class': ['comments']}\n",
      "TAG: <span class=\"comments\">64</span>\n",
      "URL: None\n",
      "Contents: 64\n",
      "Attrs: {'class': ['comments']}\n",
      "TAG: <span class=\"comments\">63</span>\n",
      "URL: None\n",
      "Contents: 63\n",
      "Attrs: {'class': ['comments']}\n",
      "TAG: <span class=\"comments\">62</span>\n",
      "URL: None\n",
      "Contents: 62\n",
      "Attrs: {'class': ['comments']}\n",
      "TAG: <span class=\"comments\">62</span>\n",
      "URL: None\n",
      "Contents: 62\n",
      "Attrs: {'class': ['comments']}\n",
      "TAG: <span class=\"comments\">61</span>\n",
      "URL: None\n",
      "Contents: 61\n",
      "Attrs: {'class': ['comments']}\n",
      "TAG: <span class=\"comments\">57</span>\n",
      "URL: None\n",
      "Contents: 57\n",
      "Attrs: {'class': ['comments']}\n",
      "TAG: <span class=\"comments\">56</span>\n",
      "URL: None\n",
      "Contents: 56\n",
      "Attrs: {'class': ['comments']}\n",
      "TAG: <span class=\"comments\">55</span>\n",
      "URL: None\n",
      "Contents: 55\n",
      "Attrs: {'class': ['comments']}\n",
      "TAG: <span class=\"comments\">54</span>\n",
      "URL: None\n",
      "Contents: 54\n",
      "Attrs: {'class': ['comments']}\n",
      "TAG: <span class=\"comments\">53</span>\n",
      "URL: None\n",
      "Contents: 53\n",
      "Attrs: {'class': ['comments']}\n",
      "TAG: <span class=\"comments\">50</span>\n",
      "URL: None\n",
      "Contents: 50\n",
      "Attrs: {'class': ['comments']}\n",
      "TAG: <span class=\"comments\">48</span>\n",
      "URL: None\n",
      "Contents: 48\n",
      "Attrs: {'class': ['comments']}\n",
      "TAG: <span class=\"comments\">48</span>\n",
      "URL: None\n",
      "Contents: 48\n",
      "Attrs: {'class': ['comments']}\n",
      "TAG: <span class=\"comments\">39</span>\n",
      "URL: None\n",
      "Contents: 39\n",
      "Attrs: {'class': ['comments']}\n",
      "TAG: <span class=\"comments\">38</span>\n",
      "URL: None\n",
      "Contents: 38\n",
      "Attrs: {'class': ['comments']}\n",
      "TAG: <span class=\"comments\">37</span>\n",
      "URL: None\n",
      "Contents: 37\n",
      "Attrs: {'class': ['comments']}\n",
      "TAG: <span class=\"comments\">33</span>\n",
      "URL: None\n",
      "Contents: 33\n",
      "Attrs: {'class': ['comments']}\n",
      "TAG: <span class=\"comments\">32</span>\n",
      "URL: None\n",
      "Contents: 32\n",
      "Attrs: {'class': ['comments']}\n",
      "TAG: <span class=\"comments\">31</span>\n",
      "URL: None\n",
      "Contents: 31\n",
      "Attrs: {'class': ['comments']}\n",
      "TAG: <span class=\"comments\">27</span>\n",
      "URL: None\n",
      "Contents: 27\n",
      "Attrs: {'class': ['comments']}\n",
      "TAG: <span class=\"comments\">26</span>\n",
      "URL: None\n",
      "Contents: 26\n",
      "Attrs: {'class': ['comments']}\n",
      "TAG: <span class=\"comments\">26</span>\n",
      "URL: None\n",
      "Contents: 26\n",
      "Attrs: {'class': ['comments']}\n",
      "TAG: <span class=\"comments\">25</span>\n",
      "URL: None\n",
      "Contents: 25\n",
      "Attrs: {'class': ['comments']}\n",
      "TAG: <span class=\"comments\">23</span>\n",
      "URL: None\n",
      "Contents: 23\n",
      "Attrs: {'class': ['comments']}\n",
      "TAG: <span class=\"comments\">18</span>\n",
      "URL: None\n",
      "Contents: 18\n",
      "Attrs: {'class': ['comments']}\n",
      "TAG: <span class=\"comments\">18</span>\n",
      "URL: None\n",
      "Contents: 18\n",
      "Attrs: {'class': ['comments']}\n",
      "TAG: <span class=\"comments\">14</span>\n",
      "URL: None\n",
      "Contents: 14\n",
      "Attrs: {'class': ['comments']}\n",
      "TAG: <span class=\"comments\">14</span>\n",
      "URL: None\n",
      "Contents: 14\n",
      "Attrs: {'class': ['comments']}\n",
      "TAG: <span class=\"comments\">13</span>\n",
      "URL: None\n",
      "Contents: 13\n",
      "Attrs: {'class': ['comments']}\n",
      "TAG: <span class=\"comments\">9</span>\n",
      "URL: None\n",
      "Contents: 9\n",
      "Attrs: {'class': ['comments']}\n",
      "TAG: <span class=\"comments\">7</span>\n",
      "URL: None\n",
      "Contents: 7\n",
      "Attrs: {'class': ['comments']}\n",
      "TAG: <span class=\"comments\">6</span>\n",
      "URL: None\n",
      "Contents: 6\n",
      "Attrs: {'class': ['comments']}\n",
      "TAG: <span class=\"comments\">4</span>\n",
      "URL: None\n",
      "Contents: 4\n",
      "Attrs: {'class': ['comments']}\n"
     ]
    }
   ],
   "source": [
    "from urllib.request import urlopen\n",
    "from bs4 import BeautifulSoup\n",
    "import ssl\n",
    "\n",
    "# Ignore SSL certificate errors\n",
    "ctx = ssl.create_default_context()\n",
    "ctx.check_hostname = False\n",
    "ctx.verify_mode = ssl.CERT_NONE\n",
    "link_1 = 'http://py4e-data.dr-chuck.net/comments_721159.html'\n",
    "# url = input('Enter - ')\n",
    "html = urlopen(link_1, context=ctx).read()\n",
    "soup = BeautifulSoup(html, \"html.parser\")\n",
    "\n",
    "# Retrieve all of the anchor tags\n",
    "tags = soup('span')\n",
    "for tag in tags:\n",
    "    # Look at the parts of a tag\n",
    "    print('TAG:', tag)\n",
    "    print('URL:', tag.get('href', None))\n",
    "    print('Contents:', tag.contents[0])\n",
    "    print('Attrs:', tag.attrs)"
   ]
  },
  {
   "cell_type": "code",
   "execution_count": 2,
   "metadata": {},
   "outputs": [],
   "source": [
    "from urllib.request import urlopen\n",
    "from bs4 import BeautifulSoup\n",
    "import ssl\n",
    "\n",
    "# Ignore SSL certificate errors\n",
    "ctx = ssl.create_default_context()\n",
    "ctx.check_hostname = False\n",
    "ctx.verify_mode = ssl.CERT_NONE\n",
    "link_1 = 'http://py4e-data.dr-chuck.net/comments_721159.html'\n",
    "# url = input('Enter - ')\n",
    "html = urlopen(link_1, context=ctx).read()\n",
    "soup = BeautifulSoup(html, \"html.parser\")\n",
    "\n",
    "# Retrieve all of the anchor tags\n",
    "sums = 0\n",
    "tags = soup('span')\n",
    "for tag in tags:\n",
    "    # Look at the parts of a tag\n",
    "    sums = (int(tag.contents[0]) + sums)"
   ]
  },
  {
   "cell_type": "code",
   "execution_count": 3,
   "metadata": {},
   "outputs": [
    {
     "data": {
      "text/plain": [
       "2612"
      ]
     },
     "execution_count": 3,
     "metadata": {},
     "output_type": "execute_result"
    }
   ],
   "source": [
    "sums "
   ]
  },
  {
   "cell_type": "code",
   "execution_count": 4,
   "metadata": {},
   "outputs": [
    {
     "name": "stdout",
     "output_type": "stream",
     "text": [
      "count?\n",
      "position?4\n",
      "TAG: <a href=\"http://py4e-data.dr-chuck.net/known_by_Sunny.html\">Sunny</a>\n",
      "URL: http://py4e-data.dr-chuck.net/known_by_Sunny.html\n",
      "Contents: Sunny\n",
      "Attrs: {'href': 'http://py4e-data.dr-chuck.net/known_by_Sunny.html'}\n",
      "TAG: <a href=\"http://py4e-data.dr-chuck.net/known_by_Cayden.html\">Cayden</a>\n",
      "URL: http://py4e-data.dr-chuck.net/known_by_Cayden.html\n",
      "Contents: Cayden\n",
      "Attrs: {'href': 'http://py4e-data.dr-chuck.net/known_by_Cayden.html'}\n",
      "TAG: <a href=\"http://py4e-data.dr-chuck.net/known_by_Kirstyn.html\">Kirstyn</a>\n",
      "URL: http://py4e-data.dr-chuck.net/known_by_Kirstyn.html\n",
      "Contents: Kirstyn\n",
      "Attrs: {'href': 'http://py4e-data.dr-chuck.net/known_by_Kirstyn.html'}\n",
      "TAG: <a href=\"http://py4e-data.dr-chuck.net/known_by_Cahlum.html\">Cahlum</a>\n",
      "URL: http://py4e-data.dr-chuck.net/known_by_Cahlum.html\n",
      "Contents: Cahlum\n",
      "Attrs: {'href': 'http://py4e-data.dr-chuck.net/known_by_Cahlum.html'}\n",
      "TAG: <a href=\"http://py4e-data.dr-chuck.net/known_by_Daneesa.html\">Daneesa</a>\n",
      "URL: http://py4e-data.dr-chuck.net/known_by_Daneesa.html\n",
      "Contents: Daneesa\n",
      "Attrs: {'href': 'http://py4e-data.dr-chuck.net/known_by_Daneesa.html'}\n",
      "TAG: <a href=\"http://py4e-data.dr-chuck.net/known_by_Samual.html\">Samual</a>\n",
      "URL: http://py4e-data.dr-chuck.net/known_by_Samual.html\n",
      "Contents: Samual\n",
      "Attrs: {'href': 'http://py4e-data.dr-chuck.net/known_by_Samual.html'}\n",
      "TAG: <a href=\"http://py4e-data.dr-chuck.net/known_by_Pierce.html\">Pierce</a>\n",
      "URL: http://py4e-data.dr-chuck.net/known_by_Pierce.html\n",
      "Contents: Pierce\n",
      "Attrs: {'href': 'http://py4e-data.dr-chuck.net/known_by_Pierce.html'}\n",
      "TAG: <a href=\"http://py4e-data.dr-chuck.net/known_by_Antonio.html\">Antonio</a>\n",
      "URL: http://py4e-data.dr-chuck.net/known_by_Antonio.html\n",
      "Contents: Antonio\n",
      "Attrs: {'href': 'http://py4e-data.dr-chuck.net/known_by_Antonio.html'}\n",
      "TAG: <a href=\"http://py4e-data.dr-chuck.net/known_by_Viki.html\">Viki</a>\n",
      "URL: http://py4e-data.dr-chuck.net/known_by_Viki.html\n",
      "Contents: Viki\n",
      "Attrs: {'href': 'http://py4e-data.dr-chuck.net/known_by_Viki.html'}\n",
      "TAG: <a href=\"http://py4e-data.dr-chuck.net/known_by_Faizaan.html\">Faizaan</a>\n",
      "URL: http://py4e-data.dr-chuck.net/known_by_Faizaan.html\n",
      "Contents: Faizaan\n",
      "Attrs: {'href': 'http://py4e-data.dr-chuck.net/known_by_Faizaan.html'}\n",
      "TAG: <a href=\"http://py4e-data.dr-chuck.net/known_by_Sydnee.html\">Sydnee</a>\n",
      "URL: http://py4e-data.dr-chuck.net/known_by_Sydnee.html\n",
      "Contents: Sydnee\n",
      "Attrs: {'href': 'http://py4e-data.dr-chuck.net/known_by_Sydnee.html'}\n",
      "TAG: <a href=\"http://py4e-data.dr-chuck.net/known_by_Rossi.html\">Rossi</a>\n",
      "URL: http://py4e-data.dr-chuck.net/known_by_Rossi.html\n",
      "Contents: Rossi\n",
      "Attrs: {'href': 'http://py4e-data.dr-chuck.net/known_by_Rossi.html'}\n",
      "TAG: <a href=\"http://py4e-data.dr-chuck.net/known_by_Blaire.html\">Blaire</a>\n",
      "URL: http://py4e-data.dr-chuck.net/known_by_Blaire.html\n",
      "Contents: Blaire\n",
      "Attrs: {'href': 'http://py4e-data.dr-chuck.net/known_by_Blaire.html'}\n",
      "TAG: <a href=\"http://py4e-data.dr-chuck.net/known_by_Rhian.html\">Rhian</a>\n",
      "URL: http://py4e-data.dr-chuck.net/known_by_Rhian.html\n",
      "Contents: Rhian\n",
      "Attrs: {'href': 'http://py4e-data.dr-chuck.net/known_by_Rhian.html'}\n",
      "TAG: <a href=\"http://py4e-data.dr-chuck.net/known_by_Tiffany.html\">Tiffany</a>\n",
      "URL: http://py4e-data.dr-chuck.net/known_by_Tiffany.html\n",
      "Contents: Tiffany\n",
      "Attrs: {'href': 'http://py4e-data.dr-chuck.net/known_by_Tiffany.html'}\n",
      "TAG: <a href=\"http://py4e-data.dr-chuck.net/known_by_Akan.html\">Akan</a>\n",
      "URL: http://py4e-data.dr-chuck.net/known_by_Akan.html\n",
      "Contents: Akan\n",
      "Attrs: {'href': 'http://py4e-data.dr-chuck.net/known_by_Akan.html'}\n",
      "TAG: <a href=\"http://py4e-data.dr-chuck.net/known_by_Adie.html\">Adie</a>\n",
      "URL: http://py4e-data.dr-chuck.net/known_by_Adie.html\n",
      "Contents: Adie\n",
      "Attrs: {'href': 'http://py4e-data.dr-chuck.net/known_by_Adie.html'}\n",
      "TAG: <a href=\"http://py4e-data.dr-chuck.net/known_by_Marley.html\">Marley</a>\n",
      "URL: http://py4e-data.dr-chuck.net/known_by_Marley.html\n",
      "Contents: Marley\n",
      "Attrs: {'href': 'http://py4e-data.dr-chuck.net/known_by_Marley.html'}\n",
      "TAG: <a href=\"http://py4e-data.dr-chuck.net/known_by_Zacharie.html\">Zacharie</a>\n",
      "URL: http://py4e-data.dr-chuck.net/known_by_Zacharie.html\n",
      "Contents: Zacharie\n",
      "Attrs: {'href': 'http://py4e-data.dr-chuck.net/known_by_Zacharie.html'}\n",
      "TAG: <a href=\"http://py4e-data.dr-chuck.net/known_by_Raghida.html\">Raghida</a>\n",
      "URL: http://py4e-data.dr-chuck.net/known_by_Raghida.html\n",
      "Contents: Raghida\n",
      "Attrs: {'href': 'http://py4e-data.dr-chuck.net/known_by_Raghida.html'}\n",
      "TAG: <a href=\"http://py4e-data.dr-chuck.net/known_by_Anmolpreet.html\">Anmolpreet</a>\n",
      "URL: http://py4e-data.dr-chuck.net/known_by_Anmolpreet.html\n",
      "Contents: Anmolpreet\n",
      "Attrs: {'href': 'http://py4e-data.dr-chuck.net/known_by_Anmolpreet.html'}\n",
      "TAG: <a href=\"http://py4e-data.dr-chuck.net/known_by_Candice.html\">Candice</a>\n",
      "URL: http://py4e-data.dr-chuck.net/known_by_Candice.html\n",
      "Contents: Candice\n",
      "Attrs: {'href': 'http://py4e-data.dr-chuck.net/known_by_Candice.html'}\n",
      "TAG: <a href=\"http://py4e-data.dr-chuck.net/known_by_Kealan.html\">Kealan</a>\n",
      "URL: http://py4e-data.dr-chuck.net/known_by_Kealan.html\n",
      "Contents: Kealan\n",
      "Attrs: {'href': 'http://py4e-data.dr-chuck.net/known_by_Kealan.html'}\n",
      "TAG: <a href=\"http://py4e-data.dr-chuck.net/known_by_Heather.html\">Heather</a>\n",
      "URL: http://py4e-data.dr-chuck.net/known_by_Heather.html\n",
      "Contents: Heather\n",
      "Attrs: {'href': 'http://py4e-data.dr-chuck.net/known_by_Heather.html'}\n",
      "TAG: <a href=\"http://py4e-data.dr-chuck.net/known_by_Razan.html\">Razan</a>\n",
      "URL: http://py4e-data.dr-chuck.net/known_by_Razan.html\n",
      "Contents: Razan\n",
      "Attrs: {'href': 'http://py4e-data.dr-chuck.net/known_by_Razan.html'}\n",
      "TAG: <a href=\"http://py4e-data.dr-chuck.net/known_by_Prasheeta.html\">Prasheeta</a>\n",
      "URL: http://py4e-data.dr-chuck.net/known_by_Prasheeta.html\n",
      "Contents: Prasheeta\n",
      "Attrs: {'href': 'http://py4e-data.dr-chuck.net/known_by_Prasheeta.html'}\n",
      "TAG: <a href=\"http://py4e-data.dr-chuck.net/known_by_Shafia.html\">Shafia</a>\n",
      "URL: http://py4e-data.dr-chuck.net/known_by_Shafia.html\n",
      "Contents: Shafia\n",
      "Attrs: {'href': 'http://py4e-data.dr-chuck.net/known_by_Shafia.html'}\n",
      "TAG: <a href=\"http://py4e-data.dr-chuck.net/known_by_Zofia.html\">Zofia</a>\n",
      "URL: http://py4e-data.dr-chuck.net/known_by_Zofia.html\n",
      "Contents: Zofia\n",
      "Attrs: {'href': 'http://py4e-data.dr-chuck.net/known_by_Zofia.html'}\n",
      "TAG: <a href=\"http://py4e-data.dr-chuck.net/known_by_Zenab.html\">Zenab</a>\n",
      "URL: http://py4e-data.dr-chuck.net/known_by_Zenab.html\n",
      "Contents: Zenab\n",
      "Attrs: {'href': 'http://py4e-data.dr-chuck.net/known_by_Zenab.html'}\n",
      "TAG: <a href=\"http://py4e-data.dr-chuck.net/known_by_Ellyce.html\">Ellyce</a>\n",
      "URL: http://py4e-data.dr-chuck.net/known_by_Ellyce.html\n",
      "Contents: Ellyce\n",
      "Attrs: {'href': 'http://py4e-data.dr-chuck.net/known_by_Ellyce.html'}\n",
      "TAG: <a href=\"http://py4e-data.dr-chuck.net/known_by_Kyron.html\">Kyron</a>\n",
      "URL: http://py4e-data.dr-chuck.net/known_by_Kyron.html\n",
      "Contents: Kyron\n",
      "Attrs: {'href': 'http://py4e-data.dr-chuck.net/known_by_Kyron.html'}\n",
      "TAG: <a href=\"http://py4e-data.dr-chuck.net/known_by_Haghdann.html\">Haghdann</a>\n",
      "URL: http://py4e-data.dr-chuck.net/known_by_Haghdann.html\n",
      "Contents: Haghdann\n",
      "Attrs: {'href': 'http://py4e-data.dr-chuck.net/known_by_Haghdann.html'}\n",
      "TAG: <a href=\"http://py4e-data.dr-chuck.net/known_by_Sera.html\">Sera</a>\n",
      "URL: http://py4e-data.dr-chuck.net/known_by_Sera.html\n",
      "Contents: Sera\n",
      "Attrs: {'href': 'http://py4e-data.dr-chuck.net/known_by_Sera.html'}\n",
      "TAG: <a href=\"http://py4e-data.dr-chuck.net/known_by_Leyia.html\">Leyia</a>\n",
      "URL: http://py4e-data.dr-chuck.net/known_by_Leyia.html\n",
      "Contents: Leyia\n",
      "Attrs: {'href': 'http://py4e-data.dr-chuck.net/known_by_Leyia.html'}\n",
      "TAG: <a href=\"http://py4e-data.dr-chuck.net/known_by_Kaitlan.html\">Kaitlan</a>\n",
      "URL: http://py4e-data.dr-chuck.net/known_by_Kaitlan.html\n",
      "Contents: Kaitlan\n",
      "Attrs: {'href': 'http://py4e-data.dr-chuck.net/known_by_Kaitlan.html'}\n",
      "TAG: <a href=\"http://py4e-data.dr-chuck.net/known_by_Baileigh.html\">Baileigh</a>\n",
      "URL: http://py4e-data.dr-chuck.net/known_by_Baileigh.html\n",
      "Contents: Baileigh\n",
      "Attrs: {'href': 'http://py4e-data.dr-chuck.net/known_by_Baileigh.html'}\n",
      "TAG: <a href=\"http://py4e-data.dr-chuck.net/known_by_Hema.html\">Hema</a>\n",
      "URL: http://py4e-data.dr-chuck.net/known_by_Hema.html\n",
      "Contents: Hema\n",
      "Attrs: {'href': 'http://py4e-data.dr-chuck.net/known_by_Hema.html'}\n",
      "TAG: <a href=\"http://py4e-data.dr-chuck.net/known_by_Tye.html\">Tye</a>\n",
      "URL: http://py4e-data.dr-chuck.net/known_by_Tye.html\n",
      "Contents: Tye\n",
      "Attrs: {'href': 'http://py4e-data.dr-chuck.net/known_by_Tye.html'}\n",
      "TAG: <a href=\"http://py4e-data.dr-chuck.net/known_by_Gio.html\">Gio</a>\n",
      "URL: http://py4e-data.dr-chuck.net/known_by_Gio.html\n",
      "Contents: Gio\n",
      "Attrs: {'href': 'http://py4e-data.dr-chuck.net/known_by_Gio.html'}\n",
      "TAG: <a href=\"http://py4e-data.dr-chuck.net/known_by_Rahel.html\">Rahel</a>\n",
      "URL: http://py4e-data.dr-chuck.net/known_by_Rahel.html\n",
      "Contents: Rahel\n",
      "Attrs: {'href': 'http://py4e-data.dr-chuck.net/known_by_Rahel.html'}\n",
      "TAG: <a href=\"http://py4e-data.dr-chuck.net/known_by_Corrie.html\">Corrie</a>\n",
      "URL: http://py4e-data.dr-chuck.net/known_by_Corrie.html\n",
      "Contents: Corrie\n",
      "Attrs: {'href': 'http://py4e-data.dr-chuck.net/known_by_Corrie.html'}\n",
      "TAG: <a href=\"http://py4e-data.dr-chuck.net/known_by_Faheem.html\">Faheem</a>\n",
      "URL: http://py4e-data.dr-chuck.net/known_by_Faheem.html\n",
      "Contents: Faheem\n",
      "Attrs: {'href': 'http://py4e-data.dr-chuck.net/known_by_Faheem.html'}\n",
      "TAG: <a href=\"http://py4e-data.dr-chuck.net/known_by_Aida.html\">Aida</a>\n",
      "URL: http://py4e-data.dr-chuck.net/known_by_Aida.html\n",
      "Contents: Aida\n",
      "Attrs: {'href': 'http://py4e-data.dr-chuck.net/known_by_Aida.html'}\n",
      "TAG: <a href=\"http://py4e-data.dr-chuck.net/known_by_Madisyn.html\">Madisyn</a>\n",
      "URL: http://py4e-data.dr-chuck.net/known_by_Madisyn.html\n",
      "Contents: Madisyn\n",
      "Attrs: {'href': 'http://py4e-data.dr-chuck.net/known_by_Madisyn.html'}\n",
      "TAG: <a href=\"http://py4e-data.dr-chuck.net/known_by_Macallum.html\">Macallum</a>\n",
      "URL: http://py4e-data.dr-chuck.net/known_by_Macallum.html\n",
      "Contents: Macallum\n",
      "Attrs: {'href': 'http://py4e-data.dr-chuck.net/known_by_Macallum.html'}\n",
      "TAG: <a href=\"http://py4e-data.dr-chuck.net/known_by_Parwana.html\">Parwana</a>\n",
      "URL: http://py4e-data.dr-chuck.net/known_by_Parwana.html\n",
      "Contents: Parwana\n",
      "Attrs: {'href': 'http://py4e-data.dr-chuck.net/known_by_Parwana.html'}\n",
      "TAG: <a href=\"http://py4e-data.dr-chuck.net/known_by_Wiktorja.html\">Wiktorja</a>\n",
      "URL: http://py4e-data.dr-chuck.net/known_by_Wiktorja.html\n",
      "Contents: Wiktorja\n",
      "Attrs: {'href': 'http://py4e-data.dr-chuck.net/known_by_Wiktorja.html'}\n",
      "TAG: <a href=\"http://py4e-data.dr-chuck.net/known_by_Kaid.html\">Kaid</a>\n",
      "URL: http://py4e-data.dr-chuck.net/known_by_Kaid.html\n",
      "Contents: Kaid\n",
      "Attrs: {'href': 'http://py4e-data.dr-chuck.net/known_by_Kaid.html'}\n",
      "TAG: <a href=\"http://py4e-data.dr-chuck.net/known_by_Romana.html\">Romana</a>\n",
      "URL: http://py4e-data.dr-chuck.net/known_by_Romana.html\n",
      "Contents: Romana\n",
      "Attrs: {'href': 'http://py4e-data.dr-chuck.net/known_by_Romana.html'}\n",
      "TAG: <a href=\"http://py4e-data.dr-chuck.net/known_by_Melodie.html\">Melodie</a>\n",
      "URL: http://py4e-data.dr-chuck.net/known_by_Melodie.html\n",
      "Contents: Melodie\n",
      "Attrs: {'href': 'http://py4e-data.dr-chuck.net/known_by_Melodie.html'}\n",
      "TAG: <a href=\"http://py4e-data.dr-chuck.net/known_by_Mohd.html\">Mohd</a>\n",
      "URL: http://py4e-data.dr-chuck.net/known_by_Mohd.html\n",
      "Contents: Mohd\n",
      "Attrs: {'href': 'http://py4e-data.dr-chuck.net/known_by_Mohd.html'}\n",
      "TAG: <a href=\"http://py4e-data.dr-chuck.net/known_by_Jessica.html\">Jessica</a>\n",
      "URL: http://py4e-data.dr-chuck.net/known_by_Jessica.html\n",
      "Contents: Jessica\n",
      "Attrs: {'href': 'http://py4e-data.dr-chuck.net/known_by_Jessica.html'}\n",
      "TAG: <a href=\"http://py4e-data.dr-chuck.net/known_by_Kian.html\">Kian</a>\n",
      "URL: http://py4e-data.dr-chuck.net/known_by_Kian.html\n",
      "Contents: Kian\n",
      "Attrs: {'href': 'http://py4e-data.dr-chuck.net/known_by_Kian.html'}\n",
      "TAG: <a href=\"http://py4e-data.dr-chuck.net/known_by_Phebe.html\">Phebe</a>\n",
      "URL: http://py4e-data.dr-chuck.net/known_by_Phebe.html\n",
      "Contents: Phebe\n",
      "Attrs: {'href': 'http://py4e-data.dr-chuck.net/known_by_Phebe.html'}\n",
      "TAG: <a href=\"http://py4e-data.dr-chuck.net/known_by_Ailiegh.html\">Ailiegh</a>\n",
      "URL: http://py4e-data.dr-chuck.net/known_by_Ailiegh.html\n",
      "Contents: Ailiegh\n",
      "Attrs: {'href': 'http://py4e-data.dr-chuck.net/known_by_Ailiegh.html'}\n",
      "TAG: <a href=\"http://py4e-data.dr-chuck.net/known_by_Adnan.html\">Adnan</a>\n",
      "URL: http://py4e-data.dr-chuck.net/known_by_Adnan.html\n",
      "Contents: Adnan\n",
      "Attrs: {'href': 'http://py4e-data.dr-chuck.net/known_by_Adnan.html'}\n",
      "TAG: <a href=\"http://py4e-data.dr-chuck.net/known_by_Torquil.html\">Torquil</a>\n",
      "URL: http://py4e-data.dr-chuck.net/known_by_Torquil.html\n",
      "Contents: Torquil\n",
      "Attrs: {'href': 'http://py4e-data.dr-chuck.net/known_by_Torquil.html'}\n",
      "TAG: <a href=\"http://py4e-data.dr-chuck.net/known_by_Leyla.html\">Leyla</a>\n",
      "URL: http://py4e-data.dr-chuck.net/known_by_Leyla.html\n",
      "Contents: Leyla\n",
      "Attrs: {'href': 'http://py4e-data.dr-chuck.net/known_by_Leyla.html'}\n",
      "TAG: <a href=\"http://py4e-data.dr-chuck.net/known_by_Edward.html\">Edward</a>\n",
      "URL: http://py4e-data.dr-chuck.net/known_by_Edward.html\n",
      "Contents: Edward\n",
      "Attrs: {'href': 'http://py4e-data.dr-chuck.net/known_by_Edward.html'}\n",
      "TAG: <a href=\"http://py4e-data.dr-chuck.net/known_by_Kahlen.html\">Kahlen</a>\n",
      "URL: http://py4e-data.dr-chuck.net/known_by_Kahlen.html\n",
      "Contents: Kahlen\n",
      "Attrs: {'href': 'http://py4e-data.dr-chuck.net/known_by_Kahlen.html'}\n",
      "TAG: <a href=\"http://py4e-data.dr-chuck.net/known_by_Miaah.html\">Miaah</a>\n",
      "URL: http://py4e-data.dr-chuck.net/known_by_Miaah.html\n",
      "Contents: Miaah\n",
      "Attrs: {'href': 'http://py4e-data.dr-chuck.net/known_by_Miaah.html'}\n",
      "TAG: <a href=\"http://py4e-data.dr-chuck.net/known_by_Deni.html\">Deni</a>\n",
      "URL: http://py4e-data.dr-chuck.net/known_by_Deni.html\n",
      "Contents: Deni\n",
      "Attrs: {'href': 'http://py4e-data.dr-chuck.net/known_by_Deni.html'}\n",
      "TAG: <a href=\"http://py4e-data.dr-chuck.net/known_by_Kirsteen.html\">Kirsteen</a>\n",
      "URL: http://py4e-data.dr-chuck.net/known_by_Kirsteen.html\n",
      "Contents: Kirsteen\n",
      "Attrs: {'href': 'http://py4e-data.dr-chuck.net/known_by_Kirsteen.html'}\n",
      "TAG: <a href=\"http://py4e-data.dr-chuck.net/known_by_Iestyn.html\">Iestyn</a>\n",
      "URL: http://py4e-data.dr-chuck.net/known_by_Iestyn.html\n",
      "Contents: Iestyn\n",
      "Attrs: {'href': 'http://py4e-data.dr-chuck.net/known_by_Iestyn.html'}\n",
      "TAG: <a href=\"http://py4e-data.dr-chuck.net/known_by_Skyla.html\">Skyla</a>\n",
      "URL: http://py4e-data.dr-chuck.net/known_by_Skyla.html\n",
      "Contents: Skyla\n",
      "Attrs: {'href': 'http://py4e-data.dr-chuck.net/known_by_Skyla.html'}\n",
      "TAG: <a href=\"http://py4e-data.dr-chuck.net/known_by_Cadyn.html\">Cadyn</a>\n",
      "URL: http://py4e-data.dr-chuck.net/known_by_Cadyn.html\n",
      "Contents: Cadyn\n",
      "Attrs: {'href': 'http://py4e-data.dr-chuck.net/known_by_Cadyn.html'}\n",
      "TAG: <a href=\"http://py4e-data.dr-chuck.net/known_by_Tanya.html\">Tanya</a>\n",
      "URL: http://py4e-data.dr-chuck.net/known_by_Tanya.html\n",
      "Contents: Tanya\n",
      "Attrs: {'href': 'http://py4e-data.dr-chuck.net/known_by_Tanya.html'}\n",
      "TAG: <a href=\"http://py4e-data.dr-chuck.net/known_by_Griffyn.html\">Griffyn</a>\n",
      "URL: http://py4e-data.dr-chuck.net/known_by_Griffyn.html\n",
      "Contents: Griffyn\n",
      "Attrs: {'href': 'http://py4e-data.dr-chuck.net/known_by_Griffyn.html'}\n",
      "TAG: <a href=\"http://py4e-data.dr-chuck.net/known_by_Danniel.html\">Danniel</a>\n",
      "URL: http://py4e-data.dr-chuck.net/known_by_Danniel.html\n",
      "Contents: Danniel\n",
      "Attrs: {'href': 'http://py4e-data.dr-chuck.net/known_by_Danniel.html'}\n",
      "TAG: <a href=\"http://py4e-data.dr-chuck.net/known_by_Keemaya.html\">Keemaya</a>\n",
      "URL: http://py4e-data.dr-chuck.net/known_by_Keemaya.html\n",
      "Contents: Keemaya\n",
      "Attrs: {'href': 'http://py4e-data.dr-chuck.net/known_by_Keemaya.html'}\n",
      "TAG: <a href=\"http://py4e-data.dr-chuck.net/known_by_Clarisse.html\">Clarisse</a>\n",
      "URL: http://py4e-data.dr-chuck.net/known_by_Clarisse.html\n",
      "Contents: Clarisse\n",
      "Attrs: {'href': 'http://py4e-data.dr-chuck.net/known_by_Clarisse.html'}\n",
      "TAG: <a href=\"http://py4e-data.dr-chuck.net/known_by_Vanni.html\">Vanni</a>\n",
      "URL: http://py4e-data.dr-chuck.net/known_by_Vanni.html\n",
      "Contents: Vanni\n",
      "Attrs: {'href': 'http://py4e-data.dr-chuck.net/known_by_Vanni.html'}\n",
      "TAG: <a href=\"http://py4e-data.dr-chuck.net/known_by_Lileidh.html\">Lileidh</a>\n",
      "URL: http://py4e-data.dr-chuck.net/known_by_Lileidh.html\n",
      "Contents: Lileidh\n",
      "Attrs: {'href': 'http://py4e-data.dr-chuck.net/known_by_Lileidh.html'}\n",
      "TAG: <a href=\"http://py4e-data.dr-chuck.net/known_by_Cirah.html\">Cirah</a>\n",
      "URL: http://py4e-data.dr-chuck.net/known_by_Cirah.html\n",
      "Contents: Cirah\n",
      "Attrs: {'href': 'http://py4e-data.dr-chuck.net/known_by_Cirah.html'}\n",
      "TAG: <a href=\"http://py4e-data.dr-chuck.net/known_by_Dacia.html\">Dacia</a>\n",
      "URL: http://py4e-data.dr-chuck.net/known_by_Dacia.html\n",
      "Contents: Dacia\n",
      "Attrs: {'href': 'http://py4e-data.dr-chuck.net/known_by_Dacia.html'}\n",
      "TAG: <a href=\"http://py4e-data.dr-chuck.net/known_by_Moore.html\">Moore</a>\n",
      "URL: http://py4e-data.dr-chuck.net/known_by_Moore.html\n",
      "Contents: Moore\n",
      "Attrs: {'href': 'http://py4e-data.dr-chuck.net/known_by_Moore.html'}\n",
      "TAG: <a href=\"http://py4e-data.dr-chuck.net/known_by_Coleen.html\">Coleen</a>\n",
      "URL: http://py4e-data.dr-chuck.net/known_by_Coleen.html\n",
      "Contents: Coleen\n",
      "Attrs: {'href': 'http://py4e-data.dr-chuck.net/known_by_Coleen.html'}\n",
      "TAG: <a href=\"http://py4e-data.dr-chuck.net/known_by_I.html\">I</a>\n",
      "URL: http://py4e-data.dr-chuck.net/known_by_I.html\n",
      "Contents: I\n",
      "Attrs: {'href': 'http://py4e-data.dr-chuck.net/known_by_I.html'}\n",
      "TAG: <a href=\"http://py4e-data.dr-chuck.net/known_by_Jenson.html\">Jenson</a>\n",
      "URL: http://py4e-data.dr-chuck.net/known_by_Jenson.html\n",
      "Contents: Jenson\n",
      "Attrs: {'href': 'http://py4e-data.dr-chuck.net/known_by_Jenson.html'}\n",
      "TAG: <a href=\"http://py4e-data.dr-chuck.net/known_by_MacCartney.html\">MacCartney</a>\n",
      "URL: http://py4e-data.dr-chuck.net/known_by_MacCartney.html\n",
      "Contents: MacCartney\n",
      "Attrs: {'href': 'http://py4e-data.dr-chuck.net/known_by_MacCartney.html'}\n",
      "TAG: <a href=\"http://py4e-data.dr-chuck.net/known_by_Avya.html\">Avya</a>\n",
      "URL: http://py4e-data.dr-chuck.net/known_by_Avya.html\n",
      "Contents: Avya\n",
      "Attrs: {'href': 'http://py4e-data.dr-chuck.net/known_by_Avya.html'}\n",
      "TAG: <a href=\"http://py4e-data.dr-chuck.net/known_by_Ranolph.html\">Ranolph</a>\n",
      "URL: http://py4e-data.dr-chuck.net/known_by_Ranolph.html\n",
      "Contents: Ranolph\n",
      "Attrs: {'href': 'http://py4e-data.dr-chuck.net/known_by_Ranolph.html'}\n",
      "TAG: <a href=\"http://py4e-data.dr-chuck.net/known_by_Kristen.html\">Kristen</a>\n",
      "URL: http://py4e-data.dr-chuck.net/known_by_Kristen.html\n",
      "Contents: Kristen\n",
      "Attrs: {'href': 'http://py4e-data.dr-chuck.net/known_by_Kristen.html'}\n",
      "TAG: <a href=\"http://py4e-data.dr-chuck.net/known_by_Ayaan.html\">Ayaan</a>\n",
      "URL: http://py4e-data.dr-chuck.net/known_by_Ayaan.html\n",
      "Contents: Ayaan\n",
      "Attrs: {'href': 'http://py4e-data.dr-chuck.net/known_by_Ayaan.html'}\n",
      "TAG: <a href=\"http://py4e-data.dr-chuck.net/known_by_Umaya.html\">Umaya</a>\n",
      "URL: http://py4e-data.dr-chuck.net/known_by_Umaya.html\n",
      "Contents: Umaya\n",
      "Attrs: {'href': 'http://py4e-data.dr-chuck.net/known_by_Umaya.html'}\n",
      "TAG: <a href=\"http://py4e-data.dr-chuck.net/known_by_Morgen.html\">Morgen</a>\n",
      "URL: http://py4e-data.dr-chuck.net/known_by_Morgen.html\n",
      "Contents: Morgen\n",
      "Attrs: {'href': 'http://py4e-data.dr-chuck.net/known_by_Morgen.html'}\n",
      "TAG: <a href=\"http://py4e-data.dr-chuck.net/known_by_Jabin.html\">Jabin</a>\n",
      "URL: http://py4e-data.dr-chuck.net/known_by_Jabin.html\n",
      "Contents: Jabin\n",
      "Attrs: {'href': 'http://py4e-data.dr-chuck.net/known_by_Jabin.html'}\n",
      "TAG: <a href=\"http://py4e-data.dr-chuck.net/known_by_Kaydee.html\">Kaydee</a>\n",
      "URL: http://py4e-data.dr-chuck.net/known_by_Kaydee.html\n",
      "Contents: Kaydee\n",
      "Attrs: {'href': 'http://py4e-data.dr-chuck.net/known_by_Kaydee.html'}\n",
      "TAG: <a href=\"http://py4e-data.dr-chuck.net/known_by_Kenneth.html\">Kenneth</a>\n",
      "URL: http://py4e-data.dr-chuck.net/known_by_Kenneth.html\n",
      "Contents: Kenneth\n",
      "Attrs: {'href': 'http://py4e-data.dr-chuck.net/known_by_Kenneth.html'}\n",
      "TAG: <a href=\"http://py4e-data.dr-chuck.net/known_by_Amani.html\">Amani</a>\n",
      "URL: http://py4e-data.dr-chuck.net/known_by_Amani.html\n",
      "Contents: Amani\n",
      "Attrs: {'href': 'http://py4e-data.dr-chuck.net/known_by_Amani.html'}\n",
      "TAG: <a href=\"http://py4e-data.dr-chuck.net/known_by_Jayhan.html\">Jayhan</a>\n",
      "URL: http://py4e-data.dr-chuck.net/known_by_Jayhan.html\n",
      "Contents: Jayhan\n",
      "Attrs: {'href': 'http://py4e-data.dr-chuck.net/known_by_Jayhan.html'}\n",
      "TAG: <a href=\"http://py4e-data.dr-chuck.net/known_by_Kuzivakwashe.html\">Kuzivakwashe</a>\n",
      "URL: http://py4e-data.dr-chuck.net/known_by_Kuzivakwashe.html\n",
      "Contents: Kuzivakwashe\n",
      "Attrs: {'href': 'http://py4e-data.dr-chuck.net/known_by_Kuzivakwashe.html'}\n",
      "TAG: <a href=\"http://py4e-data.dr-chuck.net/known_by_Rukhsana.html\">Rukhsana</a>\n",
      "URL: http://py4e-data.dr-chuck.net/known_by_Rukhsana.html\n",
      "Contents: Rukhsana\n",
      "Attrs: {'href': 'http://py4e-data.dr-chuck.net/known_by_Rukhsana.html'}\n",
      "TAG: <a href=\"http://py4e-data.dr-chuck.net/known_by_Camryn.html\">Camryn</a>\n",
      "URL: http://py4e-data.dr-chuck.net/known_by_Camryn.html\n",
      "Contents: Camryn\n",
      "Attrs: {'href': 'http://py4e-data.dr-chuck.net/known_by_Camryn.html'}\n",
      "TAG: <a href=\"http://py4e-data.dr-chuck.net/known_by_Cahl.html\">Cahl</a>\n",
      "URL: http://py4e-data.dr-chuck.net/known_by_Cahl.html\n",
      "Contents: Cahl\n",
      "Attrs: {'href': 'http://py4e-data.dr-chuck.net/known_by_Cahl.html'}\n",
      "TAG: <a href=\"http://py4e-data.dr-chuck.net/known_by_Jillian.html\">Jillian</a>\n",
      "URL: http://py4e-data.dr-chuck.net/known_by_Jillian.html\n",
      "Contents: Jillian\n",
      "Attrs: {'href': 'http://py4e-data.dr-chuck.net/known_by_Jillian.html'}\n",
      "TAG: <a href=\"http://py4e-data.dr-chuck.net/known_by_Tammie.html\">Tammie</a>\n",
      "URL: http://py4e-data.dr-chuck.net/known_by_Tammie.html\n",
      "Contents: Tammie\n",
      "Attrs: {'href': 'http://py4e-data.dr-chuck.net/known_by_Tammie.html'}\n",
      "TAG: <a href=\"http://py4e-data.dr-chuck.net/known_by_Kaylynn.html\">Kaylynn</a>\n",
      "URL: http://py4e-data.dr-chuck.net/known_by_Kaylynn.html\n",
      "Contents: Kaylynn\n",
      "Attrs: {'href': 'http://py4e-data.dr-chuck.net/known_by_Kaylynn.html'}\n",
      "TAG: <a href=\"http://py4e-data.dr-chuck.net/known_by_Efanam.html\">Efanam</a>\n",
      "URL: http://py4e-data.dr-chuck.net/known_by_Efanam.html\n",
      "Contents: Efanam\n",
      "Attrs: {'href': 'http://py4e-data.dr-chuck.net/known_by_Efanam.html'}\n",
      "TAG: <a href=\"http://py4e-data.dr-chuck.net/known_by_Jakey.html\">Jakey</a>\n",
      "URL: http://py4e-data.dr-chuck.net/known_by_Jakey.html\n",
      "Contents: Jakey\n",
      "Attrs: {'href': 'http://py4e-data.dr-chuck.net/known_by_Jakey.html'}\n"
     ]
    }
   ],
   "source": [
    "import urllib.request, urllib.parse, urllib.error\n",
    "from bs4 import BeautifulSoup\n",
    "import ssl\n",
    "\n",
    "# Ignore SSL certificate errors\n",
    "ctx = ssl.create_default_context()\n",
    "ctx.check_hostname = False\n",
    "ctx.verify_mode = ssl.CERT_NONE\n",
    "\n",
    "\n",
    "link_2= 'http://py4e-data.dr-chuck.net/known_by_Rahman.html'\n",
    "\n",
    "# url = input('Enter - ')\n",
    "html = urlopen(link_2, context=ctx).read()\n",
    "soup = BeautifulSoup(html, \"html.parser\")\n",
    "count = input('count?')\n",
    "pos = input('position?')\n",
    "\n",
    "# Retrieve all of the anchor tags\n",
    "tags = soup('a')\n",
    "for tag in tags:\n",
    "    # Look at the parts of a tag\n",
    "    print('Retrieving:' , tag.contents[0])\n",
    "    print('Contents:', tag.contents[0])\n",
    "    "
   ]
  },
  {
   "cell_type": "code",
   "execution_count": 30,
   "metadata": {},
   "outputs": [
    {
     "name": "stdout",
     "output_type": "stream",
     "text": [
      "Contents: Jakey\n",
      "Contents: Jakey\n",
      "Contents: Jakey\n",
      "Contents: Jakey\n",
      "Contents: Jakey\n",
      "Contents: Jakey\n"
     ]
    }
   ],
   "source": [
    "import urllib\n",
    "from bs4 import BeautifulSoup\n",
    "\n",
    "link_2= 'http://py4e-data.dr-chuck.net/known_by_Rahman.html'\n",
    "html = urlopen(link_2).read()\n",
    "soup = BeautifulSoup(html, 'html.parser')\n",
    "count = 6\n",
    "position = 17\n",
    "tags_lst = []\n",
    "\n",
    "for x in range(count):\n",
    "    tags = soup('a')\n",
    "    my_tags = tags[position]\n",
    "    needed_tag = my_tags.get('href', None)\n",
    "    tags_lst.append(needed_tag)\n",
    "    url = str(needed_tag)\n",
    "    html = urlopen(url).read()\n",
    "    soup = BeautifulSoup(html, 'html.parser')\n",
    "    print('Contents:', tag.contents[0])"
   ]
  },
  {
   "cell_type": "code",
   "execution_count": 106,
   "metadata": {},
   "outputs": [
    {
     "name": "stdout",
     "output_type": "stream",
     "text": [
      "Enter count:7\n",
      "Enter position:18\n",
      "Retrieving:  http://py4e-data.dr-chuck.net/known_by_Rahman.html\n",
      "Retrieving:  http://py4e-data.dr-chuck.net/known_by_Marley.html\n",
      "Retrieving:  http://py4e-data.dr-chuck.net/known_by_Campbel.html\n",
      "Retrieving:  http://py4e-data.dr-chuck.net/known_by_Eiko.html\n",
      "Retrieving:  http://py4e-data.dr-chuck.net/known_by_Naomi.html\n",
      "Retrieving:  http://py4e-data.dr-chuck.net/known_by_Cherelle.html\n",
      "Retrieving:  http://py4e-data.dr-chuck.net/known_by_Aarman.html\n",
      "Retrieving:  http://py4e-data.dr-chuck.net/known_by_Zaki.html\n"
     ]
    }
   ],
   "source": [
    "import urllib.request, urllib.parse, urllib.error\n",
    "from bs4 import BeautifulSoup\n",
    "import ssl\n",
    "\n",
    "# Ignore SSL certificate errors\n",
    "ctx = ssl.create_default_context()\n",
    "ctx.check_hostname = False\n",
    "ctx.verify_mode = ssl.CERT_NONE\n",
    "\n",
    "\n",
    "# the url start\n",
    "url = 'http://py4e-data.dr-chuck.net/known_by_Rahman.html'\n",
    "html = urllib.request.urlopen(url, context=ctx).read()\n",
    "soup = BeautifulSoup(html, 'html.parser')\n",
    "\n",
    "# get user input for how many times to search\n",
    "count = int(input('Enter count:'))\n",
    "\n",
    "# get user input for which url to click on\n",
    "position = int(input('Enter position:'))-1\n",
    "\n",
    "while count >= 0:\n",
    "    # re-reads the current url\n",
    "    html = urllib.request.urlopen(url, context=ctx).read()\n",
    "    # creates a new soup object\n",
    "    soup = BeautifulSoup(html, 'html.parser')\n",
    "    # searches the page for all <a> tags\n",
    "    tags = soup('a')\n",
    "    print(\"Retrieving: \", url)\n",
    "    # upates the current url\n",
    "    url = tags[position].get(\"href\", None)\n",
    "    count = count - 1\n",
    "\n"
   ]
  },
  {
   "cell_type": "code",
   "execution_count": 107,
   "metadata": {},
   "outputs": [
    {
     "name": "stdout",
     "output_type": "stream",
     "text": [
      "Enter count:7\n",
      "Enter position:18\n",
      "Retrieving:  http://py4e-data.dr-chuck.net/known_by_Zaki.html\n"
     ]
    }
   ],
   "source": [
    "import urllib.request, urllib.parse, urllib.error\n",
    "from bs4 import BeautifulSoup\n",
    "import ssl\n",
    "\n",
    "# Ignore SSL certificate errors\n",
    "ctx = ssl.create_default_context()\n",
    "ctx.check_hostname = False\n",
    "ctx.verify_mode = ssl.CERT_NONE\n",
    "\n",
    "\n",
    "# the url start\n",
    "url = 'http://py4e-data.dr-chuck.net/known_by_Rahman.html'\n",
    "html = urllib.request.urlopen(url, context=ctx).read()\n",
    "soup = BeautifulSoup(html, 'html.parser')\n",
    "\n",
    "# get user input for how many times to search\n",
    "count = int(input('Enter count:'))\n",
    "\n",
    "# get user input for which url to click on\n",
    "position = int(input('Enter position:'))-1\n",
    "\n",
    "while count >= :\n",
    "    # re-reads the current url\n",
    "    html = urllib.request.urlopen(url, context=ctx).read()\n",
    "    # creates a new soup object\n",
    "    soup = BeautifulSoup(html, 'html.parser')\n",
    "    # searches the page for all <a> tags\n",
    "    tags = soup('a')\n",
    "    # upates the current url\n",
    "    url = tags[position].get(\"href\", None)\n",
    "    count = count - 1\n",
    "\n",
    "print(\"Retrieving: \", url)"
   ]
  },
  {
   "cell_type": "markdown",
   "metadata": {},
   "source": [
    "# chapter 13 data on the web "
   ]
  },
  {
   "cell_type": "code",
   "execution_count": 109,
   "metadata": {},
   "outputs": [],
   "source": [
    "import xml.etree.ElementTree as et"
   ]
  },
  {
   "attachments": {
    "image.png": {
     "image/png": "[encoded data removed]"
    }
   },
   "cell_type": "markdown",
   "metadata": {},
   "source": [
    "![image.png](attachment:image.png)"
   ]
  },
  {
   "cell_type": "code",
   "execution_count": 113,
   "metadata": {},
   "outputs": [
    {
     "name": "stdout",
     "output_type": "stream",
     "text": [
      "Name: Chuck\n",
      "Attr: yes\n",
      "Attr: None\n"
     ]
    }
   ],
   "source": [
    "import xml.etree.ElementTree as ET\n",
    "\n",
    "data = '''\n",
    "<person>\n",
    "  <name>Chuck</name>\n",
    "  <phone type=\"intl\">\n",
    "    +1 734 303 4456\n",
    "  </phone>\n",
    "  <email hide=\"yes\" />\n",
    "</person>'''\n",
    "\n",
    "tree = ET.fromstring(data) \n",
    "print('Name:', tree.find('name').text)    #find the tag name then grap that ext inside \n",
    "print('Attr:', tree.find('email').get('hide'))  #find the tag then find the content of the attr\n",
    "print('Attr:', tree.find('email').text)"
   ]
  },
  {
   "cell_type": "code",
   "execution_count": 111,
   "metadata": {},
   "outputs": [
    {
     "name": "stdout",
     "output_type": "stream",
     "text": [
      "User count: 2\n",
      "Name Chuck\n",
      "Id 001\n",
      "Attribute 2\n",
      "Name Brent\n",
      "Id 009\n",
      "Attribute 7\n"
     ]
    }
   ],
   "source": [
    "import xml.etree.ElementTree as ET\n",
    "\n",
    "input = '''\n",
    "<stuff>\n",
    "\n",
    "  <users>\n",
    "  \n",
    "    <user x=\"2\">\n",
    "      <id>001</id>\n",
    "      <name>Chuck</name>\n",
    "    </user>\n",
    "    \n",
    "    <user x=\"7\">\n",
    "      <id>009</id>\n",
    "      <name>Brent</name>\n",
    "    </user>\n",
    "    \n",
    "  </users>\n",
    "</stuff>'''\n",
    "\n",
    "stuff = ET.fromstring(input)\n",
    "lst = stuff.findall('users/user')\n",
    "print('User count:', len(lst))\n",
    "\n",
    "for item in lst:\n",
    "    print('Name', item.find('name').text)\n",
    "    print('Id', item.find('id').text)\n",
    "    print('Attribute', item.get('x'))"
   ]
  },
  {
   "cell_type": "markdown",
   "metadata": {},
   "source": [
    "### quiz \n",
    "[link](https://www.py4e.com/tools/python-data/?PHPSESSID=50454b6733db87172d8d3bda68d12db7https://www.py4e.com/tools/python-data/?PHPSESSID=50454b6733db87172d8d3bda68d12db7)\n"
   ]
  },
  {
   "cell_type": "code",
   "execution_count": 132,
   "metadata": {},
   "outputs": [
    {
     "name": "stdout",
     "output_type": "stream",
     "text": [
      "Retrieving http://py4e-data.dr-chuck.net/comments_721161.xml\n",
      "Retrieved 4231 characters\n",
      "Count: 50\n",
      "sum 2408\n"
     ]
    }
   ],
   "source": [
    "import urllib\n",
    "import xml.etree.ElementTree as ET\n",
    "\n",
    "# extract all the comment/count values from the url and get the sum of all of them\n",
    "url = 'http://py4e-data.dr-chuck.net/comments_721161.xml'\n",
    "print('Retrieving', url)\n",
    "\n",
    "# get the content of the url as a string\n",
    "data = urllib.request.urlopen(url).read()\n",
    "\n",
    "# # transform the string content into a xml tree\n",
    "tree = ET.fromstring(data)\n",
    "\n",
    "# # find all count elements\n",
    "counts = tree.findall('.//count')\n",
    "\n",
    "# # extract the value of each count element and add it to the total\n",
    "total = 0\n",
    "for count in counts:\n",
    "    total += int(count.text)\n",
    "\n",
    "print('Retrieved' ,len(data), 'characters')\n",
    "print(\"Count:\", len(counts))\n",
    "print('sum', total)"
   ]
  },
  {
   "cell_type": "markdown",
   "metadata": {},
   "source": [
    "# json\n",
    "it's key value bair \n",
    "\n",
    "the value it self can contain another dictionary "
   ]
  },
  {
   "cell_type": "code",
   "execution_count": 2,
   "metadata": {},
   "outputs": [],
   "source": [
    "import json"
   ]
  },
  {
   "cell_type": "code",
   "execution_count": 3,
   "metadata": {},
   "outputs": [
    {
     "name": "stdout",
     "output_type": "stream",
     "text": [
      "Name: Chuck\n",
      "Hide: yes\n"
     ]
    }
   ],
   "source": [
    "import json\n",
    "\n",
    "data = '''\n",
    "{\n",
    "  \"name\" : \"Chuck\",\n",
    "  \"phone\" : {\n",
    "    \"type\" : \"intl\",\n",
    "    \"number\" : \"+1 734 303 4456\"\n",
    "   },\n",
    "   \"email\" : {\n",
    "     \"hide\" : \"yes\"\n",
    "   }\n",
    "}'''\n",
    "\n",
    "info = json.loads(data)\n",
    "print('Name:', info[\"name\"])\n",
    "print('Hide:', info[\"email\"][\"hide\"])\n"
   ]
  },
  {
   "cell_type": "code",
   "execution_count": 34,
   "metadata": {},
   "outputs": [
    {
     "data": {
      "text/plain": [
       "[{'id': '001', 'x': '2', 'name': 'Chuck'},\n",
       " {'id': '009', 'x': '7', 'name': 'Brent'}]"
      ]
     },
     "execution_count": 34,
     "metadata": {},
     "output_type": "execute_result"
    }
   ],
   "source": [
    "info"
   ]
  },
  {
   "cell_type": "code",
   "execution_count": 4,
   "metadata": {},
   "outputs": [
    {
     "name": "stdout",
     "output_type": "stream",
     "text": [
      "User count: 2\n",
      "Name Chuck\n",
      "Id 001\n",
      "Attribute 2\n",
      "Name Brent\n",
      "Id 009\n",
      "Attribute 7\n"
     ]
    }
   ],
   "source": [
    "import json\n",
    "\n",
    "data = '''\n",
    "[\n",
    "  { \"id\" : \"001\",\n",
    "    \"x\" : \"2\",\n",
    "    \"name\" : \"Chuck\"\n",
    "  } ,\n",
    "  { \"id\" : \"009\",\n",
    "    \"x\" : \"7\",\n",
    "    \"name\" : \"Brent\"\n",
    "  }\n",
    "]'''\n",
    "\n",
    "info = json.loads(data)\n",
    "print('User count:', len(info))\n",
    "\n",
    "for item in info:\n",
    "    print('Name', item['name'])\n",
    "    print('Id', item['id'])\n",
    "    print('Attribute', item['x'])\n"
   ]
  },
  {
   "cell_type": "code",
   "execution_count": 60,
   "metadata": {},
   "outputs": [
    {
     "name": "stdout",
     "output_type": "stream",
     "text": [
      "Enter location: USC\n",
      "Retrieving http://py4e-data.dr-chuck.net/json?address=USC&key=42\n",
      "Retrieved 2330 characters\n",
      "lat 34.0205777 lng -118.2893301\n",
      "3650 McClintock Ave, Los Angeles, CA 90089, USA\n",
      "PLACE ID:  ChIJGwDKfU6phUcRqw3ZTD6pPnI\n",
      "Enter location: \n"
     ]
    }
   ],
   "source": [
    "import urllib.request, urllib.parse, urllib.error\n",
    "import json\n",
    "import ssl\n",
    "\n",
    "api_key = False\n",
    "# If you have a Google Places API key, enter it here\n",
    "# api_key = 'AIzaSy___IDByT70'\n",
    "# https://developers.google.com/maps/documentation/geocoding/intro\n",
    "\n",
    "if api_key is False:\n",
    "    api_key = 42\n",
    "    serviceurl = 'http://py4e-data.dr-chuck.net/json?'\n",
    "else :\n",
    "    serviceurl = 'https://maps.googleapis.com/maps/api/geocode/json?'\n",
    "\n",
    "# Ignore SSL certificate errors\n",
    "ctx = ssl.create_default_context()\n",
    "ctx.check_hostname = False\n",
    "ctx.verify_mode = ssl.CERT_NONE\n",
    "\n",
    "while True:\n",
    "    address = input('Enter location: ')\n",
    "    if len(address) < 1: break\n",
    "\n",
    "    parms = dict()\n",
    "    parms['address'] = address\n",
    "    if api_key is not False: parms['key'] = api_key\n",
    "    url = serviceurl + urllib.parse.urlencode(parms)\n",
    "\n",
    "    print('Retrieving', url)\n",
    "    uh = urllib.request.urlopen(url, context=ctx)\n",
    "    data = uh.read().decode()\n",
    "    print('Retrieved', len(data), 'characters')\n",
    "\n",
    "    try:\n",
    "        js = json.loads(data)\n",
    "    except:\n",
    "        js = None\n",
    "\n",
    "    if not js or 'status' not in js or js['status'] != 'OK':\n",
    "        print('==== Failure To Retrieve ====')\n",
    "        print(data)\n",
    "        continue\n",
    "\n",
    "    #print(json.dumps(js, indent=4))\n",
    "\n",
    "    lat = js['results'][0]['geometry']['location']['lat']\n",
    "    lng = js['results'][0]['geometry']['location']['lng']\n",
    "    print('lat', lat, 'lng', lng)\n",
    "    location = js['results'][0]['formatted_address']\n",
    "    print(location)\n",
    "    place_id = jsondata[\"results\"][0][\"place_id\"]\n",
    "    print(\"PLACE ID: \", place_id)\n"
   ]
  },
  {
   "cell_type": "code",
   "execution_count": 61,
   "metadata": {},
   "outputs": [
    {
     "name": "stdout",
     "output_type": "stream",
     "text": [
      "Enter location: USC\n",
      "Retrieving http://py4e-data.dr-chuck.net/json?address=USC&key=42\n",
      "Retrieved 2330 characters\n",
      "lat 34.0205777 lng -118.2893301\n",
      "3650 McClintock Ave, Los Angeles, CA 90089, USA\n",
      "PLACE ID:  ChIJGwDKfU6phUcRqw3ZTD6pPnI\n"
     ]
    },
    {
     "ename": "KeyboardInterrupt",
     "evalue": "Interrupted by user",
     "output_type": "error",
     "traceback": [
      "\u001b[1;31m---------------------------------------------------------------------------\u001b[0m",
      "\u001b[1;31mKeyboardInterrupt\u001b[0m                         Traceback (most recent call last)",
      "\u001b[1;32m<ipython-input-61-27eec48cec5f>\u001b[0m in \u001b[0;36m<module>\u001b[1;34m\u001b[0m\n\u001b[0;32m     20\u001b[0m \u001b[1;33m\u001b[0m\u001b[0m\n\u001b[0;32m     21\u001b[0m \u001b[1;32mwhile\u001b[0m \u001b[1;32mTrue\u001b[0m\u001b[1;33m:\u001b[0m\u001b[1;33m\u001b[0m\u001b[1;33m\u001b[0m\u001b[0m\n\u001b[1;32m---> 22\u001b[1;33m     \u001b[0maddress\u001b[0m \u001b[1;33m=\u001b[0m \u001b[0minput\u001b[0m\u001b[1;33m(\u001b[0m\u001b[1;34m'Enter location: '\u001b[0m\u001b[1;33m)\u001b[0m\u001b[1;33m\u001b[0m\u001b[1;33m\u001b[0m\u001b[0m\n\u001b[0m\u001b[0;32m     23\u001b[0m     \u001b[1;32mif\u001b[0m \u001b[0mlen\u001b[0m\u001b[1;33m(\u001b[0m\u001b[0maddress\u001b[0m\u001b[1;33m)\u001b[0m \u001b[1;33m<\u001b[0m \u001b[1;36m1\u001b[0m\u001b[1;33m:\u001b[0m \u001b[1;32mbreak\u001b[0m\u001b[1;33m\u001b[0m\u001b[1;33m\u001b[0m\u001b[0m\n\u001b[0;32m     24\u001b[0m \u001b[1;33m\u001b[0m\u001b[0m\n",
      "\u001b[1;32m~\\AppData\\Roaming\\Python\\Python38\\site-packages\\ipykernel\\kernelbase.py\u001b[0m in \u001b[0;36mraw_input\u001b[1;34m(self, prompt)\u001b[0m\n\u001b[0;32m    858\u001b[0m                 \u001b[1;34m\"raw_input was called, but this frontend does not support input requests.\"\u001b[0m\u001b[1;33m\u001b[0m\u001b[1;33m\u001b[0m\u001b[0m\n\u001b[0;32m    859\u001b[0m             )\n\u001b[1;32m--> 860\u001b[1;33m         return self._input_request(str(prompt),\n\u001b[0m\u001b[0;32m    861\u001b[0m             \u001b[0mself\u001b[0m\u001b[1;33m.\u001b[0m\u001b[0m_parent_ident\u001b[0m\u001b[1;33m,\u001b[0m\u001b[1;33m\u001b[0m\u001b[1;33m\u001b[0m\u001b[0m\n\u001b[0;32m    862\u001b[0m             \u001b[0mself\u001b[0m\u001b[1;33m.\u001b[0m\u001b[0m_parent_header\u001b[0m\u001b[1;33m,\u001b[0m\u001b[1;33m\u001b[0m\u001b[1;33m\u001b[0m\u001b[0m\n",
      "\u001b[1;32m~\\AppData\\Roaming\\Python\\Python38\\site-packages\\ipykernel\\kernelbase.py\u001b[0m in \u001b[0;36m_input_request\u001b[1;34m(self, prompt, ident, parent, password)\u001b[0m\n\u001b[0;32m    902\u001b[0m             \u001b[1;32mexcept\u001b[0m \u001b[0mKeyboardInterrupt\u001b[0m\u001b[1;33m:\u001b[0m\u001b[1;33m\u001b[0m\u001b[1;33m\u001b[0m\u001b[0m\n\u001b[0;32m    903\u001b[0m                 \u001b[1;31m# re-raise KeyboardInterrupt, to truncate traceback\u001b[0m\u001b[1;33m\u001b[0m\u001b[1;33m\u001b[0m\u001b[1;33m\u001b[0m\u001b[0m\n\u001b[1;32m--> 904\u001b[1;33m                 \u001b[1;32mraise\u001b[0m \u001b[0mKeyboardInterrupt\u001b[0m\u001b[1;33m(\u001b[0m\u001b[1;34m\"Interrupted by user\"\u001b[0m\u001b[1;33m)\u001b[0m \u001b[1;32mfrom\u001b[0m \u001b[1;32mNone\u001b[0m\u001b[1;33m\u001b[0m\u001b[1;33m\u001b[0m\u001b[0m\n\u001b[0m\u001b[0;32m    905\u001b[0m             \u001b[1;32mexcept\u001b[0m \u001b[0mException\u001b[0m \u001b[1;32mas\u001b[0m \u001b[0me\u001b[0m\u001b[1;33m:\u001b[0m\u001b[1;33m\u001b[0m\u001b[1;33m\u001b[0m\u001b[0m\n\u001b[0;32m    906\u001b[0m                 \u001b[0mself\u001b[0m\u001b[1;33m.\u001b[0m\u001b[0mlog\u001b[0m\u001b[1;33m.\u001b[0m\u001b[0mwarning\u001b[0m\u001b[1;33m(\u001b[0m\u001b[1;34m\"Invalid Message:\"\u001b[0m\u001b[1;33m,\u001b[0m \u001b[0mexc_info\u001b[0m\u001b[1;33m=\u001b[0m\u001b[1;32mTrue\u001b[0m\u001b[1;33m)\u001b[0m\u001b[1;33m\u001b[0m\u001b[1;33m\u001b[0m\u001b[0m\n",
      "\u001b[1;31mKeyboardInterrupt\u001b[0m: Interrupted by user"
     ]
    }
   ],
   "source": [
    "import urllib.request, urllib.parse, urllib.error\n",
    "import json\n",
    "import ssl\n",
    "\n",
    "api_key = False\n",
    "# If you have a Google Places API key, enter it here\n",
    "# api_key = 'AIzaSy___IDByT70'\n",
    "# https://developers.google.com/maps/documentation/geocoding/intro\n",
    "\n",
    "if api_key is False:\n",
    "    api_key = 42\n",
    "    serviceurl = 'http://py4e-data.dr-chuck.net/json?'\n",
    "else :\n",
    "    serviceurl = 'http://py4e-data.dr-chuck.net/json?'\n",
    "\n",
    "# Ignore SSL certificate errors\n",
    "ctx = ssl.create_default_context()\n",
    "ctx.check_hostname = False\n",
    "ctx.verify_mode = ssl.CERT_NONE\n",
    "\n",
    "while True:\n",
    "    address = input('Enter location: ')\n",
    "    if len(address) < 1: break\n",
    "\n",
    "    parms = dict()\n",
    "    parms['address'] = address\n",
    "    if api_key is not False: parms['key'] = api_key\n",
    "    url = serviceurl + urllib.parse.urlencode(parms)\n",
    "\n",
    "    print('Retrieving', url)\n",
    "    uh = urllib.request.urlopen(url, context=ctx)\n",
    "    data = uh.read().decode()\n",
    "    print('Retrieved', len(data), 'characters')\n",
    "\n",
    "    try:\n",
    "        js = json.loads(data)\n",
    "    except:\n",
    "        js = None\n",
    "\n",
    "    if not js or 'status' not in js or js['status'] != 'OK':\n",
    "        print('==== Failure To Retrieve ====')\n",
    "        print(data)\n",
    "        continue\n",
    "\n",
    "    #print(json.dumps(js, indent=4))\n",
    "\n",
    "    lat = js['results'][0]['geometry']['location']['lat']\n",
    "    lng = js['results'][0]['geometry']['location']['lng']\n",
    "    print('lat', lat, 'lng', lng)\n",
    "    location = js['results'][0]['formatted_address']\n",
    "    print(location)\n",
    "    place_id = jsondata[\"results\"][0][\"place_id\"]\n",
    "    print(\"PLACE ID: \", place_id)\n"
   ]
  },
  {
   "cell_type": "code",
   "execution_count": 16,
   "metadata": {},
   "outputs": [],
   "source": [
    "d = {\n",
    "    \"users\": [\n",
    "        {\n",
    "            \"status\": {\n",
    "                \"text\": \"@jazzychad I just bought one .__.\",\n",
    "             },\n",
    "             \"location\": \"San Francisco, California\",\n",
    "             \"screen_name\": \"leahculver\",\n",
    "             \"name\": \"Leah Culver\",\n",
    "         }]}"
   ]
  },
  {
   "cell_type": "code",
   "execution_count": 18,
   "metadata": {},
   "outputs": [
    {
     "data": {
      "text/plain": [
       "'Leah Culver'"
      ]
     },
     "execution_count": 18,
     "metadata": {},
     "output_type": "execute_result"
    }
   ],
   "source": [
    "d[\"users\"][0][\"name\"]"
   ]
  },
  {
   "cell_type": "markdown",
   "metadata": {},
   "source": [
    "Quizz\n"
   ]
  },
  {
   "cell_type": "code",
   "execution_count": 53,
   "metadata": {},
   "outputs": [
    {
     "name": "stdout",
     "output_type": "stream",
     "text": [
      "Retrieved 2718 characters\n",
      "Retrieved 2718 characters\n",
      "Count: 50\n",
      "sum 2623\n"
     ]
    }
   ],
   "source": [
    "#url = input('Enter location: ')\n",
    "\n",
    "url = 'http://py4e-data.dr-chuck.net/comments_721162.json'\n",
    "uh = urllib.request.urlopen(url, context=ctx)\n",
    "data = uh.read().decode()\n",
    "print('Retrieved', len(data), 'characters')\n",
    "\n",
    "js = json.loads(data)\n",
    "see = json.dumps(js, indent=4)\n",
    "total = 0\n",
    "for n in range(len(js['comments'])):\n",
    "    total += js['comments'][n]['count']\n",
    "\n",
    "print('Retrieved' ,len(data), 'characters')\n",
    "print(\"Count:\", len(js['comments']))\n",
    "print('sum', total)\n"
   ]
  },
  {
   "cell_type": "code",
   "execution_count": 48,
   "metadata": {},
   "outputs": [
    {
     "data": {
      "text/plain": [
       "[{'name': 'Parker', 'count': 98},\n",
       " {'name': 'Brendon', 'count': 98},\n",
       " {'name': 'Declyan', 'count': 97},\n",
       " {'name': 'Jana', 'count': 95},\n",
       " {'name': 'Rikki', 'count': 95},\n",
       " {'name': 'Ash', 'count': 94},\n",
       " {'name': 'Riach', 'count': 90},\n",
       " {'name': 'Tay', 'count': 89},\n",
       " {'name': 'Enzo', 'count': 85},\n",
       " {'name': 'Aoibha', 'count': 81},\n",
       " {'name': 'Shanna', 'count': 80},\n",
       " {'name': 'Denny', 'count': 78},\n",
       " {'name': 'Harley', 'count': 78},\n",
       " {'name': 'Lucus', 'count': 76},\n",
       " {'name': 'Nuriyah', 'count': 76},\n",
       " {'name': 'Joe', 'count': 72},\n",
       " {'name': 'Connan', 'count': 70},\n",
       " {'name': 'Breeanna', 'count': 68},\n",
       " {'name': 'Zunairah', 'count': 65},\n",
       " {'name': 'Millicent', 'count': 63},\n",
       " {'name': 'Darryn', 'count': 61},\n",
       " {'name': 'Taysia', 'count': 60},\n",
       " {'name': 'Sascha', 'count': 60},\n",
       " {'name': 'Tiona', 'count': 59},\n",
       " {'name': 'Imama', 'count': 55},\n",
       " {'name': 'Korbyn', 'count': 54},\n",
       " {'name': 'Malachai', 'count': 46},\n",
       " {'name': 'Andy', 'count': 45},\n",
       " {'name': 'Luic', 'count': 40},\n",
       " {'name': 'Liall', 'count': 39},\n",
       " {'name': 'Taegen', 'count': 38},\n",
       " {'name': 'Artur', 'count': 38},\n",
       " {'name': 'Ammaar', 'count': 37},\n",
       " {'name': 'Shafira', 'count': 34},\n",
       " {'name': 'Eireyn', 'count': 33},\n",
       " {'name': 'Naif', 'count': 33},\n",
       " {'name': 'Seriah', 'count': 32},\n",
       " {'name': 'Yann', 'count': 32},\n",
       " {'name': 'Veronika', 'count': 31},\n",
       " {'name': 'Alishah', 'count': 30},\n",
       " {'name': 'Barrie', 'count': 21},\n",
       " {'name': 'Eqlaas', 'count': 18},\n",
       " {'name': 'Shai', 'count': 17},\n",
       " {'name': 'Ayaana', 'count': 16},\n",
       " {'name': 'Tracey', 'count': 15},\n",
       " {'name': 'Kjae', 'count': 10},\n",
       " {'name': 'Schekina', 'count': 9},\n",
       " {'name': 'Tyrnan', 'count': 8},\n",
       " {'name': 'Adeena', 'count': 3},\n",
       " {'name': 'Kylan', 'count': 1}]"
      ]
     },
     "execution_count": 48,
     "metadata": {},
     "output_type": "execute_result"
    }
   ],
   "source": [
    "js['comments']"
   ]
  },
  {
   "cell_type": "code",
   "execution_count": 47,
   "metadata": {},
   "outputs": [
    {
     "data": {
      "text/plain": [
       "97"
      ]
     },
     "execution_count": 47,
     "metadata": {},
     "output_type": "execute_result"
    }
   ],
   "source": [
    "js['comments'][2]['count']"
   ]
  },
  {
   "cell_type": "code",
   "execution_count": 50,
   "metadata": {},
   "outputs": [
    {
     "data": {
      "text/plain": [
       "50"
      ]
     },
     "execution_count": 50,
     "metadata": {},
     "output_type": "execute_result"
    }
   ],
   "source": [
    "len(js['comments'])"
   ]
  },
  {
   "cell_type": "markdown",
   "metadata": {},
   "source": [
    "final \n",
    "Enter location: http://py4e-data.dr-chuck.net/comments_42.json\n",
    "\n",
    "Retrieving http://py4e-data.dr-chuck.net/comments_42.json\n",
    "\n",
    "Retrieved 2733 characters\n",
    "\n",
    "Count: 50\n",
    "\n",
    "Sum: 2..."
   ]
  },
  {
   "cell_type": "markdown",
   "metadata": {},
   "source": [
    "### Quiz 2 "
   ]
  },
  {
   "cell_type": "code",
   "execution_count": 59,
   "metadata": {},
   "outputs": [
    {
     "name": "stdout",
     "output_type": "stream",
     "text": [
      "DATA URL:  http://python-data.dr-chuck.net/geojson?sensor=false&address=USC\n",
      "PLACE ID:  ChIJGwDKfU6phUcRqw3ZTD6pPnI\n"
     ]
    }
   ],
   "source": [
    "\n",
    "import json\n",
    "import urllib\n",
    "\n",
    "#Stroring the given parameters\n",
    "serviceurl = \"http://python-data.dr-chuck.net/geojson?\"\n",
    "sample_address = \"USC\"\n",
    "data_address = \"USC\"\n",
    "address_wanted = data_address\n",
    "\n",
    "#Setting the GET parameters on the URL\n",
    "parameters = {\"sensor\": \"false\", \"address\": address_wanted}\n",
    "paramsurl = urllib.parse.urlencode(parameters)\n",
    "\n",
    "#Generating the complete URL. Printing it in order to check if it's correct.\n",
    "queryurl = serviceurl + paramsurl\n",
    "print(\"DATA URL: \", queryurl)\n",
    "\n",
    "#Obtaining and reading the data\n",
    "data = urllib.request.urlopen(queryurl).read()\n",
    "\n",
    "#Parsing the data and looking for the field we want.\n",
    "#That field is inside the \"Results\" array, in its first item (if our address is \n",
    "#correct we can assume that the result would be the correct one) and on its \n",
    "#\"place_id\" field\n",
    "jsondata = json.loads(data)\n",
    "place_id = jsondata[\"results\"][0][\"place_id\"]\n",
    "print(\"PLACE ID: \", place_id)"
   ]
  },
  {
   "cell_type": "code",
   "execution_count": 65,
   "metadata": {},
   "outputs": [
    {
     "name": "stdout",
     "output_type": "stream",
     "text": [
      "Enter location: usc\n",
      "Retrieving http://py4e-data.dr-chuck.net/json?address=usc&key=42\n",
      "Retrieved 2330 characters\n",
      "{\n",
      "    \"results\": [\n",
      "        {\n",
      "            \"address_components\": [\n",
      "                {\n",
      "                    \"long_name\": \"3650\",\n",
      "                    \"short_name\": \"3650\",\n",
      "                    \"types\": [\n",
      "                        \"street_number\"\n",
      "                    ]\n",
      "                },\n",
      "                {\n",
      "                    \"long_name\": \"McClintock Avenue\",\n",
      "                    \"short_name\": \"McClintock Ave\",\n",
      "                    \"types\": [\n",
      "                        \"route\"\n",
      "                    ]\n",
      "                },\n",
      "                {\n",
      "                    \"long_name\": \"South Los Angeles\",\n",
      "                    \"short_name\": \"South Los Angeles\",\n",
      "                    \"types\": [\n",
      "                        \"neighborhood\",\n",
      "                        \"political\"\n",
      "                    ]\n",
      "                },\n",
      "                {\n",
      "                    \"long_name\": \"Los Angeles\",\n",
      "                    \"short_name\": \"Los Angeles\",\n",
      "                    \"types\": [\n",
      "                        \"locality\",\n",
      "                        \"political\"\n",
      "                    ]\n",
      "                },\n",
      "                {\n",
      "                    \"long_name\": \"Los Angeles County\",\n",
      "                    \"short_name\": \"Los Angeles County\",\n",
      "                    \"types\": [\n",
      "                        \"administrative_area_level_2\",\n",
      "                        \"political\"\n",
      "                    ]\n",
      "                },\n",
      "                {\n",
      "                    \"long_name\": \"California\",\n",
      "                    \"short_name\": \"CA\",\n",
      "                    \"types\": [\n",
      "                        \"administrative_area_level_1\",\n",
      "                        \"political\"\n",
      "                    ]\n",
      "                },\n",
      "                {\n",
      "                    \"long_name\": \"United States\",\n",
      "                    \"short_name\": \"US\",\n",
      "                    \"types\": [\n",
      "                        \"country\",\n",
      "                        \"political\"\n",
      "                    ]\n",
      "                },\n",
      "                {\n",
      "                    \"long_name\": \"90089\",\n",
      "                    \"short_name\": \"90089\",\n",
      "                    \"types\": [\n",
      "                        \"postal_code\"\n",
      "                    ]\n",
      "                }\n",
      "            ],\n",
      "            \"formatted_address\": \"3650 McClintock Ave, Los Angeles, CA 90089, USA\",\n",
      "            \"geometry\": {\n",
      "                \"location\": {\n",
      "                    \"lat\": 34.0205777,\n",
      "                    \"lng\": -118.2893301\n",
      "                },\n",
      "                \"location_type\": \"ROOFTOP\",\n",
      "                \"viewport\": {\n",
      "                    \"northeast\": {\n",
      "                        \"lat\": 34.0219266802915,\n",
      "                        \"lng\": -118.2879811197085\n",
      "                    },\n",
      "                    \"southwest\": {\n",
      "                        \"lat\": 34.0192287197085,\n",
      "                        \"lng\": -118.2906790802915\n",
      "                    }\n",
      "                }\n",
      "            },\n",
      "            \"place_id\": \"ChIJLTznYfvHwoARKXuvMlgK_eY\",\n",
      "            \"plus_code\": {\n",
      "                \"compound_code\": \"2PC6+67 Los Angeles, CA, USA\",\n",
      "                \"global_code\": \"85632PC6+67\"\n",
      "            },\n",
      "            \"types\": [\n",
      "                \"establishment\",\n",
      "                \"point_of_interest\",\n",
      "                \"university\"\n",
      "            ]\n",
      "        }\n",
      "    ],\n",
      "    \"status\": \"OK\"\n",
      "}\n",
      "lat 34.0205777 lng -118.2893301\n",
      "3650 McClintock Ave, Los Angeles, CA 90089, USA\n",
      "PLACE ID:  ChIJLTznYfvHwoARKXuvMlgK_eY\n"
     ]
    },
    {
     "ename": "KeyboardInterrupt",
     "evalue": "Interrupted by user",
     "output_type": "error",
     "traceback": [
      "\u001b[1;31m---------------------------------------------------------------------------\u001b[0m",
      "\u001b[1;31mKeyboardInterrupt\u001b[0m                         Traceback (most recent call last)",
      "\u001b[1;32m<ipython-input-65-10ec19323376>\u001b[0m in \u001b[0;36m<module>\u001b[1;34m\u001b[0m\n\u001b[0;32m     20\u001b[0m \u001b[1;33m\u001b[0m\u001b[0m\n\u001b[0;32m     21\u001b[0m \u001b[1;32mwhile\u001b[0m \u001b[1;32mTrue\u001b[0m\u001b[1;33m:\u001b[0m\u001b[1;33m\u001b[0m\u001b[1;33m\u001b[0m\u001b[0m\n\u001b[1;32m---> 22\u001b[1;33m     \u001b[0maddress\u001b[0m \u001b[1;33m=\u001b[0m \u001b[0minput\u001b[0m\u001b[1;33m(\u001b[0m\u001b[1;34m'Enter location: '\u001b[0m\u001b[1;33m)\u001b[0m\u001b[1;33m\u001b[0m\u001b[1;33m\u001b[0m\u001b[0m\n\u001b[0m\u001b[0;32m     23\u001b[0m     \u001b[1;32mif\u001b[0m \u001b[0mlen\u001b[0m\u001b[1;33m(\u001b[0m\u001b[0maddress\u001b[0m\u001b[1;33m)\u001b[0m \u001b[1;33m<\u001b[0m \u001b[1;36m1\u001b[0m\u001b[1;33m:\u001b[0m \u001b[1;32mbreak\u001b[0m\u001b[1;33m\u001b[0m\u001b[1;33m\u001b[0m\u001b[0m\n\u001b[0;32m     24\u001b[0m \u001b[1;33m\u001b[0m\u001b[0m\n",
      "\u001b[1;32m~\\AppData\\Roaming\\Python\\Python38\\site-packages\\ipykernel\\kernelbase.py\u001b[0m in \u001b[0;36mraw_input\u001b[1;34m(self, prompt)\u001b[0m\n\u001b[0;32m    858\u001b[0m                 \u001b[1;34m\"raw_input was called, but this frontend does not support input requests.\"\u001b[0m\u001b[1;33m\u001b[0m\u001b[1;33m\u001b[0m\u001b[0m\n\u001b[0;32m    859\u001b[0m             )\n\u001b[1;32m--> 860\u001b[1;33m         return self._input_request(str(prompt),\n\u001b[0m\u001b[0;32m    861\u001b[0m             \u001b[0mself\u001b[0m\u001b[1;33m.\u001b[0m\u001b[0m_parent_ident\u001b[0m\u001b[1;33m,\u001b[0m\u001b[1;33m\u001b[0m\u001b[1;33m\u001b[0m\u001b[0m\n\u001b[0;32m    862\u001b[0m             \u001b[0mself\u001b[0m\u001b[1;33m.\u001b[0m\u001b[0m_parent_header\u001b[0m\u001b[1;33m,\u001b[0m\u001b[1;33m\u001b[0m\u001b[1;33m\u001b[0m\u001b[0m\n",
      "\u001b[1;32m~\\AppData\\Roaming\\Python\\Python38\\site-packages\\ipykernel\\kernelbase.py\u001b[0m in \u001b[0;36m_input_request\u001b[1;34m(self, prompt, ident, parent, password)\u001b[0m\n\u001b[0;32m    902\u001b[0m             \u001b[1;32mexcept\u001b[0m \u001b[0mKeyboardInterrupt\u001b[0m\u001b[1;33m:\u001b[0m\u001b[1;33m\u001b[0m\u001b[1;33m\u001b[0m\u001b[0m\n\u001b[0;32m    903\u001b[0m                 \u001b[1;31m# re-raise KeyboardInterrupt, to truncate traceback\u001b[0m\u001b[1;33m\u001b[0m\u001b[1;33m\u001b[0m\u001b[1;33m\u001b[0m\u001b[0m\n\u001b[1;32m--> 904\u001b[1;33m                 \u001b[1;32mraise\u001b[0m \u001b[0mKeyboardInterrupt\u001b[0m\u001b[1;33m(\u001b[0m\u001b[1;34m\"Interrupted by user\"\u001b[0m\u001b[1;33m)\u001b[0m \u001b[1;32mfrom\u001b[0m \u001b[1;32mNone\u001b[0m\u001b[1;33m\u001b[0m\u001b[1;33m\u001b[0m\u001b[0m\n\u001b[0m\u001b[0;32m    905\u001b[0m             \u001b[1;32mexcept\u001b[0m \u001b[0mException\u001b[0m \u001b[1;32mas\u001b[0m \u001b[0me\u001b[0m\u001b[1;33m:\u001b[0m\u001b[1;33m\u001b[0m\u001b[1;33m\u001b[0m\u001b[0m\n\u001b[0;32m    906\u001b[0m                 \u001b[0mself\u001b[0m\u001b[1;33m.\u001b[0m\u001b[0mlog\u001b[0m\u001b[1;33m.\u001b[0m\u001b[0mwarning\u001b[0m\u001b[1;33m(\u001b[0m\u001b[1;34m\"Invalid Message:\"\u001b[0m\u001b[1;33m,\u001b[0m \u001b[0mexc_info\u001b[0m\u001b[1;33m=\u001b[0m\u001b[1;32mTrue\u001b[0m\u001b[1;33m)\u001b[0m\u001b[1;33m\u001b[0m\u001b[1;33m\u001b[0m\u001b[0m\n",
      "\u001b[1;31mKeyboardInterrupt\u001b[0m: Interrupted by user"
     ]
    }
   ],
   "source": [
    "import urllib.request, urllib.parse, urllib.error\n",
    "import json\n",
    "import ssl\n",
    "\n",
    "api_key = False\n",
    "# If you have a Google Places API key, enter it here\n",
    "# api_key = 'AIzaSy___IDByT70'\n",
    "# https://developers.google.com/maps/documentation/geocoding/intro\n",
    "\n",
    "if api_key is False:\n",
    "    api_key = 42\n",
    "    serviceurl = 'http://py4e-data.dr-chuck.net/json?'\n",
    "else :\n",
    "    serviceurl = 'http://py4e-data.dr-chuck.net/json?'\n",
    "\n",
    "# Ignore SSL certificate errors\n",
    "ctx = ssl.create_default_context()\n",
    "ctx.check_hostname = False\n",
    "ctx.verify_mode = ssl.CERT_NONE\n",
    "\n",
    "while True:\n",
    "    address = input('Enter location: ')\n",
    "    if len(address) < 1: break\n",
    "\n",
    "    parms = dict()\n",
    "    parms['address'] = address\n",
    "    if api_key is not False: parms['key'] = api_key\n",
    "    url = serviceurl + urllib.parse.urlencode(parms)\n",
    "\n",
    "    print('Retrieving', url)\n",
    "    uh = urllib.request.urlopen(url, context=ctx)\n",
    "    data = uh.read().decode()\n",
    "    print('Retrieved', len(data), 'characters')\n",
    "\n",
    "    try:\n",
    "        js = json.loads(data)\n",
    "    except:\n",
    "        js = None\n",
    "\n",
    "    if not js or 'status' not in js or js['status'] != 'OK':\n",
    "        print('==== Failure To Retrieve ====')\n",
    "        print(data)\n",
    "        continue\n",
    "\n",
    "    print(json.dumps(js, indent=4))\n",
    "\n",
    "    lat = js['results'][0]['geometry']['location']['lat']\n",
    "    lng = js['results'][0]['geometry']['location']['lng']\n",
    "    print('lat', lat, 'lng', lng)\n",
    "    location = js['results'][0]['formatted_address']\n",
    "    print(location)\n",
    "    place_id = js[\"results\"][0][\"place_id\"]\n",
    "    print(\"PLACE ID: \", place_id)"
   ]
  },
  {
   "cell_type": "code",
   "execution_count": null,
   "metadata": {},
   "outputs": [],
   "source": []
  }
 ],
 "metadata": {
  "kernelspec": {
   "display_name": "Python 3",
   "language": "python",
   "name": "python3"
  },
  "language_info": {
   "codemirror_mode": {
    "name": "ipython",
    "version": 3
   },
   "file_extension": ".py",
   "mimetype": "text/x-python",
   "name": "python",
   "nbconvert_exporter": "python",
   "pygments_lexer": "ipython3",
   "version": "3.8.3"
  }
 },
 "nbformat": 4,
 "nbformat_minor": 4
}
