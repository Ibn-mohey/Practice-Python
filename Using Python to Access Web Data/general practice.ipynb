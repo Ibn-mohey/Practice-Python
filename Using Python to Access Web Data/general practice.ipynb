{
 "cells": [
  {
   "cell_type": "code",
   "execution_count": 1,
   "metadata": {},
   "outputs": [
    {
     "data": {
      "text/plain": [
       "'E:\\\\career\\\\Dataa\\\\github\\\\py-practice-general-\\\\Using Python to Access Web Data'"
      ]
     },
     "execution_count": 1,
     "metadata": {},
     "output_type": "execute_result"
    }
   ],
   "source": [
    "import re\n",
    "import urllib\n",
    "url = \"http://py4e-data.dr-chuck.net/regex_sum_721157.txt\"\n",
    "name = \"regex_sum_721157.txt\"\n",
    "urllib.request.urlretrieve(url, name)\n",
    "\n",
    "\n",
    "import os \n",
    "os.getcwd()"
   ]
  },
  {
   "cell_type": "code",
   "execution_count": 2,
   "metadata": {},
   "outputs": [
    {
     "name": "stdout",
     "output_type": "stream",
     "text": [
      "There are 92 numbers in this file that have a total sum of 394705\n"
     ]
    }
   ],
   "source": [
    "hand = open(\"regex_sum_721157.txt\", mode = 'r')\n",
    "numList = list()\n",
    "for l in hand:\n",
    "    l = l.rstrip()\n",
    "    nums = re.findall('[0-9]+', l)\n",
    "    for n in nums:\n",
    "        x = int(n)\n",
    "        numList.append(x)\n",
    "\n",
    "y = 0\n",
    "for j in numList:\n",
    "            y = y + j\n",
    "print ( 'There are ' + str(len(numList)) + ' numbers in this file that have a total sum of ' + str(y))"
   ]
  },
  {
   "cell_type": "code",
   "execution_count": 3,
   "metadata": {},
   "outputs": [],
   "source": [
    "y = 0\n",
    "for n in numList:\n",
    "    y = y + n"
   ]
  },
  {
   "cell_type": "code",
   "execution_count": 4,
   "metadata": {},
   "outputs": [
    {
     "data": {
      "text/plain": [
       "394705"
      ]
     },
     "execution_count": 4,
     "metadata": {},
     "output_type": "execute_result"
    }
   ],
   "source": [
    "y \n"
   ]
  },
  {
   "cell_type": "code",
   "execution_count": 9,
   "metadata": {},
   "outputs": [
    {
     "name": "stdout",
     "output_type": "stream",
     "text": [
      "There are 87 numbers in this file that have a total sum of 437443\n"
     ]
    }
   ],
   "source": [
    "import re\n",
    "import urllib\n",
    "url = \"http://py4e-data.dr-chuck.net/regex_sum_734259.txt\"\n",
    "name = \"regex_sum_734259.txt\"\n",
    "urllib.request.urlretrieve(url, name)\n",
    "hand = open(\"regex_sum_734259.txt\", mode = 'r')\n",
    "numList = list()\n",
    "for l in hand:\n",
    "    l = l.rstrip()\n",
    "    nums = re.findall('[0-9]+', l)\n",
    "    for n in nums:\n",
    "        x = int(n)\n",
    "        numList.append(x)\n",
    "\n",
    "y = 0\n",
    "for j in numList:\n",
    "            y = y + j\n",
    "print ( 'There are ' + str(len(numList)) + ' numbers in this file that have a total sum of ' + str(y))"
   ]
  },
  {
   "cell_type": "code",
   "execution_count": 10,
   "metadata": {},
   "outputs": [
    {
     "data": {
      "text/plain": [
       "<bound method socket.close of <socket.socket fd=1192, family=AddressFamily.AF_INET, type=SocketKind.SOCK_STREAM, proto=0, laddr=('192.168.1.50', 2296), raddr=('192.241.136.170', 80)>>"
      ]
     },
     "execution_count": 10,
     "metadata": {},
     "output_type": "execute_result"
    }
   ],
   "source": [
    "import socket \n",
    "mysock = socket.socket(socket.AF_INET, socket.SOCK_STREAM)\n",
    "mysock.connect(('data.pr4e.org' , 80)) #make the connection dail the phone \n",
    "mysock.close"
   ]
  },
  {
   "cell_type": "code",
   "execution_count": 18,
   "metadata": {},
   "outputs": [
    {
     "name": "stdout",
     "output_type": "stream",
     "text": [
      "HTTP/1.1 200 OK\r\n",
      "Date: Wed, 08 Jul 2020 01:38:56 GMT\r\n",
      "Server: Apache/2.4.18 (Ubuntu)\r\n",
      "Last-Modified: Sat, 13 May 2017 11:22:22 GMT\r\n",
      "ETag: \"1d3-54f6609240717\"\r\n",
      "Accept-Ranges: bytes\r\n",
      "Content-Length: 467\r\n",
      "Cache-Control: max-age=0, no-cache, no-store, must-revalidate\r\n",
      "Pragma: no-cache\r\n",
      "Expires: Wed, 11 Jan 1984 05:00:00 GMT\r\n",
      "Connection: close\r\n",
      "Content-Type: text/plain\r\n",
      "\r\n",
      "Why should you learn to write programs?\n",
      "\n",
      "Writing programs (or programming) is a very creative \n",
      "and rewarding activity.  You can write programs for \n",
      "many reasons, ranging from making your living to solving\n",
      "a difficult data analysis problem to having fun to helping\n",
      "someone else solve a problem.  This book assumes that \n",
      "everyone needs to know how to program, and that once \n",
      "you know how to program you will figure out what you want \n",
      "to do with your newfound skills.  \n"
     ]
    }
   ],
   "source": [
    "import socket\n",
    "link = 'http://data.pr4e.org/intro-short.txt'\n",
    "\n",
    "mysock = socket.socket(socket.AF_INET, socket.SOCK_STREAM)\n",
    "mysock.connect(('data.pr4e.org', 80))\n",
    "cmd = 'GET {} HTTP/1.0\\r\\n\\r\\n'.format(link).encode()\n",
    "mysock.send(cmd)\n",
    "\n",
    "while True:\n",
    "    data = mysock.recv(512)\n",
    "    if len(data) < 1:\n",
    "        break\n",
    "    print(data.decode(),end='')\n",
    "\n",
    "mysock.close()\n"
   ]
  },
  {
   "cell_type": "code",
   "execution_count": 21,
   "metadata": {},
   "outputs": [
    {
     "data": {
      "text/plain": [
       "104"
      ]
     },
     "execution_count": 21,
     "metadata": {},
     "output_type": "execute_result"
    }
   ],
   "source": [
    "ord('h')"
   ]
  },
  {
   "cell_type": "code",
   "execution_count": 53,
   "metadata": {},
   "outputs": [
    {
     "data": {
      "text/plain": [
       "71"
      ]
     },
     "execution_count": 53,
     "metadata": {},
     "output_type": "execute_result"
    }
   ],
   "source": [
    "ord('G')\n"
   ]
  },
  {
   "cell_type": "code",
   "execution_count": 59,
   "metadata": {},
   "outputs": [
    {
     "data": {
      "text/plain": [
       "'G'"
      ]
     },
     "execution_count": 59,
     "metadata": {},
     "output_type": "execute_result"
    }
   ],
   "source": [
    "chr(71)"
   ]
  },
  {
   "cell_type": "code",
   "execution_count": 64,
   "metadata": {},
   "outputs": [
    {
     "name": "stdout",
     "output_type": "stream",
     "text": [
      "l\n",
      "i\n",
      "n\n",
      "e\n"
     ]
    }
   ],
   "source": [
    "l = '108, 105, 110, 101'\n",
    "l = l.split(',')\n",
    "for n in l:\n",
    "    print(chr(int(n)))"
   ]
  },
  {
   "cell_type": "code",
   "execution_count": 63,
   "metadata": {},
   "outputs": [
    {
     "data": {
      "text/plain": [
       "['108', ' 105', ' 110', ' 101']"
      ]
     },
     "execution_count": 63,
     "metadata": {},
     "output_type": "execute_result"
    }
   ],
   "source": []
  },
  {
   "cell_type": "code",
   "execution_count": 24,
   "metadata": {},
   "outputs": [
    {
     "data": {
      "text/plain": [
       "10"
      ]
     },
     "execution_count": 24,
     "metadata": {},
     "output_type": "execute_result"
    }
   ],
   "source": [
    "ord('\\n')"
   ]
  },
  {
   "cell_type": "code",
   "execution_count": 25,
   "metadata": {},
   "outputs": [
    {
     "data": {
      "text/plain": [
       "1587"
      ]
     },
     "execution_count": 25,
     "metadata": {},
     "output_type": "execute_result"
    }
   ],
   "source": [
    "ord('س')"
   ]
  },
  {
   "cell_type": "code",
   "execution_count": 26,
   "metadata": {},
   "outputs": [],
   "source": [
    "#.encode >> into byte array use it in sent \n",
    "#.decode >> into utf 8 recive "
   ]
  },
  {
   "cell_type": "code",
   "execution_count": 65,
   "metadata": {},
   "outputs": [
    {
     "name": "stdout",
     "output_type": "stream",
     "text": [
      "But soft what light through yonder window breaks\n",
      "It is the east and Juliet is the sun\n",
      "Arise fair sun and kill the envious moon\n",
      "Who is already sick and pale with grief\n"
     ]
    }
   ],
   "source": [
    "# urllib  do all the socket and all the encode and decode for us \n",
    "import urllib.request \n",
    "fhand = urllib.request.urlopen('http://data.pr4e.org/romeo.txt')\n",
    "for l in fhand:\n",
    "    print(l.decode().strip()) #decode byte >> str # strip remove white spaces in start and the end "
   ]
  },
  {
   "cell_type": "code",
   "execution_count": 51,
   "metadata": {},
   "outputs": [
    {
     "data": {
      "text/plain": [
       "'     banana     '"
      ]
     },
     "execution_count": 51,
     "metadata": {},
     "output_type": "execute_result"
    }
   ],
   "source": [
    "txt = \"     banana     \"\n",
    "txt"
   ]
  },
  {
   "cell_type": "code",
   "execution_count": 3,
   "metadata": {
    "scrolled": true
   },
   "outputs": [
    {
     "name": "stdout",
     "output_type": "stream",
     "text": [
      "of all fruits banana is my favorite\n"
     ]
    }
   ],
   "source": [
    "txt = \"     banana     \"\n",
    "x = txt.strip()\n",
    "print(\"of all fruits\", x, \"is my favorite\")\n"
   ]
  },
  {
   "cell_type": "code",
   "execution_count": 18,
   "metadata": {},
   "outputs": [],
   "source": [
    "import urllib.request \n",
    "fhand = urllib.request.urlopen('http://data.pr4e.org/romeo.txt')\n"
   ]
  },
  {
   "cell_type": "code",
   "execution_count": 28,
   "metadata": {},
   "outputs": [],
   "source": [
    "import urllib.request \n",
    "fhand = urllib.request.urlopen('http://data.pr4e.org/romeo.txt')\n",
    "counts = {}\n",
    "for l in fhand:\n",
    "    words = l.decode().split()\n",
    "    for w in words:\n",
    "        counts[w] = counts.get(w, 0) + 1"
   ]
  },
  {
   "cell_type": "code",
   "execution_count": 29,
   "metadata": {},
   "outputs": [
    {
     "data": {
      "text/plain": [
       "{}"
      ]
     },
     "execution_count": 29,
     "metadata": {},
     "output_type": "execute_result"
    }
   ],
   "source": [
    "counts"
   ]
  },
  {
   "cell_type": "code",
   "execution_count": 27,
   "metadata": {},
   "outputs": [
    {
     "name": "stdout",
     "output_type": "stream",
     "text": [
      "<h1>The First Page</h1>\n",
      "<p>\n",
      "If you like, you can switch to the\n",
      "<a href=\"http://www.dr-chuck.com/page2.htm\">\n",
      "Second Page</a>.\n",
      "</p>\n"
     ]
    }
   ],
   "source": [
    "fhand = urllib.request.urlopen('http://www.dr-chuck.com/page1.htm')\n",
    "for l in fhand:\n",
    "    print(l.decode().strip()) #decode byte >> str # strip remove white spaces in start and the end "
   ]
  },
  {
   "cell_type": "code",
   "execution_count": 33,
   "metadata": {},
   "outputs": [],
   "source": [
    "## webcraweler \\ webscraping\n",
    "from bs4 import BeautifulSoup as bs "
   ]
  },
  {
   "cell_type": "code",
   "execution_count": 44,
   "metadata": {},
   "outputs": [
    {
     "name": "stdout",
     "output_type": "stream",
     "text": [
      "print line http://www.dr-chuck.com/page2.htm\n",
      "the url we entred http://www.dr-chuck.com/page1.htm\n"
     ]
    }
   ],
   "source": [
    "# url = input('Enter - ')\n",
    "url = 'http://www.dr-chuck.com/page1.htm'\n",
    "html = urllib.request.urlopen(url).read()\n",
    "soup = bs(html, 'html.parser')\n",
    "tags = soup('a')##dictionary  #anchore tags  \n",
    "for tag in tags:\n",
    "    print('print line' , tag.get('href' , None))   #search for the href tag and what that comes after it \n",
    "print ('the url we entred' ,url)"
   ]
  },
  {
   "cell_type": "code",
   "execution_count": 46,
   "metadata": {},
   "outputs": [
    {
     "data": {
      "text/plain": [
       "<h1>The First Page</h1>\n",
       "<p>\n",
       "If you like, you can switch to the \n",
       "<a href=\"http://www.dr-chuck.com/page2.htm\">\n",
       "Second Page</a>.\n",
       "</p>"
      ]
     },
     "execution_count": 46,
     "metadata": {},
     "output_type": "execute_result"
    }
   ],
   "source": [
    "soup\n"
   ]
  },
  {
   "cell_type": "code",
   "execution_count": 47,
   "metadata": {},
   "outputs": [
    {
     "data": {
      "text/plain": [
       "bs4.BeautifulSoup"
      ]
     },
     "execution_count": 47,
     "metadata": {},
     "output_type": "execute_result"
    }
   ],
   "source": [
    "type(soup)"
   ]
  },
  {
   "cell_type": "code",
   "execution_count": 50,
   "metadata": {},
   "outputs": [
    {
     "name": "stdout",
     "output_type": "stream",
     "text": [
      "Enter - http://www.dr-chuck.com/page2.htm\n",
      "page1.htm\n"
     ]
    }
   ],
   "source": [
    "#urllink file \n",
    "\n",
    "import urllib.request, urllib.parse, urllib.error\n",
    "from bs4 import BeautifulSoup\n",
    "import ssl\n",
    "\n",
    "# Ignore SSL certificate errors\n",
    "ctx = ssl.create_default_context()\n",
    "ctx.check_hostname = False\n",
    "ctx.verify_mode = ssl.CERT_NONE\n",
    "\n",
    "url = input('Enter - ')\n",
    "html = urllib.request.urlopen(url, context=ctx).read()\n",
    "soup = BeautifulSoup(html, 'html.parser')\n",
    "\n",
    "# Retrieve all of the anchor tags\n",
    "tags = soup('a')\n",
    "for tag in tags:\n",
    "    print(tag.get('href', None))\n"
   ]
  },
  {
   "cell_type": "code",
   "execution_count": 51,
   "metadata": {},
   "outputs": [
    {
     "data": {
      "text/plain": [
       "<h1>The Second Page</h1>\n",
       "<p>\n",
       "If you like, you can switch back to the \n",
       "<a href=\"page1.htm\">\n",
       "First Page</a>.\n",
       "</p>"
      ]
     },
     "execution_count": 51,
     "metadata": {},
     "output_type": "execute_result"
    }
   ],
   "source": [
    "soup"
   ]
  },
  {
   "cell_type": "code",
   "execution_count": null,
   "metadata": {},
   "outputs": [],
   "source": []
  },
  {
   "cell_type": "code",
   "execution_count": 77,
   "metadata": {},
   "outputs": [
    {
     "name": "stdout",
     "output_type": "stream",
     "text": [
      "TAG: <span class=\"comments\">99</span>\n",
      "URL: None\n",
      "Contents: 99\n",
      "Attrs: {'class': ['comments']}\n",
      "TAG: <span class=\"comments\">99</span>\n",
      "URL: None\n",
      "Contents: 99\n",
      "Attrs: {'class': ['comments']}\n",
      "TAG: <span class=\"comments\">98</span>\n",
      "URL: None\n",
      "Contents: 98\n",
      "Attrs: {'class': ['comments']}\n",
      "TAG: <span class=\"comments\">98</span>\n",
      "URL: None\n",
      "Contents: 98\n",
      "Attrs: {'class': ['comments']}\n",
      "TAG: <span class=\"comments\">94</span>\n",
      "URL: None\n",
      "Contents: 94\n",
      "Attrs: {'class': ['comments']}\n",
      "TAG: <span class=\"comments\">92</span>\n",
      "URL: None\n",
      "Contents: 92\n",
      "Attrs: {'class': ['comments']}\n",
      "TAG: <span class=\"comments\">91</span>\n",
      "URL: None\n",
      "Contents: 91\n",
      "Attrs: {'class': ['comments']}\n",
      "TAG: <span class=\"comments\">91</span>\n",
      "URL: None\n",
      "Contents: 91\n",
      "Attrs: {'class': ['comments']}\n",
      "TAG: <span class=\"comments\">90</span>\n",
      "URL: None\n",
      "Contents: 90\n",
      "Attrs: {'class': ['comments']}\n",
      "TAG: <span class=\"comments\">88</span>\n",
      "URL: None\n",
      "Contents: 88\n",
      "Attrs: {'class': ['comments']}\n",
      "TAG: <span class=\"comments\">80</span>\n",
      "URL: None\n",
      "Contents: 80\n",
      "Attrs: {'class': ['comments']}\n",
      "TAG: <span class=\"comments\">80</span>\n",
      "URL: None\n",
      "Contents: 80\n",
      "Attrs: {'class': ['comments']}\n",
      "TAG: <span class=\"comments\">77</span>\n",
      "URL: None\n",
      "Contents: 77\n",
      "Attrs: {'class': ['comments']}\n",
      "TAG: <span class=\"comments\">68</span>\n",
      "URL: None\n",
      "Contents: 68\n",
      "Attrs: {'class': ['comments']}\n",
      "TAG: <span class=\"comments\">66</span>\n",
      "URL: None\n",
      "Contents: 66\n",
      "Attrs: {'class': ['comments']}\n",
      "TAG: <span class=\"comments\">64</span>\n",
      "URL: None\n",
      "Contents: 64\n",
      "Attrs: {'class': ['comments']}\n",
      "TAG: <span class=\"comments\">64</span>\n",
      "URL: None\n",
      "Contents: 64\n",
      "Attrs: {'class': ['comments']}\n",
      "TAG: <span class=\"comments\">64</span>\n",
      "URL: None\n",
      "Contents: 64\n",
      "Attrs: {'class': ['comments']}\n",
      "TAG: <span class=\"comments\">63</span>\n",
      "URL: None\n",
      "Contents: 63\n",
      "Attrs: {'class': ['comments']}\n",
      "TAG: <span class=\"comments\">62</span>\n",
      "URL: None\n",
      "Contents: 62\n",
      "Attrs: {'class': ['comments']}\n",
      "TAG: <span class=\"comments\">62</span>\n",
      "URL: None\n",
      "Contents: 62\n",
      "Attrs: {'class': ['comments']}\n",
      "TAG: <span class=\"comments\">61</span>\n",
      "URL: None\n",
      "Contents: 61\n",
      "Attrs: {'class': ['comments']}\n",
      "TAG: <span class=\"comments\">57</span>\n",
      "URL: None\n",
      "Contents: 57\n",
      "Attrs: {'class': ['comments']}\n",
      "TAG: <span class=\"comments\">56</span>\n",
      "URL: None\n",
      "Contents: 56\n",
      "Attrs: {'class': ['comments']}\n",
      "TAG: <span class=\"comments\">55</span>\n",
      "URL: None\n",
      "Contents: 55\n",
      "Attrs: {'class': ['comments']}\n",
      "TAG: <span class=\"comments\">54</span>\n",
      "URL: None\n",
      "Contents: 54\n",
      "Attrs: {'class': ['comments']}\n",
      "TAG: <span class=\"comments\">53</span>\n",
      "URL: None\n",
      "Contents: 53\n",
      "Attrs: {'class': ['comments']}\n",
      "TAG: <span class=\"comments\">50</span>\n",
      "URL: None\n",
      "Contents: 50\n",
      "Attrs: {'class': ['comments']}\n",
      "TAG: <span class=\"comments\">48</span>\n",
      "URL: None\n",
      "Contents: 48\n",
      "Attrs: {'class': ['comments']}\n",
      "TAG: <span class=\"comments\">48</span>\n",
      "URL: None\n",
      "Contents: 48\n",
      "Attrs: {'class': ['comments']}\n",
      "TAG: <span class=\"comments\">39</span>\n",
      "URL: None\n",
      "Contents: 39\n",
      "Attrs: {'class': ['comments']}\n",
      "TAG: <span class=\"comments\">38</span>\n",
      "URL: None\n",
      "Contents: 38\n",
      "Attrs: {'class': ['comments']}\n",
      "TAG: <span class=\"comments\">37</span>\n",
      "URL: None\n",
      "Contents: 37\n",
      "Attrs: {'class': ['comments']}\n",
      "TAG: <span class=\"comments\">33</span>\n",
      "URL: None\n",
      "Contents: 33\n",
      "Attrs: {'class': ['comments']}\n",
      "TAG: <span class=\"comments\">32</span>\n",
      "URL: None\n",
      "Contents: 32\n",
      "Attrs: {'class': ['comments']}\n",
      "TAG: <span class=\"comments\">31</span>\n",
      "URL: None\n",
      "Contents: 31\n",
      "Attrs: {'class': ['comments']}\n",
      "TAG: <span class=\"comments\">27</span>\n",
      "URL: None\n",
      "Contents: 27\n",
      "Attrs: {'class': ['comments']}\n",
      "TAG: <span class=\"comments\">26</span>\n",
      "URL: None\n",
      "Contents: 26\n",
      "Attrs: {'class': ['comments']}\n",
      "TAG: <span class=\"comments\">26</span>\n",
      "URL: None\n",
      "Contents: 26\n",
      "Attrs: {'class': ['comments']}\n",
      "TAG: <span class=\"comments\">25</span>\n",
      "URL: None\n",
      "Contents: 25\n",
      "Attrs: {'class': ['comments']}\n",
      "TAG: <span class=\"comments\">23</span>\n",
      "URL: None\n",
      "Contents: 23\n",
      "Attrs: {'class': ['comments']}\n",
      "TAG: <span class=\"comments\">18</span>\n",
      "URL: None\n",
      "Contents: 18\n",
      "Attrs: {'class': ['comments']}\n",
      "TAG: <span class=\"comments\">18</span>\n",
      "URL: None\n",
      "Contents: 18\n",
      "Attrs: {'class': ['comments']}\n",
      "TAG: <span class=\"comments\">14</span>\n",
      "URL: None\n",
      "Contents: 14\n",
      "Attrs: {'class': ['comments']}\n",
      "TAG: <span class=\"comments\">14</span>\n",
      "URL: None\n",
      "Contents: 14\n",
      "Attrs: {'class': ['comments']}\n",
      "TAG: <span class=\"comments\">13</span>\n",
      "URL: None\n",
      "Contents: 13\n",
      "Attrs: {'class': ['comments']}\n",
      "TAG: <span class=\"comments\">9</span>\n",
      "URL: None\n",
      "Contents: 9\n",
      "Attrs: {'class': ['comments']}\n",
      "TAG: <span class=\"comments\">7</span>\n",
      "URL: None\n",
      "Contents: 7\n",
      "Attrs: {'class': ['comments']}\n",
      "TAG: <span class=\"comments\">6</span>\n",
      "URL: None\n",
      "Contents: 6\n",
      "Attrs: {'class': ['comments']}\n",
      "TAG: <span class=\"comments\">4</span>\n",
      "URL: None\n",
      "Contents: 4\n",
      "Attrs: {'class': ['comments']}\n"
     ]
    }
   ],
   "source": [
    "from urllib.request import urlopen\n",
    "from bs4 import BeautifulSoup\n",
    "import ssl\n",
    "\n",
    "# Ignore SSL certificate errors\n",
    "ctx = ssl.create_default_context()\n",
    "ctx.check_hostname = False\n",
    "ctx.verify_mode = ssl.CERT_NONE\n",
    "link_1 = 'http://py4e-data.dr-chuck.net/comments_721159.html'\n",
    "# url = input('Enter - ')\n",
    "html = urlopen(link_1, context=ctx).read()\n",
    "soup = BeautifulSoup(html, \"html.parser\")\n",
    "\n",
    "# Retrieve all of the anchor tags\n",
    "tags = soup('span')\n",
    "for tag in tags:\n",
    "    # Look at the parts of a tag\n",
    "    print('TAG:', tag)\n",
    "    print('URL:', tag.get('href', None))\n",
    "    print('Contents:', tag.contents[0])\n",
    "    print('Attrs:', tag.attrs)"
   ]
  },
  {
   "cell_type": "code",
   "execution_count": 2,
   "metadata": {},
   "outputs": [],
   "source": [
    "from urllib.request import urlopen\n",
    "from bs4 import BeautifulSoup\n",
    "import ssl\n",
    "\n",
    "# Ignore SSL certificate errors\n",
    "ctx = ssl.create_default_context()\n",
    "ctx.check_hostname = False\n",
    "ctx.verify_mode = ssl.CERT_NONE\n",
    "link_1 = 'http://py4e-data.dr-chuck.net/comments_721159.html'\n",
    "# url = input('Enter - ')\n",
    "html = urlopen(link_1, context=ctx).read()\n",
    "soup = BeautifulSoup(html, \"html.parser\")\n",
    "\n",
    "# Retrieve all of the anchor tags\n",
    "sums = 0\n",
    "tags = soup('span')\n",
    "for tag in tags:\n",
    "    # Look at the parts of a tag\n",
    "    sums = (int(tag.contents[0]) + sums)"
   ]
  },
  {
   "cell_type": "code",
   "execution_count": 3,
   "metadata": {},
   "outputs": [
    {
     "data": {
      "text/plain": [
       "2612"
      ]
     },
     "execution_count": 3,
     "metadata": {},
     "output_type": "execute_result"
    }
   ],
   "source": [
    "sums "
   ]
  },
  {
   "cell_type": "code",
   "execution_count": 4,
   "metadata": {},
   "outputs": [
    {
     "name": "stdout",
     "output_type": "stream",
     "text": [
      "count?\n",
      "position?4\n",
      "TAG: <a href=\"http://py4e-data.dr-chuck.net/known_by_Sunny.html\">Sunny</a>\n",
      "URL: http://py4e-data.dr-chuck.net/known_by_Sunny.html\n",
      "Contents: Sunny\n",
      "Attrs: {'href': 'http://py4e-data.dr-chuck.net/known_by_Sunny.html'}\n",
      "TAG: <a href=\"http://py4e-data.dr-chuck.net/known_by_Cayden.html\">Cayden</a>\n",
      "URL: http://py4e-data.dr-chuck.net/known_by_Cayden.html\n",
      "Contents: Cayden\n",
      "Attrs: {'href': 'http://py4e-data.dr-chuck.net/known_by_Cayden.html'}\n",
      "TAG: <a href=\"http://py4e-data.dr-chuck.net/known_by_Kirstyn.html\">Kirstyn</a>\n",
      "URL: http://py4e-data.dr-chuck.net/known_by_Kirstyn.html\n",
      "Contents: Kirstyn\n",
      "Attrs: {'href': 'http://py4e-data.dr-chuck.net/known_by_Kirstyn.html'}\n",
      "TAG: <a href=\"http://py4e-data.dr-chuck.net/known_by_Cahlum.html\">Cahlum</a>\n",
      "URL: http://py4e-data.dr-chuck.net/known_by_Cahlum.html\n",
      "Contents: Cahlum\n",
      "Attrs: {'href': 'http://py4e-data.dr-chuck.net/known_by_Cahlum.html'}\n",
      "TAG: <a href=\"http://py4e-data.dr-chuck.net/known_by_Daneesa.html\">Daneesa</a>\n",
      "URL: http://py4e-data.dr-chuck.net/known_by_Daneesa.html\n",
      "Contents: Daneesa\n",
      "Attrs: {'href': 'http://py4e-data.dr-chuck.net/known_by_Daneesa.html'}\n",
      "TAG: <a href=\"http://py4e-data.dr-chuck.net/known_by_Samual.html\">Samual</a>\n",
      "URL: http://py4e-data.dr-chuck.net/known_by_Samual.html\n",
      "Contents: Samual\n",
      "Attrs: {'href': 'http://py4e-data.dr-chuck.net/known_by_Samual.html'}\n",
      "TAG: <a href=\"http://py4e-data.dr-chuck.net/known_by_Pierce.html\">Pierce</a>\n",
      "URL: http://py4e-data.dr-chuck.net/known_by_Pierce.html\n",
      "Contents: Pierce\n",
      "Attrs: {'href': 'http://py4e-data.dr-chuck.net/known_by_Pierce.html'}\n",
      "TAG: <a href=\"http://py4e-data.dr-chuck.net/known_by_Antonio.html\">Antonio</a>\n",
      "URL: http://py4e-data.dr-chuck.net/known_by_Antonio.html\n",
      "Contents: Antonio\n",
      "Attrs: {'href': 'http://py4e-data.dr-chuck.net/known_by_Antonio.html'}\n",
      "TAG: <a href=\"http://py4e-data.dr-chuck.net/known_by_Viki.html\">Viki</a>\n",
      "URL: http://py4e-data.dr-chuck.net/known_by_Viki.html\n",
      "Contents: Viki\n",
      "Attrs: {'href': 'http://py4e-data.dr-chuck.net/known_by_Viki.html'}\n",
      "TAG: <a href=\"http://py4e-data.dr-chuck.net/known_by_Faizaan.html\">Faizaan</a>\n",
      "URL: http://py4e-data.dr-chuck.net/known_by_Faizaan.html\n",
      "Contents: Faizaan\n",
      "Attrs: {'href': 'http://py4e-data.dr-chuck.net/known_by_Faizaan.html'}\n",
      "TAG: <a href=\"http://py4e-data.dr-chuck.net/known_by_Sydnee.html\">Sydnee</a>\n",
      "URL: http://py4e-data.dr-chuck.net/known_by_Sydnee.html\n",
      "Contents: Sydnee\n",
      "Attrs: {'href': 'http://py4e-data.dr-chuck.net/known_by_Sydnee.html'}\n",
      "TAG: <a href=\"http://py4e-data.dr-chuck.net/known_by_Rossi.html\">Rossi</a>\n",
      "URL: http://py4e-data.dr-chuck.net/known_by_Rossi.html\n",
      "Contents: Rossi\n",
      "Attrs: {'href': 'http://py4e-data.dr-chuck.net/known_by_Rossi.html'}\n",
      "TAG: <a href=\"http://py4e-data.dr-chuck.net/known_by_Blaire.html\">Blaire</a>\n",
      "URL: http://py4e-data.dr-chuck.net/known_by_Blaire.html\n",
      "Contents: Blaire\n",
      "Attrs: {'href': 'http://py4e-data.dr-chuck.net/known_by_Blaire.html'}\n",
      "TAG: <a href=\"http://py4e-data.dr-chuck.net/known_by_Rhian.html\">Rhian</a>\n",
      "URL: http://py4e-data.dr-chuck.net/known_by_Rhian.html\n",
      "Contents: Rhian\n",
      "Attrs: {'href': 'http://py4e-data.dr-chuck.net/known_by_Rhian.html'}\n",
      "TAG: <a href=\"http://py4e-data.dr-chuck.net/known_by_Tiffany.html\">Tiffany</a>\n",
      "URL: http://py4e-data.dr-chuck.net/known_by_Tiffany.html\n",
      "Contents: Tiffany\n",
      "Attrs: {'href': 'http://py4e-data.dr-chuck.net/known_by_Tiffany.html'}\n",
      "TAG: <a href=\"http://py4e-data.dr-chuck.net/known_by_Akan.html\">Akan</a>\n",
      "URL: http://py4e-data.dr-chuck.net/known_by_Akan.html\n",
      "Contents: Akan\n",
      "Attrs: {'href': 'http://py4e-data.dr-chuck.net/known_by_Akan.html'}\n",
      "TAG: <a href=\"http://py4e-data.dr-chuck.net/known_by_Adie.html\">Adie</a>\n",
      "URL: http://py4e-data.dr-chuck.net/known_by_Adie.html\n",
      "Contents: Adie\n",
      "Attrs: {'href': 'http://py4e-data.dr-chuck.net/known_by_Adie.html'}\n",
      "TAG: <a href=\"http://py4e-data.dr-chuck.net/known_by_Marley.html\">Marley</a>\n",
      "URL: http://py4e-data.dr-chuck.net/known_by_Marley.html\n",
      "Contents: Marley\n",
      "Attrs: {'href': 'http://py4e-data.dr-chuck.net/known_by_Marley.html'}\n",
      "TAG: <a href=\"http://py4e-data.dr-chuck.net/known_by_Zacharie.html\">Zacharie</a>\n",
      "URL: http://py4e-data.dr-chuck.net/known_by_Zacharie.html\n",
      "Contents: Zacharie\n",
      "Attrs: {'href': 'http://py4e-data.dr-chuck.net/known_by_Zacharie.html'}\n",
      "TAG: <a href=\"http://py4e-data.dr-chuck.net/known_by_Raghida.html\">Raghida</a>\n",
      "URL: http://py4e-data.dr-chuck.net/known_by_Raghida.html\n",
      "Contents: Raghida\n",
      "Attrs: {'href': 'http://py4e-data.dr-chuck.net/known_by_Raghida.html'}\n",
      "TAG: <a href=\"http://py4e-data.dr-chuck.net/known_by_Anmolpreet.html\">Anmolpreet</a>\n",
      "URL: http://py4e-data.dr-chuck.net/known_by_Anmolpreet.html\n",
      "Contents: Anmolpreet\n",
      "Attrs: {'href': 'http://py4e-data.dr-chuck.net/known_by_Anmolpreet.html'}\n",
      "TAG: <a href=\"http://py4e-data.dr-chuck.net/known_by_Candice.html\">Candice</a>\n",
      "URL: http://py4e-data.dr-chuck.net/known_by_Candice.html\n",
      "Contents: Candice\n",
      "Attrs: {'href': 'http://py4e-data.dr-chuck.net/known_by_Candice.html'}\n",
      "TAG: <a href=\"http://py4e-data.dr-chuck.net/known_by_Kealan.html\">Kealan</a>\n",
      "URL: http://py4e-data.dr-chuck.net/known_by_Kealan.html\n",
      "Contents: Kealan\n",
      "Attrs: {'href': 'http://py4e-data.dr-chuck.net/known_by_Kealan.html'}\n",
      "TAG: <a href=\"http://py4e-data.dr-chuck.net/known_by_Heather.html\">Heather</a>\n",
      "URL: http://py4e-data.dr-chuck.net/known_by_Heather.html\n",
      "Contents: Heather\n",
      "Attrs: {'href': 'http://py4e-data.dr-chuck.net/known_by_Heather.html'}\n",
      "TAG: <a href=\"http://py4e-data.dr-chuck.net/known_by_Razan.html\">Razan</a>\n",
      "URL: http://py4e-data.dr-chuck.net/known_by_Razan.html\n",
      "Contents: Razan\n",
      "Attrs: {'href': 'http://py4e-data.dr-chuck.net/known_by_Razan.html'}\n",
      "TAG: <a href=\"http://py4e-data.dr-chuck.net/known_by_Prasheeta.html\">Prasheeta</a>\n",
      "URL: http://py4e-data.dr-chuck.net/known_by_Prasheeta.html\n",
      "Contents: Prasheeta\n",
      "Attrs: {'href': 'http://py4e-data.dr-chuck.net/known_by_Prasheeta.html'}\n",
      "TAG: <a href=\"http://py4e-data.dr-chuck.net/known_by_Shafia.html\">Shafia</a>\n",
      "URL: http://py4e-data.dr-chuck.net/known_by_Shafia.html\n",
      "Contents: Shafia\n",
      "Attrs: {'href': 'http://py4e-data.dr-chuck.net/known_by_Shafia.html'}\n",
      "TAG: <a href=\"http://py4e-data.dr-chuck.net/known_by_Zofia.html\">Zofia</a>\n",
      "URL: http://py4e-data.dr-chuck.net/known_by_Zofia.html\n",
      "Contents: Zofia\n",
      "Attrs: {'href': 'http://py4e-data.dr-chuck.net/known_by_Zofia.html'}\n",
      "TAG: <a href=\"http://py4e-data.dr-chuck.net/known_by_Zenab.html\">Zenab</a>\n",
      "URL: http://py4e-data.dr-chuck.net/known_by_Zenab.html\n",
      "Contents: Zenab\n",
      "Attrs: {'href': 'http://py4e-data.dr-chuck.net/known_by_Zenab.html'}\n",
      "TAG: <a href=\"http://py4e-data.dr-chuck.net/known_by_Ellyce.html\">Ellyce</a>\n",
      "URL: http://py4e-data.dr-chuck.net/known_by_Ellyce.html\n",
      "Contents: Ellyce\n",
      "Attrs: {'href': 'http://py4e-data.dr-chuck.net/known_by_Ellyce.html'}\n",
      "TAG: <a href=\"http://py4e-data.dr-chuck.net/known_by_Kyron.html\">Kyron</a>\n",
      "URL: http://py4e-data.dr-chuck.net/known_by_Kyron.html\n",
      "Contents: Kyron\n",
      "Attrs: {'href': 'http://py4e-data.dr-chuck.net/known_by_Kyron.html'}\n",
      "TAG: <a href=\"http://py4e-data.dr-chuck.net/known_by_Haghdann.html\">Haghdann</a>\n",
      "URL: http://py4e-data.dr-chuck.net/known_by_Haghdann.html\n",
      "Contents: Haghdann\n",
      "Attrs: {'href': 'http://py4e-data.dr-chuck.net/known_by_Haghdann.html'}\n",
      "TAG: <a href=\"http://py4e-data.dr-chuck.net/known_by_Sera.html\">Sera</a>\n",
      "URL: http://py4e-data.dr-chuck.net/known_by_Sera.html\n",
      "Contents: Sera\n",
      "Attrs: {'href': 'http://py4e-data.dr-chuck.net/known_by_Sera.html'}\n",
      "TAG: <a href=\"http://py4e-data.dr-chuck.net/known_by_Leyia.html\">Leyia</a>\n",
      "URL: http://py4e-data.dr-chuck.net/known_by_Leyia.html\n",
      "Contents: Leyia\n",
      "Attrs: {'href': 'http://py4e-data.dr-chuck.net/known_by_Leyia.html'}\n",
      "TAG: <a href=\"http://py4e-data.dr-chuck.net/known_by_Kaitlan.html\">Kaitlan</a>\n",
      "URL: http://py4e-data.dr-chuck.net/known_by_Kaitlan.html\n",
      "Contents: Kaitlan\n",
      "Attrs: {'href': 'http://py4e-data.dr-chuck.net/known_by_Kaitlan.html'}\n",
      "TAG: <a href=\"http://py4e-data.dr-chuck.net/known_by_Baileigh.html\">Baileigh</a>\n",
      "URL: http://py4e-data.dr-chuck.net/known_by_Baileigh.html\n",
      "Contents: Baileigh\n",
      "Attrs: {'href': 'http://py4e-data.dr-chuck.net/known_by_Baileigh.html'}\n",
      "TAG: <a href=\"http://py4e-data.dr-chuck.net/known_by_Hema.html\">Hema</a>\n",
      "URL: http://py4e-data.dr-chuck.net/known_by_Hema.html\n",
      "Contents: Hema\n",
      "Attrs: {'href': 'http://py4e-data.dr-chuck.net/known_by_Hema.html'}\n",
      "TAG: <a href=\"http://py4e-data.dr-chuck.net/known_by_Tye.html\">Tye</a>\n",
      "URL: http://py4e-data.dr-chuck.net/known_by_Tye.html\n",
      "Contents: Tye\n",
      "Attrs: {'href': 'http://py4e-data.dr-chuck.net/known_by_Tye.html'}\n",
      "TAG: <a href=\"http://py4e-data.dr-chuck.net/known_by_Gio.html\">Gio</a>\n",
      "URL: http://py4e-data.dr-chuck.net/known_by_Gio.html\n",
      "Contents: Gio\n",
      "Attrs: {'href': 'http://py4e-data.dr-chuck.net/known_by_Gio.html'}\n",
      "TAG: <a href=\"http://py4e-data.dr-chuck.net/known_by_Rahel.html\">Rahel</a>\n",
      "URL: http://py4e-data.dr-chuck.net/known_by_Rahel.html\n",
      "Contents: Rahel\n",
      "Attrs: {'href': 'http://py4e-data.dr-chuck.net/known_by_Rahel.html'}\n",
      "TAG: <a href=\"http://py4e-data.dr-chuck.net/known_by_Corrie.html\">Corrie</a>\n",
      "URL: http://py4e-data.dr-chuck.net/known_by_Corrie.html\n",
      "Contents: Corrie\n",
      "Attrs: {'href': 'http://py4e-data.dr-chuck.net/known_by_Corrie.html'}\n",
      "TAG: <a href=\"http://py4e-data.dr-chuck.net/known_by_Faheem.html\">Faheem</a>\n",
      "URL: http://py4e-data.dr-chuck.net/known_by_Faheem.html\n",
      "Contents: Faheem\n",
      "Attrs: {'href': 'http://py4e-data.dr-chuck.net/known_by_Faheem.html'}\n",
      "TAG: <a href=\"http://py4e-data.dr-chuck.net/known_by_Aida.html\">Aida</a>\n",
      "URL: http://py4e-data.dr-chuck.net/known_by_Aida.html\n",
      "Contents: Aida\n",
      "Attrs: {'href': 'http://py4e-data.dr-chuck.net/known_by_Aida.html'}\n",
      "TAG: <a href=\"http://py4e-data.dr-chuck.net/known_by_Madisyn.html\">Madisyn</a>\n",
      "URL: http://py4e-data.dr-chuck.net/known_by_Madisyn.html\n",
      "Contents: Madisyn\n",
      "Attrs: {'href': 'http://py4e-data.dr-chuck.net/known_by_Madisyn.html'}\n",
      "TAG: <a href=\"http://py4e-data.dr-chuck.net/known_by_Macallum.html\">Macallum</a>\n",
      "URL: http://py4e-data.dr-chuck.net/known_by_Macallum.html\n",
      "Contents: Macallum\n",
      "Attrs: {'href': 'http://py4e-data.dr-chuck.net/known_by_Macallum.html'}\n",
      "TAG: <a href=\"http://py4e-data.dr-chuck.net/known_by_Parwana.html\">Parwana</a>\n",
      "URL: http://py4e-data.dr-chuck.net/known_by_Parwana.html\n",
      "Contents: Parwana\n",
      "Attrs: {'href': 'http://py4e-data.dr-chuck.net/known_by_Parwana.html'}\n",
      "TAG: <a href=\"http://py4e-data.dr-chuck.net/known_by_Wiktorja.html\">Wiktorja</a>\n",
      "URL: http://py4e-data.dr-chuck.net/known_by_Wiktorja.html\n",
      "Contents: Wiktorja\n",
      "Attrs: {'href': 'http://py4e-data.dr-chuck.net/known_by_Wiktorja.html'}\n",
      "TAG: <a href=\"http://py4e-data.dr-chuck.net/known_by_Kaid.html\">Kaid</a>\n",
      "URL: http://py4e-data.dr-chuck.net/known_by_Kaid.html\n",
      "Contents: Kaid\n",
      "Attrs: {'href': 'http://py4e-data.dr-chuck.net/known_by_Kaid.html'}\n",
      "TAG: <a href=\"http://py4e-data.dr-chuck.net/known_by_Romana.html\">Romana</a>\n",
      "URL: http://py4e-data.dr-chuck.net/known_by_Romana.html\n",
      "Contents: Romana\n",
      "Attrs: {'href': 'http://py4e-data.dr-chuck.net/known_by_Romana.html'}\n",
      "TAG: <a href=\"http://py4e-data.dr-chuck.net/known_by_Melodie.html\">Melodie</a>\n",
      "URL: http://py4e-data.dr-chuck.net/known_by_Melodie.html\n",
      "Contents: Melodie\n",
      "Attrs: {'href': 'http://py4e-data.dr-chuck.net/known_by_Melodie.html'}\n",
      "TAG: <a href=\"http://py4e-data.dr-chuck.net/known_by_Mohd.html\">Mohd</a>\n",
      "URL: http://py4e-data.dr-chuck.net/known_by_Mohd.html\n",
      "Contents: Mohd\n",
      "Attrs: {'href': 'http://py4e-data.dr-chuck.net/known_by_Mohd.html'}\n",
      "TAG: <a href=\"http://py4e-data.dr-chuck.net/known_by_Jessica.html\">Jessica</a>\n",
      "URL: http://py4e-data.dr-chuck.net/known_by_Jessica.html\n",
      "Contents: Jessica\n",
      "Attrs: {'href': 'http://py4e-data.dr-chuck.net/known_by_Jessica.html'}\n",
      "TAG: <a href=\"http://py4e-data.dr-chuck.net/known_by_Kian.html\">Kian</a>\n",
      "URL: http://py4e-data.dr-chuck.net/known_by_Kian.html\n",
      "Contents: Kian\n",
      "Attrs: {'href': 'http://py4e-data.dr-chuck.net/known_by_Kian.html'}\n",
      "TAG: <a href=\"http://py4e-data.dr-chuck.net/known_by_Phebe.html\">Phebe</a>\n",
      "URL: http://py4e-data.dr-chuck.net/known_by_Phebe.html\n",
      "Contents: Phebe\n",
      "Attrs: {'href': 'http://py4e-data.dr-chuck.net/known_by_Phebe.html'}\n",
      "TAG: <a href=\"http://py4e-data.dr-chuck.net/known_by_Ailiegh.html\">Ailiegh</a>\n",
      "URL: http://py4e-data.dr-chuck.net/known_by_Ailiegh.html\n",
      "Contents: Ailiegh\n",
      "Attrs: {'href': 'http://py4e-data.dr-chuck.net/known_by_Ailiegh.html'}\n",
      "TAG: <a href=\"http://py4e-data.dr-chuck.net/known_by_Adnan.html\">Adnan</a>\n",
      "URL: http://py4e-data.dr-chuck.net/known_by_Adnan.html\n",
      "Contents: Adnan\n",
      "Attrs: {'href': 'http://py4e-data.dr-chuck.net/known_by_Adnan.html'}\n",
      "TAG: <a href=\"http://py4e-data.dr-chuck.net/known_by_Torquil.html\">Torquil</a>\n",
      "URL: http://py4e-data.dr-chuck.net/known_by_Torquil.html\n",
      "Contents: Torquil\n",
      "Attrs: {'href': 'http://py4e-data.dr-chuck.net/known_by_Torquil.html'}\n",
      "TAG: <a href=\"http://py4e-data.dr-chuck.net/known_by_Leyla.html\">Leyla</a>\n",
      "URL: http://py4e-data.dr-chuck.net/known_by_Leyla.html\n",
      "Contents: Leyla\n",
      "Attrs: {'href': 'http://py4e-data.dr-chuck.net/known_by_Leyla.html'}\n",
      "TAG: <a href=\"http://py4e-data.dr-chuck.net/known_by_Edward.html\">Edward</a>\n",
      "URL: http://py4e-data.dr-chuck.net/known_by_Edward.html\n",
      "Contents: Edward\n",
      "Attrs: {'href': 'http://py4e-data.dr-chuck.net/known_by_Edward.html'}\n",
      "TAG: <a href=\"http://py4e-data.dr-chuck.net/known_by_Kahlen.html\">Kahlen</a>\n",
      "URL: http://py4e-data.dr-chuck.net/known_by_Kahlen.html\n",
      "Contents: Kahlen\n",
      "Attrs: {'href': 'http://py4e-data.dr-chuck.net/known_by_Kahlen.html'}\n",
      "TAG: <a href=\"http://py4e-data.dr-chuck.net/known_by_Miaah.html\">Miaah</a>\n",
      "URL: http://py4e-data.dr-chuck.net/known_by_Miaah.html\n",
      "Contents: Miaah\n",
      "Attrs: {'href': 'http://py4e-data.dr-chuck.net/known_by_Miaah.html'}\n",
      "TAG: <a href=\"http://py4e-data.dr-chuck.net/known_by_Deni.html\">Deni</a>\n",
      "URL: http://py4e-data.dr-chuck.net/known_by_Deni.html\n",
      "Contents: Deni\n",
      "Attrs: {'href': 'http://py4e-data.dr-chuck.net/known_by_Deni.html'}\n",
      "TAG: <a href=\"http://py4e-data.dr-chuck.net/known_by_Kirsteen.html\">Kirsteen</a>\n",
      "URL: http://py4e-data.dr-chuck.net/known_by_Kirsteen.html\n",
      "Contents: Kirsteen\n",
      "Attrs: {'href': 'http://py4e-data.dr-chuck.net/known_by_Kirsteen.html'}\n",
      "TAG: <a href=\"http://py4e-data.dr-chuck.net/known_by_Iestyn.html\">Iestyn</a>\n",
      "URL: http://py4e-data.dr-chuck.net/known_by_Iestyn.html\n",
      "Contents: Iestyn\n",
      "Attrs: {'href': 'http://py4e-data.dr-chuck.net/known_by_Iestyn.html'}\n",
      "TAG: <a href=\"http://py4e-data.dr-chuck.net/known_by_Skyla.html\">Skyla</a>\n",
      "URL: http://py4e-data.dr-chuck.net/known_by_Skyla.html\n",
      "Contents: Skyla\n",
      "Attrs: {'href': 'http://py4e-data.dr-chuck.net/known_by_Skyla.html'}\n",
      "TAG: <a href=\"http://py4e-data.dr-chuck.net/known_by_Cadyn.html\">Cadyn</a>\n",
      "URL: http://py4e-data.dr-chuck.net/known_by_Cadyn.html\n",
      "Contents: Cadyn\n",
      "Attrs: {'href': 'http://py4e-data.dr-chuck.net/known_by_Cadyn.html'}\n",
      "TAG: <a href=\"http://py4e-data.dr-chuck.net/known_by_Tanya.html\">Tanya</a>\n",
      "URL: http://py4e-data.dr-chuck.net/known_by_Tanya.html\n",
      "Contents: Tanya\n",
      "Attrs: {'href': 'http://py4e-data.dr-chuck.net/known_by_Tanya.html'}\n",
      "TAG: <a href=\"http://py4e-data.dr-chuck.net/known_by_Griffyn.html\">Griffyn</a>\n",
      "URL: http://py4e-data.dr-chuck.net/known_by_Griffyn.html\n",
      "Contents: Griffyn\n",
      "Attrs: {'href': 'http://py4e-data.dr-chuck.net/known_by_Griffyn.html'}\n",
      "TAG: <a href=\"http://py4e-data.dr-chuck.net/known_by_Danniel.html\">Danniel</a>\n",
      "URL: http://py4e-data.dr-chuck.net/known_by_Danniel.html\n",
      "Contents: Danniel\n",
      "Attrs: {'href': 'http://py4e-data.dr-chuck.net/known_by_Danniel.html'}\n",
      "TAG: <a href=\"http://py4e-data.dr-chuck.net/known_by_Keemaya.html\">Keemaya</a>\n",
      "URL: http://py4e-data.dr-chuck.net/known_by_Keemaya.html\n",
      "Contents: Keemaya\n",
      "Attrs: {'href': 'http://py4e-data.dr-chuck.net/known_by_Keemaya.html'}\n",
      "TAG: <a href=\"http://py4e-data.dr-chuck.net/known_by_Clarisse.html\">Clarisse</a>\n",
      "URL: http://py4e-data.dr-chuck.net/known_by_Clarisse.html\n",
      "Contents: Clarisse\n",
      "Attrs: {'href': 'http://py4e-data.dr-chuck.net/known_by_Clarisse.html'}\n",
      "TAG: <a href=\"http://py4e-data.dr-chuck.net/known_by_Vanni.html\">Vanni</a>\n",
      "URL: http://py4e-data.dr-chuck.net/known_by_Vanni.html\n",
      "Contents: Vanni\n",
      "Attrs: {'href': 'http://py4e-data.dr-chuck.net/known_by_Vanni.html'}\n",
      "TAG: <a href=\"http://py4e-data.dr-chuck.net/known_by_Lileidh.html\">Lileidh</a>\n",
      "URL: http://py4e-data.dr-chuck.net/known_by_Lileidh.html\n",
      "Contents: Lileidh\n",
      "Attrs: {'href': 'http://py4e-data.dr-chuck.net/known_by_Lileidh.html'}\n",
      "TAG: <a href=\"http://py4e-data.dr-chuck.net/known_by_Cirah.html\">Cirah</a>\n",
      "URL: http://py4e-data.dr-chuck.net/known_by_Cirah.html\n",
      "Contents: Cirah\n",
      "Attrs: {'href': 'http://py4e-data.dr-chuck.net/known_by_Cirah.html'}\n",
      "TAG: <a href=\"http://py4e-data.dr-chuck.net/known_by_Dacia.html\">Dacia</a>\n",
      "URL: http://py4e-data.dr-chuck.net/known_by_Dacia.html\n",
      "Contents: Dacia\n",
      "Attrs: {'href': 'http://py4e-data.dr-chuck.net/known_by_Dacia.html'}\n",
      "TAG: <a href=\"http://py4e-data.dr-chuck.net/known_by_Moore.html\">Moore</a>\n",
      "URL: http://py4e-data.dr-chuck.net/known_by_Moore.html\n",
      "Contents: Moore\n",
      "Attrs: {'href': 'http://py4e-data.dr-chuck.net/known_by_Moore.html'}\n",
      "TAG: <a href=\"http://py4e-data.dr-chuck.net/known_by_Coleen.html\">Coleen</a>\n",
      "URL: http://py4e-data.dr-chuck.net/known_by_Coleen.html\n",
      "Contents: Coleen\n",
      "Attrs: {'href': 'http://py4e-data.dr-chuck.net/known_by_Coleen.html'}\n",
      "TAG: <a href=\"http://py4e-data.dr-chuck.net/known_by_I.html\">I</a>\n",
      "URL: http://py4e-data.dr-chuck.net/known_by_I.html\n",
      "Contents: I\n",
      "Attrs: {'href': 'http://py4e-data.dr-chuck.net/known_by_I.html'}\n",
      "TAG: <a href=\"http://py4e-data.dr-chuck.net/known_by_Jenson.html\">Jenson</a>\n",
      "URL: http://py4e-data.dr-chuck.net/known_by_Jenson.html\n",
      "Contents: Jenson\n",
      "Attrs: {'href': 'http://py4e-data.dr-chuck.net/known_by_Jenson.html'}\n",
      "TAG: <a href=\"http://py4e-data.dr-chuck.net/known_by_MacCartney.html\">MacCartney</a>\n",
      "URL: http://py4e-data.dr-chuck.net/known_by_MacCartney.html\n",
      "Contents: MacCartney\n",
      "Attrs: {'href': 'http://py4e-data.dr-chuck.net/known_by_MacCartney.html'}\n",
      "TAG: <a href=\"http://py4e-data.dr-chuck.net/known_by_Avya.html\">Avya</a>\n",
      "URL: http://py4e-data.dr-chuck.net/known_by_Avya.html\n",
      "Contents: Avya\n",
      "Attrs: {'href': 'http://py4e-data.dr-chuck.net/known_by_Avya.html'}\n",
      "TAG: <a href=\"http://py4e-data.dr-chuck.net/known_by_Ranolph.html\">Ranolph</a>\n",
      "URL: http://py4e-data.dr-chuck.net/known_by_Ranolph.html\n",
      "Contents: Ranolph\n",
      "Attrs: {'href': 'http://py4e-data.dr-chuck.net/known_by_Ranolph.html'}\n",
      "TAG: <a href=\"http://py4e-data.dr-chuck.net/known_by_Kristen.html\">Kristen</a>\n",
      "URL: http://py4e-data.dr-chuck.net/known_by_Kristen.html\n",
      "Contents: Kristen\n",
      "Attrs: {'href': 'http://py4e-data.dr-chuck.net/known_by_Kristen.html'}\n",
      "TAG: <a href=\"http://py4e-data.dr-chuck.net/known_by_Ayaan.html\">Ayaan</a>\n",
      "URL: http://py4e-data.dr-chuck.net/known_by_Ayaan.html\n",
      "Contents: Ayaan\n",
      "Attrs: {'href': 'http://py4e-data.dr-chuck.net/known_by_Ayaan.html'}\n",
      "TAG: <a href=\"http://py4e-data.dr-chuck.net/known_by_Umaya.html\">Umaya</a>\n",
      "URL: http://py4e-data.dr-chuck.net/known_by_Umaya.html\n",
      "Contents: Umaya\n",
      "Attrs: {'href': 'http://py4e-data.dr-chuck.net/known_by_Umaya.html'}\n",
      "TAG: <a href=\"http://py4e-data.dr-chuck.net/known_by_Morgen.html\">Morgen</a>\n",
      "URL: http://py4e-data.dr-chuck.net/known_by_Morgen.html\n",
      "Contents: Morgen\n",
      "Attrs: {'href': 'http://py4e-data.dr-chuck.net/known_by_Morgen.html'}\n",
      "TAG: <a href=\"http://py4e-data.dr-chuck.net/known_by_Jabin.html\">Jabin</a>\n",
      "URL: http://py4e-data.dr-chuck.net/known_by_Jabin.html\n",
      "Contents: Jabin\n",
      "Attrs: {'href': 'http://py4e-data.dr-chuck.net/known_by_Jabin.html'}\n",
      "TAG: <a href=\"http://py4e-data.dr-chuck.net/known_by_Kaydee.html\">Kaydee</a>\n",
      "URL: http://py4e-data.dr-chuck.net/known_by_Kaydee.html\n",
      "Contents: Kaydee\n",
      "Attrs: {'href': 'http://py4e-data.dr-chuck.net/known_by_Kaydee.html'}\n",
      "TAG: <a href=\"http://py4e-data.dr-chuck.net/known_by_Kenneth.html\">Kenneth</a>\n",
      "URL: http://py4e-data.dr-chuck.net/known_by_Kenneth.html\n",
      "Contents: Kenneth\n",
      "Attrs: {'href': 'http://py4e-data.dr-chuck.net/known_by_Kenneth.html'}\n",
      "TAG: <a href=\"http://py4e-data.dr-chuck.net/known_by_Amani.html\">Amani</a>\n",
      "URL: http://py4e-data.dr-chuck.net/known_by_Amani.html\n",
      "Contents: Amani\n",
      "Attrs: {'href': 'http://py4e-data.dr-chuck.net/known_by_Amani.html'}\n",
      "TAG: <a href=\"http://py4e-data.dr-chuck.net/known_by_Jayhan.html\">Jayhan</a>\n",
      "URL: http://py4e-data.dr-chuck.net/known_by_Jayhan.html\n",
      "Contents: Jayhan\n",
      "Attrs: {'href': 'http://py4e-data.dr-chuck.net/known_by_Jayhan.html'}\n",
      "TAG: <a href=\"http://py4e-data.dr-chuck.net/known_by_Kuzivakwashe.html\">Kuzivakwashe</a>\n",
      "URL: http://py4e-data.dr-chuck.net/known_by_Kuzivakwashe.html\n",
      "Contents: Kuzivakwashe\n",
      "Attrs: {'href': 'http://py4e-data.dr-chuck.net/known_by_Kuzivakwashe.html'}\n",
      "TAG: <a href=\"http://py4e-data.dr-chuck.net/known_by_Rukhsana.html\">Rukhsana</a>\n",
      "URL: http://py4e-data.dr-chuck.net/known_by_Rukhsana.html\n",
      "Contents: Rukhsana\n",
      "Attrs: {'href': 'http://py4e-data.dr-chuck.net/known_by_Rukhsana.html'}\n",
      "TAG: <a href=\"http://py4e-data.dr-chuck.net/known_by_Camryn.html\">Camryn</a>\n",
      "URL: http://py4e-data.dr-chuck.net/known_by_Camryn.html\n",
      "Contents: Camryn\n",
      "Attrs: {'href': 'http://py4e-data.dr-chuck.net/known_by_Camryn.html'}\n",
      "TAG: <a href=\"http://py4e-data.dr-chuck.net/known_by_Cahl.html\">Cahl</a>\n",
      "URL: http://py4e-data.dr-chuck.net/known_by_Cahl.html\n",
      "Contents: Cahl\n",
      "Attrs: {'href': 'http://py4e-data.dr-chuck.net/known_by_Cahl.html'}\n",
      "TAG: <a href=\"http://py4e-data.dr-chuck.net/known_by_Jillian.html\">Jillian</a>\n",
      "URL: http://py4e-data.dr-chuck.net/known_by_Jillian.html\n",
      "Contents: Jillian\n",
      "Attrs: {'href': 'http://py4e-data.dr-chuck.net/known_by_Jillian.html'}\n",
      "TAG: <a href=\"http://py4e-data.dr-chuck.net/known_by_Tammie.html\">Tammie</a>\n",
      "URL: http://py4e-data.dr-chuck.net/known_by_Tammie.html\n",
      "Contents: Tammie\n",
      "Attrs: {'href': 'http://py4e-data.dr-chuck.net/known_by_Tammie.html'}\n",
      "TAG: <a href=\"http://py4e-data.dr-chuck.net/known_by_Kaylynn.html\">Kaylynn</a>\n",
      "URL: http://py4e-data.dr-chuck.net/known_by_Kaylynn.html\n",
      "Contents: Kaylynn\n",
      "Attrs: {'href': 'http://py4e-data.dr-chuck.net/known_by_Kaylynn.html'}\n",
      "TAG: <a href=\"http://py4e-data.dr-chuck.net/known_by_Efanam.html\">Efanam</a>\n",
      "URL: http://py4e-data.dr-chuck.net/known_by_Efanam.html\n",
      "Contents: Efanam\n",
      "Attrs: {'href': 'http://py4e-data.dr-chuck.net/known_by_Efanam.html'}\n",
      "TAG: <a href=\"http://py4e-data.dr-chuck.net/known_by_Jakey.html\">Jakey</a>\n",
      "URL: http://py4e-data.dr-chuck.net/known_by_Jakey.html\n",
      "Contents: Jakey\n",
      "Attrs: {'href': 'http://py4e-data.dr-chuck.net/known_by_Jakey.html'}\n"
     ]
    }
   ],
   "source": [
    "import urllib.request, urllib.parse, urllib.error\n",
    "from bs4 import BeautifulSoup\n",
    "import ssl\n",
    "\n",
    "# Ignore SSL certificate errors\n",
    "ctx = ssl.create_default_context()\n",
    "ctx.check_hostname = False\n",
    "ctx.verify_mode = ssl.CERT_NONE\n",
    "\n",
    "\n",
    "link_2= 'http://py4e-data.dr-chuck.net/known_by_Rahman.html'\n",
    "\n",
    "# url = input('Enter - ')\n",
    "html = urlopen(link_2, context=ctx).read()\n",
    "soup = BeautifulSoup(html, \"html.parser\")\n",
    "count = input('count?')\n",
    "pos = input('position?')\n",
    "\n",
    "# Retrieve all of the anchor tags\n",
    "tags = soup('a')\n",
    "for tag in tags:\n",
    "    # Look at the parts of a tag\n",
    "    print('Retrieving:' , tag.contents[0])\n",
    "    print('Contents:', tag.contents[0])\n",
    "    "
   ]
  },
  {
   "cell_type": "code",
   "execution_count": 30,
   "metadata": {},
   "outputs": [
    {
     "name": "stdout",
     "output_type": "stream",
     "text": [
      "Contents: Jakey\n",
      "Contents: Jakey\n",
      "Contents: Jakey\n",
      "Contents: Jakey\n",
      "Contents: Jakey\n",
      "Contents: Jakey\n"
     ]
    }
   ],
   "source": [
    "import urllib\n",
    "from bs4 import BeautifulSoup\n",
    "\n",
    "link_2= 'http://py4e-data.dr-chuck.net/known_by_Rahman.html'\n",
    "html = urlopen(link_2).read()\n",
    "soup = BeautifulSoup(html, 'html.parser')\n",
    "count = 6\n",
    "position = 17\n",
    "tags_lst = []\n",
    "\n",
    "for x in range(count):\n",
    "    tags = soup('a')\n",
    "    my_tags = tags[position]\n",
    "    needed_tag = my_tags.get('href', None)\n",
    "    tags_lst.append(needed_tag)\n",
    "    url = str(needed_tag)\n",
    "    html = urlopen(url).read()\n",
    "    soup = BeautifulSoup(html, 'html.parser')\n",
    "    print('Contents:', tag.contents[0])"
   ]
  },
  {
   "cell_type": "code",
   "execution_count": 42,
   "metadata": {},
   "outputs": [
    {
     "name": "stdout",
     "output_type": "stream",
     "text": [
      "Enter count:7\n",
      "Enter position:18\n",
      "Retrieving:  http://py4e-data.dr-chuck.net/known_by_Rahman.html\n",
      "Retrieving:  http://py4e-data.dr-chuck.net/known_by_Marley.html\n",
      "Retrieving:  http://py4e-data.dr-chuck.net/known_by_Campbel.html\n",
      "Retrieving:  http://py4e-data.dr-chuck.net/known_by_Eiko.html\n",
      "Retrieving:  http://py4e-data.dr-chuck.net/known_by_Naomi.html\n",
      "Retrieving:  http://py4e-data.dr-chuck.net/known_by_Cherelle.html\n",
      "Retrieving:  http://py4e-data.dr-chuck.net/known_by_Aarman.html\n",
      "Retrieving:  http://py4e-data.dr-chuck.net/known_by_Zaki.html\n"
     ]
    }
   ],
   "source": [
    "import urllib.request, urllib.parse, urllib.error\n",
    "from bs4 import BeautifulSoup\n",
    "import ssl\n",
    "\n",
    "# Ignore SSL certificate errors\n",
    "ctx = ssl.create_default_context()\n",
    "ctx.check_hostname = False\n",
    "ctx.verify_mode = ssl.CERT_NONE\n",
    "url = 'http://py4e-data.dr-chuck.net/known_by_Rahman.html'\n",
    "html = urllib.request.urlopen(url, context=ctx).read()\n",
    "soup = BeautifulSoup(html, 'html.parser')\n",
    "\n",
    "# get user input for how many times to search\n",
    "count = int(input('Enter count:'))\n",
    "\n",
    "# get user input for which url to click on\n",
    "position = int(input('Enter position:'))-1\n",
    "\n",
    "while count >= 0:\n",
    "    # re-reads the current url\n",
    "    html = urllib.request.urlopen(url, context=ctx).read()\n",
    "    # creates a new soup object\n",
    "    soup = BeautifulSoup(html, 'html.parser')\n",
    "    # searches the page for all <a> tags\n",
    "    tags = soup('a')\n",
    "    print(\"Retrieving: \", url)\n",
    "    # upates the current url\n",
    "    url = tags[position].get(\"href\", None)\n",
    "    count = count - 1\n",
    "\n"
   ]
  },
  {
   "cell_type": "code",
   "execution_count": 41,
   "metadata": {},
   "outputs": [
    {
     "data": {
      "text/plain": [
       "'http://py4e-data.dr-chuck.net/known_by_Zaki.html'"
      ]
     },
     "execution_count": 41,
     "metadata": {},
     "output_type": "execute_result"
    }
   ],
   "source": []
  },
  {
   "cell_type": "code",
   "execution_count": null,
   "metadata": {},
   "outputs": [],
   "source": []
  }
 ],
 "metadata": {
  "kernelspec": {
   "display_name": "Python 3",
   "language": "python",
   "name": "python3"
  },
  "language_info": {
   "codemirror_mode": {
    "name": "ipython",
    "version": 3
   },
   "file_extension": ".py",
   "mimetype": "text/x-python",
   "name": "python",
   "nbconvert_exporter": "python",
   "pygments_lexer": "ipython3",
   "version": "3.8.2"
  }
 },
 "nbformat": 4,
 "nbformat_minor": 4
}
