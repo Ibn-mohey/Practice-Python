{
 "cells": [
  {
   "cell_type": "code",
   "execution_count": 1,
   "metadata": {},
   "outputs": [
    {
     "data": {
      "text/plain": [
       "'E:\\\\career\\\\Dataa\\\\github\\\\py-practice-general-\\\\Using Python to Access Web Data'"
      ]
     },
     "execution_count": 1,
     "metadata": {},
     "output_type": "execute_result"
    }
   ],
   "source": [
    "import re\n",
    "import urllib\n",
    "url = \"http://py4e-data.dr-chuck.net/regex_sum_721157.txt\"\n",
    "name = \"regex_sum_721157.txt\"\n",
    "urllib.request.urlretrieve(url, name)\n",
    "\n",
    "\n",
    "import os \n",
    "os.getcwd()"
   ]
  },
  {
   "cell_type": "code",
   "execution_count": 55,
   "metadata": {},
   "outputs": [
    {
     "name": "stdout",
     "output_type": "stream",
     "text": [
      "There are 92 numbers in this file that have a total sum of 394705\n"
     ]
    }
   ],
   "source": [
    "hand = open(\"regex_sum_721157.txt\", mode = 'r')\n",
    "numList = list()\n",
    "for l in hand:\n",
    "    l = l.rstrip()\n",
    "    nums = re.findall('[0-9]+', l)\n",
    "    for n in nums:\n",
    "        x = int(n)\n",
    "        numList.append(x)\n",
    "\n",
    "y = 0\n",
    "for j in numList:\n",
    "            y = y + j\n",
    "print ( 'There are ' + str(len(numList)) + ' numbers in this file that have a total sum of ' + str(y))"
   ]
  },
  {
   "cell_type": "code",
   "execution_count": 46,
   "metadata": {},
   "outputs": [],
   "source": [
    "y = 0\n",
    "for n in numList:\n",
    "    y = y + n"
   ]
  },
  {
   "cell_type": "code",
   "execution_count": 48,
   "metadata": {},
   "outputs": [
    {
     "data": {
      "text/plain": [
       "394705"
      ]
     },
     "execution_count": 48,
     "metadata": {},
     "output_type": "execute_result"
    }
   ],
   "source": [
    "y"
   ]
  },
  {
   "cell_type": "code",
   "execution_count": 57,
   "metadata": {},
   "outputs": [],
   "source": [
    "import socket \n",
    "mysock = socket.socket(socket.AF_INET, socket.SOCK_STREAM)\n",
    "mysock.connect(('data.pr4e.org' , 80)) #make the connection "
   ]
  },
  {
   "cell_type": "code",
   "execution_count": null,
   "metadata": {},
   "outputs": [],
   "source": []
  }
 ],
 "metadata": {
  "kernelspec": {
   "display_name": "Python 3",
   "language": "python",
   "name": "python3"
  },
  "language_info": {
   "codemirror_mode": {
    "name": "ipython",
    "version": 3
   },
   "file_extension": ".py",
   "mimetype": "text/x-python",
   "name": "python",
   "nbconvert_exporter": "python",
   "pygments_lexer": "ipython3",
   "version": "3.8.2"
  }
 },
 "nbformat": 4,
 "nbformat_minor": 4
}
