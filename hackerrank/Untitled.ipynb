{
 "cells": [
  {
   "cell_type": "code",
   "execution_count": 14,
   "id": "945c4894",
   "metadata": {},
   "outputs": [
    {
     "name": "stdout",
     "output_type": "stream",
     "text": [
      "4 0\n",
      "4 4\n",
      "\n",
      "-----------------------\n",
      "9\n"
     ]
    }
   ],
   "source": [
    "#!/bin/python3\n",
    "\n",
    "import math\n",
    "import os\n",
    "import random\n",
    "import re\n",
    "import sys\n",
    "\n",
    "#\n",
    "# Complete the 'queensAttack' function below.\n",
    "#\n",
    "# The function is expected to return an INTEGER.\n",
    "# The function accepts following parameters:\n",
    "#  1. INTEGER n\n",
    "#  2. INTEGER k\n",
    "#  3. INTEGER r_q\n",
    "#  4. INTEGER c_q\n",
    "#  5. 2D_INTEGER_ARRAY obstacles\n",
    "#\n",
    "\n",
    "def queensAttack(n, k, r_q, c_q, obstacles):\n",
    "    # Write your code here\n",
    "    print(\"\\n-----------------------\")\n",
    "    obstacles_set=set([tuple(item) for item in obstacles])\n",
    "    obstacles_set.add((r_q,c_q))\n",
    "    import itertools\n",
    "    XYS = list(itertools.product(*[[0,1,-1],[0,1,-1]]))\n",
    "    count=0\n",
    "    for x,y in XYS:\n",
    "        row = r_q+x\n",
    "        col = c_q+y\n",
    "        while 1<=row<=n and 1<=col<=n and (row,col) not in obstacles_set:\n",
    "            row = row+x\n",
    "            col = col+y\n",
    "            count+=1\n",
    "    print(count)\n",
    "\n",
    "if __name__ == '__main__':\n",
    "#     fptr = open(os.environ['OUTPUT_PATH'], 'w')\n",
    "\n",
    "    first_multiple_input = input().rstrip().split()\n",
    "\n",
    "    n = int(first_multiple_input[0])\n",
    "\n",
    "    k = int(first_multiple_input[1])\n",
    "\n",
    "    second_multiple_input = input().rstrip().split()\n",
    "\n",
    "    r_q = int(second_multiple_input[0])\n",
    "\n",
    "    c_q = int(second_multiple_input[1])\n",
    "\n",
    "    obstacles = []\n",
    "\n",
    "    for _ in range(k):\n",
    "        obstacles.append(list(map(int, input().rstrip().split())))\n",
    "\n",
    "    queensAttack(n, k, r_q, c_q, obstacles)\n",
    "\n",
    "#     fptr.write(str(result) + '\\n')\n",
    "\n",
    "#     fptr.close()\n"
   ]
  },
  {
   "cell_type": "code",
   "execution_count": 16,
   "id": "6840a808",
   "metadata": {},
   "outputs": [
    {
     "data": {
      "text/plain": [
       "[(0, 0), (0, 1), (0, -1), (1, 0), (1, 1), (1, -1), (-1, 0), (-1, 1), (-1, -1)]"
      ]
     },
     "execution_count": 16,
     "metadata": {},
     "output_type": "execute_result"
    }
   ],
   "source": [
    " import itertools\n",
    "a = [[0,1,-1],[0,1,-1]]\n",
    "list(itertools.product(*a))"
   ]
  },
  {
   "cell_type": "code",
   "execution_count": null,
   "id": "0814c431",
   "metadata": {},
   "outputs": [],
   "source": [
    "    if (r_q,c_q) in obstacles_set:\n",
    "        return 0\n",
    "    if n==0:\n",
    "    return 0"
   ]
  },
  {
   "cell_type": "code",
   "execution_count": 8,
   "id": "d2badae7",
   "metadata": {},
   "outputs": [
    {
     "data": {
      "text/plain": [
       "[[5, 5], [4, 2], [2, 3]]"
      ]
     },
     "execution_count": 8,
     "metadata": {},
     "output_type": "execute_result"
    }
   ],
   "source": [
    "obstacles"
   ]
  },
  {
   "cell_type": "code",
   "execution_count": 9,
   "id": "e3cfd089",
   "metadata": {},
   "outputs": [],
   "source": [
    "vset=set([tuple(item) for item in obstacles])"
   ]
  },
  {
   "cell_type": "code",
   "execution_count": 10,
   "id": "7a6cbc74",
   "metadata": {},
   "outputs": [
    {
     "data": {
      "text/plain": [
       "{(2, 3), (4, 2), (5, 5)}"
      ]
     },
     "execution_count": 10,
     "metadata": {},
     "output_type": "execute_result"
    }
   ],
   "source": [
    "vset"
   ]
  },
  {
   "cell_type": "code",
   "execution_count": null,
   "id": "2d5d55e0",
   "metadata": {},
   "outputs": [],
   "source": [
    "1 0\n",
    "1 1\n",
    "queensAttack(n, k, r_q, c_q, obstacles)"
   ]
  }
 ],
 "metadata": {
  "kernelspec": {
   "display_name": "Python 3 (ipykernel)",
   "language": "python",
   "name": "python3"
  },
  "language_info": {
   "codemirror_mode": {
    "name": "ipython",
    "version": 3
   },
   "file_extension": ".py",
   "mimetype": "text/x-python",
   "name": "python",
   "nbconvert_exporter": "python",
   "pygments_lexer": "ipython3",
   "version": "3.9.12"
  }
 },
 "nbformat": 4,
 "nbformat_minor": 5
}
