{
 "cells": [
  {
   "cell_type": "code",
   "execution_count": 1,
   "id": "8933e181",
   "metadata": {},
   "outputs": [],
   "source": [
    "from selenium import webdriver\n",
    "from selenium.webdriver.common.keys import Keys\n",
    "from selenium.webdriver.common.by import By\n",
    "from selenium.webdriver.chrome.service import Service\n",
    "from webdriver_manager.chrome import ChromeDriverManager\n",
    "from selenium.webdriver.support.ui import WebDriverWait\n",
    "import re\n",
    "from selenium import webdriver\n",
    "import urllib.request\n",
    "import urllib.error\n",
    "from selenium.webdriver.support import expected_conditions as EC\n",
    "import time\n",
    "from selenium import webdriver\n",
    "import time\n",
    "from selenium import webdriver\n",
    "from datetime import datetime\n",
    "import urllib.request\n",
    "from datetime import datetime\n",
    "import sqlite3\n",
    "import requests\n",
    "import cv2\n",
    "import sys\n",
    "import argparse\n",
    "from datetime import date\n",
    "import pandas as pd"
   ]
  },
  {
   "cell_type": "code",
   "execution_count": 2,
   "id": "956c01f6",
   "metadata": {},
   "outputs": [
    {
     "name": "stdout",
     "output_type": "stream",
     "text": [
      "\n"
     ]
    },
    {
     "name": "stderr",
     "output_type": "stream",
     "text": [
      "[WDM] - ====== WebDriver manager ======\n",
      "[WDM] - Current google-chrome version is 111.0.5563\n",
      "[WDM] - Get LATEST chromedriver version for 111.0.5563 google-chrome\n",
      "[WDM] - About to download new driver from https://chromedriver.storage.googleapis.com/111.0.5563.64/chromedriver_win32.zip\n",
      "[WDM] - Driver has been saved in cache [C:\\Users\\asd_v\\.wdm\\drivers\\chromedriver\\win32\\111.0.5563.64]\n"
     ]
    }
   ],
   "source": [
    "chrome_options = webdriver.ChromeOptions()\n",
    "chrome_options.add_argument(\"--window-size=1920,1080\")\n",
    "try:\n",
    "    driver.close()\n",
    "except:\n",
    "    pass\n",
    "driver = webdriver.Chrome(service=Service(ChromeDriverManager().install()),options=chrome_options)"
   ]
  },
  {
   "cell_type": "code",
   "execution_count": 82,
   "id": "cf6cfb3c",
   "metadata": {},
   "outputs": [],
   "source": [
    "driver.get('https://www.propertyfinder.eg/ar/search?c=1&ob=mr')\n",
    "#next page \n",
    "def go_next_page(driver):\n",
    "    try:\n",
    "        WebDriverWait(driver, 2).until(EC.element_to_be_clickable((By.CSS_SELECTOR,'a[class=\"pagination__link pagination__link--next\"]'))).click()\n",
    "    except:\n",
    "        return \"end\"\n",
    "go_next = 'start'\n",
    "while go_next != 'end':\n",
    "    full_ads = driver.find_elements(By.CSS_SELECTOR, 'article[class=\"card\"]')\n",
    "    for ad in full_ads:\n",
    "        try:\n",
    "            link = ad.find_element(By.CSS_SELECTOR, 'a[class=\"card__link\"]').get_attribute('href')\n",
    "            try:\n",
    "                P_type = ad.find_element(By.CSS_SELECTOR, 'p[class^=\"card-intro__type\"]').text\n",
    "            except:\n",
    "                P_type = 'NA'\n",
    "            try:\n",
    "                price = ad.find_element(By.CSS_SELECTOR, 'p[class^=\"card-intro__price\"]').text\n",
    "            except:\n",
    "                price = \"NA\"\n",
    "            try:\n",
    "                title = ad.find_element(By.CSS_SELECTOR, 'h2[class^=\"card-intro__title\"]').text\n",
    "            except:\n",
    "                title = 'NA'\n",
    "            try:\n",
    "                location = ad.find_element(By.CSS_SELECTOR, 'span[class=\"card-specifications__location-text\"]').text\n",
    "            except:\n",
    "                location = 'NA'\n",
    "            specs = ad.find_elements(By.CSS_SELECTOR, 'p[class^=\"card-specifications__item\"]')\n",
    "            try:\n",
    "                bedrooms =  specs[0].text\n",
    "            except:\n",
    "                bedrooms = 'NA'\n",
    "            try:\n",
    "                area  = specs[1].text\n",
    "            except:\n",
    "                area = 'NA'\n",
    "            try:\n",
    "                date = ad.find_element(By.CSS_SELECTOR, 'p[class^=\"card-footer__publish-date\"]').text\n",
    "            except:\n",
    "                date = 'NA'\n",
    "        except:\n",
    "            continue\n",
    "        with open('data.csv','a', encoding='utf-8') as fd:\n",
    "            fd.write(','.join([link,P_type,price,title,location,bedrooms,area,date]))\n",
    "    go_next = go_next_page(driver)"
   ]
  }
 ],
 "metadata": {
  "kernelspec": {
   "display_name": "Python 3 (ipykernel)",
   "language": "python",
   "name": "python3"
  },
  "language_info": {
   "codemirror_mode": {
    "name": "ipython",
    "version": 3
   },
   "file_extension": ".py",
   "mimetype": "text/x-python",
   "name": "python",
   "nbconvert_exporter": "python",
   "pygments_lexer": "ipython3",
   "version": "3.9.12"
  }
 },
 "nbformat": 4,
 "nbformat_minor": 5
}
