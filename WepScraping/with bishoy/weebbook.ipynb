{
 "cells": [
  {
   "cell_type": "code",
   "execution_count": 1,
   "metadata": {},
   "outputs": [],
   "source": [
    "from datetime import date\n",
    "from datetime import datetime\n",
    "from selenium import webdriver\n",
    "from selenium.webdriver.chrome.options import Options\n",
    "from selenium.webdriver.chrome.service import Service\n",
    "from selenium.webdriver.common.by import By\n",
    "from selenium.webdriver.common.keys import Keys\n",
    "from selenium.webdriver.support import expected_conditions as EC\n",
    "from selenium.webdriver.support.ui import WebDriverWait\n",
    "from webdriver_manager.chrome import ChromeDriverManager\n",
    "import argparse\n",
    "import cv2\n",
    "import json\n",
    "import mysql.connector\n",
    "import re\n",
    "import requests\n",
    "import sqlite3\n",
    "from sqlite3 import Error\n",
    "import sys\n",
    "import time\n",
    "import traceback\n",
    "import urllib.error\n",
    "import urllib.request\n",
    "from selenium.webdriver.common.action_chains import ActionChains\n",
    "from selenium.common.exceptions import TimeoutException as cant_find_element\n",
    "import pandas as pd\n",
    "\n",
    "\n",
    "\n",
    "from selenium.webdriver.chrome.options import Options\n",
    "all_options = Options()\n",
    "# options.binary_location = \"D:\\Downloads\\GoogleChromePortable114\\GoogleChromePortable.exe\"\n",
    "all_options.add_argument(\"--window-size=1920,1080\")\n",
    "# all_options.add_argument(\"--mute-audio\")\n",
    "all_options.add_argument('--no-sandbox')\n",
    "# all_options.add_argument('--no-default-browser-check')\n",
    "# all_options.add_argument('--disable-blink-features=AutomationControlled')\n",
    "# all_options.add_argument('--no-first-run')\n",
    "all_options.add_argument('--disable-gpu')\n",
    "# all_options.add_argument('--disable-extensions')\n",
    "# all_options.add_argument('--disable-default-apps')\n",
    "\n",
    "##silent\n",
    "all_options.add_argument(\"--disable-gpu\")\n",
    "all_options.add_argument('--headless')\n",
    "# all_options.add_argument('--lang=en')\n",
    "# all_options.add_argument('--disable-features=TranslateUI')\n",
    "# all_options.add_argument('--disable-translate')  # Not supported any more on Chrome\n",
    "prefs = {\n",
    "  \"translate_whitelists\": {\"en\":\"en\"},\n",
    "  \"translate\":{\"enabled\":\"disable\"}\n",
    "}\n",
    "all_options.add_experimental_option(\"prefs\", prefs)\n",
    "# browser = webdriver.Chrome(chrome_options=options)\n",
    "\n",
    "try:\n",
    "    driver.close()\n",
    "except:\n",
    "    pass\n",
    "# driver = webdriver.Chrome(service=Service(executable_path = './chromedriver_win32/chromedriver.exe'),options= all_options)\n",
    "driver = webdriver.Chrome(options= all_options)\n"
   ]
  },
  {
   "cell_type": "code",
   "execution_count": 3,
   "metadata": {},
   "outputs": [],
   "source": [
    "try:\n",
    "    driver.close()\n",
    "except:\n",
    "    pass\n",
    "# driver = webdriver.Chrome(service=Service(executable_path = './chromedriver_win32/chromedriver.exe'),options= all_options)\n",
    "driver = webdriver.Chrome()"
   ]
  },
  {
   "cell_type": "code",
   "execution_count": 4,
   "metadata": {},
   "outputs": [],
   "source": [
    "driver.get('https://webook.com/en/login?redirect=/en')"
   ]
  },
  {
   "cell_type": "code",
   "execution_count": null,
   "metadata": {},
   "outputs": [],
   "source": []
  }
 ],
 "metadata": {
  "kernelspec": {
   "display_name": "Python 3",
   "language": "python",
   "name": "python3"
  },
  "language_info": {
   "codemirror_mode": {
    "name": "ipython",
    "version": 3
   },
   "file_extension": ".py",
   "mimetype": "text/x-python",
   "name": "python",
   "nbconvert_exporter": "python",
   "pygments_lexer": "ipython3",
   "version": "3.12.0"
  },
  "orig_nbformat": 4
 },
 "nbformat": 4,
 "nbformat_minor": 2
}
