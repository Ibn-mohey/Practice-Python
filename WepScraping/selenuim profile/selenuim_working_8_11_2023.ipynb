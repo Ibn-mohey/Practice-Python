{
  "nbformat": 4,
  "nbformat_minor": 0,
  "metadata": {
    "colab": {
      "provenance": []
    },
    "kernelspec": {
      "name": "python3",
      "display_name": "Python 3"
    },
    "language_info": {
      "name": "python"
    }
  },
  "cells": [
    {
      "cell_type": "code",
      "execution_count": 1,
      "metadata": {
        "id": "451IH9c5Qejd"
      },
      "outputs": [],
      "source": [
        "%%capture\n",
        "%%shell\n",
        "pip install selenium-profiles\n",
        "apt install -y xvfb\n",
        "\n",
        "# Install Selenium-Profiles\n",
        "# pip uninstall -y selenium_profiles\n",
        "# pip install --no-cache-dir selenium_profiles>=2.2.6\n",
        "\n",
        "# pip install https://github.com/kaliiiiiiiiii/Selenium-Profiles/archive/refs/heads/dev.zip # dev-branch\n",
        "\n",
        "# install python packages\n",
        "# pip install google-colab-shell\n",
        "pip install webdriver-manager\n",
        "pip install Pyvirtualdisplay"
      ]
    },
    {
      "cell_type": "code",
      "source": [
        "from selenium_profiles.webdriver import Chrome\n",
        "from selenium_profiles.profiles import profiles\n",
        "from selenium.webdriver.common.by import By  # locate elements\n",
        "from seleniumwire import webdriver\n",
        "from selenium_profiles.utils.colab_utils import display, showscreen, show_html # virtual display\n",
        "\n",
        "profile = profiles.Windows() # or .Android\n",
        "options = webdriver.ChromeOptions()\n",
        "options.add_argument(\"--headless=new\")\n",
        "\n",
        "display = display()\n",
        "display.start_display()\n",
        "\n",
        "\n",
        "driver = Chrome(profile, options=options,\n",
        "                uc_driver=False\n",
        "                )\n",
        "\n",
        "# get url\n",
        "# driver.get('https://abrahamjuliot.github.io/creepjs/')  # test fingerprint\n",
        "\n",
        "# input(\"Press ENTER to exit: \")\n",
        "# driver.quit()"
      ],
      "metadata": {
        "id": "WdStHdIJQmjy"
      },
      "execution_count": 2,
      "outputs": []
    },
    {
      "cell_type": "code",
      "source": [
        "#@title Start actual driver\n",
        "\n",
        "driver.get('https://browserleaks.com/client-hints')\n"
      ],
      "metadata": {
        "id": "R0cctY9aohc-",
        "cellView": "form"
      },
      "execution_count": null,
      "outputs": []
    },
    {
      "cell_type": "code",
      "source": [
        "show_html(driver)"
      ],
      "metadata": {
        "id": "vcrISqtIoqKk"
      },
      "execution_count": null,
      "outputs": []
    }
  ]
}