{
 "cells": [
  {
   "cell_type": "code",
   "execution_count": 143,
   "id": "a5bff7d7",
   "metadata": {},
   "outputs": [],
   "source": [
    "import pandas as pd\n",
    "from selenium import webdriver\n",
    "from selenium.webdriver.chrome.options import Options\n",
    "from selenium.webdriver.common.keys import Keys\n",
    "from selenium.webdriver.common.by import By\n",
    "import time\n",
    "import csv\n",
    "import random\n",
    "import threading as th\n",
    "import re\n",
    "import urllib.request"
   ]
  },
  {
   "cell_type": "code",
   "execution_count": 148,
   "id": "8334ec7a",
   "metadata": {},
   "outputs": [
    {
     "name": "stderr",
     "output_type": "stream",
     "text": [
      "C:\\Users\\asd_v\\AppData\\Local\\Temp\\ipykernel_19388\\99447295.py:3: DeprecationWarning: executable_path has been deprecated, please pass in a Service object\n",
      "  driver = webdriver.Chrome(executable_path=chromepath)\n"
     ]
    }
   ],
   "source": [
    "chromepath = \"chromedriver.exe\"\n",
    "options = webdriver.ChromeOptions()\n",
    "driver = webdriver.Chrome(executable_path=chromepath)"
   ]
  },
  {
   "cell_type": "code",
   "execution_count": 150,
   "id": "e4f79e0e",
   "metadata": {},
   "outputs": [],
   "source": [
    "website = 'https://www.facebook.com/ads/library/?active_status=all&ad_type=all&country=ALL&view_all_page_id=719853864726295&sort_data[direction]=desc&sort_data[mode]=relevancy_monthly_grouped&search_type=page&media_type=all'\n",
    "driver.get(website)\n",
    "\n",
    "SCROLL_PAUSE_TIME = 0.5\n",
    "\n",
    "# Get scroll height\n",
    "last_height = driver.execute_script(\"return document.body.scrollHeight\")\n",
    "\n",
    "while True:\n",
    "    # Scroll down to bottom\n",
    "    driver.execute_script(\"window.scrollTo(0, document.body.scrollHeight);\")\n",
    "\n",
    "    # Wait to load page\n",
    "    time.sleep(2)\n",
    "\n",
    "    # Calculate new scroll height and compare with last scroll height\n",
    "    new_height = driver.execute_script(\"return document.body.scrollHeight\")\n",
    "    if new_height == last_height:\n",
    "        break\n",
    "    last_height = new_height"
   ]
  },
  {
   "cell_type": "code",
   "execution_count": 142,
   "id": "599c647e",
   "metadata": {},
   "outputs": [],
   "source": [
    "pages = driver.find_elements(by=By.CSS_SELECTOR, value='div[class=\"_99s5\"]')"
   ]
  },
  {
   "cell_type": "code",
   "execution_count": 136,
   "id": "0ecf2bad",
   "metadata": {},
   "outputs": [],
   "source": [
    "# re.findall('\\/(\\d+_\\d+_\\d+_n)' ,video_url)[0]"
   ]
  },
  {
   "cell_type": "code",
   "execution_count": 135,
   "id": "7b259832",
   "metadata": {},
   "outputs": [],
   "source": [
    "# i = 0\n",
    "# video_url = pages[i].find_element(by=By.CSS_SELECTOR, value='video').get_attribute(\"src\")\n",
    "# videoname = re.findall('\\/(\\d+_\\d+_\\d+_n)' ,video_url)[0]\n",
    "# videoname += '.mp4'\n",
    "# videoname"
   ]
  },
  {
   "cell_type": "code",
   "execution_count": 137,
   "id": "e6342823",
   "metadata": {},
   "outputs": [],
   "source": [
    "# pages[i].find_element(by=By.CSS_SELECTOR, value='video').get_attribute('src')"
   ]
  },
  {
   "cell_type": "code",
   "execution_count": 1,
   "id": "2bf80aae",
   "metadata": {},
   "outputs": [
    {
     "name": "stdout",
     "output_type": "stream",
     "text": [
      "E:\\career\\Dataa\\github\\practice python\\WepScraping\\new facebook videos\n"
     ]
    }
   ],
   "source": [
    "import os\n",
    "\n",
    "print(os.getcwd())"
   ]
  },
  {
   "cell_type": "code",
   "execution_count": 2,
   "id": "39896351",
   "metadata": {},
   "outputs": [
    {
     "data": {
      "text/plain": [
       "['.ipynb_checkpoints',\n",
       " '10000000_1063435841237720_2799026336128598507_n.mp4',\n",
       " '10000000_1132821397574845_3846037036145069790_n.mp4',\n",
       " '10000000_1214648089292524_7076836364231579993_n.mp4',\n",
       " '10000000_1284946608697256_1459622391610781574_n.mp4',\n",
       " '10000000_134105552625635_5817514795500719091_n.mp4',\n",
       " '10000000_157846260140202_6895200438653640676_n.mp4',\n",
       " '10000000_2016281395230792_6008985280058652491_n.mp4',\n",
       " '10000000_414700550539813_214637954916399051_n.mp4',\n",
       " '10000000_439351571349033_3942572781723366848_n.mp4',\n",
       " '10000000_534244385012190_1686980218951674113_n.mp4',\n",
       " '10000000_565879815048887_1205311195694770253_n.mp4',\n",
       " '10000000_737179424146625_4065912967067641438_n.mp4',\n",
       " '281712846_5238607446175172_7098669070508754370_n.mp4',\n",
       " '281856094_951836962155277_2888246538148078664_n.mp4',\n",
       " '282720985_3200057656905477_6439200415148595763_n.mp4',\n",
       " '285363769_1922271374829526_6790798266187485250_n.mp4',\n",
       " '285927558_431300049002629_8176885925381413167_n.mp4',\n",
       " 'chromedriver.exe',\n",
       " 'for belal.ipynb',\n",
       " 'scapping.py']"
      ]
     },
     "execution_count": 2,
     "metadata": {},
     "output_type": "execute_result"
    }
   ],
   "source": [
    "os.listdir()"
   ]
  },
  {
   "cell_type": "code",
   "execution_count": 138,
   "id": "d8ec1a5f",
   "metadata": {},
   "outputs": [],
   "source": [
    "links = []\n",
    "names = []\n",
    "count = 0\n",
    "i = 0\n",
    "for page in pages:\n",
    "#     print(i)\n",
    "    try:\n",
    "        video_url = page.find_element(by=By.CSS_SELECTOR, value='video').get_attribute(\"src\")\n",
    "        links.append(video_url)\n",
    "        video_name = re.findall('\\/(\\d+_\\d+_\\d+_n)' ,video_url)[0]\n",
    "        video_name += '.mp4'\n",
    "        names.append(video_name)\n",
    "#         urllib.request.urlretrieve(video_url, video_name)\n",
    "    except:\n",
    "        pass"
   ]
  },
  {
   "cell_type": "code",
   "execution_count": null,
   "id": "a4f6ed0c",
   "metadata": {},
   "outputs": [],
   "source": []
  }
 ],
 "metadata": {
  "kernelspec": {
   "display_name": "Python 3 (ipykernel)",
   "language": "python",
   "name": "python3"
  },
  "language_info": {
   "codemirror_mode": {
    "name": "ipython",
    "version": 3
   },
   "file_extension": ".py",
   "mimetype": "text/x-python",
   "name": "python",
   "nbconvert_exporter": "python",
   "pygments_lexer": "ipython3",
   "version": "3.9.12"
  }
 },
 "nbformat": 4,
 "nbformat_minor": 5
}
