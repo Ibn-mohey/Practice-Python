{
 "cells": [
  {
   "cell_type": "code",
   "execution_count": 3,
   "metadata": {},
   "outputs": [
    {
     "name": "stdout",
     "output_type": "stream",
     "text": [
      "The autoreload extension is already loaded. To reload it, use:\n",
      "  %reload_ext autoreload\n"
     ]
    }
   ],
   "source": [
    "%load_ext autoreload\n",
    "%autoreload 2\n",
    "\n",
    "from selenium import webdriver\n",
    "from selenium.webdriver.common.keys import Keys\n",
    "from selenium.webdriver.common.by import By\n",
    "from selenium.webdriver.chrome.service import Service\n",
    "from webdriver_manager.chrome import ChromeDriverManager\n",
    "from selenium.webdriver.support.ui import WebDriverWait\n",
    "from selenium.webdriver.common.action_chains import ActionChains\n",
    "\n",
    "import re\n",
    "from selenium import webdriver\n",
    "import urllib.request\n",
    "import urllib.error\n",
    "from selenium.webdriver.support import expected_conditions as EC\n",
    "import time\n",
    "from selenium import webdriver\n",
    "import time\n",
    "from selenium import webdriver\n",
    "from datetime import datetime\n",
    "import urllib.request\n",
    "from datetime import datetime\n",
    "import sqlite3\n",
    "import requests\n",
    "from selenium import webdriver\n",
    "from selenium.webdriver.common.keys import Keys\n",
    "from selenium.webdriver.common.by import By\n",
    "from selenium.webdriver.chrome.service import Service\n",
    "from webdriver_manager.chrome import ChromeDriverManager\n",
    "from selenium.webdriver.support.ui import WebDriverWait\n",
    "import re\n",
    "from selenium import webdriver\n",
    "import urllib.request\n",
    "import urllib.error\n",
    "from selenium.webdriver.support import expected_conditions as EC\n",
    "import time\n",
    "from selenium import webdriver\n",
    "import time\n",
    "from selenium import webdriver\n",
    "from datetime import datetime\n",
    "import urllib.request\n",
    "from datetime import datetime\n",
    "import sqlite3\n",
    "import requests\n",
    "import cv2\n",
    "import sys\n",
    "from langdetect import detect\n",
    "from PIL import UnidentifiedImageError\n"
   ]
  },
  {
   "cell_type": "code",
   "execution_count": 4,
   "metadata": {},
   "outputs": [
    {
     "name": "stdout",
     "output_type": "stream",
     "text": [
      "\n"
     ]
    },
    {
     "name": "stderr",
     "output_type": "stream",
     "text": [
      "[WDM] - ====== WebDriver manager ======\n",
      "[WDM] - Current google-chrome version is 112.0.5615\n",
      "[WDM] - Get LATEST chromedriver version for 112.0.5615 google-chrome\n",
      "[WDM] - Driver [C:\\Users\\asd_v\\.wdm\\drivers\\chromedriver\\win32\\112.0.5615.49\\chromedriver.exe] found in cache\n"
     ]
    }
   ],
   "source": [
    "driver = webdriver.Chrome(service=Service(ChromeDriverManager().install()))\n",
    "action = ActionChains(driver)"
   ]
  },
  {
   "cell_type": "code",
   "execution_count": 5,
   "metadata": {},
   "outputs": [],
   "source": [
    "link = 'https://graceful-sunburst-78f35d.netlify.app/www.classcentral.com/index.html'\n",
    "driver.get(link)\n"
   ]
  },
  {
   "cell_type": "code",
   "execution_count": 97,
   "metadata": {},
   "outputs": [],
   "source": [
    "import cv2\n",
    "import urllib\n",
    "import numpy as np\n",
    "\n",
    "def is_pixelated(image_path, threshold=100):\n",
    "    # Load image and convert to grayscale\n",
    "#     response = requests.get(image_path)\n",
    "\n",
    "#     req = urllib.urlopen(image_path)\n",
    "#     arr = np.asarray(bytearray(req.read()), dtype=np.uint8)\n",
    "#     image = cv2.imdecode(arr, -1)\n",
    "#     image = Image.open(BytesIO(response.content))\n",
    "#     image = cv2.imread(image_path)\n",
    "    response = requests.get(image_path)\n",
    "    img = Image.open(BytesIO(response.content))\n",
    "    image = io.imread(image_path)\n",
    "    image.size\n",
    "    gray = cv2.cvtColor(image, cv2.COLOR_BGR2GRAY)\n",
    "\n",
    "    # Calculate Laplacian variance\n",
    "    laplacian_var = cv2.Laplacian(gray, cv2.CV_64F).var()\n",
    "    print(laplacian_var , img.size[0]*img.size[1])\n",
    "    output = laplacian_var*img.size[0]*img.size[1]\n",
    "    # If Laplacian variance is below threshold, image is pixelated\n",
    "#     if laplacian_var < threshold:\n",
    "#         return True\n",
    "#     else:\n",
    "#         return False"
   ]
  },
  {
   "cell_type": "code",
   "execution_count": 12,
   "metadata": {},
   "outputs": [],
   "source": [
    "links = '''https://graceful-sunburst-78f35d.netlify.app/www.classcentral.com/index.html\n",
    "https://ammardab3an99.github.io/\n",
    "https://heartfelt-lollipop-736861.netlify.app/\n",
    "https://radiant-hummingbird-697a83.netlify.app/\n",
    "http://trialserver.rf.gd/trial6/www.classcentral.com/index.html\n",
    "https://class-central.vercel.app/www.classcentral.com/index.html\n",
    "https://5dcookie.github.io/\n",
    "https://www.census2011.co.in/city.php#:~:text=Here%20are%20the%20details%20of,%2D%203%2C124%2C458%2C%20Jaipur%20%2D%203%2C046%2C163\n",
    "https://umair1814.github.io/\n",
    "na.co\n",
    "https://www.httrack.com/\n",
    "https://www.classcentral.com/\n",
    "https://sinistersup.github.io/classcentral-hindi/\n",
    "https://omarkhalifa97.github.io/khalifaaaz.github.io/\n",
    "https://df0a.github.io/\n",
    "http://miguel-hindi-classcentral.s3-website-us-east-1.amazonaws.com/\n",
    "https://classcentral-scrape-hindi.vercel.app/\n",
    "https://testclass01.000webhostapp.com/www.classcentral.com/index.html\n",
    "https://mike-brown5.github.io/AllStars-Scrapped-Site/\n",
    "https://ubadeakkad.github.io/\n",
    "https://www.dqlab.id/\n",
    "https://drive.google.com/drive/folders/1eLU2AQ80bn89gYNC2HEIbrKswVzdj0qC?usp=sharing\n",
    "https://www.mediafire.com/folder/ktcts50c9o1up/Class_Central_-Website_translation\n",
    "https://www.facebook.com/\n",
    "http://daniel1uno.byethost31.com/\n",
    "http://mihir.testing-phase.com/\n",
    "http://grsmuche.vh109.hosterby.com/\n",
    "https://a58-mohiuddin.github.io/developer_trial_task/web_translate.html\n",
    "https://datta07.github.io/classcentralclone/\n",
    "https://venerable-froyo-7f3b1e.netlify.app/university/cornell.html\n",
    "https://muhammederenaslan.github.io/codingallstars/\n",
    "https://exosmotic-bay.000webhostapp.com/\n",
    "https://interviewdeneme123.000webhostapp.com/\n",
    "http://classcent.infinityfreeapp.com/\n",
    "https://codingallstarttest0000.on.drv.tw/www.teeest.blog/'''.split()\n"
   ]
  },
  {
   "cell_type": "code",
   "execution_count": 28,
   "metadata": {},
   "outputs": [],
   "source": [
    "import requests\n",
    "from urllib.parse import urlparse\n",
    "\n",
    "def validate_link(link):\n",
    "    # Parse the link to check if it includes the protocol\n",
    "    parsed_url = urlparse(link)\n",
    "    if not parsed_url.scheme:\n",
    "        # If the link does not include the protocol, add \"https://\" as the default protocol\n",
    "        link = \"https://\" + link +'/'\n",
    "        print(link)\n",
    "\n",
    "    # Send a GET request to the link\n",
    "    response = requests.get(link)\n",
    "\n",
    "    # Check the status code of the response\n",
    "    if response.status_code == 200:\n",
    "        return True\n",
    "    else:\n",
    "        return False "
   ]
  },
  {
   "cell_type": "code",
   "execution_count": null,
   "metadata": {},
   "outputs": [],
   "source": []
  },
  {
   "cell_type": "code",
   "execution_count": 37,
   "metadata": {},
   "outputs": [
    {
     "data": {
      "text/plain": [
       "62"
      ]
     },
     "execution_count": 37,
     "metadata": {},
     "output_type": "execute_result"
    }
   ],
   "source": [
    "len(driver.find_elements(By.CSS_SELECTOR,'img'))"
   ]
  },
  {
   "cell_type": "code",
   "execution_count": 36,
   "metadata": {},
   "outputs": [
    {
     "name": "stdout",
     "output_type": "stream",
     "text": [
      "466700\n",
      "{'srgb': 0}\n"
     ]
    }
   ],
   "source": [
    "driver.get('https://graceful-sunburst-78f35d.netlify.app/www.classcentral.com/index.html')\n",
    "out_img = driver.find_element(By.CSS_SELECTOR,'img[alt=\"Never stop learning.\"]').get_attribute(\"src\")\n",
    "response = requests.get(out_img)\n",
    "img = Image.open(BytesIO(response.content))\n",
    "print(img.height * img.width)\n",
    "print(img.info)"
   ]
  },
  {
   "cell_type": "code",
   "execution_count": 43,
   "metadata": {},
   "outputs": [],
   "source": [
    "good_ = 'https://ccweb.imgix.net/https%3A%2F%2Fwww.classcentral.com%2Fimages%2Fillustrations%2Flearning-illustration-holi.png?auto=format&h=650&ixlib=php-3.3.1&s=2367f95a04f9d0237239831d72054f0b'\n",
    "bad_ = 'https://ccweb.imgix.net/https%3A%2F%2Fwww.classcentral.com%2Fimages%2Fillustrations%2Flearning-illustration-valentine.png?auto=format&blur=200&h=650&ixlib=php-3.3.1&px=16&s=c5665658556f22828b8722568fdd1881'"
   ]
  },
  {
   "cell_type": "code",
   "execution_count": 52,
   "metadata": {},
   "outputs": [],
   "source": [
    "from PIL import Image\n",
    "\n",
    "# Open the image file\n",
    "response = requests.get(bad_)\n",
    "image = Image.open(BytesIO(response.content))\n",
    "\n",
    "# image = Image.open('image.png')\n",
    "\n",
    "# Get the size of the image in pixels\n",
    "width, height = image.size\n",
    "\n",
    "image.show()\n",
    "\n",
    "# # Get the DPI (dots per inch) of the image\n",
    "# dpi = image.info['dpi']\n",
    "\n",
    "# # Calculate the PPI of the image\n",
    "# ppi = dpi[0] * (width / float(image.size[0]))\n",
    "\n",
    "# print(\"The PPI of the image is:\", ppi)\n"
   ]
  },
  {
   "cell_type": "code",
   "execution_count": 104,
   "metadata": {},
   "outputs": [
    {
     "name": "stdout",
     "output_type": "stream",
     "text": [
      "30.639200680272108 235200\n",
      "29.601615646258505 235200\n",
      "18.212284580498867 352800\n",
      "7.8004875283446715 352800\n",
      "4.164166666666667 352800\n",
      "2.454761904761905 352800\n",
      "2059.0352532863617 524288\n",
      "392.70295083066605 8100\n",
      "68.41307049496464 466700\n",
      "15.9904 2500\n",
      "5.392 2500\n",
      "1.7776 2500\n",
      "5.9944 2500\n",
      "29.452 2500\n",
      "0.6152 2500\n",
      "3.5848 2500\n",
      "4.4664 2500\n",
      "23.0712 2500\n",
      "22.9912 2500\n",
      "https://ccweb.imgix.net/https%3A%2F%2Fwww.classcentral.com%2Fimages%2Fpromobar%2Fdeal.svg?auto=format&blur=200&h=50&ixlib=php-3.3.1&px=16&s=219f98b8ed372bf9882992495b1306ad\n",
      "https://5dcookie.github.io/images/illustrations/homepage-discover-new.png\n",
      "1.2248 2500\n",
      "1.7776 2500\n",
      "1.2904 2500\n",
      "3.5848 2500\n",
      "2.3928 2500\n",
      "0.644 2500\n",
      "2.468 2500\n",
      "6.4568 2500\n",
      "1.1464 2500\n",
      "3.0688 2500\n",
      "3.1208 2500\n",
      "7.292 2500\n",
      "12.3296 2500\n",
      "6.3712 2500\n",
      "1.6048 2500\n",
      "27.5088 2500\n",
      "35.1832 2500\n",
      "1.948 2500\n",
      "2.2152 2500\n",
      "2.6624 2500\n",
      "4.4664 2500\n",
      "4.8176 2500\n",
      "9.7472 2500\n",
      "4.6144 2500\n",
      "10.1344 2500\n",
      "1.2344 2500\n",
      "0.0976 2500\n",
      "29.373141666666665 480000\n",
      "24.431405555555557 1080000\n",
      "2.886120541205412 101625\n",
      "69.2332 45000\n",
      "9.178844444444444 45000\n",
      "75.17493333333333 45000\n",
      "6.467644444444445 45000\n",
      "7.568 45000\n",
      "21.842587554433777 101250\n",
      "21.388692232055064 101700\n",
      "30.51724680432645 101700\n",
      "2.248354331937205 101250\n",
      "22.841355746111873 101250\n",
      "32.28650526200274 101250\n"
     ]
    }
   ],
   "source": [
    "# driver.get('https://5dcookie.github.io/')\n",
    "images = driver.find_elements(By.CSS_SELECTOR,'img')\n",
    "images = [image.get_attribute('src') for image in images]\n",
    "\n",
    "for i in images:\n",
    "#     is_pixelated(i)\n",
    "    try:\n",
    "        is_pixelated(i)\n",
    "    except UnidentifiedImageError:\n",
    "        print(i)"
   ]
  },
  {
   "cell_type": "code",
   "execution_count": 102,
   "metadata": {},
   "outputs": [],
   "source": []
  },
  {
   "cell_type": "code",
   "execution_count": 100,
   "metadata": {
    "scrolled": true
   },
   "outputs": [
    {
     "ename": "ModuleNotFoundError",
     "evalue": "No module named '_io.BytesIO'; '_io' is not a package",
     "output_type": "error",
     "traceback": [
      "\u001b[1;31m---------------------------------------------------------------------------\u001b[0m",
      "\u001b[1;31mModuleNotFoundError\u001b[0m                       Traceback (most recent call last)",
      "Input \u001b[1;32mIn [100]\u001b[0m, in \u001b[0;36m<cell line: 1>\u001b[1;34m()\u001b[0m\n\u001b[1;32m----> 1\u001b[0m \u001b[38;5;28;01mfrom\u001b[39;00m \u001b[38;5;21;01m_io\u001b[39;00m\u001b[38;5;21;01m.\u001b[39;00m\u001b[38;5;21;01mBytesIO\u001b[39;00m \u001b[38;5;28;01mimport\u001b[39;00m UnidentifiedImageError\n",
      "\u001b[1;31mModuleNotFoundError\u001b[0m: No module named '_io.BytesIO'; '_io' is not a package"
     ]
    }
   ],
   "source": [
    "from _io.BytesIO import UnidentifiedImageError"
   ]
  },
  {
   "cell_type": "code",
   "execution_count": 87,
   "metadata": {},
   "outputs": [
    {
     "name": "stdout",
     "output_type": "stream",
     "text": [
      "30.639200680272108\n",
      "29.601615646258505\n",
      "18.212284580498867\n",
      "7.8004875283446715\n",
      "4.164166666666667\n",
      "2.454761904761905\n",
      "2059.0352532863617\n",
      "392.70295083066605\n",
      "4126.988716416947\n",
      "7205.94951936\n",
      "7064.1239193599995\n",
      "38072.5136\n",
      "21614.163608960003\n",
      "16443.35830576\n",
      "15373.52450736\n",
      "7620.64103744\n",
      "3116.504\n",
      "5653.6176\n",
      "18331.53170096\n",
      "https://ccweb.imgix.net/https%3A%2F%2Fwww.classcentral.com%2Fimages%2Fpromobar%2Fdeal.svg?auto=format&h=50&ixlib=php-3.3.1&s=9c3031e6bc3996defc5c59def7d6290c\n",
      "4579.006163003663\n",
      "7972.8056\n",
      "38035.7112\n",
      "6652.306282240001\n",
      "146.2312\n",
      "23688.50724224\n",
      "18500.823724\n",
      "2783.908\n",
      "3878.44052096\n",
      "9269.9736\n",
      "2455.6392\n",
      "19687.04017536\n",
      "9957.67398704\n",
      "7095.0328\n",
      "1852.3016\n",
      "15149.392378240002\n",
      "1746.68519856\n",
      "6196.7896\n",
      "33969.108\n",
      "12873.2008\n",
      "9862.9856\n",
      "2445.8856\n",
      "7700.50251264\n",
      "2058.904\n",
      "21442.92084784\n",
      "21820.07356864\n",
      "10829.886416\n",
      "11056.3072\n",
      "658.4067768596833\n",
      "465.5063924111797\n",
      "5185.047338511862\n",
      "4267.52883567358\n",
      "1830.8282008572837\n",
      "6702.254991000001\n",
      "2251.6119991288892\n",
      "3434.8530477511113\n",
      "1888.8563050973937\n",
      "1538.7593279707123\n",
      "2993.471779744346\n",
      "4713.512763893309\n",
      "2356.541617975309\n",
      "2336.678169836159\n"
     ]
    }
   ],
   "source": []
  },
  {
   "cell_type": "code",
   "execution_count": 72,
   "metadata": {},
   "outputs": [
    {
     "name": "stdout",
     "output_type": "stream",
     "text": [
      "4126.988716416947\n"
     ]
    }
   ],
   "source": []
  },
  {
   "cell_type": "code",
   "execution_count": null,
   "metadata": {},
   "outputs": [],
   "source": []
  },
  {
   "cell_type": "code",
   "execution_count": 73,
   "metadata": {},
   "outputs": [
    {
     "name": "stdout",
     "output_type": "stream",
     "text": [
      "68.41307049496464\n"
     ]
    }
   ],
   "source": [
    "is_pixelated(bad_)"
   ]
  },
  {
   "cell_type": "code",
   "execution_count": null,
   "metadata": {},
   "outputs": [],
   "source": []
  },
  {
   "cell_type": "code",
   "execution_count": 74,
   "metadata": {},
   "outputs": [
    {
     "ename": "OSError",
     "evalue": "Cannot understand given URI: <selenium.webdriver.remote.webelement.WebElement (session....",
     "output_type": "error",
     "traceback": [
      "\u001b[1;31m---------------------------------------------------------------------------\u001b[0m",
      "\u001b[1;31mOSError\u001b[0m                                   Traceback (most recent call last)",
      "Input \u001b[1;32mIn [74]\u001b[0m, in \u001b[0;36m<cell line: 1>\u001b[1;34m()\u001b[0m\n\u001b[0;32m      1\u001b[0m \u001b[38;5;28;01mfor\u001b[39;00m image \u001b[38;5;129;01min\u001b[39;00m images:\n\u001b[1;32m----> 2\u001b[0m     \u001b[38;5;28mprint\u001b[39m(\u001b[43mis_pixelated\u001b[49m\u001b[43m(\u001b[49m\u001b[43mimage\u001b[49m\u001b[43m)\u001b[49m)\n",
      "Input \u001b[1;32mIn [72]\u001b[0m, in \u001b[0;36mis_pixelated\u001b[1;34m(image_path, threshold)\u001b[0m\n\u001b[0;32m      6\u001b[0m \u001b[38;5;28;01mdef\u001b[39;00m \u001b[38;5;21mis_pixelated\u001b[39m(image_path, threshold\u001b[38;5;241m=\u001b[39m\u001b[38;5;241m100\u001b[39m):\n\u001b[0;32m      7\u001b[0m     \u001b[38;5;66;03m# Load image and convert to grayscale\u001b[39;00m\n\u001b[0;32m      8\u001b[0m \u001b[38;5;66;03m#     response = requests.get(image_path)\u001b[39;00m\n\u001b[1;32m   (...)\u001b[0m\n\u001b[0;32m     13\u001b[0m \u001b[38;5;66;03m#     image = Image.open(BytesIO(response.content))\u001b[39;00m\n\u001b[0;32m     14\u001b[0m \u001b[38;5;66;03m#     image = cv2.imread(image_path)\u001b[39;00m\n\u001b[1;32m---> 15\u001b[0m     image \u001b[38;5;241m=\u001b[39m \u001b[43mio\u001b[49m\u001b[38;5;241;43m.\u001b[39;49m\u001b[43mimread\u001b[49m\u001b[43m(\u001b[49m\u001b[43mimage_path\u001b[49m\u001b[43m)\u001b[49m\n\u001b[0;32m     16\u001b[0m     gray \u001b[38;5;241m=\u001b[39m cv2\u001b[38;5;241m.\u001b[39mcvtColor(image, cv2\u001b[38;5;241m.\u001b[39mCOLOR_BGR2GRAY)\n\u001b[0;32m     18\u001b[0m     \u001b[38;5;66;03m# Calculate Laplacian variance\u001b[39;00m\n",
      "File \u001b[1;32m~\\anaconda3\\lib\\site-packages\\skimage\\io\\_io.py:53\u001b[0m, in \u001b[0;36mimread\u001b[1;34m(fname, as_gray, plugin, **plugin_args)\u001b[0m\n\u001b[0;32m     50\u001b[0m         plugin \u001b[38;5;241m=\u001b[39m \u001b[38;5;124m'\u001b[39m\u001b[38;5;124mtifffile\u001b[39m\u001b[38;5;124m'\u001b[39m\n\u001b[0;32m     52\u001b[0m \u001b[38;5;28;01mwith\u001b[39;00m file_or_url_context(fname) \u001b[38;5;28;01mas\u001b[39;00m fname:\n\u001b[1;32m---> 53\u001b[0m     img \u001b[38;5;241m=\u001b[39m call_plugin(\u001b[38;5;124m'\u001b[39m\u001b[38;5;124mimread\u001b[39m\u001b[38;5;124m'\u001b[39m, fname, plugin\u001b[38;5;241m=\u001b[39mplugin, \u001b[38;5;241m*\u001b[39m\u001b[38;5;241m*\u001b[39mplugin_args)\n\u001b[0;32m     55\u001b[0m \u001b[38;5;28;01mif\u001b[39;00m \u001b[38;5;129;01mnot\u001b[39;00m \u001b[38;5;28mhasattr\u001b[39m(img, \u001b[38;5;124m'\u001b[39m\u001b[38;5;124mndim\u001b[39m\u001b[38;5;124m'\u001b[39m):\n\u001b[0;32m     56\u001b[0m     \u001b[38;5;28;01mreturn\u001b[39;00m img\n",
      "File \u001b[1;32m~\\anaconda3\\lib\\site-packages\\skimage\\io\\manage_plugins.py:207\u001b[0m, in \u001b[0;36mcall_plugin\u001b[1;34m(kind, *args, **kwargs)\u001b[0m\n\u001b[0;32m    203\u001b[0m     \u001b[38;5;28;01mexcept\u001b[39;00m \u001b[38;5;167;01mIndexError\u001b[39;00m:\n\u001b[0;32m    204\u001b[0m         \u001b[38;5;28;01mraise\u001b[39;00m \u001b[38;5;167;01mRuntimeError\u001b[39;00m(\u001b[38;5;124m'\u001b[39m\u001b[38;5;124mCould not find the plugin \u001b[39m\u001b[38;5;124m\"\u001b[39m\u001b[38;5;132;01m%s\u001b[39;00m\u001b[38;5;124m\"\u001b[39m\u001b[38;5;124m for \u001b[39m\u001b[38;5;132;01m%s\u001b[39;00m\u001b[38;5;124m.\u001b[39m\u001b[38;5;124m'\u001b[39m \u001b[38;5;241m%\u001b[39m\n\u001b[0;32m    205\u001b[0m                            (plugin, kind))\n\u001b[1;32m--> 207\u001b[0m \u001b[38;5;28;01mreturn\u001b[39;00m func(\u001b[38;5;241m*\u001b[39margs, \u001b[38;5;241m*\u001b[39m\u001b[38;5;241m*\u001b[39mkwargs)\n",
      "File \u001b[1;32m~\\anaconda3\\lib\\site-packages\\skimage\\io\\_plugins\\imageio_plugin.py:10\u001b[0m, in \u001b[0;36mimread\u001b[1;34m(*args, **kwargs)\u001b[0m\n\u001b[0;32m      8\u001b[0m \u001b[38;5;129m@wraps\u001b[39m(imageio_imread)\n\u001b[0;32m      9\u001b[0m \u001b[38;5;28;01mdef\u001b[39;00m \u001b[38;5;21mimread\u001b[39m(\u001b[38;5;241m*\u001b[39margs, \u001b[38;5;241m*\u001b[39m\u001b[38;5;241m*\u001b[39mkwargs):\n\u001b[1;32m---> 10\u001b[0m     \u001b[38;5;28;01mreturn\u001b[39;00m np\u001b[38;5;241m.\u001b[39masarray(imageio_imread(\u001b[38;5;241m*\u001b[39margs, \u001b[38;5;241m*\u001b[39m\u001b[38;5;241m*\u001b[39mkwargs))\n",
      "File \u001b[1;32m~\\anaconda3\\lib\\site-packages\\imageio\\core\\functions.py:265\u001b[0m, in \u001b[0;36mimread\u001b[1;34m(uri, format, **kwargs)\u001b[0m\n\u001b[0;32m    260\u001b[0m     \u001b[38;5;28;01mraise\u001b[39;00m \u001b[38;5;167;01mTypeError\u001b[39;00m(\n\u001b[0;32m    261\u001b[0m         \u001b[38;5;124m'\u001b[39m\u001b[38;5;124mInvalid keyword argument \u001b[39m\u001b[38;5;124m\"\u001b[39m\u001b[38;5;124mmode\u001b[39m\u001b[38;5;124m\"\u001b[39m\u001b[38;5;124m, \u001b[39m\u001b[38;5;124m'\u001b[39m \u001b[38;5;124m'\u001b[39m\u001b[38;5;124mperhaps you mean \u001b[39m\u001b[38;5;124m\"\u001b[39m\u001b[38;5;124mpilmode\u001b[39m\u001b[38;5;124m\"\u001b[39m\u001b[38;5;124m?\u001b[39m\u001b[38;5;124m'\u001b[39m\n\u001b[0;32m    262\u001b[0m     )\n\u001b[0;32m    264\u001b[0m \u001b[38;5;66;03m# Get reader and read first\u001b[39;00m\n\u001b[1;32m--> 265\u001b[0m reader \u001b[38;5;241m=\u001b[39m read(uri, \u001b[38;5;28mformat\u001b[39m, \u001b[38;5;124m\"\u001b[39m\u001b[38;5;124mi\u001b[39m\u001b[38;5;124m\"\u001b[39m, \u001b[38;5;241m*\u001b[39m\u001b[38;5;241m*\u001b[39mkwargs)\n\u001b[0;32m    266\u001b[0m \u001b[38;5;28;01mwith\u001b[39;00m reader:\n\u001b[0;32m    267\u001b[0m     \u001b[38;5;28;01mreturn\u001b[39;00m reader\u001b[38;5;241m.\u001b[39mget_data(\u001b[38;5;241m0\u001b[39m)\n",
      "File \u001b[1;32m~\\anaconda3\\lib\\site-packages\\imageio\\core\\functions.py:172\u001b[0m, in \u001b[0;36mget_reader\u001b[1;34m(uri, format, mode, **kwargs)\u001b[0m\n\u001b[0;32m    149\u001b[0m \u001b[38;5;124;03m\"\"\" get_reader(uri, format=None, mode='?', **kwargs)\u001b[39;00m\n\u001b[0;32m    150\u001b[0m \n\u001b[0;32m    151\u001b[0m \u001b[38;5;124;03mReturns a :class:`.Reader` object which can be used to read data\u001b[39;00m\n\u001b[1;32m   (...)\u001b[0m\n\u001b[0;32m    168\u001b[0m \u001b[38;5;124;03m    to see what arguments are available for a particular format.\u001b[39;00m\n\u001b[0;32m    169\u001b[0m \u001b[38;5;124;03m\"\"\"\u001b[39;00m\n\u001b[0;32m    171\u001b[0m \u001b[38;5;66;03m# Create request object\u001b[39;00m\n\u001b[1;32m--> 172\u001b[0m request \u001b[38;5;241m=\u001b[39m Request(uri, \u001b[38;5;124m\"\u001b[39m\u001b[38;5;124mr\u001b[39m\u001b[38;5;124m\"\u001b[39m \u001b[38;5;241m+\u001b[39m mode, \u001b[38;5;241m*\u001b[39m\u001b[38;5;241m*\u001b[39mkwargs)\n\u001b[0;32m    174\u001b[0m \u001b[38;5;66;03m# Get format\u001b[39;00m\n\u001b[0;32m    175\u001b[0m \u001b[38;5;28;01mif\u001b[39;00m \u001b[38;5;28mformat\u001b[39m \u001b[38;5;129;01mis\u001b[39;00m \u001b[38;5;129;01mnot\u001b[39;00m \u001b[38;5;28;01mNone\u001b[39;00m:\n",
      "File \u001b[1;32m~\\anaconda3\\lib\\site-packages\\imageio\\core\\request.py:124\u001b[0m, in \u001b[0;36mRequest.__init__\u001b[1;34m(self, uri, mode, **kwargs)\u001b[0m\n\u001b[0;32m    121\u001b[0m     \u001b[38;5;28;01mraise\u001b[39;00m \u001b[38;5;167;01mValueError\u001b[39;00m(\u001b[38;5;124m'\u001b[39m\u001b[38;5;124mRequest requires mode[1] to be in \u001b[39m\u001b[38;5;124m\"\u001b[39m\u001b[38;5;124miIvV?\u001b[39m\u001b[38;5;124m\"\u001b[39m\u001b[38;5;124m'\u001b[39m)\n\u001b[0;32m    123\u001b[0m \u001b[38;5;66;03m# Parse what was given\u001b[39;00m\n\u001b[1;32m--> 124\u001b[0m \u001b[38;5;28;43mself\u001b[39;49m\u001b[38;5;241;43m.\u001b[39;49m\u001b[43m_parse_uri\u001b[49m\u001b[43m(\u001b[49m\u001b[43muri\u001b[49m\u001b[43m)\u001b[49m\n\u001b[0;32m    126\u001b[0m \u001b[38;5;66;03m# Set extension\u001b[39;00m\n\u001b[0;32m    127\u001b[0m \u001b[38;5;28;01mif\u001b[39;00m \u001b[38;5;28mself\u001b[39m\u001b[38;5;241m.\u001b[39m_filename \u001b[38;5;129;01mis\u001b[39;00m \u001b[38;5;129;01mnot\u001b[39;00m \u001b[38;5;28;01mNone\u001b[39;00m:\n",
      "File \u001b[1;32m~\\anaconda3\\lib\\site-packages\\imageio\\core\\request.py:222\u001b[0m, in \u001b[0;36mRequest._parse_uri\u001b[1;34m(self, uri)\u001b[0m\n\u001b[0;32m    220\u001b[0m     \u001b[38;5;28;01mif\u001b[39;00m \u001b[38;5;28mlen\u001b[39m(uri_r) \u001b[38;5;241m>\u001b[39m \u001b[38;5;241m60\u001b[39m:\n\u001b[0;32m    221\u001b[0m         uri_r \u001b[38;5;241m=\u001b[39m uri_r[:\u001b[38;5;241m57\u001b[39m] \u001b[38;5;241m+\u001b[39m \u001b[38;5;124m\"\u001b[39m\u001b[38;5;124m...\u001b[39m\u001b[38;5;124m\"\u001b[39m\n\u001b[1;32m--> 222\u001b[0m     \u001b[38;5;28;01mraise\u001b[39;00m \u001b[38;5;167;01mIOError\u001b[39;00m(\u001b[38;5;124m\"\u001b[39m\u001b[38;5;124mCannot understand given URI: \u001b[39m\u001b[38;5;132;01m%s\u001b[39;00m\u001b[38;5;124m.\u001b[39m\u001b[38;5;124m\"\u001b[39m \u001b[38;5;241m%\u001b[39m uri_r)\n\u001b[0;32m    224\u001b[0m \u001b[38;5;66;03m# Check if this is supported\u001b[39;00m\n\u001b[0;32m    225\u001b[0m noWriting \u001b[38;5;241m=\u001b[39m [URI_HTTP, URI_FTP]\n",
      "\u001b[1;31mOSError\u001b[0m: Cannot understand given URI: <selenium.webdriver.remote.webelement.WebElement (session...."
     ]
    }
   ],
   "source": [
    "for image in images:\n",
    "    print(is_pixelated(image))"
   ]
  },
  {
   "cell_type": "code",
   "execution_count": 67,
   "metadata": {},
   "outputs": [],
   "source": [
    "from skimage import io\n",
    "\n",
    "image = io.imread(good_)\n"
   ]
  },
  {
   "cell_type": "code",
   "execution_count": null,
   "metadata": {},
   "outputs": [],
   "source": [
    "\n",
    "\n",
    "req = urllib.urlopen('http://answers.opencv.org/upfiles/logo_2.png')\n",
    "arr = np.asarray(bytearray(req.read()), dtype=np.uint8)\n",
    "img = cv2.imdecode(arr, -1) # 'Load it as it is'\n",
    "\n",
    "cv2.imshow('lalala', img)\n",
    "if cv2.waitKey() & 0xff == 27: quit()"
   ]
  },
  {
   "cell_type": "code",
   "execution_count": 59,
   "metadata": {},
   "outputs": [
    {
     "ename": "TypeError",
     "evalue": "Can't convert object to 'str' for 'filename'",
     "output_type": "error",
     "traceback": [
      "\u001b[1;31m---------------------------------------------------------------------------\u001b[0m",
      "\u001b[1;31mTypeError\u001b[0m                                 Traceback (most recent call last)",
      "Input \u001b[1;32mIn [59]\u001b[0m, in \u001b[0;36m<cell line: 1>\u001b[1;34m()\u001b[0m\n\u001b[1;32m----> 1\u001b[0m \u001b[43mis_pixelated\u001b[49m\u001b[43m(\u001b[49m\u001b[43mgood_\u001b[49m\u001b[43m)\u001b[49m\n",
      "Input \u001b[1;32mIn [58]\u001b[0m, in \u001b[0;36mis_pixelated\u001b[1;34m(image_path, threshold)\u001b[0m\n\u001b[0;32m      5\u001b[0m     response \u001b[38;5;241m=\u001b[39m requests\u001b[38;5;241m.\u001b[39mget(image_path)\n\u001b[0;32m      6\u001b[0m \u001b[38;5;66;03m#     image = Image.open(BytesIO(response.content))\u001b[39;00m\n\u001b[1;32m----> 7\u001b[0m     image \u001b[38;5;241m=\u001b[39m \u001b[43mcv2\u001b[49m\u001b[38;5;241;43m.\u001b[39;49m\u001b[43mimread\u001b[49m\u001b[43m(\u001b[49m\u001b[43mBytesIO\u001b[49m\u001b[43m(\u001b[49m\u001b[43mresponse\u001b[49m\u001b[38;5;241;43m.\u001b[39;49m\u001b[43mcontent\u001b[49m\u001b[43m)\u001b[49m\u001b[43m)\u001b[49m\n\u001b[0;32m      8\u001b[0m     gray \u001b[38;5;241m=\u001b[39m cv2\u001b[38;5;241m.\u001b[39mcvtColor(image, cv2\u001b[38;5;241m.\u001b[39mCOLOR_BGR2GRAY)\n\u001b[0;32m     10\u001b[0m     \u001b[38;5;66;03m# Calculate Laplacian variance\u001b[39;00m\n",
      "\u001b[1;31mTypeError\u001b[0m: Can't convert object to 'str' for 'filename'"
     ]
    }
   ],
   "source": [
    "is_pixelated(good_)"
   ]
  },
  {
   "cell_type": "code",
   "execution_count": null,
   "metadata": {},
   "outputs": [],
   "source": [
    "is_pixelated(good_)"
   ]
  },
  {
   "cell_type": "code",
   "execution_count": 40,
   "metadata": {},
   "outputs": [
    {
     "name": "stdout",
     "output_type": "stream",
     "text": [
      "466700\n",
      "{'srgb': 0}\n"
     ]
    }
   ],
   "source": [
    "driver.get('https://5dcookie.github.io/')\n",
    "out_img = driver.find_element(By.CSS_SELECTOR,'img[alt=\"Never stop learning.\"]').get_attribute(\"src\")\n",
    "response = requests.get(out_img)\n",
    "img = Image.open(BytesIO(response.content))\n",
    "print(img.height * img.width)\n",
    "print(img.info)"
   ]
  },
  {
   "cell_type": "code",
   "execution_count": 41,
   "metadata": {},
   "outputs": [
    {
     "name": "stdout",
     "output_type": "stream",
     "text": [
      "https://ccweb.imgix.net/https%3A%2F%2Fwww.classcentral.com%2Fimages%2Fillustrations%2Flearning-illustration-valentine.png?auto=format&blur=200&h=650&ixlib=php-3.3.1&px=16&s=c5665658556f22828b8722568fdd1881\n"
     ]
    }
   ],
   "source": [
    "print(out_img)"
   ]
  },
  {
   "cell_type": "code",
   "execution_count": 42,
   "metadata": {},
   "outputs": [
    {
     "data": {
      "text/plain": [
       "72"
      ]
     },
     "execution_count": 42,
     "metadata": {},
     "output_type": "execute_result"
    }
   ],
   "source": [
    "info = img.info\n",
    "resolution = info.get(\"dpi\", (72, 72))\n",
    "ppi = resolution[0]\n",
    "ppi"
   ]
  },
  {
   "cell_type": "code",
   "execution_count": null,
   "metadata": {},
   "outputs": [],
   "source": [
    "info = image.info\n",
    "resolution = info.get(\"dpi\", (72, 72))\n",
    "ppi = resolution[0]"
   ]
  },
  {
   "cell_type": "code",
   "execution_count": null,
   "metadata": {},
   "outputs": [],
   "source": [
    "out_img"
   ]
  },
  {
   "cell_type": "code",
   "execution_count": 24,
   "metadata": {},
   "outputs": [
    {
     "name": "stdout",
     "output_type": "stream",
     "text": [
      "235200\n",
      "235200\n",
      "352800\n",
      "352800\n",
      "352800\n",
      "352800\n",
      "524288\n",
      "8100\n",
      "466700\n",
      "2500\n",
      "2500\n",
      "2500\n",
      "2500\n",
      "2500\n",
      "2500\n",
      "2500\n",
      "2500\n",
      "2500\n",
      "2500\n",
      "655200\n",
      "2500\n",
      "2500\n",
      "2500\n",
      "2500\n",
      "2500\n",
      "2500\n",
      "2500\n",
      "2500\n",
      "2500\n",
      "2500\n",
      "2500\n",
      "2500\n",
      "2500\n",
      "2500\n",
      "2500\n",
      "2500\n",
      "2500\n",
      "2500\n",
      "2500\n",
      "2500\n",
      "2500\n",
      "2500\n",
      "2500\n",
      "2500\n",
      "2500\n",
      "2500\n",
      "2500\n",
      "480000\n",
      "1080000\n",
      "87750\n",
      "45000\n",
      "45000\n",
      "45000\n",
      "45000\n",
      "45000\n",
      "101250\n",
      "101700\n",
      "101700\n",
      "101250\n",
      "101250\n",
      "101250\n"
     ]
    }
   ],
   "source": [
    "images = driver.find_elements(By.CSS_SELECTOR,'img')\n",
    "for imgg in images:\n",
    "    src = imgg.get_attribute(\"src\")\n",
    "    response = requests.get(src)\n",
    "\n",
    "#     img.show()\n",
    "    try:\n",
    "        img = Image.open(BytesIO(response.content))\n",
    "        print(img.height * img.width)\n",
    "    except:\n",
    "        pass"
   ]
  },
  {
   "cell_type": "code",
   "execution_count": null,
   "metadata": {},
   "outputs": [],
   "source": [
    "#from "
   ]
  },
  {
   "cell_type": "code",
   "execution_count": 35,
   "metadata": {
    "collapsed": true
   },
   "outputs": [
    {
     "name": "stdout",
     "output_type": "stream",
     "text": [
      "https://graceful-sunburst-78f35d.netlify.app/www.classcentral.com/index.html\n",
      "https://ammardab3an99.github.io/\n",
      "https://heartfelt-lollipop-736861.netlify.app/\n",
      "https://radiant-hummingbird-697a83.netlify.app/\n",
      "https://radiant-hummingbird-697a83.netlify.app/ not indian\n",
      "http://trialserver.rf.gd/trial6/www.classcentral.com/index.html\n",
      "https://class-central.vercel.app/www.classcentral.com/index.html\n",
      "https://class-central.vercel.app/www.classcentral.com/index.html not indian\n",
      "https://5dcookie.github.io/\n",
      "https://www.census2011.co.in/city.php#:~:text=Here%20are%20the%20details%20of,%2D%203%2C124%2C458%2C%20Jaipur%20%2D%203%2C046%2C163\n",
      "https://www.census2011.co.in/city.php#:~:text=Here%20are%20the%20details%20of,%2D%203%2C124%2C458%2C%20Jaipur%20%2D%203%2C046%2C163 not indian\n",
      "https://umair1814.github.io/\n",
      "https://umair1814.github.io/ not indian\n",
      "na.co\n",
      "out link \n",
      "https://www.httrack.com/\n",
      "https://www.httrack.com/ not indian\n",
      "https://www.classcentral.com/\n",
      "https://www.classcentral.com/ not indian\n",
      "https://sinistersup.github.io/classcentral-hindi/\n",
      "https://omarkhalifa97.github.io/khalifaaaz.github.io/\n",
      "https://df0a.github.io/\n",
      "https://df0a.github.io/ not indian\n",
      "http://miguel-hindi-classcentral.s3-website-us-east-1.amazonaws.com/\n",
      "http://miguel-hindi-classcentral.s3-website-us-east-1.amazonaws.com/ not indian\n",
      "https://classcentral-scrape-hindi.vercel.app/\n",
      "https://testclass01.000webhostapp.com/www.classcentral.com/index.html\n",
      "https://testclass01.000webhostapp.com/www.classcentral.com/index.html not indian\n",
      "https://mike-brown5.github.io/AllStars-Scrapped-Site/\n",
      "https://ubadeakkad.github.io/\n",
      "https://ubadeakkad.github.io/ not indian\n",
      "https://www.dqlab.id/\n",
      "https://www.dqlab.id/ not indian\n",
      "https://drive.google.com/drive/folders/1eLU2AQ80bn89gYNC2HEIbrKswVzdj0qC?usp=sharing\n",
      "https://drive.google.com/drive/folders/1eLU2AQ80bn89gYNC2HEIbrKswVzdj0qC?usp=sharing not indian\n",
      "https://www.mediafire.com/folder/ktcts50c9o1up/Class_Central_-Website_translation\n",
      "https://www.mediafire.com/folder/ktcts50c9o1up/Class_Central_-Website_translation not indian\n",
      "https://www.facebook.com/\n",
      "https://www.facebook.com/ not indian\n",
      "http://daniel1uno.byethost31.com/\n",
      "http://mihir.testing-phase.com/\n",
      "http://grsmuche.vh109.hosterby.com/\n",
      "https://a58-mohiuddin.github.io/developer_trial_task/web_translate.html\n",
      "https://datta07.github.io/classcentralclone/\n",
      "https://venerable-froyo-7f3b1e.netlify.app/university/cornell.html\n",
      "https://venerable-froyo-7f3b1e.netlify.app/university/cornell.html not indian\n",
      "https://muhammederenaslan.github.io/codingallstars/\n",
      "https://exosmotic-bay.000webhostapp.com/\n",
      "https://interviewdeneme123.000webhostapp.com/\n",
      "http://classcent.infinityfreeapp.com/\n",
      "https://codingallstarttest0000.on.drv.tw/www.teeest.blog/\n"
     ]
    }
   ],
   "source": [
    "for link in links:\n",
    "    print(link)\n",
    "    if not validators.url(link):\n",
    "    ### TO DO\n",
    "        print('out link ')\n",
    "        continue\n",
    "    for i in range(10):\n",
    "        try:\n",
    "            driver.get(link)\n",
    "            break\n",
    "        except:\n",
    "            pass \n",
    "    lang = detect(driver.find_element(By.CSS_SELECTOR,'body').text)\n",
    "    if lang not in  ['hi']:\n",
    "        ### TO DO\n",
    "        print(link, '<<<<<not indian')\n",
    "        pass\n",
    "    "
   ]
  }
 ],
 "metadata": {
  "kernelspec": {
   "display_name": "Python 3 (ipykernel)",
   "language": "python",
   "name": "python3"
  },
  "language_info": {
   "codemirror_mode": {
    "name": "ipython",
    "version": 3
   },
   "file_extension": ".py",
   "mimetype": "text/x-python",
   "name": "python",
   "nbconvert_exporter": "python",
   "pygments_lexer": "ipython3",
   "version": "3.9.12"
  }
 },
 "nbformat": 4,
 "nbformat_minor": 4
}
