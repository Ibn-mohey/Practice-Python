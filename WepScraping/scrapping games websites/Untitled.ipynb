{
 "cells": [
  {
   "cell_type": "code",
   "execution_count": 1,
   "id": "6736d0b1",
   "metadata": {},
   "outputs": [],
   "source": [
    "!pip -q install lxml requests beautifulsoup4\n",
    "import requests \n",
    "from bs4 import BeautifulSoup\n",
    "import csv\n",
    "from itertools import zip_longest\n",
    "headers = {'User-Agent': 'Mozilla/5.0 (Windows NT 6.1; WOW64; rv:20.0) Gecko/20100101 Firefox/20.0'}\n",
    "\n",
    "def extract_text(list):\n",
    "    return [i.text for i in list]\n",
    "\n",
    "def extract_link(list):\n",
    "    return [\"https://wuzzuf.net\"+i.find('a').attrs['href'] for i in list]\n",
    "\n",
    "def connect_link(link):\n",
    "    src = requests.get(link , headers = headers).content\n",
    "    soup = BeautifulSoup(src,'lxml')\n",
    "    return soup\n"
   ]
  },
  {
   "cell_type": "code",
   "execution_count": 3,
   "id": "8d089bae",
   "metadata": {},
   "outputs": [],
   "source": [
    "link = 'https://store.steampowered.com/app/1700870/Clanfolk/'\n",
    "soup = connect_link(link)"
   ]
  },
  {
   "cell_type": "code",
   "execution_count": null,
   "id": "3da4e543",
   "metadata": {},
   "outputs": [],
   "source": []
  }
 ],
 "metadata": {
  "kernelspec": {
   "display_name": "Python 3 (ipykernel)",
   "language": "python",
   "name": "python3"
  },
  "language_info": {
   "codemirror_mode": {
    "name": "ipython",
    "version": 3
   },
   "file_extension": ".py",
   "mimetype": "text/x-python",
   "name": "python",
   "nbconvert_exporter": "python",
   "pygments_lexer": "ipython3",
   "version": "3.9.12"
  }
 },
 "nbformat": 4,
 "nbformat_minor": 5
}
