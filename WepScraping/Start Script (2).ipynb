{
 "cells": [
  {
   "cell_type": "code",
   "execution_count": 31,
   "metadata": {},
   "outputs": [],
   "source": [
    "from datetime import date\n",
    "from datetime import datetime\n",
    "from selenium import webdriver\n",
    "from selenium.webdriver.chrome.options import Options\n",
    "from selenium.webdriver.chrome.service import Service\n",
    "from selenium.webdriver.common.by import By\n",
    "from selenium.webdriver.common.keys import Keys\n",
    "from selenium.webdriver.support import expected_conditions as EC\n",
    "from selenium.webdriver.support.ui import WebDriverWait\n",
    "from webdriver_manager.chrome import ChromeDriverManager\n",
    "import argparse\n",
    "import cv2\n",
    "import json\n",
    "import mysql.connector\n",
    "import re\n",
    "import requests\n",
    "import sqlite3\n",
    "from sqlite3 import Error\n",
    "import sys\n",
    "import time\n",
    "import traceback\n",
    "import urllib.error\n",
    "import urllib.request\n",
    "import traceback\n",
    "from selenium.webdriver.common.action_chains import ActionChains\n",
    "from selenium.common.exceptions import TimeoutException as cant_find_element\n",
    "import re\n",
    "import pandas as pd\n",
    "\n",
    "# from functions import *\n",
    "# from url_search import * \n",
    "\n"
   ]
  },
  {
   "cell_type": "code",
   "execution_count": null,
   "metadata": {},
   "outputs": [],
   "source": [
    "# driver = webdriver.Chrome(ChromeDriverManager(version='114.0.5735.90').install())"
   ]
  },
  {
   "cell_type": "code",
   "execution_count": null,
   "metadata": {},
   "outputs": [],
   "source": []
  },
  {
   "cell_type": "code",
   "execution_count": 32,
   "metadata": {},
   "outputs": [],
   "source": [
    "from selenium.webdriver.chrome.options import Options\n",
    "all_options = Options()\n",
    "# options.binary_location = \"D:\\Downloads\\GoogleChromePortable114\\GoogleChromePortable.exe\"\n",
    "# all_options.add_argument(\"--window-size=1920,1080\")\n",
    "##silent\n",
    "\n",
    "\n",
    "# browser = webdriver.Chrome(chrome_options=options)\n",
    "\n",
    "try:\n",
    "    driver.close()\n",
    "except:\n",
    "    pass\n",
    "# driver = webdriver.Chrome(\"D:\\\\leadintop-work\\\\tools\\\\chromedriver114.exe\")\n",
    "\n",
    "# driver = webdriver.Chrome(service=Service(executable_path = './chromedriver_win32/chromedriver.exe'),options= all_options)\n",
    "driver = webdriver.Chrome(options= all_options)\n",
    "# from selenium.webdriver.chrome.options import Options\n",
    "# options = Options()\n",
    "# options.binary_location = \"c:\\myproject\\chromeportable\\chrome.exe\"\n",
    "# # you may need some other options\n",
    "# #options.add_argument('--no-sandbox')\n",
    "# #options.add_argument('--no-default-browser-check')\n",
    "# #options.add_argument('--no-first-run')\n",
    "# #options.add_argument('--disable-gpu')\n",
    "# #options.add_argument('--disable-extensions')\n",
    "# #options.add_argument('--disable-default-apps')\n",
    "# driver = webdriver.Chrome(\"c:\\myproject\\driver\\chromedriver.exe\",\n",
    "#             options=options)"
   ]
  },
  {
   "cell_type": "code",
   "execution_count": 36,
   "metadata": {},
   "outputs": [],
   "source": [
    "driver.get(f'https://www.aznude.com/tags/alltags/1.html')\n",
    "tags_div = driver.find_element(By.CSS_SELECTOR, value = 'div[class=\"row text-center\"]')\n",
    "tags = driver.find_elements(By.CSS_SELECTOR, value = 'div[class=\"col-lg-3 col-md-4 col-sm-6 col-xs-12 tags-boxes\"]')"
   ]
  },
  {
   "cell_type": "code",
   "execution_count": 48,
   "metadata": {},
   "outputs": [
    {
     "data": {
      "text/plain": [
       "'https://www.aznude.com/browse/tags/vids/race/1.html'"
      ]
     },
     "execution_count": 48,
     "metadata": {},
     "output_type": "execute_result"
    }
   ],
   "source": []
  },
  {
   "cell_type": "code",
   "execution_count": null,
   "metadata": {},
   "outputs": [],
   "source": [
    "tags = tags_div.find_elements(By.CSS_SELECTOR, value = 'a')"
   ]
  },
  {
   "cell_type": "code",
   "execution_count": null,
   "metadata": {},
   "outputs": [],
   "source": [
    "for page in range(3,10):\n",
    "    driver.get(f'https://www.aznude.com/tags/alltags/{page}.html')\n",
    "    tags_div = driver.find_element(By.CSS_SELECTOR, value = 'div[class=\"row text-center\"]')\n",
    "    tags = driver.find_elements(By.CSS_SELECTOR, value = 'div[class=\"col-lg-3 col-md-4 col-sm-6 col-xs-12 tags-boxes\"]')\n",
    "    with open('links.txt', 'a') as f:\n",
    "        for t in tags:\n",
    "            data = t.text.replace('\\n', ',').replace(' video', '').replace(' videos', '').replace(' images', '').replace(' image', '')\n",
    "            link = t.find_element(By.CSS_SELECTOR, value = 'a').get_attribute('href')\n",
    "            f.write(f\"{data},{link}\")\n",
    "            f.write(f\"\\n\")\n",
    "        # print(page)"
   ]
  },
  {
   "cell_type": "code",
   "execution_count": 21,
   "metadata": {},
   "outputs": [],
   "source": [
    "\n",
    "titles = [t.text for t in tags]\n",
    "links = [t.get_attribute('href') for t in tags]"
   ]
  },
  {
   "cell_type": "code",
   "execution_count": 49,
   "metadata": {},
   "outputs": [
    {
     "ename": "KeyboardInterrupt",
     "evalue": "",
     "output_type": "error",
     "traceback": [
      "\u001b[1;31m---------------------------------------------------------------------------\u001b[0m",
      "\u001b[1;31mKeyboardInterrupt\u001b[0m                         Traceback (most recent call last)",
      "Cell \u001b[1;32mIn[49], line 4\u001b[0m\n\u001b[0;32m      2\u001b[0m \u001b[39mfor\u001b[39;00m t \u001b[39min\u001b[39;00m tags:\n\u001b[0;32m      3\u001b[0m     data \u001b[39m=\u001b[39m t\u001b[39m.\u001b[39mtext\u001b[39m.\u001b[39mreplace(\u001b[39m'\u001b[39m\u001b[39m\\n\u001b[39;00m\u001b[39m'\u001b[39m, \u001b[39m'\u001b[39m\u001b[39m,\u001b[39m\u001b[39m'\u001b[39m)\u001b[39m.\u001b[39mreplace(\u001b[39m'\u001b[39m\u001b[39m video\u001b[39m\u001b[39m'\u001b[39m, \u001b[39m'\u001b[39m\u001b[39m'\u001b[39m)\u001b[39m.\u001b[39mreplace(\u001b[39m'\u001b[39m\u001b[39m videos\u001b[39m\u001b[39m'\u001b[39m, \u001b[39m'\u001b[39m\u001b[39m'\u001b[39m)\u001b[39m.\u001b[39mreplace(\u001b[39m'\u001b[39m\u001b[39m images\u001b[39m\u001b[39m'\u001b[39m, \u001b[39m'\u001b[39m\u001b[39m'\u001b[39m)\u001b[39m.\u001b[39mreplace(\u001b[39m'\u001b[39m\u001b[39m image\u001b[39m\u001b[39m'\u001b[39m, \u001b[39m'\u001b[39m\u001b[39m'\u001b[39m)\n\u001b[1;32m----> 4\u001b[0m     link \u001b[39m=\u001b[39m t\u001b[39m.\u001b[39;49mfind_element(By\u001b[39m.\u001b[39;49mCSS_SELECTOR, value \u001b[39m=\u001b[39;49m \u001b[39m'\u001b[39;49m\u001b[39ma\u001b[39;49m\u001b[39m'\u001b[39;49m)\u001b[39m.\u001b[39mget_attribute(\u001b[39m'\u001b[39m\u001b[39mhref\u001b[39m\u001b[39m'\u001b[39m)\n\u001b[0;32m      5\u001b[0m     f\u001b[39m.\u001b[39mwrite(\u001b[39mf\u001b[39m\u001b[39m\"\u001b[39m\u001b[39m{\u001b[39;00mdata\u001b[39m}\u001b[39;00m\u001b[39m,\u001b[39m\u001b[39m{\u001b[39;00mlink\u001b[39m}\u001b[39;00m\u001b[39m\"\u001b[39m)\n\u001b[0;32m      6\u001b[0m     f\u001b[39m.\u001b[39mwrite(\u001b[39mf\u001b[39m\u001b[39m\"\u001b[39m\u001b[39m\\n\u001b[39;00m\u001b[39m\"\u001b[39m)\n",
      "File \u001b[1;32mc:\\Program Files\\Python312\\Lib\\site-packages\\selenium\\webdriver\\remote\\webelement.py:416\u001b[0m, in \u001b[0;36mWebElement.find_element\u001b[1;34m(self, by, value)\u001b[0m\n\u001b[0;32m    413\u001b[0m     by \u001b[39m=\u001b[39m By\u001b[39m.\u001b[39mCSS_SELECTOR\n\u001b[0;32m    414\u001b[0m     value \u001b[39m=\u001b[39m \u001b[39mf\u001b[39m\u001b[39m'\u001b[39m\u001b[39m[name=\u001b[39m\u001b[39m\"\u001b[39m\u001b[39m{\u001b[39;00mvalue\u001b[39m}\u001b[39;00m\u001b[39m\"\u001b[39m\u001b[39m]\u001b[39m\u001b[39m'\u001b[39m\n\u001b[1;32m--> 416\u001b[0m \u001b[39mreturn\u001b[39;00m \u001b[39mself\u001b[39;49m\u001b[39m.\u001b[39;49m_execute(Command\u001b[39m.\u001b[39;49mFIND_CHILD_ELEMENT, {\u001b[39m\"\u001b[39;49m\u001b[39musing\u001b[39;49m\u001b[39m\"\u001b[39;49m: by, \u001b[39m\"\u001b[39;49m\u001b[39mvalue\u001b[39;49m\u001b[39m\"\u001b[39;49m: value})[\u001b[39m\"\u001b[39m\u001b[39mvalue\u001b[39m\u001b[39m\"\u001b[39m]\n",
      "File \u001b[1;32mc:\\Program Files\\Python312\\Lib\\site-packages\\selenium\\webdriver\\remote\\webelement.py:394\u001b[0m, in \u001b[0;36mWebElement._execute\u001b[1;34m(self, command, params)\u001b[0m\n\u001b[0;32m    392\u001b[0m     params \u001b[39m=\u001b[39m {}\n\u001b[0;32m    393\u001b[0m params[\u001b[39m\"\u001b[39m\u001b[39mid\u001b[39m\u001b[39m\"\u001b[39m] \u001b[39m=\u001b[39m \u001b[39mself\u001b[39m\u001b[39m.\u001b[39m_id\n\u001b[1;32m--> 394\u001b[0m \u001b[39mreturn\u001b[39;00m \u001b[39mself\u001b[39;49m\u001b[39m.\u001b[39;49m_parent\u001b[39m.\u001b[39;49mexecute(command, params)\n",
      "File \u001b[1;32mc:\\Program Files\\Python312\\Lib\\site-packages\\selenium\\webdriver\\remote\\webdriver.py:342\u001b[0m, in \u001b[0;36mWebDriver.execute\u001b[1;34m(self, driver_command, params)\u001b[0m\n\u001b[0;32m    339\u001b[0m     \u001b[39melif\u001b[39;00m \u001b[39m\"\u001b[39m\u001b[39msessionId\u001b[39m\u001b[39m\"\u001b[39m \u001b[39mnot\u001b[39;00m \u001b[39min\u001b[39;00m params:\n\u001b[0;32m    340\u001b[0m         params[\u001b[39m\"\u001b[39m\u001b[39msessionId\u001b[39m\u001b[39m\"\u001b[39m] \u001b[39m=\u001b[39m \u001b[39mself\u001b[39m\u001b[39m.\u001b[39msession_id\n\u001b[1;32m--> 342\u001b[0m response \u001b[39m=\u001b[39m \u001b[39mself\u001b[39;49m\u001b[39m.\u001b[39;49mcommand_executor\u001b[39m.\u001b[39;49mexecute(driver_command, params)\n\u001b[0;32m    343\u001b[0m \u001b[39mif\u001b[39;00m response:\n\u001b[0;32m    344\u001b[0m     \u001b[39mself\u001b[39m\u001b[39m.\u001b[39merror_handler\u001b[39m.\u001b[39mcheck_response(response)\n",
      "File \u001b[1;32mc:\\Program Files\\Python312\\Lib\\site-packages\\selenium\\webdriver\\remote\\remote_connection.py:297\u001b[0m, in \u001b[0;36mRemoteConnection.execute\u001b[1;34m(self, command, params)\u001b[0m\n\u001b[0;32m    295\u001b[0m data \u001b[39m=\u001b[39m utils\u001b[39m.\u001b[39mdump_json(params)\n\u001b[0;32m    296\u001b[0m url \u001b[39m=\u001b[39m \u001b[39mf\u001b[39m\u001b[39m\"\u001b[39m\u001b[39m{\u001b[39;00m\u001b[39mself\u001b[39m\u001b[39m.\u001b[39m_url\u001b[39m}\u001b[39;00m\u001b[39m{\u001b[39;00mpath\u001b[39m}\u001b[39;00m\u001b[39m\"\u001b[39m\n\u001b[1;32m--> 297\u001b[0m \u001b[39mreturn\u001b[39;00m \u001b[39mself\u001b[39;49m\u001b[39m.\u001b[39;49m_request(command_info[\u001b[39m0\u001b[39;49m], url, body\u001b[39m=\u001b[39;49mdata)\n",
      "File \u001b[1;32mc:\\Program Files\\Python312\\Lib\\site-packages\\selenium\\webdriver\\remote\\remote_connection.py:318\u001b[0m, in \u001b[0;36mRemoteConnection._request\u001b[1;34m(self, method, url, body)\u001b[0m\n\u001b[0;32m    315\u001b[0m     body \u001b[39m=\u001b[39m \u001b[39mNone\u001b[39;00m\n\u001b[0;32m    317\u001b[0m \u001b[39mif\u001b[39;00m \u001b[39mself\u001b[39m\u001b[39m.\u001b[39mkeep_alive:\n\u001b[1;32m--> 318\u001b[0m     response \u001b[39m=\u001b[39m \u001b[39mself\u001b[39;49m\u001b[39m.\u001b[39;49m_conn\u001b[39m.\u001b[39;49mrequest(method, url, body\u001b[39m=\u001b[39;49mbody, headers\u001b[39m=\u001b[39;49mheaders)\n\u001b[0;32m    319\u001b[0m     statuscode \u001b[39m=\u001b[39m response\u001b[39m.\u001b[39mstatus\n\u001b[0;32m    320\u001b[0m \u001b[39melse\u001b[39;00m:\n",
      "File \u001b[1;32mc:\\Program Files\\Python312\\Lib\\site-packages\\urllib3\\_request_methods.py:118\u001b[0m, in \u001b[0;36mRequestMethods.request\u001b[1;34m(self, method, url, body, fields, headers, json, **urlopen_kw)\u001b[0m\n\u001b[0;32m    110\u001b[0m     \u001b[39mreturn\u001b[39;00m \u001b[39mself\u001b[39m\u001b[39m.\u001b[39mrequest_encode_url(\n\u001b[0;32m    111\u001b[0m         method,\n\u001b[0;32m    112\u001b[0m         url,\n\u001b[1;32m   (...)\u001b[0m\n\u001b[0;32m    115\u001b[0m         \u001b[39m*\u001b[39m\u001b[39m*\u001b[39murlopen_kw,\n\u001b[0;32m    116\u001b[0m     )\n\u001b[0;32m    117\u001b[0m \u001b[39melse\u001b[39;00m:\n\u001b[1;32m--> 118\u001b[0m     \u001b[39mreturn\u001b[39;00m \u001b[39mself\u001b[39;49m\u001b[39m.\u001b[39;49mrequest_encode_body(\n\u001b[0;32m    119\u001b[0m         method, url, fields\u001b[39m=\u001b[39;49mfields, headers\u001b[39m=\u001b[39;49mheaders, \u001b[39m*\u001b[39;49m\u001b[39m*\u001b[39;49murlopen_kw\n\u001b[0;32m    120\u001b[0m     )\n",
      "File \u001b[1;32mc:\\Program Files\\Python312\\Lib\\site-packages\\urllib3\\_request_methods.py:217\u001b[0m, in \u001b[0;36mRequestMethods.request_encode_body\u001b[1;34m(self, method, url, fields, headers, encode_multipart, multipart_boundary, **urlopen_kw)\u001b[0m\n\u001b[0;32m    213\u001b[0m     extra_kw[\u001b[39m\"\u001b[39m\u001b[39mheaders\u001b[39m\u001b[39m\"\u001b[39m]\u001b[39m.\u001b[39msetdefault(\u001b[39m\"\u001b[39m\u001b[39mContent-Type\u001b[39m\u001b[39m\"\u001b[39m, content_type)\n\u001b[0;32m    215\u001b[0m extra_kw\u001b[39m.\u001b[39mupdate(urlopen_kw)\n\u001b[1;32m--> 217\u001b[0m \u001b[39mreturn\u001b[39;00m \u001b[39mself\u001b[39;49m\u001b[39m.\u001b[39;49murlopen(method, url, \u001b[39m*\u001b[39;49m\u001b[39m*\u001b[39;49mextra_kw)\n",
      "File \u001b[1;32mc:\\Program Files\\Python312\\Lib\\site-packages\\urllib3\\poolmanager.py:443\u001b[0m, in \u001b[0;36mPoolManager.urlopen\u001b[1;34m(self, method, url, redirect, **kw)\u001b[0m\n\u001b[0;32m    441\u001b[0m     response \u001b[39m=\u001b[39m conn\u001b[39m.\u001b[39murlopen(method, url, \u001b[39m*\u001b[39m\u001b[39m*\u001b[39mkw)\n\u001b[0;32m    442\u001b[0m \u001b[39melse\u001b[39;00m:\n\u001b[1;32m--> 443\u001b[0m     response \u001b[39m=\u001b[39m conn\u001b[39m.\u001b[39;49murlopen(method, u\u001b[39m.\u001b[39;49mrequest_uri, \u001b[39m*\u001b[39;49m\u001b[39m*\u001b[39;49mkw)\n\u001b[0;32m    445\u001b[0m redirect_location \u001b[39m=\u001b[39m redirect \u001b[39mand\u001b[39;00m response\u001b[39m.\u001b[39mget_redirect_location()\n\u001b[0;32m    446\u001b[0m \u001b[39mif\u001b[39;00m \u001b[39mnot\u001b[39;00m redirect_location:\n",
      "File \u001b[1;32mc:\\Program Files\\Python312\\Lib\\site-packages\\urllib3\\connectionpool.py:790\u001b[0m, in \u001b[0;36mHTTPConnectionPool.urlopen\u001b[1;34m(self, method, url, body, headers, retries, redirect, assert_same_host, timeout, pool_timeout, release_conn, chunked, body_pos, preload_content, decode_content, **response_kw)\u001b[0m\n\u001b[0;32m    787\u001b[0m response_conn \u001b[39m=\u001b[39m conn \u001b[39mif\u001b[39;00m \u001b[39mnot\u001b[39;00m release_conn \u001b[39melse\u001b[39;00m \u001b[39mNone\u001b[39;00m\n\u001b[0;32m    789\u001b[0m \u001b[39m# Make the request on the HTTPConnection object\u001b[39;00m\n\u001b[1;32m--> 790\u001b[0m response \u001b[39m=\u001b[39m \u001b[39mself\u001b[39;49m\u001b[39m.\u001b[39;49m_make_request(\n\u001b[0;32m    791\u001b[0m     conn,\n\u001b[0;32m    792\u001b[0m     method,\n\u001b[0;32m    793\u001b[0m     url,\n\u001b[0;32m    794\u001b[0m     timeout\u001b[39m=\u001b[39;49mtimeout_obj,\n\u001b[0;32m    795\u001b[0m     body\u001b[39m=\u001b[39;49mbody,\n\u001b[0;32m    796\u001b[0m     headers\u001b[39m=\u001b[39;49mheaders,\n\u001b[0;32m    797\u001b[0m     chunked\u001b[39m=\u001b[39;49mchunked,\n\u001b[0;32m    798\u001b[0m     retries\u001b[39m=\u001b[39;49mretries,\n\u001b[0;32m    799\u001b[0m     response_conn\u001b[39m=\u001b[39;49mresponse_conn,\n\u001b[0;32m    800\u001b[0m     preload_content\u001b[39m=\u001b[39;49mpreload_content,\n\u001b[0;32m    801\u001b[0m     decode_content\u001b[39m=\u001b[39;49mdecode_content,\n\u001b[0;32m    802\u001b[0m     \u001b[39m*\u001b[39;49m\u001b[39m*\u001b[39;49mresponse_kw,\n\u001b[0;32m    803\u001b[0m )\n\u001b[0;32m    805\u001b[0m \u001b[39m# Everything went great!\u001b[39;00m\n\u001b[0;32m    806\u001b[0m clean_exit \u001b[39m=\u001b[39m \u001b[39mTrue\u001b[39;00m\n",
      "File \u001b[1;32mc:\\Program Files\\Python312\\Lib\\site-packages\\urllib3\\connectionpool.py:536\u001b[0m, in \u001b[0;36mHTTPConnectionPool._make_request\u001b[1;34m(self, conn, method, url, body, headers, retries, timeout, chunked, response_conn, preload_content, decode_content, enforce_content_length)\u001b[0m\n\u001b[0;32m    534\u001b[0m \u001b[39m# Receive the response from the server\u001b[39;00m\n\u001b[0;32m    535\u001b[0m \u001b[39mtry\u001b[39;00m:\n\u001b[1;32m--> 536\u001b[0m     response \u001b[39m=\u001b[39m conn\u001b[39m.\u001b[39;49mgetresponse()\n\u001b[0;32m    537\u001b[0m \u001b[39mexcept\u001b[39;00m (BaseSSLError, \u001b[39mOSError\u001b[39;00m) \u001b[39mas\u001b[39;00m e:\n\u001b[0;32m    538\u001b[0m     \u001b[39mself\u001b[39m\u001b[39m.\u001b[39m_raise_timeout(err\u001b[39m=\u001b[39me, url\u001b[39m=\u001b[39murl, timeout_value\u001b[39m=\u001b[39mread_timeout)\n",
      "File \u001b[1;32mc:\\Program Files\\Python312\\Lib\\site-packages\\urllib3\\connection.py:461\u001b[0m, in \u001b[0;36mHTTPConnection.getresponse\u001b[1;34m(self)\u001b[0m\n\u001b[0;32m    458\u001b[0m \u001b[39mfrom\u001b[39;00m \u001b[39m.\u001b[39;00m\u001b[39mresponse\u001b[39;00m \u001b[39mimport\u001b[39;00m HTTPResponse\n\u001b[0;32m    460\u001b[0m \u001b[39m# Get the response from http.client.HTTPConnection\u001b[39;00m\n\u001b[1;32m--> 461\u001b[0m httplib_response \u001b[39m=\u001b[39m \u001b[39msuper\u001b[39;49m()\u001b[39m.\u001b[39;49mgetresponse()\n\u001b[0;32m    463\u001b[0m \u001b[39mtry\u001b[39;00m:\n\u001b[0;32m    464\u001b[0m     assert_header_parsing(httplib_response\u001b[39m.\u001b[39mmsg)\n",
      "File \u001b[1;32mc:\\Program Files\\Python312\\Lib\\http\\client.py:1411\u001b[0m, in \u001b[0;36mHTTPConnection.getresponse\u001b[1;34m(self)\u001b[0m\n\u001b[0;32m   1409\u001b[0m \u001b[39mtry\u001b[39;00m:\n\u001b[0;32m   1410\u001b[0m     \u001b[39mtry\u001b[39;00m:\n\u001b[1;32m-> 1411\u001b[0m         response\u001b[39m.\u001b[39;49mbegin()\n\u001b[0;32m   1412\u001b[0m     \u001b[39mexcept\u001b[39;00m \u001b[39mConnectionError\u001b[39;00m:\n\u001b[0;32m   1413\u001b[0m         \u001b[39mself\u001b[39m\u001b[39m.\u001b[39mclose()\n",
      "File \u001b[1;32mc:\\Program Files\\Python312\\Lib\\http\\client.py:324\u001b[0m, in \u001b[0;36mHTTPResponse.begin\u001b[1;34m(self)\u001b[0m\n\u001b[0;32m    322\u001b[0m \u001b[39m# read until we get a non-100 response\u001b[39;00m\n\u001b[0;32m    323\u001b[0m \u001b[39mwhile\u001b[39;00m \u001b[39mTrue\u001b[39;00m:\n\u001b[1;32m--> 324\u001b[0m     version, status, reason \u001b[39m=\u001b[39m \u001b[39mself\u001b[39;49m\u001b[39m.\u001b[39;49m_read_status()\n\u001b[0;32m    325\u001b[0m     \u001b[39mif\u001b[39;00m status \u001b[39m!=\u001b[39m CONTINUE:\n\u001b[0;32m    326\u001b[0m         \u001b[39mbreak\u001b[39;00m\n",
      "File \u001b[1;32mc:\\Program Files\\Python312\\Lib\\http\\client.py:285\u001b[0m, in \u001b[0;36mHTTPResponse._read_status\u001b[1;34m(self)\u001b[0m\n\u001b[0;32m    284\u001b[0m \u001b[39mdef\u001b[39;00m \u001b[39m_read_status\u001b[39m(\u001b[39mself\u001b[39m):\n\u001b[1;32m--> 285\u001b[0m     line \u001b[39m=\u001b[39m \u001b[39mstr\u001b[39m(\u001b[39mself\u001b[39;49m\u001b[39m.\u001b[39;49mfp\u001b[39m.\u001b[39;49mreadline(_MAXLINE \u001b[39m+\u001b[39;49m \u001b[39m1\u001b[39;49m), \u001b[39m\"\u001b[39m\u001b[39miso-8859-1\u001b[39m\u001b[39m\"\u001b[39m)\n\u001b[0;32m    286\u001b[0m     \u001b[39mif\u001b[39;00m \u001b[39mlen\u001b[39m(line) \u001b[39m>\u001b[39m _MAXLINE:\n\u001b[0;32m    287\u001b[0m         \u001b[39mraise\u001b[39;00m LineTooLong(\u001b[39m\"\u001b[39m\u001b[39mstatus line\u001b[39m\u001b[39m\"\u001b[39m)\n",
      "File \u001b[1;32mc:\\Program Files\\Python312\\Lib\\socket.py:707\u001b[0m, in \u001b[0;36mSocketIO.readinto\u001b[1;34m(self, b)\u001b[0m\n\u001b[0;32m    705\u001b[0m \u001b[39mwhile\u001b[39;00m \u001b[39mTrue\u001b[39;00m:\n\u001b[0;32m    706\u001b[0m     \u001b[39mtry\u001b[39;00m:\n\u001b[1;32m--> 707\u001b[0m         \u001b[39mreturn\u001b[39;00m \u001b[39mself\u001b[39;49m\u001b[39m.\u001b[39;49m_sock\u001b[39m.\u001b[39;49mrecv_into(b)\n\u001b[0;32m    708\u001b[0m     \u001b[39mexcept\u001b[39;00m timeout:\n\u001b[0;32m    709\u001b[0m         \u001b[39mself\u001b[39m\u001b[39m.\u001b[39m_timeout_occurred \u001b[39m=\u001b[39m \u001b[39mTrue\u001b[39;00m\n",
      "\u001b[1;31mKeyboardInterrupt\u001b[0m: "
     ]
    }
   ],
   "source": [
    "with open('links.txt', 'a') as f:\n",
    "    for t in tags:\n",
    "        data = t.text.replace('\\n', ',').replace(' video', '').replace(' videos', '').replace(' images', '').replace(' image', '')\n",
    "        link = t.find_element(By.CSS_SELECTOR, value = 'a').get_attribute('href')\n",
    "        f.write(f\"{data},{link}\")\n",
    "        f.write(f\"\\n\")"
   ]
  },
  {
   "cell_type": "code",
   "execution_count": 26,
   "metadata": {},
   "outputs": [],
   "source": [
    "# with open('links.txt', 'a') as f:\n",
    "#     for t,i in zip(titles,links):\n",
    "#         f.write(f\"{t},{i}\")\n",
    "#         f.write(f\"\\n\")"
   ]
  },
  {
   "cell_type": "code",
   "execution_count": 25,
   "metadata": {},
   "outputs": [],
   "source": []
  },
  {
   "cell_type": "code",
   "execution_count": null,
   "metadata": {},
   "outputs": [],
   "source": [
    "# #scroll to the end\n",
    "# while True:\n",
    "#     try:\n",
    "#         element = WebDriverWait(driver, 10).until(EC.presence_of_element_located((By.CSS_SELECTOR,'a[class=\"_8n_3\"]')))\n",
    "#         actions = ActionChains(driver)\n",
    "#         actions.move_to_element(element).perform()\n",
    "#     except:\n",
    "#         break\n",
    "# #get all ads\n",
    "# elements = driver.find_elements(By.CSS_SELECTOR, value = 'div[class=\"_7jvw x2izyaf x1hq5gj4 x1d52u69\"]')\n",
    "# print(len(elements))"
   ]
  },
  {
   "cell_type": "code",
   "execution_count": null,
   "metadata": {},
   "outputs": [],
   "source": [
    "%load_ext autoreload\n",
    "%autoreload 2\n",
    "from functions import *\n"
   ]
  },
  {
   "cell_type": "code",
   "execution_count": null,
   "metadata": {},
   "outputs": [],
   "source": [
    "elements = find_all_elements(driver)\n",
    "len(elements)"
   ]
  },
  {
   "cell_type": "code",
   "execution_count": null,
   "metadata": {},
   "outputs": [],
   "source": [
    "for element in elements:\n",
    "    "
   ]
  },
  {
   "cell_type": "code",
   "execution_count": null,
   "metadata": {},
   "outputs": [],
   "source": [
    "scroll_to_end(driver,20,1)\n",
    "elements = find_all_elements(driver)\n",
    "len(elements)"
   ]
  },
  {
   "cell_type": "code",
   "execution_count": null,
   "metadata": {},
   "outputs": [],
   "source": [
    "elements = find_all_elements(driver)\n",
    "len(elements)"
   ]
  },
  {
   "cell_type": "code",
   "execution_count": null,
   "metadata": {},
   "outputs": [],
   "source": [
    "# elements = driver.find_elements(By.CSS_SELECTOR, value = 'div[class=\"_7jvw x2izyaf x1hq5gj4 x1d52u69\"]')\n",
    "# #/html/body/div[1]/div[1]/div[1]/div/div/div/div[5]/div[2]/div[2]/div[4]/div[1]/div[1]/div\n",
    "# #/html/body/div[1]/div[1]/div[1]/div/div/div/div[5]/div[2]/div[2]/div[4]/div[1]/div[1]/div/div[1]/div/div[1]/div[3]/span"
   ]
  },
  {
   "cell_type": "code",
   "execution_count": null,
   "metadata": {},
   "outputs": [],
   "source": [
    "# text = WebDriverWait(element, 10).until(EC.presence_of_element_located((By.XPATH,'./div[1]/div/div[1]/div[3]/span'))).text#[19:]\n",
    "# text\n",
    "# datetime.strptime(date,\"%d %b %Y\").strftime(\"%Y-%m-%d\")"
   ]
  },
  {
   "cell_type": "code",
   "execution_count": null,
   "metadata": {},
   "outputs": [],
   "source": [
    "# element = elements[0]\n",
    "# def find_start_date(element):\n",
    "#     text = WebDriverWait(element, 10).until(EC.presence_of_element_located((By.XPATH,'./div[1]/div/div[1]/div[3]/span'))).text#[19:]\n",
    "#     try:\n",
    "#         date = re.findall('\\d+ \\S+ \\d+',text)[0]\n",
    "#         return datetime.datetime.strptime(date,\"%d %b %Y\").strftime(\"%Y-%m-%d\")\n",
    "#     except Exception as e:\n",
    "#         log_it_error(f'on function find_start_date the error for date \\n {e}')\n",
    "#         date = text\n",
    "#         print(e)\n",
    "#         return \"date_error\"\n",
    "# for element in elements:\n",
    "#     print(find_start_date(element))"
   ]
  },
  {
   "cell_type": "code",
   "execution_count": null,
   "metadata": {},
   "outputs": [],
   "source": [
    "# def find_start_date(element):\n",
    "#     text = WebDriverWait(element, 10).until(EC.presence_of_element_located((By.XPATH,'./div[1]/div/div[1]/div[3]/span'))).text#[19:]\n",
    "#     try:\n",
    "#         date = re.findall('\\d+ \\S+ \\d+',text)[0]\n",
    "#         return datetime.datetime.strptime(date,\"%d %b %Y\").strftime(\"%Y-%m-%d\")\n",
    "#     except Exception as e:\n",
    "#         log_it_error(f'on function find_start_date the error for date \\n {e}')\n",
    "#         date = text\n",
    "#         print()\n",
    "#         return \"date_error\""
   ]
  },
  {
   "cell_type": "code",
   "execution_count": null,
   "metadata": {},
   "outputs": [],
   "source": [
    "elements"
   ]
  },
  {
   "cell_type": "code",
   "execution_count": null,
   "metadata": {},
   "outputs": [],
   "source": [
    "print(driver.current_url)\n"
   ]
  },
  {
   "cell_type": "code",
   "execution_count": null,
   "metadata": {},
   "outputs": [],
   "source": [
    "%load_ext autoreload\n",
    "%autoreload 2\n",
    "elements = find_all_elements(driver)\n",
    "len(elements)\n",
    "from functions import *\n",
    "\n",
    "for element in elements:\n",
    "    print(find_start_date(element))"
   ]
  },
  {
   "cell_type": "code",
   "execution_count": null,
   "metadata": {},
   "outputs": [],
   "source": [
    "pages = {}\n",
    "#page text : list [data]\n",
    "import datetime\n",
    "date_time = datetime.datetime.now()\n",
    "search_time_stamps = str(date_time)\n",
    "latest_found = date_time.strftime(\"%Y-%m-%d\")\n",
    "hits = 1\n",
    "# conn = database_connect(data_Base=\"sqlite\")\n",
    "conn =  sqlite3.connect('ad_lib_task.db')\n",
    "cursor = conn.cursor()\n",
    "elements = find_all_elements(driver)\n",
    "for element in elements:\n",
    "    ad_id = find_ID(element)\n",
    "    ad_occurrence = find_ads_occurrence(element)\n",
    "    Started_date = find_start_date(element)\n",
    "    links = find_links(element)\n",
    "    content = find_content(element)\n",
    "    Footer_text , Footer_action = find_footer(element)\n",
    "    Page_name = find_page_name(element)\n",
    "    profile_pic = find_profile_pic(element)\n",
    "    try:\n",
    "        page_link = element.find_element(By.CSS_SELECTOR,'a[class^=\"xt0psk2\"]').get_attribute('href')\n",
    "    except:\n",
    "        continue\n",
    "    data = [ad_id,ad_occurrence,Started_date,links,content,Footer_text,Page_name,profile_pic]\n",
    "    # print(page_link)\n",
    "    try:\n",
    "        pages[page_link].append(data)\n",
    "    except:\n",
    "        pages[page_link] = [data]\n",
    "    # print(date)\n",
    "    \n",
    "    #insert \n",
    "    \n",
    "    \n",
    "    try:\n",
    "        SQL =\"\"\"\n",
    "        insert into ads_search \n",
    "                            (ad_id, search_term, page_link, ad_occurrence, Started_date, links, content, Footer_text, Footer_action, Page_name, profile_pic, latest_found, search_time_stamps, hits) Values (?,?,?,?,?,?,?,?,?,?,?,?,?,?) \n",
    "        \"\"\"\n",
    "        #(?,?,?,?,?,?,?,?,?,?,?,?,?,?) \n",
    "        data = tuple([int(ad_id), search_term, page_link, ad_occurrence, Started_date, links, content, Footer_text, Footer_action, Page_name, profile_pic, latest_found, search_time_stamps, hits])\n",
    "        # cursor = conn.cursor(buffered=True)\n",
    "        cursor.execute(SQL,data)\n",
    "        # conn.commit()\n",
    "    #update\n",
    "    except sqlite3.IntegrityError:\n",
    "        \n",
    "        cursor.execute('''UPDATE ads_search SET\n",
    "                       search_term = search_term || ',' || ? ,\n",
    "                    ad_occurrence =?,\n",
    "                    latest_found = ?,\n",
    "                    search_time_stamps = ? || ',' || search_time_stamps ,\n",
    "                    hits = hits + 1\n",
    "                    where AD_ID = ?'''\n",
    "                      ,(search_term,\n",
    "                        ad_occurrence,\n",
    "                        latest_found,\n",
    "                        search_time_stamps\n",
    "                        , ad_id))\n",
    "    conn.commit()\n",
    "cursor.close()\n",
    "conn.close()\n",
    "for k,v in pages.items():\n",
    "    print(k,len(v))"
   ]
  },
  {
   "cell_type": "code",
   "execution_count": null,
   "metadata": {},
   "outputs": [],
   "source": [
    "# conn =  sqlite3.connect('ad_lib_task.db')\n",
    "# cursor = conn.cursor()\n",
    "# sql = \"\"\"\n",
    "# select (ad_id, search_term, page_link, ad_occurrence, Started_date, links, content, Footer_text, Footer_action, Page_name, profile_pic, latest_found, search_time_stamps, hits) from ads_search\n",
    "# \"\"\"\n",
    "# cursor.execute(sql)\n",
    "# cursor.fetchall()\n",
    "# cursor.close()\n",
    "# conn.close()"
   ]
  },
  {
   "cell_type": "code",
   "execution_count": null,
   "metadata": {},
   "outputs": [],
   "source": [
    "# import pandas as pd"
   ]
  },
  {
   "cell_type": "code",
   "execution_count": null,
   "metadata": {},
   "outputs": [],
   "source": [
    "# pd.DataFrame(data,columns = ['ad_id', 'search_term', 'page_link', 'ad_occurrence', 'Started_date', 'links', 'content', 'Footer_text', 'Footer_action', 'Page_name', 'profile_pic', 'latest_found', 'search_time_stamps', 'hits'])"
   ]
  },
  {
   "cell_type": "code",
   "execution_count": null,
   "metadata": {},
   "outputs": [],
   "source": [
    "conn = sqlite3.connect('ad_lib_task.db')\n",
    "cursor = conn.cursor()\n",
    "#ads_search\n",
    "sql = \"\"\"\n",
    "SELECT page_link , count(*) as counts from ads_search group by page_link ORDER  by counts desc;\n",
    "\"\"\"\n",
    "cursor.execute(sql)\n",
    "data = cursor.fetchall()\n",
    "df = pd.DataFrame(data,columns =[member[0] for member in cursor.description])\n",
    "cursor.close()\n",
    "conn.close()\n",
    "# pd.DataFrame(data)\n",
    "print(df)\n",
    "df"
   ]
  },
  {
   "cell_type": "code",
   "execution_count": null,
   "metadata": {},
   "outputs": [],
   "source": [
    "conn = sqlite3.connect('ad_lib_task.db')\n",
    "cursor = conn.cursor()\n",
    "#ads_search\n",
    "sql = f\"\"\"\n",
    "SELECT page_link,Page_name , count(*) as counts from ads_search where search_term == '{search_term}' group by page_link ORDER  by counts desc;\n",
    "\"\"\"\n",
    "cursor.execute(sql)\n",
    "data = cursor.fetchall()\n",
    "df = pd.DataFrame(data,columns =[member[0] for member in cursor.description])\n",
    "cursor.close()\n",
    "conn.close()\n",
    "print(df)"
   ]
  },
  {
   "cell_type": "code",
   "execution_count": null,
   "metadata": {},
   "outputs": [],
   "source": [
    "##\n",
    "latest_found = str(datetime.datetime.now())\n",
    "if 'search_dates' not in globals():\n",
    "    search_dates = \"\"\n",
    "search_dates = str(datetime.datetime.now()) + search_dates\n",
    "if 'hits' not in globals():\n",
    "    hits = 0\n",
    "hits += 1\n",
    "# ad_id   ,ad_occurrence  ,Started_date   ,links      ,content    ,Footer_action  ,Footer_text    ,Page_name  ,profile_pic    ,link_,latest_found,search_dates,hits\n",
    "## types \n",
    "## int                  , int           , string    , string    , string        , str           , str       , str           , str , str(date), str(dates) , int\n",
    "## \n",
    "\n",
    "## basic data to get table columns \n"
   ]
  },
  {
   "cell_type": "code",
   "execution_count": null,
   "metadata": {},
   "outputs": [],
   "source": [
    "for k,v in pages.items():\n",
    "    print(k,len(v))"
   ]
  },
  {
   "cell_type": "code",
   "execution_count": null,
   "metadata": {},
   "outputs": [],
   "source": [
    "import mysql.connector\n"
   ]
  },
  {
   "cell_type": "code",
   "execution_count": null,
   "metadata": {},
   "outputs": [],
   "source": []
  },
  {
   "cell_type": "code",
   "execution_count": null,
   "metadata": {},
   "outputs": [],
   "source": []
  },
  {
   "cell_type": "code",
   "execution_count": null,
   "metadata": {},
   "outputs": [],
   "source": [
    "ss = '''CREATE TABLE ads_search\n",
    "(ad_id int NOT NULL PRIMARY KEY, \n",
    "search_term TEXT,\n",
    "page_link TEXT,\n",
    "ad_occurrence INT,\n",
    "Started_date TEXT,\n",
    "links TEXT,\n",
    "content TEXT,\n",
    "Footer_TEXT TEXT,\n",
    "Footer_action TEXT,\n",
    "Page_name TEXT,\n",
    "profile_pic TEXT,\n",
    "latest_found TEXT,\n",
    "search_time_stamps TEXT,\n",
    "hits INT)'''.split('\\n')\n",
    "s = [x.split()[0] for x in ss[1:]]\n",
    "# s"
   ]
  },
  {
   "cell_type": "code",
   "execution_count": null,
   "metadata": {},
   "outputs": [],
   "source": [
    "# for i in s[1:]:\n",
    "#     # print(i+',')\n",
    "#     print()"
   ]
  },
  {
   "cell_type": "code",
   "execution_count": null,
   "metadata": {},
   "outputs": [],
   "source": [
    "# s2 = ['?' for i in s]\n",
    "# ','.join(s2)"
   ]
  },
  {
   "cell_type": "code",
   "execution_count": null,
   "metadata": {},
   "outputs": [],
   "source": [
    "'''(ad_id, search_term, page_link, ad_occurrence, Started_date, links, content, Footer_TEXT, Footer_action, Page_name, profile_pic, latest_found, search_time_stamps, hits)'''"
   ]
  },
  {
   "cell_type": "code",
   "execution_count": null,
   "metadata": {},
   "outputs": [],
   "source": [
    "import sqlite3"
   ]
  },
  {
   "cell_type": "code",
   "execution_count": null,
   "metadata": {},
   "outputs": [],
   "source": [
    "# #create Database\n",
    "\n",
    "# #create table \n",
    "# # ad_id,ad_occurrence,Started_date,links,content,Footer_action,Footer_text,Page_name,profile_pic,page_link,latest_found,search_time_stamps,hits,search_term\n",
    "# ## types \n",
    "# ## int                  , int           , string    , string    , string        , str           , str       , str           , str , str(date), str(dates) , int\n",
    "\n",
    "# # c\n",
    "\n",
    "# SQL = '''\n",
    "# CREATE TABLE ads_search\n",
    "# (ad_id int NOT NULL PRIMARY KEY, \n",
    "# search_term TEXT,\n",
    "# page_link TEXT,\n",
    "# ad_occurrence INT,\n",
    "# Started_date TEXT,\n",
    "# links TEXT,\n",
    "# content TEXT,\n",
    "# Footer_text TEXT,\n",
    "# Footer_action TEXT,\n",
    "# Page_name TEXT,\n",
    "# profile_pic TEXT,\n",
    "# latest_found TEXT,\n",
    "# search_time_stamps TEXT,\n",
    "# hits INT)'''\n",
    "\n",
    "\n",
    "\n",
    "\n",
    "# #insert statement \n",
    "\n",
    "# # SQL =\"\"\"\n",
    "# # insert into ads_search (ad_id, search_term, page_link, ad_occurrence, Started_date, links, content, Footer_text, Footer_action, Page_name, profile_pic, latest_found, search_time_stamps, hits) Values (?,?,?,?,?,?,?,?,?,?,?,?,?,?)\n",
    "# # \"\"\"\n",
    "# # data = tuple([ad_id, search_term, page_link, ad_occurrence, Started_date, links, content, Footer_text, Footer_action, Page_name, profile_pic, latest_found, search_time_stamps, hits])\n",
    "\n",
    "# conn =  sqlite3.connect('ad_lib_task.db')\n",
    "# cursor = conn.cursor()\n",
    "\n",
    "# # conn = database_connect()\n",
    "# # cursor = conn.cursor(buffered=True)\n",
    "\n",
    "# cursor.execute(SQL)\n",
    "\n",
    "# conn.commit()\n",
    "# conn.close()\n",
    "# 3"
   ]
  },
  {
   "attachments": {},
   "cell_type": "markdown",
   "metadata": {},
   "source": [
    "#### old files"
   ]
  },
  {
   "cell_type": "code",
   "execution_count": null,
   "metadata": {},
   "outputs": [],
   "source": [
    "# link = 'https://www.amazon.sa/'\n",
    "# driver.get(link)\n",
    "# menu = driver.find_element(By.CSS_SELECTOR, value = 'div[id^=\"hmenu-content\"]')\n",
    "# links = [i.get_attribute('href') for i in menu.find_elements(By.CSS_SELECTOR,'a')]\n",
    "# drop_links = '''https://www.amazon.sa/gc/redeem/?ref_=nav_em_gc_redeem_0_2_21_3\n",
    "# https://www.amazon.sa/gc/balance?ref_=nav_em_gc_balance_0_2_21_4\n",
    "# https://www.amazon.sa/gp/bestsellers/?ref_=nav_em_cs_bestsellers_0_1_1_2\n",
    "# https://www.amazon.sa/gp/new-releases/?ref_=nav_em_cs_newreleases_0_1_1_3\n",
    "# https://www.amazon.sa/gp/movers-and-shakers/?ref_=nav_em_ms_0_1_1_4\n",
    "# https://www.amazon.sa/sell-on-amazon-ar?ref_=nav_em_0_1_1_29\n",
    "# https://www.amazon.sa/gp/css/homepage.html?ref_=nav_em_ya_0_1_1_31\n",
    "# https://www.amazon.sa/customer-preferences/edit/?preferencesReturnUrl=%2F&ref_=nav_em_mozart_0_1_1_32\n",
    "# https://www.amazon.sa/customer-preferences/country/?ref_=nav_em_locale_0_1_1_33\n",
    "# https://www.amazon.sa/gp/help/customer/display.html?nodeId=508510&ref_=nav_em_cs_help_0_1_1_34\n",
    "# https://www.amazon.sa/gp/help/customer/display.html?nodeId=GVP69FUJ48X9DK8V&ref_=nav_em_0_2_2_7\n",
    "# https://www.amazon.sa/dp/B09SWTG9GF?ref_=nav_em_kindle_cav_0_2_3_2\n",
    "# https://www.amazon.sa/dp/B08N2ZL7PS?ref_=nav_em_kindle_malbec_0_2_3_3\n",
    "# https://www.amazon.sa/dp/B088V7147Y?ref_=nav_em_kindle_oasis_10_0_2_3_4\n",
    "# https://www.amazon.sa/\n",
    "\n",
    "# '''.split('\\n')\n",
    "# drop_links.append(None)\n",
    "# links = [x for x in links if x not in drop_links]\n"
   ]
  },
  {
   "cell_type": "code",
   "execution_count": null,
   "metadata": {},
   "outputs": [],
   "source": [
    "%load_ext autoreload\n",
    "%autoreload 2\n",
    "from functions import *"
   ]
  },
  {
   "cell_type": "code",
   "execution_count": null,
   "metadata": {},
   "outputs": [],
   "source": [
    "# with open('links.txt', 'w') as f:\n",
    "#     for line in links:\n",
    "#         f.write(f\"{line}\\n\")\n",
    "links = []\n",
    "with open('links.txt', 'r') as f:\n",
    "    for line in f:\n",
    "        links.append(line[:-1])"
   ]
  },
  {
   "cell_type": "code",
   "execution_count": null,
   "metadata": {},
   "outputs": [],
   "source": [
    "link = 'https://www.amazon.sa/gp/browse.html?node=21073937031&ref_=nav_em_kindle_erd_accessories_0_2_3_5'"
   ]
  },
  {
   "cell_type": "code",
   "execution_count": null,
   "metadata": {},
   "outputs": [],
   "source": [
    "links[2]"
   ]
  },
  {
   "cell_type": "code",
   "execution_count": null,
   "metadata": {},
   "outputs": [],
   "source": [
    "# # link = 'https://www.amazon.sa/gp/browse.html?node=16966425031&ref_=nav_em_pc_drives_storage_0_2_6_5'\n",
    "# for link in links:\n",
    "#     try:\n",
    "#         node = re.findall('node=(.+)&',link)[0]\n",
    "#         new_link = f'https://www.amazon.sa/s?rh=n%3A{node}&fs=true&language=ar_AE'\n",
    "#         # print(new_link)\n",
    "#         driver.get(new_link)\n",
    "#     except:\n",
    "#         pass\n",
    "#     try:\n",
    "#         pagination = WebDriverWait(driver, 10).until(EC.presence_of_element_located((By.CSS_SELECTOR,'span[class=\"s-pagination-strip\"]')))\n",
    "#         # driver.find_element(By.CSS_SELECTOR,'span[class=\"s-pagination-strip\"]')\n",
    "#     except:\n",
    "#         print(link)\n"
   ]
  },
  {
   "cell_type": "code",
   "execution_count": null,
   "metadata": {},
   "outputs": [],
   "source": [
    "# link = 'https://www.amazon.sa/gp/browse.html?node=16966385031&ref_=nav_em_elec_cameras_0_2_7_4'\n",
    "# node = re.findall('node=(.+)&',link)[0]\n",
    "# new_link = f'https://www.amazon.sa/s?rh=n%3A{node}&fs=true&language=ar_AE&page=1'\n",
    "# print(new_link)"
   ]
  },
  {
   "cell_type": "code",
   "execution_count": null,
   "metadata": {},
   "outputs": [],
   "source": [
    "%load_ext autoreload\n",
    "%autoreload 2\n",
    "from functions import *"
   ]
  },
  {
   "cell_type": "code",
   "execution_count": null,
   "metadata": {},
   "outputs": [],
   "source": [
    "def get_all_data(driver):\n",
    "    #get all search results in the page\n",
    "    search_results = driver.find_elements(By.CSS_SELECTOR, value = 'div[data-component-type^=\"s-search-result\"]')\n",
    "    # print(len(search_results))\n",
    "    for search in search_results:\n",
    "        try: #get the name\n",
    "            product_name = search.find_element(By.CSS_SELECTOR, value = 'h2').text\n",
    "            print(product_name)\n",
    "        except: #just go path the record \n",
    "            print(\"NO NAME found\")\n",
    "            continue\n",
    "        link = search.find_element(By.CSS_SELECTOR, value = 'h2').find_element(By.CSS_SELECTOR, value = 'a').get_attribute('href')\n",
    "        print(link)\n",
    "        try:\n",
    "            number_of_reviews = search.find_element(By.CSS_SELECTOR, value = 'span[class=\"a-size-base s-underline-text\"]').text\n",
    "        except:\n",
    "            number_of_reviews = 'NO available data'\n",
    "        print(number_of_reviews)\n",
    "        try:\n",
    "            rate_full = search.find_element(By.CSS_SELECTOR, value = 'span[class=\"a-icon-alt\"]').get_attribute('innerHTML')\n",
    "        except:\n",
    "            rate_full = 'NO available data'\n",
    "        print(rate_full)\n",
    "        try:\n",
    "            price = search.find_element(By.CSS_SELECTOR, value = 'span[class=\"a-price\"]').text.replace('ريال', '').replace('\\n', '.')\n",
    "        except:\n",
    "            price = 'No available price'\n",
    "        \n",
    "        #Save TO DO >>>>\n",
    "        \n",
    "        \n",
    "        print(price)\n",
    "        print('______________________________________________________')\n",
    "\n",
    "#product_name link number_of_reviews rate_full  price"
   ]
  },
  {
   "cell_type": "code",
   "execution_count": null,
   "metadata": {},
   "outputs": [],
   "source": [
    "def open_link(driver,link):\n",
    "    # driver.get(link)\n",
    "    \n",
    "        #exists > new link + pages for loop > get data\n",
    "        #not exists > get data \n",
    "    try:\n",
    "        node = re.findall('node=(.+)&',link)[0]\n",
    "        new_link = f'https://www.amazon.sa/s?rh=n%3A{node}&fs=true&language=ar_AE'\n",
    "        driver.get(new_link)\n",
    "    except Exception as E:\n",
    "        loggit(f\"link didn't scrapped: {new_link} \\n {E}\")\n",
    "        saveit(link,'skipped_links')\n",
    "    #search for pages\n",
    "    try:\n",
    "        pagination = WebDriverWait(driver, 10).until(EC.presence_of_element_located((By.CSS_SELECTOR,'span[class=\"s-pagination-strip\"]')))\n",
    "        last_page = int(pagination.find_elements(By.CSS_SELECTOR, value = '[class^=\"s-pagination-\"]')[-2].text)\n",
    "        for page in range(1,last_page+1):\n",
    "            new_link = f'https://www.amazon.sa/s?rh=n%3A{node}&fs=true&language=ar_AE&page={page}'\n",
    "            driver.get(new_link)\n",
    "            try:\n",
    "                get_all_data(driver)\n",
    "            except Exception as E:\n",
    "                loggit(f\"link didn't scrapped: {new_link} \\n {E}\")\n",
    "                saveit(new_link,'skipped_links')\n",
    "    except:\n",
    "        try:\n",
    "            get_all_data(driver)\n",
    "        except Exception as E:\n",
    "            loggit(f\"link didn't scrapped: {new_link} \\n {E}\")\n",
    "            saveit(new_link,'skipped_links')"
   ]
  },
  {
   "cell_type": "code",
   "execution_count": null,
   "metadata": {},
   "outputs": [],
   "source": [
    "conn = sqlite3.connect('amazon.db')\n",
    "c = conn.cursor()\n",
    "table_name = 'amazon'\n",
    "try:\n",
    "    c.execute(f'''DROP TABLE {table_name}''')\n",
    "except:\n",
    "    pass\n",
    "#product_name link number_of_reviews rate_full  price\n",
    "c.execute('''\n",
    "CREATE TABLE ads\n",
    "(product_name TEXT, \n",
    "link TEXT,\n",
    "number_of_reviews TEXT,\n",
    "rate_full TEXT,\n",
    "price TEXT)''')\n",
    "conn.commit()\n",
    "conn.close()"
   ]
  },
  {
   "cell_type": "code",
   "execution_count": null,
   "metadata": {},
   "outputs": [],
   "source": [
    "price"
   ]
  },
  {
   "cell_type": "code",
   "execution_count": null,
   "metadata": {},
   "outputs": [],
   "source": [
    "conn = sqlite3.connect('amazon.db')\n",
    "c = conn.cursor()\n",
    "SQL = f\"\"\"insert into ads (product_name,link,number_of_reviews,rate_full,price) Values ('{product_name}','{link}','{number_of_reviews}','{rate_full}','{price}')\n",
    "\"\"\"\n",
    "c.execute(SQL)\n",
    "conn.commit()"
   ]
  },
  {
   "cell_type": "code",
   "execution_count": null,
   "metadata": {},
   "outputs": [],
   "source": [
    "#create SQL lite \n",
    "import sqlite3\n",
    "from sqlite3 import Error\n",
    "\n",
    "#connect \n",
    "    \"\"\" create a database connection to a SQLite database \"\"\"\n",
    "# conn = None\n",
    "try:\n",
    "    conn = sqlite3.connect()\n",
    "    print(sqlite3.version)\n",
    "except Error as e:\n",
    "    print(e)\n",
    "finally:\n",
    "    if conn:\n",
    "        conn.close()\n",
    "            \n",
    "#save \n",
    "\n"
   ]
  },
  {
   "cell_type": "code",
   "execution_count": null,
   "metadata": {},
   "outputs": [],
   "source": [
    "'https://www.amazon.sa/s?bbn=22600046031&rh=n%3A12463219031%2Cn%3A22600046031%2Cn%3A16667017031&dc&language=en&qid=1609937042&rnid=12463220031&ref=nav_em_sl_w_outlet_0_2_8_7'"
   ]
  },
  {
   "cell_type": "code",
   "execution_count": null,
   "metadata": {},
   "outputs": [],
   "source": [
    "node = '12463219031'\n",
    "print(f\"https://www.amazon.sa/s?rh=n%3A{node}&fs=true&language=ar_AE\")"
   ]
  },
  {
   "cell_type": "code",
   "execution_count": null,
   "metadata": {},
   "outputs": [],
   "source": [
    "# def click_next(driver):\n",
    "#     #"
   ]
  }
 ],
 "metadata": {
  "kernelspec": {
   "display_name": "base",
   "language": "python",
   "name": "python3"
  },
  "language_info": {
   "codemirror_mode": {
    "name": "ipython",
    "version": 3
   },
   "file_extension": ".py",
   "mimetype": "text/x-python",
   "name": "python",
   "nbconvert_exporter": "python",
   "pygments_lexer": "ipython3",
   "version": "3.12.0"
  },
  "orig_nbformat": 4,
  "vscode": {
   "interpreter": {
    "hash": "e39af0c14b348bd64ddbbc0d6ad0a49bf3f56f2f598aaf5cb80319f87d5370cd"
   }
  }
 },
 "nbformat": 4,
 "nbformat_minor": 2
}
