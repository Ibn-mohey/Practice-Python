{
 "cells": [
  {
   "cell_type": "markdown",
   "metadata": {},
   "source": [
    "A. Number of Apartments\n",
    "time limit per test1 second\n",
    "memory limit per test256 megabytes\n",
    "inputstandard input\n",
    "outputstandard output\n",
    "Recently a new building with a new layout was constructed in Monocarp's hometown. According to this new layout, the building consists of three types of apartments: three-room, five-room, and seven-room apartments. It's also known that each room of each apartment has exactly one window. In other words, a three-room apartment has three windows, a five-room — five windows, and a seven-room — seven windows.\n",
    "\n",
    "Monocarp went around the building and counted n windows. Now he is wondering, how many apartments of each type the building may have.\n",
    "\n",
    "Unfortunately, Monocarp only recently has learned to count, so he is asking you to help him to calculate the possible quantities of three-room, five-room, and seven-room apartments in the building that has n windows. If there are multiple answers, you can print any of them.\n",
    "\n",
    "Here are some examples:\n",
    "\n",
    "- if Monocarp has counted 30 windows, there could have been 2 three-room apartments, 2 five-room apartments and 2 seven-room apartments, since 2⋅3+2⋅5+2⋅7=30;\n",
    "- if Monocarp has counted 67 windows, there could have been 7 three-room apartments, 5 five-room apartments and 3 seven-room apartments, since 7⋅3+5⋅5+3⋅7=67;\n",
    "- if Monocarp has counted 4 windows, he should have mistaken since no building with the aforementioned layout can have 4 windows.\n",
    "Input\n",
    "Th first line contains one integer t (1≤t≤1000) — the number of test cases.\n",
    "\n",
    "The only line of each test case contains one integer n (1≤n≤1000) — the number of windows in the building.\n",
    "\n",
    "Output\n",
    "For each test case, if a building with the new layout and the given number of windows just can't exist, print −1.\n",
    "\n",
    "Otherwise, print three non-negative integers — the possible number of three-room, five-room, and seven-room apartments. If there are multiple answers, print any of them."
   ]
  },
  {
   "cell_type": "code",
   "execution_count": 5,
   "metadata": {},
   "outputs": [
    {
     "data": {
      "text/plain": [
       "1"
      ]
     },
     "execution_count": 5,
     "metadata": {},
     "output_type": "execute_result"
    }
   ],
   "source": [
    "v3 = 0\n",
    "v5 = 0\n",
    "v7 = 0\n",
    "v3 = n//3\n",
    "r3 = n%3\n",
    "while r3!=0:\n",
    "    r3 = r3+3\n",
    "    v3 = v3-1\n",
    "    v5 = r3//5\n",
    "    r3 = n%3\n",
    "    r5 = r5%5\n",
    "    while r5 !=0:\n",
    "        r5 = r3+3\n",
    "        v5 = v3-1\n",
    "        v7 = r3//5\n",
    "        r5 = r5%5\n",
    "        r7 = \n",
    "        "
   ]
  },
  {
   "cell_type": "code",
   "execution_count": null,
   "metadata": {},
   "outputs": [],
   "source": []
  },
  {
   "cell_type": "code",
   "execution_count": 2,
   "metadata": {},
   "outputs": [],
   "source": [
    "lst = [10, 11, 12, 13, 14, 15] "
   ]
  },
  {
   "cell_type": "code",
   "execution_count": 3,
   "metadata": {},
   "outputs": [],
   "source": [
    "new_lst = lst[::-1] "
   ]
  },
  {
   "cell_type": "code",
   "execution_count": 4,
   "metadata": {
    "scrolled": true
   },
   "outputs": [
    {
     "data": {
      "text/plain": [
       "[15, 14, 13, 12, 11, 10]"
      ]
     },
     "execution_count": 4,
     "metadata": {},
     "output_type": "execute_result"
    }
   ],
   "source": [
    "new_lst"
   ]
  },
  {
   "cell_type": "code",
   "execution_count": null,
   "metadata": {},
   "outputs": [],
   "source": []
  },
  {
   "cell_type": "code",
   "execution_count": null,
   "metadata": {},
   "outputs": [],
   "source": []
  },
  {
   "cell_type": "markdown",
   "metadata": {},
   "source": [
    "# hacker rank\n",
    "[link](https://www.hackerrank.com/challenges/2d-array/problem)"
   ]
  },
  {
   "cell_type": "code",
   "execution_count": null,
   "metadata": {},
   "outputs": [],
   "source": []
  },
  {
   "cell_type": "code",
   "execution_count": 6,
   "metadata": {},
   "outputs": [],
   "source": [
    "def singleHourGlassSum(i_start, j_start, arr):\n",
    "\n",
    "    sum = 0\n",
    "    count = 0\n",
    "\n",
    "    for i in range(i_start, i_start+3):\n",
    "        for j in range(j_start, j_start+3):\n",
    "\n",
    "            # count helps to ignore 3rd and 5th element in matrix\n",
    "            if count != 3 and count != 5:\n",
    "                sum += arr[i][j]\n",
    "            count+=1 \n",
    "    \n",
    "    return sum\n",
    "\n",
    "def hourglassSum(arr):\n",
    "\n",
    "    i_start = 0 \n",
    "    j_start = 0\n",
    "    currentMax = 0\n",
    "\n",
    "    for i_start in range(0, 4):\n",
    "        for j_start in range(0, 4):\n",
    "\n",
    "            currentMax = max(currentMax, singleHourGlassSum(i_start, j_start, arr))\n",
    "\n",
    "    print(currentMax)\n",
    "\n",
    "\n"
   ]
  },
  {
   "cell_type": "code",
   "execution_count": 21,
   "metadata": {},
   "outputs": [],
   "source": [
    "def hourglassSum(arr):\n",
    "    sums = 0\n",
    "    count = 0\n",
    "    i_start = 0 \n",
    "    j_start = 0\n",
    "    Max = 0\n",
    "    \n",
    "    for i in range(i_start, i_start+3):\n",
    "        for j in range(j_start, j_start+3):\n",
    "\n",
    "            # count helps to ignore 3rd and 5th element in matrix\n",
    "            if count != 3 and count != 5:\n",
    "                sums += arr[i][j]\n",
    "            count+=1 \n",
    "\n",
    "\n",
    "\n",
    "    \n",
    "    for i_start in range(0, 4):\n",
    "        for j_start in range(0, 4):\n",
    "\n",
    "            Max = max(Max, sums)\n",
    "\n",
    "    print(Max)\n"
   ]
  },
  {
   "cell_type": "code",
   "execution_count": 27,
   "metadata": {},
   "outputs": [],
   "source": [
    "arr = [ [-9, -9,  -9,  1, 1, 1], \n",
    "        [ 0, -9,   0,  4, 3, 2],\n",
    "        [-9, -9,  -9,  1, 2, 3],\n",
    "        [ 0,  0,   8,  6, 6, 0],\n",
    "        [ 0,  0,   0, -2, 0, 0],\n",
    "        [ 0,  0,   1,  2, 4, 0]\n",
    "        ]"
   ]
  },
  {
   "cell_type": "code",
   "execution_count": 30,
   "metadata": {},
   "outputs": [
    {
     "data": {
      "text/plain": [
       "28"
      ]
     },
     "execution_count": 30,
     "metadata": {},
     "output_type": "execute_result"
    }
   ],
   "source": [
    "hourglassSum(arr)"
   ]
  },
  {
   "cell_type": "code",
   "execution_count": 29,
   "metadata": {},
   "outputs": [],
   "source": [
    "def hourglassSum(arr):\n",
    "    #maxSum = -100\n",
    "    arrayLength = len(arr)\n",
    "    i = 0\n",
    "    j = 0\n",
    "    maxSum = (arr[i][j]+arr[i][j+1]+arr[i][j+2]) + (arr[i+1][j+1]) +     (arr[i+2][j]+arr[i+2][j+1]+arr[i+2][j+2])\n",
    "    for i in range(arrayLength-2): #Looping Vertically\n",
    "        #localSum = 0\n",
    "        for j in range(arrayLength-2):\n",
    "            #Looping Horizontally \n",
    "            localSum = (arr[i][j]+arr[i][j+1]+arr[i][j+2]) + (arr[i+1][j+1]) +     (arr[i+2][j]+arr[i+2][j+1]+arr[i+2][j+2]) \n",
    "          # if(maxSum==0): maxSum=localSum\n",
    "            maxSum=max(localSum,maxSum)\n",
    "  \n",
    "    return maxSum"
   ]
  },
  {
   "cell_type": "code",
   "execution_count": 49,
   "metadata": {},
   "outputs": [],
   "source": [
    "n =(2)\n",
    "queries = [[1, 0, 5],\n",
    "[1, 1 ,7],\n",
    "[1 ,0 ,3],\n",
    "[2, 1 ,0],\n",
    "[2 ,1, 1]]"
   ]
  },
  {
   "cell_type": "code",
   "execution_count": null,
   "metadata": {},
   "outputs": [],
   "source": []
  },
  {
   "cell_type": "code",
   "execution_count": 50,
   "metadata": {},
   "outputs": [],
   "source": [
    "def dynamicArray(n, queries):\n",
    "    lastAnswer = 0\n",
    "    a = []\n",
    "    array_result = []\n",
    "    for k in range(n):\n",
    "        a.append([])\n",
    "    \n",
    "    for i in queries:\n",
    "        x = i[1]\n",
    "        y = i[2]\n",
    "        if i[0] == 1:\n",
    "            seq = ((x ^ lastAnswer) % n)\n",
    "            a[seq].append(y)\n",
    "        elif i[0] == 2:\n",
    "            seq = ((x ^ lastAnswer) % n)\n",
    "            lastAnswer = a[seq][y]\n",
    "            array_result.append(lastAnswer)\n",
    "    return array_result"
   ]
  },
  {
   "cell_type": "code",
   "execution_count": 51,
   "metadata": {
    "scrolled": true
   },
   "outputs": [
    {
     "data": {
      "text/plain": [
       "[7, 3]"
      ]
     },
     "execution_count": 51,
     "metadata": {},
     "output_type": "execute_result"
    }
   ],
   "source": [
    "dynamicArray(n, queries)"
   ]
  },
  {
   "cell_type": "code",
   "execution_count": null,
   "metadata": {},
   "outputs": [],
   "source": []
  },
  {
   "cell_type": "code",
   "execution_count": 56,
   "metadata": {},
   "outputs": [],
   "source": [
    "a = []\n",
    "for k in range(n):\n",
    "    a.append([])"
   ]
  },
  {
   "cell_type": "code",
   "execution_count": 57,
   "metadata": {},
   "outputs": [
    {
     "data": {
      "text/plain": [
       "[[], []]"
      ]
     },
     "execution_count": 57,
     "metadata": {},
     "output_type": "execute_result"
    }
   ],
   "source": [
    "a"
   ]
  },
  {
   "cell_type": "code",
   "execution_count": null,
   "metadata": {},
   "outputs": [],
   "source": []
  },
  {
   "attachments": {
    "image.png": {
     "image/png": "[encoded data removed]"
    }
   },
   "cell_type": "markdown",
   "metadata": {},
   "source": [
    "![image.png](attachment:image.png)"
   ]
  },
  {
   "cell_type": "code",
   "execution_count": 60,
   "metadata": {},
   "outputs": [],
   "source": [
    "lastAnswer = 0\n",
    "array_result = []\n",
    "for i in queries:\n",
    "    x = i[1]\n",
    "    y = i[2]\n",
    "    if i[0] == 1:\n",
    "        seq = ((x ^ lastAnswer) % n)\n",
    "        a[seq].append(y)\n",
    "    elif i[0] == 2:\n",
    "        seq = ((x ^ lastAnswer) % n)\n",
    "        lastAnswer = a[seq][y]\n",
    "        array_result.append(lastAnswer)"
   ]
  },
  {
   "cell_type": "code",
   "execution_count": 64,
   "metadata": {},
   "outputs": [
    {
     "name": "stdout",
     "output_type": "stream",
     "text": [
      "[1, 0, 5]\n",
      "[1, 1, 7]\n",
      "[1, 0, 3]\n",
      "[2, 1, 0]\n",
      "[2, 1, 1]\n"
     ]
    }
   ],
   "source": [
    "for i in queries:\n",
    "    print(i)"
   ]
  },
  {
   "cell_type": "code",
   "execution_count": 67,
   "metadata": {},
   "outputs": [
    {
     "data": {
      "text/plain": [
       "1"
      ]
     },
     "execution_count": 67,
     "metadata": {},
     "output_type": "execute_result"
    }
   ],
   "source": [
    "x = i[1]\n",
    "x"
   ]
  },
  {
   "cell_type": "code",
   "execution_count": 74,
   "metadata": {},
   "outputs": [
    {
     "data": {
      "text/plain": [
       "2"
      ]
     },
     "execution_count": 74,
     "metadata": {},
     "output_type": "execute_result"
    }
   ],
   "source": [
    "x ^ lastAnswer"
   ]
  },
  {
   "cell_type": "code",
   "execution_count": 68,
   "metadata": {},
   "outputs": [
    {
     "data": {
      "text/plain": [
       "0"
      ]
     },
     "execution_count": 68,
     "metadata": {},
     "output_type": "execute_result"
    }
   ],
   "source": [
    "seq = ((x ^ lastAnswer) % n)\n",
    "seq"
   ]
  },
  {
   "cell_type": "code",
   "execution_count": null,
   "metadata": {},
   "outputs": [],
   "source": []
  },
  {
   "cell_type": "code",
   "execution_count": null,
   "metadata": {},
   "outputs": [],
   "source": []
  },
  {
   "cell_type": "code",
   "execution_count": 52,
   "metadata": {},
   "outputs": [],
   "source": [
    "def dynamicArray(n, queries):\n",
    "    list_of_seq = []\n",
    "    result = []\n",
    "    last_answer = 0\n",
    "    for i in range(n):\n",
    "        list_of_seq.append([])\n",
    "\n",
    "    for k, x, y in queries:\n",
    "        if (k == 1):\n",
    "            list = list_of_seq[(x ^ last_answer) % n]\n",
    "            list.append(y)\n",
    "        elif (k == 2):\n",
    "            list = list_of_seq[(x^last_answer) % n]\n",
    "            last_answer = list[y % len(list)]\n",
    "            print (last_answer)\n",
    "            result.append(last_answer)\n",
    "\n",
    "    return result"
   ]
  },
  {
   "cell_type": "code",
   "execution_count": 53,
   "metadata": {},
   "outputs": [
    {
     "name": "stdout",
     "output_type": "stream",
     "text": [
      "7\n",
      "3\n"
     ]
    },
    {
     "data": {
      "text/plain": [
       "[7, 3]"
      ]
     },
     "execution_count": 53,
     "metadata": {},
     "output_type": "execute_result"
    }
   ],
   "source": [
    "dynamicArray(n, queries)"
   ]
  },
  {
   "cell_type": "code",
   "execution_count": 75,
   "metadata": {},
   "outputs": [
    {
     "data": {
      "text/plain": [
       "2"
      ]
     },
     "execution_count": 75,
     "metadata": {},
     "output_type": "execute_result"
    }
   ],
   "source": [
    "21//10"
   ]
  },
  {
   "cell_type": "code",
   "execution_count": 76,
   "metadata": {},
   "outputs": [
    {
     "data": {
      "text/plain": [
       "1"
      ]
     },
     "execution_count": 76,
     "metadata": {},
     "output_type": "execute_result"
    }
   ],
   "source": [
    "21%10"
   ]
  },
  {
   "cell_type": "code",
   "execution_count": 81,
   "metadata": {},
   "outputs": [
    {
     "ename": "NameError",
     "evalue": "name 'xrange' is not defined",
     "output_type": "error",
     "traceback": [
      "\u001b[1;31m---------------------------------------------------------------------------\u001b[0m",
      "\u001b[1;31mNameError\u001b[0m                                 Traceback (most recent call last)",
      "\u001b[1;32m<ipython-input-81-fe790ae407fe>\u001b[0m in \u001b[0;36m<module>\u001b[1;34m\u001b[0m\n\u001b[1;32m----> 1\u001b[1;33m \u001b[0ma\u001b[0m\u001b[1;33m=\u001b[0m \u001b[0mxrange\u001b[0m\u001b[1;33m(\u001b[0m\u001b[1;36m1\u001b[0m\u001b[1;33m,\u001b[0m\u001b[1;36m10\u001b[0m\u001b[1;33m)\u001b[0m\u001b[1;33m\u001b[0m\u001b[1;33m\u001b[0m\u001b[0m\n\u001b[0m",
      "\u001b[1;31mNameError\u001b[0m: name 'xrange' is not defined"
     ]
    }
   ],
   "source": [
    "a= range(1,10)"
   ]
  },
  {
   "cell_type": "code",
   "execution_count": 80,
   "metadata": {},
   "outputs": [
    {
     "data": {
      "text/plain": [
       "range(1, 10)"
      ]
     },
     "execution_count": 80,
     "metadata": {},
     "output_type": "execute_result"
    }
   ],
   "source": [
    "a"
   ]
  },
  {
   "cell_type": "code",
   "execution_count": 83,
   "metadata": {},
   "outputs": [],
   "source": [
    "l1 = [9,9,9,9,9,9,9]\n",
    "l2 = [9,9,9,9]"
   ]
  },
  {
   "cell_type": "code",
   "execution_count": 84,
   "metadata": {},
   "outputs": [
    {
     "data": {
      "text/plain": [
       "7"
      ]
     },
     "execution_count": 84,
     "metadata": {},
     "output_type": "execute_result"
    }
   ],
   "source": [
    "maxvalue = (max(len(l1),len(l2)))\n",
    "maxvalue"
   ]
  },
  {
   "cell_type": "code",
   "execution_count": 205,
   "metadata": {},
   "outputs": [],
   "source": [
    "def addTwoNumbers(l1: ListNode, l2: ListNode) -> ListNode:\n",
    "    d1=  ListNode(0)\n",
    "\n",
    "    p,q = l1, l2\n",
    "    carry, curr = 0, d1\n",
    "\n",
    "    while (p != None) or (q != None):\n",
    "        sum1 = 0\n",
    "        v1 = p.val if p else 0\n",
    "        v2 = q.val if q else 0\n",
    "        sum1 = carry + v1 + v2\n",
    "        carry = sum1//10\n",
    "        curr.next = ListNode(sum1%10)\n",
    "        curr = curr.next\n",
    "        p = p.next if p else None\n",
    "        q = q.next if q else None\n",
    "\n",
    "    if carry>0:\n",
    "        curr.next = ListNode(carry)\n",
    "\n",
    "    return d1.next"
   ]
  },
  {
   "cell_type": "code",
   "execution_count": 91,
   "metadata": {},
   "outputs": [
    {
     "ename": "IndexError",
     "evalue": "list index out of range",
     "output_type": "error",
     "traceback": [
      "\u001b[1;31m---------------------------------------------------------------------------\u001b[0m",
      "\u001b[1;31mIndexError\u001b[0m                                Traceback (most recent call last)",
      "\u001b[1;32m<ipython-input-91-13a8b2b32a3e>\u001b[0m in \u001b[0;36m<module>\u001b[1;34m\u001b[0m\n\u001b[0;32m      1\u001b[0m \u001b[0mmaxvalue\u001b[0m \u001b[1;33m=\u001b[0m \u001b[1;33m(\u001b[0m\u001b[0mmax\u001b[0m\u001b[1;33m(\u001b[0m\u001b[0mlen\u001b[0m\u001b[1;33m(\u001b[0m\u001b[0ml1\u001b[0m\u001b[1;33m)\u001b[0m\u001b[1;33m,\u001b[0m\u001b[0mlen\u001b[0m\u001b[1;33m(\u001b[0m\u001b[0ml2\u001b[0m\u001b[1;33m)\u001b[0m\u001b[1;33m)\u001b[0m\u001b[1;33m)\u001b[0m\u001b[1;33m\u001b[0m\u001b[1;33m\u001b[0m\u001b[0m\n\u001b[0;32m      2\u001b[0m \u001b[1;32mfor\u001b[0m \u001b[0mi\u001b[0m \u001b[1;32min\u001b[0m \u001b[0mrange\u001b[0m\u001b[1;33m(\u001b[0m\u001b[0mmaxvalue\u001b[0m\u001b[1;33m)\u001b[0m\u001b[1;33m:\u001b[0m\u001b[1;33m\u001b[0m\u001b[1;33m\u001b[0m\u001b[0m\n\u001b[1;32m----> 3\u001b[1;33m     \u001b[0msum\u001b[0m \u001b[1;33m=\u001b[0m \u001b[1;33m(\u001b[0m\u001b[0ml1\u001b[0m\u001b[1;33m[\u001b[0m\u001b[0mi\u001b[0m\u001b[1;33m]\u001b[0m\u001b[1;33m+\u001b[0m\u001b[0ml2\u001b[0m\u001b[1;33m[\u001b[0m\u001b[0mi\u001b[0m\u001b[1;33m]\u001b[0m\u001b[1;33m)\u001b[0m\u001b[1;33m\u001b[0m\u001b[1;33m\u001b[0m\u001b[0m\n\u001b[0m\u001b[0;32m      4\u001b[0m     \u001b[0ml\u001b[0m\u001b[1;33m.\u001b[0m\u001b[0mappend\u001b[0m\u001b[1;33m(\u001b[0m\u001b[0msum\u001b[0m \u001b[1;33m//\u001b[0m \u001b[1;33m(\u001b[0m\u001b[1;36m10\u001b[0m\u001b[1;33m*\u001b[0m\u001b[1;33m(\u001b[0m\u001b[0mi\u001b[0m\u001b[1;33m+\u001b[0m\u001b[1;36m1\u001b[0m\u001b[1;33m)\u001b[0m\u001b[1;33m)\u001b[0m\u001b[1;33m)\u001b[0m\u001b[1;33m\u001b[0m\u001b[1;33m\u001b[0m\u001b[0m\n",
      "\u001b[1;31mIndexError\u001b[0m: list index out of range"
     ]
    }
   ],
   "source": [
    "maxvalue = (max(len(l1),len(l2)))\n",
    "for i in range(l1):\n",
    "    sum = (l1[i]+l2[i])\n",
    "    l.append(sum // (10*(i+1)))"
   ]
  },
  {
   "cell_type": "code",
   "execution_count": 92,
   "metadata": {},
   "outputs": [],
   "source": [
    "l1 = [9,9,9,9,9,9,9]"
   ]
  },
  {
   "cell_type": "code",
   "execution_count": 93,
   "metadata": {},
   "outputs": [],
   "source": [
    "class Node: \n",
    "  \n",
    "    # Constructor to initialize the node object \n",
    "    def __init__(self, data): \n",
    "        self.data = data \n",
    "        self.next = None"
   ]
  },
  {
   "cell_type": "code",
   "execution_count": null,
   "metadata": {},
   "outputs": [],
   "source": []
  },
  {
   "cell_type": "code",
   "execution_count": null,
   "metadata": {},
   "outputs": [],
   "source": []
  },
  {
   "cell_type": "code",
   "execution_count": 192,
   "metadata": {},
   "outputs": [],
   "source": [
    "# Definition for singly-linked list.\n",
    "class ListNode:\n",
    "    def __init__(self, val=0, next=None):\n",
    "        self.val = val\n",
    "        self.next = next"
   ]
  },
  {
   "cell_type": "code",
   "execution_count": 108,
   "metadata": {},
   "outputs": [],
   "source": [
    "l1 = [9,9,9,9,9,9,9]"
   ]
  },
  {
   "cell_type": "code",
   "execution_count": 123,
   "metadata": {},
   "outputs": [],
   "source": [
    "l1 = ListNode(5)"
   ]
  },
  {
   "cell_type": "code",
   "execution_count": 124,
   "metadata": {},
   "outputs": [
    {
     "data": {
      "text/plain": [
       "5"
      ]
     },
     "execution_count": 124,
     "metadata": {},
     "output_type": "execute_result"
    }
   ],
   "source": [
    "l1.val"
   ]
  },
  {
   "cell_type": "code",
   "execution_count": 125,
   "metadata": {},
   "outputs": [],
   "source": [
    "l2 = ListNode(6)"
   ]
  },
  {
   "cell_type": "code",
   "execution_count": 126,
   "metadata": {},
   "outputs": [],
   "source": [
    "l1.next = l2"
   ]
  },
  {
   "cell_type": "code",
   "execution_count": 127,
   "metadata": {},
   "outputs": [
    {
     "data": {
      "text/plain": [
       "5"
      ]
     },
     "execution_count": 127,
     "metadata": {},
     "output_type": "execute_result"
    }
   ],
   "source": [
    "l1.val"
   ]
  },
  {
   "cell_type": "code",
   "execution_count": 129,
   "metadata": {},
   "outputs": [
    {
     "data": {
      "text/plain": [
       "<__main__.ListNode at 0x23dbbb7bd00>"
      ]
     },
     "execution_count": 129,
     "metadata": {},
     "output_type": "execute_result"
    }
   ],
   "source": [
    "l1.next"
   ]
  },
  {
   "cell_type": "code",
   "execution_count": 131,
   "metadata": {},
   "outputs": [
    {
     "ename": "SyntaxError",
     "evalue": "invalid syntax (<ipython-input-131-97e8c9b31062>, line 4)",
     "output_type": "error",
     "traceback": [
      "\u001b[1;36m  File \u001b[1;32m\"<ipython-input-131-97e8c9b31062>\"\u001b[1;36m, line \u001b[1;32m4\u001b[0m\n\u001b[1;33m    ListNode{val: 7, next: ListNode{val: 0, next: ListNode{val: 8, next: None}}}\u001b[0m\n\u001b[1;37m            ^\u001b[0m\n\u001b[1;31mSyntaxError\u001b[0m\u001b[1;31m:\u001b[0m invalid syntax\n"
     ]
    }
   ],
   "source": [
    "def addTwoNumbers(self, l1: ListNode, l2: ListNode) -> ListNode:\n",
    "    node= ListNode()\n",
    "    node= ListNode(5)\n",
    "    ListNode{val: 7, next: ListNode{val: 0, next: ListNode{val: 8, next: None}}}"
   ]
  },
  {
   "cell_type": "code",
   "execution_count": 132,
   "metadata": {},
   "outputs": [],
   "source": [
    "d1=  ListNode(0)"
   ]
  },
  {
   "cell_type": "code",
   "execution_count": 134,
   "metadata": {},
   "outputs": [
    {
     "data": {
      "text/plain": [
       "0"
      ]
     },
     "execution_count": 134,
     "metadata": {},
     "output_type": "execute_result"
    }
   ],
   "source": [
    "d1.val"
   ]
  },
  {
   "cell_type": "code",
   "execution_count": 184,
   "metadata": {},
   "outputs": [],
   "source": []
  },
  {
   "cell_type": "code",
   "execution_count": 193,
   "metadata": {},
   "outputs": [],
   "source": [
    "l1 = ListNode(2)\n",
    "l1.next = ListNode(4)\n",
    "l1.next.next = ListNode(3)"
   ]
  },
  {
   "cell_type": "code",
   "execution_count": 194,
   "metadata": {},
   "outputs": [],
   "source": [
    "l2 = ListNode(5)\n",
    "l2.next = ListNode(6)\n",
    "l2.next.next = ListNode(4)"
   ]
  },
  {
   "cell_type": "code",
   "execution_count": 199,
   "metadata": {},
   "outputs": [],
   "source": [
    "# Definition for singly-linked list.\n",
    "class ListNode:\n",
    "    def __init__(self, val=0, next=None):\n",
    "        self.val = val\n",
    "        self.next = next"
   ]
  },
  {
   "cell_type": "code",
   "execution_count": 209,
   "metadata": {},
   "outputs": [],
   "source": [
    "   \n",
    "    s =  ListNode(0)\n",
    "\n",
    "    s1 = l1\n",
    "    s2 = l2\n",
    "    curr = s\n",
    "    r = 0\n",
    "\n",
    "    while (s1 != None) or (q != None):\n",
    "        sum1 = 0\n",
    "        if s1 != None:\n",
    "            v1 = s1.val \n",
    "        else:\n",
    "            v1 = 0\n",
    "        if s2 != None:\n",
    "            v2 = s2.val \n",
    "        else:\n",
    "            v2 = 0\n",
    "        sum1 = r + v1 + v2\n",
    "        r = sum1 // 10\n",
    "        curr.next = ListNode(sum1%10)\n",
    "        curr = curr.next\n",
    "        if s1 != None:\n",
    "            s1 = s1.next \n",
    "        else:\n",
    "            s1 = None \n",
    "        if s2 != None:\n",
    "            s2 = s2.next \n",
    "        else:\n",
    "            s2 = None \n",
    "    if r>0:\n",
    "        curr.next = ListNode(r)\n",
    "    s.next = curr\n",
    "return s"
   ]
  },
  {
   "cell_type": "code",
   "execution_count": 210,
   "metadata": {},
   "outputs": [
    {
     "data": {
      "text/plain": [
       "0"
      ]
     },
     "execution_count": 210,
     "metadata": {},
     "output_type": "execute_result"
    }
   ],
   "source": [
    "s.val"
   ]
  },
  {
   "cell_type": "code",
   "execution_count": 211,
   "metadata": {},
   "outputs": [
    {
     "data": {
      "text/plain": [
       "8"
      ]
     },
     "execution_count": 211,
     "metadata": {},
     "output_type": "execute_result"
    }
   ],
   "source": [
    "s.next.val"
   ]
  },
  {
   "cell_type": "code",
   "execution_count": 207,
   "metadata": {},
   "outputs": [
    {
     "data": {
      "text/plain": [
       "8"
      ]
     },
     "execution_count": 207,
     "metadata": {},
     "output_type": "execute_result"
    }
   ],
   "source": [
    "curr.val"
   ]
  },
  {
   "cell_type": "code",
   "execution_count": 212,
   "metadata": {},
   "outputs": [],
   "source": [
    "class Solution:\n",
    "    def addTwoNumbers(self, l1: ListNode, l2: ListNode) -> ListNode:\n",
    "        s =  ListNode(0)\n",
    "\n",
    "        s1 = l1\n",
    "        s2 = l2\n",
    "        curr = s\n",
    "        r = 0\n",
    "\n",
    "        while (s1 != None) or (q != None):\n",
    "            sum1 = 0\n",
    "            \n",
    "            if s1 != None:\n",
    "                v1 = s1.val \n",
    "            else:\n",
    "                v1 = 0\n",
    "                \n",
    "            if s2 != None:\n",
    "                v2 = s2.val \n",
    "            else:\n",
    "                v2 = 0\n",
    "                \n",
    "            sum1 = r + v1 + v2\n",
    "            r = sum1 // 10\n",
    "            curr.next = ListNode(sum1%10)\n",
    "            curr = curr.next\n",
    "            \n",
    "            if s1 != None:\n",
    "                s1 = s1.next \n",
    "            else:\n",
    "                s1 = None \n",
    "                \n",
    "            if s2 != None:\n",
    "                s2 = s2.next \n",
    "            else:\n",
    "                s2 = None \n",
    "                \n",
    "        if r>0:\n",
    "            curr.next = ListNode(r)\n",
    "        s.next = curr\n",
    "        return s"
   ]
  },
  {
   "cell_type": "code",
   "execution_count": null,
   "metadata": {},
   "outputs": [],
   "source": []
  }
 ],
 "metadata": {
  "kernelspec": {
   "display_name": "Python 3",
   "language": "python",
   "name": "python3"
  },
  "language_info": {
   "codemirror_mode": {
    "name": "ipython",
    "version": 3
   },
   "file_extension": ".py",
   "mimetype": "text/x-python",
   "name": "python",
   "nbconvert_exporter": "python",
   "pygments_lexer": "ipython3",
   "version": "3.8.3"
  }
 },
 "nbformat": 4,
 "nbformat_minor": 4
}
